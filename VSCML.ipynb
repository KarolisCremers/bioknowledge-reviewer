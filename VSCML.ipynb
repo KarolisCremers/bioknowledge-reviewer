{
 "cells": [
  {
   "cell_type": "code",
   "execution_count": 1,
   "metadata": {},
   "outputs": [
    {
     "ename": "AttributeError",
     "evalue": "module 'numpy' has no attribute 'float'",
     "output_type": "error",
     "traceback": [
      "\u001b[1;31m---------------------------------------------------------------------------\u001b[0m",
      "\u001b[1;31mAttributeError\u001b[0m                            Traceback (most recent call last)",
      "Cell \u001b[1;32mIn [1], line 1\u001b[0m\n\u001b[1;32m----> 1\u001b[0m \u001b[39mimport\u001b[39;00m \u001b[39msktensor\u001b[39;00m\n",
      "File \u001b[1;32m~\\AppData\\Local\\Packages\\PythonSoftwareFoundation.Python.3.10_qbz5n2kfra8p0\\LocalCache\\local-packages\\Python310\\site-packages\\sktensor\\__init__.py:4\u001b[0m\n\u001b[0;32m      1\u001b[0m \u001b[39mfrom\u001b[39;00m \u001b[39m.\u001b[39;00m\u001b[39mversion\u001b[39;00m \u001b[39mimport\u001b[39;00m __version__\n\u001b[0;32m      3\u001b[0m \u001b[39mfrom\u001b[39;00m \u001b[39m.\u001b[39;00m\u001b[39mutils\u001b[39;00m \u001b[39mimport\u001b[39;00m \u001b[39m*\u001b[39m\n\u001b[1;32m----> 4\u001b[0m \u001b[39mfrom\u001b[39;00m \u001b[39m.\u001b[39;00m\u001b[39mcore\u001b[39;00m \u001b[39mimport\u001b[39;00m \u001b[39m*\u001b[39m\n\u001b[0;32m      6\u001b[0m \u001b[39m# data types\u001b[39;00m\n\u001b[0;32m      7\u001b[0m \u001b[39mfrom\u001b[39;00m \u001b[39m.\u001b[39;00m\u001b[39msptensor\u001b[39;00m \u001b[39mimport\u001b[39;00m sptensor, unfolded_sptensor\n",
      "File \u001b[1;32m~\\AppData\\Local\\Packages\\PythonSoftwareFoundation.Python.3.10_qbz5n2kfra8p0\\LocalCache\\local-packages\\Python310\\site-packages\\sktensor\\core.py:275\u001b[0m\n\u001b[0;32m    269\u001b[0m     \u001b[39m\"\"\"\u001b[39;00m\n\u001b[0;32m    270\u001b[0m \u001b[39m    Inner prodcut with a Tensor\u001b[39;00m\n\u001b[0;32m    271\u001b[0m \u001b[39m    \"\"\"\u001b[39;00m\n\u001b[0;32m    272\u001b[0m     \u001b[39mreturn\u001b[39;00m dot(X\u001b[39m.\u001b[39mflatten(), Y\u001b[39m.\u001b[39mflatten())\n\u001b[1;32m--> 275\u001b[0m \u001b[39mdef\u001b[39;00m \u001b[39mnvecs\u001b[39m(X, n, rank, do_flipsign\u001b[39m=\u001b[39m\u001b[39mTrue\u001b[39;00m, dtype\u001b[39m=\u001b[39mnp\u001b[39m.\u001b[39;49mfloat):\n\u001b[0;32m    276\u001b[0m     \u001b[39m\"\"\"\u001b[39;00m\n\u001b[0;32m    277\u001b[0m \u001b[39m    Eigendecomposition of mode-n unfolding of a tensor\u001b[39;00m\n\u001b[0;32m    278\u001b[0m \u001b[39m    \"\"\"\u001b[39;00m\n\u001b[0;32m    279\u001b[0m     Xn \u001b[39m=\u001b[39m X\u001b[39m.\u001b[39munfold(n)\n",
      "File \u001b[1;32m~\\AppData\\Local\\Packages\\PythonSoftwareFoundation.Python.3.10_qbz5n2kfra8p0\\LocalCache\\local-packages\\Python310\\site-packages\\numpy\\__init__.py:284\u001b[0m, in \u001b[0;36m__getattr__\u001b[1;34m(attr)\u001b[0m\n\u001b[0;32m    281\u001b[0m     \u001b[39mfrom\u001b[39;00m \u001b[39m.\u001b[39;00m\u001b[39mtesting\u001b[39;00m \u001b[39mimport\u001b[39;00m Tester\n\u001b[0;32m    282\u001b[0m     \u001b[39mreturn\u001b[39;00m Tester\n\u001b[1;32m--> 284\u001b[0m \u001b[39mraise\u001b[39;00m \u001b[39mAttributeError\u001b[39;00m(\u001b[39m\"\u001b[39m\u001b[39mmodule \u001b[39m\u001b[39m{!r}\u001b[39;00m\u001b[39m has no attribute \u001b[39m\u001b[39m\"\u001b[39m\n\u001b[0;32m    285\u001b[0m                      \u001b[39m\"\u001b[39m\u001b[39m{!r}\u001b[39;00m\u001b[39m\"\u001b[39m\u001b[39m.\u001b[39mformat(\u001b[39m__name__\u001b[39m, attr))\n",
      "\u001b[1;31mAttributeError\u001b[0m: module 'numpy' has no attribute 'float'"
     ]
    }
   ],
   "source": [
    "import sktensor\n"
   ]
  },
  {
   "attachments": {},
   "cell_type": "markdown",
   "metadata": {},
   "source": [
    "Import modules"
   ]
  },
  {
   "cell_type": "code",
   "execution_count": 17,
   "metadata": {},
   "outputs": [],
   "source": [
    "import rescal\n",
    "import scipy\n",
    "import pandas as pd\n",
    "import numpy as np\n"
   ]
  },
  {
   "attachments": {},
   "cell_type": "markdown",
   "metadata": {},
   "source": [
    "Import node list from node descriptions"
   ]
  },
  {
   "cell_type": "code",
   "execution_count": 37,
   "metadata": {},
   "outputs": [],
   "source": [
    "nodes = {}\n",
    "\n",
    "with open(\"graph_nodes_v2020-12-02.txt\") as file:\n",
    "    file.readline()\n",
    "    index = 0\n",
    "    while True:\n",
    "        line = file.readline()\n",
    "        node = line.rsplit(\",\")[0]\n",
    "        nodes[node] = index\n",
    "        index += 1\n",
    "        if not line:\n",
    "            break\n",
    "index_range = len(nodes)"
   ]
  },
  {
   "attachments": {},
   "cell_type": "markdown",
   "metadata": {},
   "source": [
    "Index range is used to handle RESCAL entities formatting (E1..En bottom to top and left to right.)"
   ]
  },
  {
   "attachments": {},
   "cell_type": "markdown",
   "metadata": {},
   "source": [
    "Import X_\"interacts with\" and convert to sparse matrix"
   ]
  },
  {
   "cell_type": "code",
   "execution_count": 72,
   "metadata": {},
   "outputs": [
    {
     "name": "stdout",
     "output_type": "stream",
     "text": [
      "WormBase:WBGene00003948\n",
      "WormBase:WBGene00018135\n",
      "33810\n",
      "8\n",
      "1.0\n",
      "(33818, 33818)\n"
     ]
    }
   ],
   "source": [
    "rel_table = scipy.sparse.dok_matrix((index_range, index_range), dtype=np.float64)\n",
    "\n",
    "with open(\"graph_edges_v2020-12-02.txt\") as file:\n",
    "    file.readline()\n",
    "    row = 1\n",
    "    test = 1\n",
    "    for line in file.readlines():\n",
    "        node1, rel, node2 = line.split(\",\")[0:3]\n",
    "        if rel != \"RO:0002434\":\n",
    "            row+=1\n",
    "            continue\n",
    "        if test:\n",
    "            print(node1)\n",
    "            print(node2)\n",
    "        rel_table[index_range - nodes[node1] - 1, nodes[node2]] = np.float64(1)\n",
    "        if test:\n",
    "            print(index_range - nodes[node1] - 1)\n",
    "            print(nodes[node2])\n",
    "            print(rel_table[index_range - nodes[node1] - 1, nodes[node2]])\n",
    "            test = 0\n",
    "        row+=1\n",
    "print(rel_table.shape)\n",
    "interacts_with = scipy.sparse.csr_matrix(rel_table)"
   ]
  },
  {
   "cell_type": "code",
   "execution_count": 64,
   "metadata": {},
   "outputs": [
    {
     "data": {
      "text/plain": [
       "33809"
      ]
     },
     "execution_count": 64,
     "metadata": {},
     "output_type": "execute_result"
    }
   ],
   "source": [
    "index_range - nodes[\"WormBase:WBGene00018135\"]- 1"
   ]
  },
  {
   "cell_type": "code",
   "execution_count": 78,
   "metadata": {},
   "outputs": [],
   "source": [
    "test = rel_table.todense()\n",
    "test = np.matrix(test)"
   ]
  },
  {
   "cell_type": "code",
   "execution_count": 77,
   "metadata": {},
   "outputs": [
    {
     "data": {
      "text/plain": [
       "matrix([[0., 0., 0., ..., 0., 0., 0.],\n",
       "        [0., 0., 0., ..., 0., 0., 0.],\n",
       "        [0., 0., 0., ..., 0., 0., 0.],\n",
       "        ...,\n",
       "        [0., 0., 0., ..., 0., 0., 0.],\n",
       "        [0., 0., 0., ..., 0., 0., 0.],\n",
       "        [0., 0., 0., ..., 0., 0., 0.]])"
      ]
     },
     "execution_count": 77,
     "metadata": {},
     "output_type": "execute_result"
    }
   ],
   "source": []
  }
 ],
 "metadata": {
  "kernelspec": {
   "display_name": "Python 3",
   "language": "python",
   "name": "python3"
  },
  "language_info": {
   "codemirror_mode": {
    "name": "ipython",
    "version": 3
   },
   "file_extension": ".py",
   "mimetype": "text/x-python",
   "name": "python",
   "nbconvert_exporter": "python",
   "pygments_lexer": "ipython3",
   "version": "3.10.9"
  },
  "orig_nbformat": 4,
  "vscode": {
   "interpreter": {
    "hash": "46dc4edfbeddf3f1cb011e9112adadd91340add60b5dff0789517e03572e4918"
   }
  }
 },
 "nbformat": 4,
 "nbformat_minor": 2
}
