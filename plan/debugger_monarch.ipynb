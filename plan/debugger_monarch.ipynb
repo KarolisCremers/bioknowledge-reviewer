{
 "cells": [
  {
   "cell_type": "code",
   "execution_count": 1,
   "metadata": {},
   "outputs": [],
   "source": [
    "# @name debugger_monarch.py\n",
    "# @description debugger for the graph-hypothesis generation library\n",
    "# @author \n",
    "# @date"
   ]
  },
  {
   "cell_type": "code",
   "execution_count": 2,
   "metadata": {},
   "outputs": [],
   "source": [
    "# to do:\n",
    "#        * "
   ]
  },
  {
   "cell_type": "code",
   "execution_count": 3,
   "metadata": {},
   "outputs": [],
   "source": [
    "#import time\n",
    "import monarch"
   ]
  },
  {
   "cell_type": "markdown",
   "metadata": {},
   "source": [
    "---\n",
    "# Monarch module"
   ]
  },
  {
   "cell_type": "code",
   "execution_count": 4,
   "metadata": {},
   "outputs": [
    {
     "name": "stdout",
     "output_type": "stream",
     "text": [
      "\n",
      "The function \"get_neighbours_list()\" is running, please keep calm and have some coffee...\n",
      "neighbors:  370\n",
      "CPU times: user 168 ms, sys: 28 ms, total: 196 ms\n",
      "Wall time: 13.4 s\n"
     ]
    }
   ],
   "source": [
    "%%time\n",
    "# build monarch network from source, target\n",
    "seedList = ['HGNC:17646','HGNC:633']\n",
    "\n",
    "# get 1st layer\n",
    "neighbourList = monarch.get_neighbours_list(seedList)\n",
    "print('neighbors: ',len(neighbourList))"
   ]
  },
  {
   "cell_type": "code",
   "execution_count": 5,
   "metadata": {},
   "outputs": [
    {
     "name": "stdout",
     "output_type": "stream",
     "text": [
      "\n",
      "The function \"get_orthopheno_list()\" is running, please keep calm and have some coffee...\n",
      "orthopheno:  102\n",
      "CPU times: user 1.74 s, sys: 76 ms, total: 1.82 s\n",
      "Wall time: 1min 2s\n"
     ]
    }
   ],
   "source": [
    "%%time\n",
    "# get ortho-phenotype data for the seed genes\n",
    "orthophenoList = monarch.get_orthopheno_list(seedList)\n",
    "print('orthopheno: ',len(orthophenoList))"
   ]
  },
  {
   "cell_type": "code",
   "execution_count": 6,
   "metadata": {},
   "outputs": [
    {
     "name": "stdout",
     "output_type": "stream",
     "text": [
      "genelist:  474\n",
      "\n",
      "The function \"expand_edges()\" is running, please keep calm and have some coffee...\n",
      "network:  3325\n",
      "CPU times: user 38.7 s, sys: 1.95 s, total: 40.7 s\n",
      "Wall time: 1h 9min 2s\n"
     ]
    }
   ],
   "source": [
    "%%time\n",
    "# get monarch edges\n",
    "geneList = sum([seedList,neighbourList,orthophenoList], [])\n",
    "print('genelist: ',len(geneList))\n",
    "network = monarch.expand_edges(geneList)\n",
    "print('network: ',len(network))"
   ]
  },
  {
   "cell_type": "code",
   "execution_count": 7,
   "metadata": {},
   "outputs": [
    {
     "name": "stdout",
     "output_type": "stream",
     "text": [
      "\n",
      "File '/home/nuria/ngly1-graph/graph-creator-lib/plan/monarch/monarch_nodes_debugging_v2018-05-01.csv' saved.\n",
      "CPU times: user 0 ns, sys: 0 ns, total: 0 ns\n",
      "Wall time: 420 µs\n"
     ]
    }
   ],
   "source": [
    "%%time\n",
    "# save network nodes\n",
    "monarch.print_nodes(geneList, 'monarch_nodes_debugging')"
   ]
  },
  {
   "cell_type": "code",
   "execution_count": 8,
   "metadata": {},
   "outputs": [
    {
     "name": "stdout",
     "output_type": "stream",
     "text": [
      "\n",
      "File '/home/nuria/ngly1-graph/graph-creator-lib/plan/monarch/monarch_debugging_v2018-05-01.csv' saved.\n",
      "CPU times: user 8 ms, sys: 0 ns, total: 8 ms\n",
      "Wall time: 8.14 ms\n"
     ]
    }
   ],
   "source": [
    "%%time\n",
    "# save network\n",
    "monarch.print_network(network, 'monarch_debugging')"
   ]
  },
  {
   "cell_type": "code",
   "execution_count": 9,
   "metadata": {},
   "outputs": [
    {
     "name": "stdout",
     "output_type": "stream",
     "text": [
      "\n",
      "The function \"get_neighbours_list()\" is running, please keep calm and have some coffee...\n",
      "\n",
      "The function \"get_orthopheno_list()\" is running, please keep calm and have some coffee...\n",
      "neighbors:  370 orthopheno:  102\n",
      "genelist:  474\n",
      "\n",
      "The function \"expand_edges()\" is running, please keep calm and have some coffee...\n",
      "network:  3306\n",
      "\n",
      "File '/home/nuria/ngly1-graph/graph-creator-lib/plan/monarch/monarch_nodes_debugging_v2018-05-01.csv' saved.\n",
      "\n",
      "File '/home/nuria/ngly1-graph/graph-creator-lib/plan/monarch/monarch_edges_debugging_v2018-05-01.csv' saved.\n",
      "CPU times: user 40.9 s, sys: 1.91 s, total: 42.8 s\n",
      "Wall time: 53min 41s\n"
     ]
    }
   ],
   "source": [
    "%%time\n",
    "# build monarch network from source, target\n",
    "seedList = ['HGNC:17646','HGNC:633']\n",
    "#seedList = ['NCBIGene:55768','NCBIGene:358']\n",
    "\n",
    "# get 1st layer\n",
    "neighbourList = monarch.get_neighbours_list(seedList)\n",
    "\n",
    "# get ortho-phenotype data for the seed genes\n",
    "orthophenoList = monarch.get_orthopheno_list(seedList)\n",
    "print('neighbors: ',len(neighbourList),'orthopheno: ',len(orthophenoList))\n",
    "\n",
    "# get monarch edges\n",
    "geneList = sum([seedList,neighbourList,orthophenoList], [])\n",
    "print('genelist: ',len(geneList))\n",
    "network = monarch.expand_edges(geneList)\n",
    "print('network: ',len(network))\n",
    "\n",
    "# save network nodes\n",
    "monarch.print_nodes(geneList, 'monarch_nodes_debugging')\n",
    "\n",
    "# save network edges\n",
    "monarch.print_network(network, 'monarch_edges_debugging')"
   ]
  },
  {
   "cell_type": "code",
   "execution_count": 45,
   "metadata": {},
   "outputs": [],
   "source": [
    "import graph"
   ]
  },
  {
   "cell_type": "code",
   "execution_count": 42,
   "metadata": {},
   "outputs": [
    {
     "name": "stdout",
     "output_type": "stream",
     "text": [
      "\n",
      "The function \"build()\" is running, please keep calm and have some coffee...\n",
      "edges:  3306\n",
      "CPU times: user 44 ms, sys: 0 ns, total: 44 ms\n",
      "Wall time: 42.1 ms\n"
     ]
    }
   ],
   "source": [
    "%%time\n",
    "# build graph\n",
    "grapho = graph.build([network])\n",
    "edges = graph.edges(grapho)\n",
    "nodes = graph.nodes(grapho)\n",
    "#graph.print_graph(nodes,'monarch_nodes')\n",
    "#graph.print_graph(edges,'monarch_edges')\n",
    "print('edges: ', len(edges))\n",
    "#print('nodes: ', len(nodes))"
   ]
  },
  {
   "cell_type": "code",
   "execution_count": 43,
   "metadata": {},
   "outputs": [],
   "source": [
    "nodes"
   ]
  }
 ],
 "metadata": {
  "kernelspec": {
   "display_name": "Python 3",
   "language": "python",
   "name": "python3"
  },
  "language_info": {
   "codemirror_mode": {
    "name": "ipython",
    "version": 3
   },
   "file_extension": ".py",
   "mimetype": "text/x-python",
   "name": "python",
   "nbconvert_exporter": "python",
   "pygments_lexer": "ipython3",
   "version": "3.6.4"
  }
 },
 "nbformat": 4,
 "nbformat_minor": 2
}
