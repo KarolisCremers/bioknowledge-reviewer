{
 "cells": [
  {
   "cell_type": "code",
   "execution_count": 1,
   "metadata": {},
   "outputs": [],
   "source": [
    "# @name debugger.py\n",
    "# @description debugger for the graph-hypothesis generation library using 2 genes\n",
    "# @author \n",
    "# @date"
   ]
  },
  {
   "cell_type": "code",
   "execution_count": 2,
   "metadata": {},
   "outputs": [],
   "source": [
    "# to do:\n",
    "#        * check transitions: in >> out \n",
    "#        * queries should be only node1 -> node2\n",
    "#        * summary: should control when none hypothesis and not to produce output files. filename should be a \n",
    "#          function argument and consistent with the file naming of the hypothesis section"
   ]
  },
  {
   "cell_type": "code",
   "execution_count": 3,
   "metadata": {},
   "outputs": [],
   "source": [
    "#import time\n",
    "#import monarch, graph, neo4jlib, hypothesis, summary"
   ]
  },
  {
   "cell_type": "markdown",
   "metadata": {},
   "source": [
    "---\n",
    "# Monarch module"
   ]
  },
  {
   "cell_type": "code",
   "execution_count": 4,
   "metadata": {},
   "outputs": [],
   "source": [
    "import monarch"
   ]
  },
  {
   "cell_type": "code",
   "execution_count": 5,
   "metadata": {},
   "outputs": [
    {
     "name": "stdout",
     "output_type": "stream",
     "text": [
      "\n",
      "The function \"get_neighbours_list()\" is running, please keep calm and have some coffee...\n",
      "\n",
      "The function \"get_orthopheno_list()\" is running, please keep calm and have some coffee...\n",
      "neighbors:  370 orthopheno:  102\n",
      "genelist:  474\n",
      "\n",
      "The function \"expand_edges()\" is running, please keep calm and have some coffee...\n",
      "network:  3325\n",
      "\n",
      "File '/home/nuria/ngly1-graph/graph-creator-lib/plan/monarch/monarch_nodes_debugging_v2018-05-07.csv' saved.\n",
      "\n",
      "File '/home/nuria/ngly1-graph/graph-creator-lib/plan/monarch/monarch_edges_debugging_v2018-05-07.csv' saved.\n",
      "CPU times: user 40.5 s, sys: 1.88 s, total: 42.4 s\n",
      "Wall time: 44min 40s\n"
     ]
    }
   ],
   "source": [
    "%%time\n",
    "# build monarch network from source, target\n",
    "seedList = ['HGNC:17646','HGNC:633']\n",
    "#seedList = ['NCBIGene:55768','NCBIGene:358']\n",
    "\n",
    "# get 1st layer\n",
    "neighbourList = monarch.get_neighbours_list(seedList)\n",
    "\n",
    "# get ortho-phenotype data for the seed genes\n",
    "orthophenoList = monarch.get_orthopheno_list(seedList)\n",
    "print('neighbors: ',len(neighbourList),'orthopheno: ',len(orthophenoList))\n",
    "\n",
    "# get monarch edges\n",
    "geneList = sum([seedList,neighbourList,orthophenoList], [])\n",
    "print('genelist: ',len(geneList))\n",
    "network = monarch.expand_edges(geneList)\n",
    "print('network: ',len(network))\n",
    "\n",
    "# save network nodes\n",
    "monarch.print_nodes(geneList, 'monarch_nodes_debugging')\n",
    "\n",
    "# save network edges\n",
    "monarch.print_network(network, 'monarch_edges_debugging')"
   ]
  },
  {
   "cell_type": "markdown",
   "metadata": {},
   "source": [
    "---\n",
    "# Graph module"
   ]
  },
  {
   "cell_type": "code",
   "execution_count": 6,
   "metadata": {},
   "outputs": [],
   "source": [
    "import graph"
   ]
  },
  {
   "cell_type": "code",
   "execution_count": 7,
   "metadata": {},
   "outputs": [
    {
     "name": "stdout",
     "output_type": "stream",
     "text": [
      "\n",
      "The function \"build()\" is running, please keep calm and have some coffee...\n",
      "\n",
      "File '/home/nuria/ngly1-graph/graph-creator-lib/plan/graph/monarch_edges_debugging_v2018-05-07.csv' saved.\n",
      "\n",
      "File '/home/nuria/ngly1-graph/graph-creator-lib/plan/graph/monarch_nodes_debugging_v2018-05-07.csv' saved.\n",
      "edges:  3325\n",
      "nodes:  444\n",
      "CPU times: user 80 ms, sys: 0 ns, total: 80 ms\n",
      "Wall time: 78.9 ms\n"
     ]
    }
   ],
   "source": [
    "%%time\n",
    "# build graph\n",
    "grapho = graph.build([network])\n",
    "edges = graph.edges(grapho)\n",
    "nodes = graph.nodes(grapho)\n",
    "graph.print_graph(edges,'monarch_edges_debugging')\n",
    "graph.print_graph(nodes,'monarch_nodes_debugging')\n",
    "print('edges: ', len(edges))\n",
    "print('nodes: ', len(nodes))"
   ]
  },
  {
   "cell_type": "markdown",
   "metadata": {},
   "source": [
    "---\n",
    "# Neo4j module"
   ]
  },
  {
   "cell_type": "code",
   "execution_count": 8,
   "metadata": {},
   "outputs": [],
   "source": [
    "import neo4jlib"
   ]
  },
  {
   "cell_type": "code",
   "execution_count": 9,
   "metadata": {},
   "outputs": [],
   "source": [
    "edges_pipe = edges\n",
    "nodes_pipe = nodes"
   ]
  },
  {
   "cell_type": "code",
   "execution_count": 10,
   "metadata": {},
   "outputs": [
    {
     "name": "stdout",
     "output_type": "stream",
     "text": [
      "statements:  3302\n",
      "concepts:  444\n",
      "\n",
      "File '/home/nuria/ngly1-graph/graph-creator-lib/plan/neo4j-community-3.0.3/import/ngly1/ngly1_statements.csv' saved.\n",
      "\n",
      "File '/home/nuria/ngly1-graph/graph-creator-lib/plan/neo4j-community-3.0.3/import/ngly1/ngly1_concepts.csv' saved.\n",
      "\n",
      "The graph is imported into the server. The server is running.\n",
      "\n",
      "CPU times: user 64 ms, sys: 28 ms, total: 92 ms\n",
      "Wall time: 3.99 s\n"
     ]
    }
   ],
   "source": [
    "%%time\n",
    "# import to graph interface, by now neo4j\n",
    "## get edges and files for neo4j\n",
    "edges = neo4jlib.get_dataframe_from_file('./graph/monarch_edges_debugging_v2018-05-03')\n",
    "nodes = neo4jlib.get_dataframe_from_file('./graph/monarch_nodes_debugging_v2018-05-03')\n",
    "statements = neo4jlib.get_statements(edges)\n",
    "concepts = neo4jlib.get_concepts(nodes)\n",
    "print('statements: ', len(statements))\n",
    "print('concepts: ',len(concepts))\n",
    "\n",
    "## import the graph into neo4j\n",
    "# save files into neo4j import dir\n",
    "neo4j_path = '/home/nuria/ngly1-graph/graph-creator-lib/plan/neo4j-community-3.0.3'\n",
    "neo4jlib.save_neo4j_files(statements, neo4j_path, file_type = 'statements')\n",
    "neo4jlib.save_neo4j_files(concepts, neo4j_path, file_type = 'concepts')\n",
    "\n",
    "# import graph into neo4j\n",
    "neo4jlib.do_import(neo4j_path)"
   ]
  },
  {
   "cell_type": "markdown",
   "metadata": {},
   "source": [
    "#### Add functionality to run all the pipeline at once\n",
    "- convert edges and nodes objects which are list of dictionaries to df as a _function in the module"
   ]
  },
  {
   "cell_type": "code",
   "execution_count": 11,
   "metadata": {},
   "outputs": [],
   "source": [
    "import pandas as pd\n",
    "\n",
    "def get_dataframe(object):\n",
    "    \"\"\"This function converts a list_of_dictionaries object into a dataframe.\"\"\"\n",
    "\n",
    "    try:\n",
    "        df = pd.DataFrame(object)\n",
    "    except ValueError:\n",
    "        raise\n",
    "    else:\n",
    "        return df"
   ]
  },
  {
   "cell_type": "code",
   "execution_count": 12,
   "metadata": {},
   "outputs": [],
   "source": [
    "edges_df = get_dataframe(edges_pipe)\n",
    "nodes_df = get_dataframe(nodes_pipe)"
   ]
  },
  {
   "cell_type": "code",
   "execution_count": 13,
   "metadata": {},
   "outputs": [
    {
     "name": "stdout",
     "output_type": "stream",
     "text": [
      "statements:  3325\n",
      "concepts:  444\n",
      "\n",
      "File '/home/nuria/ngly1-graph/graph-creator-lib/plan/neo4j-community-3.0.3/import/ngly1/ngly1_statements.csv' saved.\n",
      "\n",
      "File '/home/nuria/ngly1-graph/graph-creator-lib/plan/neo4j-community-3.0.3/import/ngly1/ngly1_concepts.csv' saved.\n",
      "\n",
      "The graph is imported into the server. The server is running.\n",
      "\n"
     ]
    }
   ],
   "source": [
    "statements = neo4jlib.get_statements(edges_df)\n",
    "concepts = neo4jlib.get_concepts(nodes_df)\n",
    "print('statements: ', len(statements))\n",
    "print('concepts: ',len(concepts))\n",
    "\n",
    "## import the graph into neo4j\n",
    "# save files into neo4j import dir\n",
    "neo4j_path = '/home/nuria/ngly1-graph/graph-creator-lib/plan/neo4j-community-3.0.3'\n",
    "neo4jlib.save_neo4j_files(statements, neo4j_path, file_type = 'statements')\n",
    "neo4jlib.save_neo4j_files(concepts, neo4j_path, file_type = 'concepts')\n",
    "\n",
    "# import graph into neo4j\n",
    "neo4jlib.do_import(neo4j_path)"
   ]
  },
  {
   "cell_type": "markdown",
   "metadata": {},
   "source": [
    "---\n",
    "# Hypothesis module\n",
    "- The error of service unvalaible arises because the graph database is still not ready to be queried. One should wait some sec to 1 min or so to run the hypothesis generation part"
   ]
  },
  {
   "cell_type": "code",
   "execution_count": 14,
   "metadata": {},
   "outputs": [],
   "source": [
    "import hypothesis"
   ]
  },
  {
   "cell_type": "code",
   "execution_count": 20,
   "metadata": {},
   "outputs": [
    {
     "name": "stdout",
     "output_type": "stream",
     "text": [
      "CPU times: user 52 ms, sys: 12 ms, total: 64 ms\n",
      "Wall time: 1.52 s\n"
     ]
    },
    {
     "name": "stderr",
     "output_type": "stream",
     "text": [
      "\n",
      "Hypothesis generator has finished. 2 QUERIES completed.\n"
     ]
    }
   ],
   "source": [
    "%%time\n",
    "# get orthopheno paths\n",
    "seed = list([\n",
    "        'HGNC:17646',  # NGLY1 human gene\n",
    "        'HGNC:633'  # AQP1 human gene\n",
    "])\n",
    "hypothesis.query(seed,queryname='ngly1_aqp1',port='7687')\n",
    "#seed = list([\n",
    "#        'NCBIGene:55768',  # NGLY1 human gene\n",
    "#        'NCBIGene:358'  # AQP1 human gene\n",
    "#])\n",
    "#hypothesis.query(seed,queryname='ngly1_aqp1_7688',port='7688')"
   ]
  },
  {
   "cell_type": "markdown",
   "metadata": {},
   "source": [
    "---\n",
    "# Summary module"
   ]
  },
  {
   "cell_type": "code",
   "execution_count": 16,
   "metadata": {},
   "outputs": [],
   "source": [
    "import summary"
   ]
  },
  {
   "cell_type": "code",
   "execution_count": 21,
   "metadata": {},
   "outputs": [
    {
     "name": "stdout",
     "output_type": "stream",
     "text": [
      "\n",
      "File '/home/nuria/ngly1-graph/graph-creator-lib/plan/summaries/monarch_orthopeno_network_query_source:HGNC:17646_target:HGNC:633_summary_metapaths_v2018-05-07.csv' saved.\n",
      "\n",
      "File '/home/nuria/ngly1-graph/graph-creator-lib/plan/summaries/monarch_orthopeno_network_query_source:HGNC:17646_target:HGNC:633_summary_entities_in_metapaths_v2018-05-07.csv' saved.\n",
      "\n",
      "File '/home/nuria/ngly1-graph/graph-creator-lib/plan/summaries/monarch_orthopeno_network_query_source:HGNC:633_target:HGNC:17646_summary_metapaths_v2018-05-07.csv' saved.\n",
      "\n",
      "File '/home/nuria/ngly1-graph/graph-creator-lib/plan/summaries/monarch_orthopeno_network_query_source:HGNC:633_target:HGNC:17646_summary_entities_in_metapaths_v2018-05-07.csv' saved.\n",
      "\n",
      "File '/home/nuria/ngly1-graph/graph-creator-lib/plan/summaries/monarch_orthopeno_network_query_source:HGNC:17646_target:HGNC:633_summary_nodes_v2018-05-07.csv' saved.\n",
      "\n",
      "File '/home/nuria/ngly1-graph/graph-creator-lib/plan/summaries/monarch_orthopeno_network_query_source:HGNC:633_target:HGNC:17646_summary_nodes_v2018-05-07.csv' saved.\n",
      "\n",
      "File '/home/nuria/ngly1-graph/graph-creator-lib/plan/summaries/monarch_orthopeno_network_query_source:HGNC:17646_target:HGNC:633_summary_node_types_v2018-05-07.csv' saved.\n",
      "\n",
      "File '/home/nuria/ngly1-graph/graph-creator-lib/plan/summaries/monarch_orthopeno_network_query_source:HGNC:633_target:HGNC:17646_summary_node_types_v2018-05-07.csv' saved.\n",
      "\n",
      "File '/home/nuria/ngly1-graph/graph-creator-lib/plan/summaries/monarch_orthopeno_network_query_source:HGNC:17646_target:HGNC:633_summary_edges_v2018-05-07.csv' saved.\n",
      "\n",
      "File '/home/nuria/ngly1-graph/graph-creator-lib/plan/summaries/monarch_orthopeno_network_query_source:HGNC:633_target:HGNC:17646_summary_edges_v2018-05-07.csv' saved.\n",
      "\n",
      "File '/home/nuria/ngly1-graph/graph-creator-lib/plan/summaries/monarch_orthopeno_network_query_source:HGNC:17646_target:HGNC:633_summary_edge_types_v2018-05-07.csv' saved.\n",
      "\n",
      "File '/home/nuria/ngly1-graph/graph-creator-lib/plan/summaries/monarch_orthopeno_network_query_source:HGNC:633_target:HGNC:17646_summary_edge_types_v2018-05-07.csv' saved.\n",
      "CPU times: user 20 ms, sys: 8 ms, total: 28 ms\n",
      "Wall time: 23.9 ms\n"
     ]
    }
   ],
   "source": [
    "%%time\n",
    "# get summary\n",
    "# data without paths\n",
    "data = summary.path_load('./hypothesis/query_ngly1_aqp1_pwdl50_phdl20_paths_v2018-05-03')\n",
    "# data with paths\n",
    "#data = summary.path_load('./hypothesis/query_ngly1_aqp1_open_query_only_topology_paths_v2018-03-15')\n",
    "\n",
    "#parse data for summarization\n",
    "data_parsed = list()\n",
    "#funcs = [summary.metapaths, summary.nodes, summary.node_types, summary.edges, summary.edge_types]\n",
    "for query in data:\n",
    "    query_parsed = summary.query_parser(query)\n",
    "    #metapath(query_parsed)\n",
    "    #map(lambda x: x(query_parsed), funcs)\n",
    "    data_parsed.append(query_parsed)\n",
    "summary.metapaths(data_parsed)\n",
    "summary.nodes(data_parsed)\n",
    "summary.node_types(data_parsed)\n",
    "summary.edges(data_parsed)\n",
    "summary.edge_types(data_parsed)\n",
    "#for query in data_parsed:\n",
    "#    map(lambda x: x(query), funcs)"
   ]
  },
  {
   "cell_type": "markdown",
   "metadata": {
    "collapsed": true
   },
   "source": [
    "---\n",
    "# Hypothesis generation modules: debug open_query()\n",
    "## hypothesis module"
   ]
  },
  {
   "cell_type": "code",
   "execution_count": 22,
   "metadata": {},
   "outputs": [
    {
     "name": "stdout",
     "output_type": "stream",
     "text": [
      "CPU times: user 220 ms, sys: 20 ms, total: 240 ms\n",
      "Wall time: 669 ms\n"
     ]
    },
    {
     "name": "stderr",
     "output_type": "stream",
     "text": [
      "\n",
      "Hypothesis generator has finished. 2 QUERIES completed.\n"
     ]
    }
   ],
   "source": [
    "%%time\n",
    "# get orthopheno paths\n",
    "seed = list([\n",
    "        'HGNC:17646',  # NGLY1 human gene\n",
    "        'HGNC:633'  # AQP1 human gene\n",
    "])\n",
    "hypothesis.open_query(seed,queryname='open_ngly1_aqp1',port='7687')"
   ]
  },
  {
   "cell_type": "markdown",
   "metadata": {},
   "source": [
    "---\n",
    "## summary module"
   ]
  },
  {
   "cell_type": "code",
   "execution_count": 23,
   "metadata": {},
   "outputs": [
    {
     "name": "stdout",
     "output_type": "stream",
     "text": [
      "\n",
      "File '/home/nuria/ngly1-graph/graph-creator-lib/plan/summaries/monarch_orthopeno_network_query_source:HGNC:17646_target:HGNC:633_summary_metapaths_v2018-05-07.csv' saved.\n",
      "\n",
      "File '/home/nuria/ngly1-graph/graph-creator-lib/plan/summaries/monarch_orthopeno_network_query_source:HGNC:17646_target:HGNC:633_summary_entities_in_metapaths_v2018-05-07.csv' saved.\n",
      "\n",
      "File '/home/nuria/ngly1-graph/graph-creator-lib/plan/summaries/monarch_orthopeno_network_query_source:HGNC:633_target:HGNC:17646_summary_metapaths_v2018-05-07.csv' saved.\n",
      "\n",
      "File '/home/nuria/ngly1-graph/graph-creator-lib/plan/summaries/monarch_orthopeno_network_query_source:HGNC:633_target:HGNC:17646_summary_entities_in_metapaths_v2018-05-07.csv' saved.\n",
      "\n",
      "File '/home/nuria/ngly1-graph/graph-creator-lib/plan/summaries/monarch_orthopeno_network_query_source:HGNC:17646_target:HGNC:633_summary_nodes_v2018-05-07.csv' saved.\n",
      "\n",
      "File '/home/nuria/ngly1-graph/graph-creator-lib/plan/summaries/monarch_orthopeno_network_query_source:HGNC:633_target:HGNC:17646_summary_nodes_v2018-05-07.csv' saved.\n",
      "\n",
      "File '/home/nuria/ngly1-graph/graph-creator-lib/plan/summaries/monarch_orthopeno_network_query_source:HGNC:17646_target:HGNC:633_summary_node_types_v2018-05-07.csv' saved.\n",
      "\n",
      "File '/home/nuria/ngly1-graph/graph-creator-lib/plan/summaries/monarch_orthopeno_network_query_source:HGNC:633_target:HGNC:17646_summary_node_types_v2018-05-07.csv' saved.\n",
      "\n",
      "File '/home/nuria/ngly1-graph/graph-creator-lib/plan/summaries/monarch_orthopeno_network_query_source:HGNC:17646_target:HGNC:633_summary_edges_v2018-05-07.csv' saved.\n",
      "\n",
      "File '/home/nuria/ngly1-graph/graph-creator-lib/plan/summaries/monarch_orthopeno_network_query_source:HGNC:633_target:HGNC:17646_summary_edges_v2018-05-07.csv' saved.\n",
      "\n",
      "File '/home/nuria/ngly1-graph/graph-creator-lib/plan/summaries/monarch_orthopeno_network_query_source:HGNC:17646_target:HGNC:633_summary_edge_types_v2018-05-07.csv' saved.\n",
      "\n",
      "File '/home/nuria/ngly1-graph/graph-creator-lib/plan/summaries/monarch_orthopeno_network_query_source:HGNC:633_target:HGNC:17646_summary_edge_types_v2018-05-07.csv' saved.\n",
      "CPU times: user 180 ms, sys: 4 ms, total: 184 ms\n",
      "Wall time: 183 ms\n"
     ]
    }
   ],
   "source": [
    "%%time\n",
    "# get summary\n",
    "# data without paths\n",
    "#data = summary.path_load('./hypothesis/query_ngly1_aqp1_pwdl50_phdl20_paths_v2018-05-03')\n",
    "# data with paths\n",
    "data = summary.path_load('./hypothesis/query_open_ngly1_aqp1_paths_v2018-05-03')\n",
    "\n",
    "#parse data for summarization\n",
    "data_parsed = list()\n",
    "#funcs = [summary.metapaths, summary.nodes, summary.node_types, summary.edges, summary.edge_types]\n",
    "for query in data:\n",
    "    query_parsed = summary.query_parser(query)\n",
    "    #metapath(query_parsed)\n",
    "    #map(lambda x: x(query_parsed), funcs)\n",
    "    data_parsed.append(query_parsed)\n",
    "summary.metapaths(data_parsed)\n",
    "summary.nodes(data_parsed)\n",
    "summary.node_types(data_parsed)\n",
    "summary.edges(data_parsed)\n",
    "summary.edge_types(data_parsed)\n",
    "#for query in data_parsed:\n",
    "#    map(lambda x: x(query), funcs)"
   ]
  },
  {
   "cell_type": "code",
   "execution_count": null,
   "metadata": {},
   "outputs": [],
   "source": []
  },
  {
   "cell_type": "code",
   "execution_count": null,
   "metadata": {},
   "outputs": [],
   "source": []
  },
  {
   "cell_type": "code",
   "execution_count": null,
   "metadata": {},
   "outputs": [],
   "source": []
  },
  {
   "cell_type": "code",
   "execution_count": null,
   "metadata": {},
   "outputs": [],
   "source": []
  },
  {
   "cell_type": "code",
   "execution_count": null,
   "metadata": {},
   "outputs": [],
   "source": []
  },
  {
   "cell_type": "code",
   "execution_count": null,
   "metadata": {},
   "outputs": [],
   "source": []
  }
 ],
 "metadata": {
  "kernelspec": {
   "display_name": "Python 3",
   "language": "python",
   "name": "python3"
  },
  "language_info": {
   "codemirror_mode": {
    "name": "ipython",
    "version": 3
   },
   "file_extension": ".py",
   "mimetype": "text/x-python",
   "name": "python",
   "nbconvert_exporter": "python",
   "pygments_lexer": "ipython3",
   "version": "3.6.4"
  }
 },
 "nbformat": 4,
 "nbformat_minor": 2
}
