{
 "cells": [
  {
   "cell_type": "code",
   "execution_count": 1,
   "metadata": {},
   "outputs": [],
   "source": [
    "# @name\n",
    "# @description\n",
    "# @author\n",
    "# @date"
   ]
  },
  {
   "cell_type": "markdown",
   "metadata": {
    "collapsed": true
   },
   "source": [
    "# Description\n",
    "\n",
    "This is the notebook for the creation of the first review network and derived hypotheses. \n",
    "\n",
    "* Reading intermediary variables from files. In this workflow variables are first output as files and read from these files for the next step. This attribute is convenient when some functions require several hours of runtime.\n",
    "\n",
    "\n",
    "* Review network: From Monarch knowledge graph, we built a network seeded by 8 nodes, retrieving their explicit relationships and all the relationships among all these nodes. Seed nodes:\n",
    "\n",
    "    - 'MONDO:0014109', # NGLY1 deficiency\n",
    "    - 'HGNC:17646', # NGLY1 human gene\n",
    "    - 'HGNC:633', # AQP1 human gene\n",
    "    - 'MGI:103201', # AQP1 mouse gene\n",
    "    - 'HGNC:7781', # NRF1 human gene* Ginger: known as NFE2L1. http://biogps.org/#goto=genereport&id=4779\n",
    "    - 'HGNC:24622', # ENGASE human gene\n",
    "    - 'HGNC:636', # AQP3 human gene\n",
    "    - 'HGNC:19940' # AQP11 human gene\n",
    "    \n",
    "\n",
    "* Connecting paths: query templates."
   ]
  },
  {
   "cell_type": "code",
   "execution_count": 1,
   "metadata": {},
   "outputs": [],
   "source": [
    "#import time\n",
    "import transcriptomics, regulation, curation, monarch, graph, neo4jlib, hypothesis, summary"
   ]
  },
  {
   "cell_type": "markdown",
   "metadata": {},
   "source": [
    "## Edges library\n",
    "### Review edges to integrate into the knowledge graph\n",
    "#### import transcriptomics\n",
    "We retrieved edges from RNA-seq transcriptomics profiles using the transcriptomics module:\n",
    "\n",
    "    - Experimental data sets: from Chow et al. paper [pmid:29346549] (NGLY1 deficiency model on fruit fly)"
   ]
  },
  {
   "cell_type": "markdown",
   "metadata": {},
   "source": [
    "###### At once"
   ]
  },
  {
   "cell_type": "code",
   "execution_count": 3,
   "metadata": {},
   "outputs": [
    {
     "name": "stdout",
     "output_type": "stream",
     "text": [
      "\n",
      "* This is the size of the raw expression data structure: (15370, 9)\n",
      "* These are the expression attributes: Index(['FlyBase ID', 'Symbol', 'baseMean', 'log2FoldChange', 'Unnamed: 4',\n",
      "       'lfcSE', 'stat', 'pvalue', 'padj'],\n",
      "      dtype='object')\n",
      "* This is the first record:\n",
      "    FlyBase ID  Symbol    baseMean  log2FoldChange  Unnamed: 4     lfcSE  \\\n",
      "0  FBgn0030880  CG6788  175.577087       -4.209283     0.05406  0.190308   \n",
      "\n",
      "        stat         pvalue           padj  \n",
      "0 -22.118249  2.110000e-108  2.860000e-104  \n",
      "\n",
      "* This is the size of the clean expression data structure: (386, 6)\n",
      "* These are the clean expression attributes: Index(['FlyBase ID', 'Symbol', 'log2FoldChange', 'pvalue', 'padj',\n",
      "       'Regulation'],\n",
      "      dtype='object')\n",
      "* This is the first record:\n",
      "    FlyBase ID Symbol  log2FoldChange        pvalue      padj   Regulation\n",
      "0  FBgn0035904  GstO3        0.576871  2.130000e-08  0.000002  Upregulated\n",
      "\n",
      "* This is the size of the expression data structure: (386, 13)\n",
      "* These are the expression attributes: Index(['flybase_id', 'symbol', 'log2FoldChange', 'pvalue', 'padj',\n",
      "       'regulation', 'source', 'subject_id', 'subject_label', 'property_id',\n",
      "       'property_label', 'reference_id', 'object_id'],\n",
      "      dtype='object')\n",
      "* This is the first record:\n",
      "    flybase_id symbol  log2FoldChange        pvalue      padj   regulation  \\\n",
      "0  FBgn0035904  GstO3        0.576871  2.130000e-08  0.000002  Upregulated   \n",
      "\n",
      "  source           subject_id subject_label property_id  property_label  \\\n",
      "0   Chow  FlyBase:FBgn0033050          Pngl  RO:0002434  interacts with   \n",
      "\n",
      "    reference_id            object_id  \n",
      "0  PMID:29346549  FlyBase:FBgn0035904  \n",
      "\n",
      "* This is the size of the edges data structure: (386, 12)\n",
      "* These are the edges attributes: Index(['subject_id', 'subject_label', 'property_id', 'property_label',\n",
      "       'object_id', 'object_label', 'log2FoldChange', 'pvalue', 'fdr',\n",
      "       'regulation', 'source', 'reference_id'],\n",
      "      dtype='object')\n",
      "* This is the first record:\n",
      "            subject_id subject_label property_id  property_label  \\\n",
      "0  FlyBase:FBgn0033050          Pngl  RO:0002434  interacts with   \n",
      "\n",
      "             object_id object_label  log2FoldChange        pvalue       fdr  \\\n",
      "0  FlyBase:FBgn0035904        GstO3        0.576871  2.130000e-08  0.000002   \n",
      "\n",
      "    regulation source   reference_id  \n",
      "0  Upregulated   Chow  PMID:29346549  \n",
      "\n",
      "* This is the size of the edges file data structure: (386, 9)\n",
      "* These are the edges attributes: Index(['object_id', 'property_description', 'property_id', 'property_label',\n",
      "       'property_uri', 'reference_date', 'reference_supporting_text',\n",
      "       'reference_uri', 'subject_id'],\n",
      "      dtype='object')\n",
      "* This is the first record:\n",
      "             object_id property_description property_id  property_label  \\\n",
      "0  FlyBase:FBgn0035904                   NA  RO:0002434  interacts with   \n",
      "\n",
      "                                property_uri reference_date  \\\n",
      "0  http://purl.obolibrary.org/obo/RO_0002434     2018-03-15   \n",
      "\n",
      "                           reference_supporting_text  \\\n",
      "0  To understand how loss of NGLY1 contributes to...   \n",
      "\n",
      "                                  reference_uri           subject_id  \n",
      "0  https://www.ncbi.nlm.nih.gov/pubmed/29346549  FlyBase:FBgn0033050  \n",
      "* Total number of nodes: 386\n",
      "querying 1-386...done.\n",
      "Finished.\n",
      "\n",
      "* This is the size of the nodes file data structure: (386, 6)\n",
      "* These are the nodes attributes: Index(['description', 'id', 'name', 'preflabel', 'semantic_groups',\n",
      "       'synonyms'],\n",
      "      dtype='object')\n",
      "* This is the first record:\n",
      "  description                   id         name preflabel semantic_groups  \\\n",
      "0         NaN  FlyBase:FBgn0033050  PNGase-like      Pngl            GENE   \n",
      "\n",
      "                         synonyms  \n",
      "0  CG7865|Dmel\\CG7865|PNGase|png1  \n",
      "CPU times: user 662 ms, sys: 40.6 ms, total: 703 ms\n",
      "Wall time: 4.25 s\n"
     ]
    }
   ],
   "source": [
    "%%time\n",
    "# prepare data to graph schema\n",
    "data = transcriptomics.read_data()\n",
    "transcriptomics.clean_data(data)\n",
    "transcriptomics.prepare_data_edges()\n",
    "rna_edges = transcriptomics.prepare_rna_edges()\n",
    "\n",
    "# build network\n",
    "transcriptomics.build_edges(rna_edges)\n",
    "transcriptomics.build_nodes(rna_edges)"
   ]
  },
  {
   "cell_type": "markdown",
   "metadata": {},
   "source": [
    "Network is returned as both CSV files at graph/ and digital object"
   ]
  },
  {
   "cell_type": "markdown",
   "metadata": {},
   "source": [
    "#### import regulation"
   ]
  },
  {
   "cell_type": "markdown",
   "metadata": {},
   "source": [
    "###### At once"
   ]
  },
  {
   "cell_type": "code",
   "execution_count": 4,
   "metadata": {},
   "outputs": [
    {
     "name": "stdout",
     "output_type": "stream",
     "text": [
      "\n",
      "* Number of Transcription Factor Targets (TFT) gene sets: 615\n",
      "\n",
      "* Querying BioThings to map gene symbols to hgnc and entrez IDs...\n",
      "querying 1-1000...done.\n",
      "querying 1001-2000...done.\n",
      "querying 2001-3000...done.\n",
      "querying 3001-3071...done.\n",
      "Finished.\n",
      "53 input query terms found no hit:\n",
      "\t['TFIII', 'CREL', 'GNCF', 'T3R', 'E2F4DP2', 'TAL1BETAE47', 'AHRARNT', 'FOX', 'COREBINDINGFACTOR', 'C\n",
      "Pass \"returnall=True\" to return complete lists of duplicate or missing query terms.\n",
      "\n",
      "* Querying BioThings to map entrez to hgnc IDs and gene symbols...\n",
      "querying 1-1000...done.\n",
      "querying 1001-2000...done.\n",
      "querying 2001-3000...done.\n",
      "querying 3001-4000...done.\n",
      "querying 4001-5000...done.\n",
      "querying 5001-6000...done.\n",
      "querying 6001-7000...done.\n",
      "querying 7001-8000...done.\n",
      "querying 8001-9000...done.\n",
      "querying 9001-10000...done.\n",
      "querying 10001-11000...done.\n",
      "querying 11001-12000...done.\n",
      "querying 12001-13000...done.\n",
      "querying 13001-14000...done.\n",
      "querying 14001-15000...done.\n",
      "querying 15001-16000...done.\n",
      "querying 16001-16632...done.\n",
      "Finished.\n",
      "138 input query terms found no hit:\n",
      "\t['340432', '100500805', '338575', '340370', '400535', '129790', '244', '143914', '283308', '342098',\n",
      "Pass \"returnall=True\" to return complete lists of duplicate or missing query terms.\n",
      "\n",
      "* This is the size of the edges file data structure: (197267, 9)\n",
      "* These are the edges attributes: Index(['object_id', 'property_description', 'property_id', 'property_label',\n",
      "       'property_uri', 'reference_date', 'reference_supporting_text',\n",
      "       'reference_uri', 'subject_id'],\n",
      "      dtype='object')\n",
      "* This is the first record:\n",
      "   object_id property_description property_id  property_label  \\\n",
      "0  HGNC:8803                   NA  RO:0002434  interacts with   \n",
      "\n",
      "                                property_uri reference_date  \\\n",
      "0  http://purl.obolibrary.org/obo/RO_0002434     2007-01-01   \n",
      "\n",
      "                           reference_supporting_text  \\\n",
      "0  This edge comes from the TRED dataset in \"tfta...   \n",
      "\n",
      "                                  reference_uri subject_id  \n",
      "0  https://www.ncbi.nlm.nih.gov/pubmed/17202159  HGNC:8615  \n",
      "* Total number of nodes: 16963\n",
      "\n",
      "* Trap genes without gene symbol, i.e. genes with discontinued entrez ID...\n",
      "* Number of concepts without gene symbol: 138\n",
      "* Check that all genes without gene symbol are identified by entrez ID...\n",
      "* Number of concepts without gene symbol by namespace:  NCBIGene    138\n",
      "Name: id, dtype: int64\n",
      "\n",
      "* Querying BioThings to map retired entrez to gene symbols...\n",
      "querying 1-138...done.\n",
      "Finished.\n",
      "88 input query terms found no hit:\n",
      "\t['79907', '79911', '93333', '121301', '143902', '146856', '151720', '197379', '219392', '221943', '2\n",
      "Pass \"returnall=True\" to return complete lists of duplicate or missing query terms.\n",
      "\n",
      "* Querying BioThings to retrieve node attributes...\n",
      "querying 1-1000...done.\n",
      "querying 1001-2000...done.\n",
      "querying 2001-3000...done.\n",
      "querying 3001-4000...done.\n",
      "querying 4001-5000...done.\n",
      "querying 5001-6000...done.\n",
      "querying 6001-7000...done.\n",
      "querying 7001-8000...done.\n",
      "querying 8001-9000...done.\n",
      "querying 9001-10000...done.\n",
      "querying 10001-11000...done.\n",
      "querying 11001-12000...done.\n",
      "querying 12001-13000...done.\n",
      "querying 13001-14000...done.\n",
      "querying 14001-15000...done.\n",
      "querying 15001-16000...done.\n",
      "querying 16001-16842...done.\n",
      "Finished.\n",
      "53 input query terms found no hit:\n",
      "\t['CACCCBINDINGFACTOR', 'INSAF', 'HP1SITEFACTOR', 'E2F1DP1RB', 'MYCMAX', 'CREBP1', 'CDPCR3HD', 'AP1FJ\n",
      "Pass \"returnall=True\" to return complete lists of duplicate or missing query terms.\n",
      "\n",
      "* This is the size of the nodes file data structure: (16963, 6)\n",
      "* These are the nodes attributes: Index(['description', 'id', 'name', 'preflabel', 'semantic_groups',\n",
      "       'synonyms'],\n",
      "      dtype='object')\n",
      "* This is the first record:\n",
      "                                         description         id          name  \\\n",
      "0  This gene is a member of the paired box (PAX) ...  HGNC:8615  paired box 1   \n",
      "\n",
      "  preflabel semantic_groups    synonyms  \n",
      "0      PAX1            GENE  HUP48|OFC2  \n",
      "CPU times: user 2min 23s, sys: 456 ms, total: 2min 24s\n",
      "Wall time: 6min 29s\n"
     ]
    }
   ],
   "source": [
    "%%time\n",
    "# prepare msigdb data\n",
    "regulation.prepare_msigdb_data()\n",
    "\n",
    "# prepare individual networks\n",
    "data = regulation.load_tf_gene_edges()\n",
    "dicts = regulation.get_gene_id_normalization_dictionaries(data)\n",
    "regulation.prepare_data_edges(data, dicts)\n",
    "\n",
    "# prepare regulation network\n",
    "regulation_edges = regulation.prepare_regulation_edges()\n",
    "\n",
    "# build network\n",
    "regulation.build_edges(regulation_edges)\n",
    "regulation.build_nodes(regulation_edges)"
   ]
  },
  {
   "cell_type": "markdown",
   "metadata": {},
   "source": [
    "Network is returned as both CSV file at graph/ and digital object"
   ]
  },
  {
   "cell_type": "markdown",
   "metadata": {},
   "source": [
    "#### import curation"
   ]
  },
  {
   "cell_type": "markdown",
   "metadata": {},
   "source": [
    "###### At once"
   ]
  },
  {
   "cell_type": "code",
   "execution_count": 5,
   "metadata": {},
   "outputs": [
    {
     "name": "stdout",
     "output_type": "stream",
     "text": [
      "\n",
      " Read data from curation/data/v2018 dir...\n",
      "\n",
      "* Number of curated edges: 321\n",
      "\n",
      "* Number of curated nodes: 288\n",
      "\n",
      "ID conversion: from ngly1 curated network to graph schema...\n",
      "\n",
      "Mapping genes to HGNC ID...\n",
      "querying 1-18...done.\n",
      "Finished.\n",
      "\n",
      "Adding diseases to MONDO ID network...\n",
      "\n",
      "Adding gene to protein network...\n",
      "querying 1-43...done.\n",
      "Finished.\n",
      "\n",
      "Drop duplicated gene-protein relations...\n",
      "\n",
      "Mapping genes to HGNC ID...\n",
      "querying 1-18...done.\n",
      "Finished.\n",
      "\n",
      "Adding diseases described by the MONDO ontology...\n",
      "\n",
      "Adding Name attribute: gene names from BioThings...\n",
      "querying 1-298...done.\n",
      "Finished.\n",
      "38 input query terms found dup hits:\n",
      "\t[('or', 5), ('NGLY1', 3), ('of', 16), ('1', 14), ('by', 9), ('MRS', 9), ('CSF', 8), ('acid', 4), ('B\n",
      "591 input query terms found no hit:\n",
      "\t['NGLY1-deficiency', 'misfolded', 'incompletely', 'synthesized', 'protein', 'catabolic', 'process', \n",
      "Pass \"returnall=True\" to return complete lists of duplicate or missing query terms.\n",
      "\n",
      "Preparing encoding genes from ngly1 curated network...\n",
      "\n",
      "Adding BioThings annotation: gene symbol, name, synonyms, description...\n",
      "querying 1-43...done.\n",
      "Finished.\n",
      "\n",
      "Save curated graph edges file at graph/...\n",
      "\n",
      "* This is the size of the edges file data structure: (362, 10)\n",
      "* These are the edges attributes: Index(['g2p_mark', 'object_id', 'property_description', 'property_id',\n",
      "       'property_label', 'property_uri', 'reference_date',\n",
      "       'reference_supporting_text', 'reference_uri', 'subject_id'],\n",
      "      dtype='object')\n",
      "* This is the first record:\n",
      "  g2p_mark     object_id property_description property_id property_label  \\\n",
      "0        0  DOID:0060728                  NaN  RO:0002200  has phenotype   \n",
      "\n",
      "  property_uri reference_date  \\\n",
      "0          NaN     2016-07-07   \n",
      "\n",
      "                           reference_supporting_text  \\\n",
      "0  NGLY1 deficiency (OMIM 610661 and 615273), or ...   \n",
      "\n",
      "                                  reference_uri  subject_id  \n",
      "0  https://www.ncbi.nlm.nih.gov/pubmed/27388694  HGNC:17646  \n",
      "\n",
      "Save curated graph nodes file at graph/...\n",
      "\n",
      "* This is the size of the nodes file data structure: (302, 6)\n",
      "* These are the nodes attributes: Index(['description', 'id', 'name', 'preflabel', 'semantic_groups',\n",
      "       'synonyms'],\n",
      "      dtype='object')\n",
      "* This is the first record:\n",
      "     description            id name         preflabel semantic_groups  \\\n",
      "0  Human disease  DOID:0060728  NaN  NGLY1-deficiency            DISO   \n",
      "\n",
      "                                            synonyms  \n",
      "0  congenital disorder of deglycosylation|congeni...  \n",
      "CPU times: user 2.62 s, sys: 680 ms, total: 3.3 s\n",
      "Wall time: 14.6 s\n"
     ]
    }
   ],
   "source": [
    "%%time\n",
    "# prepare curated edges and nodes\n",
    "# from file:\n",
    "edges_df, nodes_df = curation.read_data()\n",
    "curated_edges = curation.prepare_curated_edges(edges_df)\n",
    "curated_nodes = curation.prepare_curated_nodes(nodes_df)\n",
    "\n",
    "# build edges and nodes files\n",
    "curation.build_edges(curated_edges)\n",
    "curation.build_nodes(curated_nodes)"
   ]
  },
  {
   "cell_type": "markdown",
   "metadata": {},
   "source": [
    "Network is returned as both CSV file at graph/ and digital object"
   ]
  },
  {
   "cell_type": "markdown",
   "metadata": {},
   "source": [
    "#### import monarch\n",
    "We retrieved edges from Monarch using the monarch module:\n",
    "\n",
    "    - From 8 seed nodes we retrieved 1st shell\n",
    "    - From all seed and 1 shell nodes we retrieved edges among them"
   ]
  },
  {
   "cell_type": "code",
   "execution_count": 6,
   "metadata": {},
   "outputs": [
    {
     "name": "stdout",
     "output_type": "stream",
     "text": [
      "\n",
      "The function \"get_neighbours_list()\" is running, please keep calm and have some coffee...\n"
     ]
    },
    {
     "name": "stderr",
     "output_type": "stream",
     "text": [
      "100%|██████████| 8/8 [00:21<00:00,  2.03s/it]\n"
     ]
    },
    {
     "name": "stdout",
     "output_type": "stream",
     "text": [
      "Finished get_neighbours...\n",
      "705\n",
      "CPU times: user 589 ms, sys: 40.3 ms, total: 629 ms\n",
      "Wall time: 21.6 s\n"
     ]
    }
   ],
   "source": [
    "%%time\n",
    "# prepare data to graph schema\n",
    "# seed nodes\n",
    "seedList = [ \n",
    "    'MONDO:0014109', # NGLY1 deficiency\n",
    "    'HGNC:17646', # NGLY1 human gene\n",
    "    'HGNC:633', # AQP1 human gene\n",
    "    'MGI:103201', # AQP1 mouse gene\n",
    "    'HGNC:7781', # NRF1 human gene* Ginger: known as NFE2L1. http://biogps.org/#goto=genereport&id=4779\n",
    "    'HGNC:24622', # ENGASE human gene\n",
    "    'HGNC:636', # AQP3 human gene\n",
    "    'HGNC:19940' # AQP11 human gene\n",
    "] \n",
    "\n",
    "# get first shell of neighbours\n",
    "neighboursList = monarch.get_neighbours_list(seedList)\n",
    "print(len(neighboursList))"
   ]
  },
  {
   "cell_type": "code",
   "execution_count": 7,
   "metadata": {},
   "outputs": [
    {
     "name": "stdout",
     "output_type": "stream",
     "text": [
      "\n",
      "The function \"get_orthopheno_list()\" is running, please keep calm and have some coffee...\n"
     ]
    },
    {
     "name": "stderr",
     "output_type": "stream",
     "text": [
      "100%|██████████| 8/8 [00:18<00:00,  1.86s/it]\n"
     ]
    },
    {
     "name": "stdout",
     "output_type": "stream",
     "text": [
      "Finished get_neighbours...\n"
     ]
    },
    {
     "name": "stderr",
     "output_type": "stream",
     "text": [
      "100%|██████████| 82/82 [01:21<00:00,  1.15it/s]\n"
     ]
    },
    {
     "name": "stdout",
     "output_type": "stream",
     "text": [
      "Finished get_neighbours...\n",
      "240\n",
      "CPU times: user 5.12 s, sys: 296 ms, total: 5.41 s\n",
      "Wall time: 1min 40s\n"
     ]
    }
   ],
   "source": [
    "%%time\n",
    "# introduce animal model ortho-phenotypes for seed and 1st shell neighbors\n",
    "seed_orthophenoList = monarch.get_orthopheno_list(seedList)\n",
    "print(len(seed_orthophenoList))"
   ]
  },
  {
   "cell_type": "code",
   "execution_count": 8,
   "metadata": {},
   "outputs": [
    {
     "name": "stdout",
     "output_type": "stream",
     "text": [
      "\n",
      "The function \"get_orthopheno_list()\" is running, please keep calm and have some coffee...\n"
     ]
    },
    {
     "name": "stderr",
     "output_type": "stream",
     "text": [
      "100%|██████████| 705/705 [1:24:24<00:00, 17.10s/it]  \n"
     ]
    },
    {
     "name": "stdout",
     "output_type": "stream",
     "text": [
      "Finished get_neighbours...\n"
     ]
    },
    {
     "name": "stderr",
     "output_type": "stream",
     "text": [
      "100%|██████████| 1497/1497 [32:16<00:00,  1.17s/it] \n"
     ]
    },
    {
     "name": "stdout",
     "output_type": "stream",
     "text": [
      "Finished get_neighbours...\n",
      "4411\n",
      "CPU times: user 2min 58s, sys: 11.9 s, total: 3min 10s\n",
      "Wall time: 1h 56min 41s\n"
     ]
    }
   ],
   "source": [
    "%%time\n",
    "neighbours_orthophenoList = monarch.get_orthopheno_list(neighboursList)\n",
    "print(len(neighbours_orthophenoList))"
   ]
  },
  {
   "cell_type": "code",
   "execution_count": 9,
   "metadata": {},
   "outputs": [
    {
     "name": "stdout",
     "output_type": "stream",
     "text": [
      "genelist:  5364\n",
      "\n",
      "The function \"expand_edges()\" is running, please keep calm and have some coffee...\n"
     ]
    },
    {
     "name": "stderr",
     "output_type": "stream",
     "text": [
      "100%|██████████| 5086/5086 [5:06:44<00:00, 13.70s/it]   \n"
     ]
    },
    {
     "name": "stdout",
     "output_type": "stream",
     "text": [
      "Finished get_connections...\n",
      "network:  36235\n",
      "CPU times: user 7min 21s, sys: 28.6 s, total: 7min 49s\n",
      "Wall time: 5h 6min 44s\n"
     ]
    }
   ],
   "source": [
    "%%time\n",
    "# network nodes: seed + 1shell + ortholog-phentoype\n",
    "geneList = sum([seedList,\n",
    "                neighboursList,\n",
    "                seed_orthophenoList,\n",
    "                neighbours_orthophenoList], \n",
    "               [])\n",
    "print('genelist: ',len(geneList))\n",
    "\n",
    "# get edge expansion\n",
    "network = monarch.extract_edges(geneList)\n",
    "print('network: ',len(network))"
   ]
  },
  {
   "cell_type": "markdown",
   "metadata": {},
   "source": [
    "monarch data return as digital object and, if print_network(), as CSV file at monarch/"
   ]
  },
  {
   "cell_type": "code",
   "execution_count": 10,
   "metadata": {},
   "outputs": [
    {
     "name": "stdout",
     "output_type": "stream",
     "text": [
      "\n",
      "File '/home/nuria/workspace/graph-hypothesis-generation-lib/plan/monarch/monarch_connections_v2019-03-04.csv' saved.\n",
      "CPU times: user 379 ms, sys: 7.57 ms, total: 386 ms\n",
      "Wall time: 382 ms\n"
     ]
    }
   ],
   "source": [
    "%%time\n",
    "# save network\n",
    "monarch.print_network(network, 'monarch_connections')"
   ]
  },
  {
   "cell_type": "code",
   "execution_count": 11,
   "metadata": {},
   "outputs": [
    {
     "name": "stdout",
     "output_type": "stream",
     "text": [
      "\n",
      "* This is the size of the data structure: (36235, 7)\n",
      "* These are the attributes: Index(['object_id', 'object_label', 'reference_id_list', 'relation_id',\n",
      "       'relation_label', 'subject_id', 'subject_label'],\n",
      "      dtype='object')\n",
      "* This is the first record:\n",
      "     object_id object_label reference_id_list relation_id  relation_label  \\\n",
      "0  MGI:1345634         Amfr               NaN  RO:0002434  interacts with   \n",
      "\n",
      "    subject_id subject_label  \n",
      "0  MGI:1915069         Derl1  \n",
      "df (36235, 9)\n",
      "\n",
      "* This is the size of the edges file data structure: (36235, 9)\n",
      "* These are the edges attributes: Index(['object_id', 'property_description', 'property_id', 'property_label',\n",
      "       'property_uri', 'reference_date', 'reference_supporting_text',\n",
      "       'reference_uri', 'subject_id'],\n",
      "      dtype='object')\n",
      "* This is the first record:\n",
      "     object_id property_description property_id  property_label  \\\n",
      "0  MGI:1345634                   NA  RO:0002434  interacts with   \n",
      "\n",
      "                                property_uri reference_date  \\\n",
      "0  http://purl.obolibrary.org/obo/RO_0002434             NA   \n",
      "\n",
      "                           reference_supporting_text reference_uri  \\\n",
      "0  This edge comes from the Monarch Knowledge Gra...            NA   \n",
      "\n",
      "    subject_id  \n",
      "0  MGI:1915069  \n",
      "Number of concepts: 5086\n",
      "Number of nodes CURIEs: 30\n",
      "List of nodes CURIEs: dict_keys(['MGI', 'FlyBase', 'NCBIGene', 'FBbt', 'Xenbase', 'HGNC', 'ZFIN', 'ZP', 'RGD', 'HP', 'WormBase', 'WBPhenotype', 'SGD', 'FBcv', 'OMIM', '', 'MONARCH', 'GO', 'MP', 'REACT', 'MONDO', 'APO', 'KEGG-path', 'UBERON', 'MMRRC', 'ClinVarVariant', 'CL', 'Coriell', 'AQTLTrait', 'ENSEMBL'])\n",
      "\n",
      "Adding BioThings annotation: gene name, synonyms, description...\n",
      "symbols: 1724\n",
      "querying 1-1000...done.\n",
      "querying 1001-1724...done.\n",
      "Finished.\n",
      "313 input query terms found dup hits:\n",
      "\t[('Derl1', 2), ('Amfr', 2), ('AQP5', 4), ('dll1', 2), ('PSMC1', 7), ('Psmc1', 2), ('RUSC2', 7), ('ru\n",
      "46 input query terms found no hit:\n",
      "\t['Slc14a1<tm1Ask>/Slc14a1<tm1Ask>;', 'Aqp1<tm1Ask>/Aqp1<tm1Ask>', '[involves:', 'C57BL/6J]', 'Aqp1<t\n",
      "Pass \"returnall=True\" to return complete lists of duplicate or missing query terms.\n",
      "\n",
      "* This is the size of the nodes file data structure: (5086, 6)\n",
      "* These are the nodes attributes: Index(['description', 'id', 'name', 'preflabel', 'semantic_groups',\n",
      "       'synonyms'],\n",
      "      dtype='object')\n",
      "* This is the first record:\n",
      "                                         description           id      name  \\\n",
      "0  The protein encoded by this gene is a member o...  MGI:1915069  derlin 1   \n",
      "\n",
      "  preflabel semantic_groups             synonyms  \n",
      "0     Derl1            GENE  DER-1|DER1|derlin-1  \n",
      "CPU times: user 1.24 s, sys: 20.5 ms, total: 1.26 s\n",
      "Wall time: 7.17 s\n"
     ]
    }
   ],
   "source": [
    "%%time\n",
    "# build network\n",
    "file_name = 'monarch_connections_v2019-03-04.csv'\n",
    "monarch_connections = monarch.read_connections(file_name)\n",
    "monarch.build_edges(monarch_connections)\n",
    "monarch.build_nodes(monarch_connections)"
   ]
  },
  {
   "cell_type": "code",
   "execution_count": 13,
   "metadata": {},
   "outputs": [
    {
     "name": "stdout",
     "output_type": "stream",
     "text": [
      "\n",
      "File '/home/nuria/workspace/graph-hypothesis-generation-lib/plan/monarch/monarch_seed_nodes_v2019-03-04.csv' saved.\n"
     ]
    }
   ],
   "source": [
    "monarch.print_nodes(geneList,'monarch_seed_nodes')"
   ]
  },
  {
   "cell_type": "code",
   "execution_count": 23,
   "metadata": {},
   "outputs": [
    {
     "name": "stdout",
     "output_type": "stream",
     "text": [
      "geneList length: 5364\n",
      "geneList without duplicates: 5086\n",
      "monarch nodesList: 5086\n"
     ]
    }
   ],
   "source": [
    "## CHECK ##\n",
    "# why seed geneList (5364) < monarch nodes (5086)?\n",
    "# Answer: because i convert it to set() in the extract_edges() method \n",
    "import pandas as pd\n",
    "s = set(geneList)\n",
    "n_df = pd.read_csv('monarch/monarch_nodes_v2019-03-04.csv')\n",
    "n = set(n_df.id)\n",
    "print('geneList length:', len(geneList))\n",
    "print('geneList without duplicates:', len(s))\n",
    "print('monarch nodesList:', len(n))"
   ]
  },
  {
   "cell_type": "markdown",
   "metadata": {},
   "source": [
    "Network is returned as both CSV file and digital object"
   ]
  },
  {
   "cell_type": "markdown",
   "metadata": {},
   "source": [
    "###### At once"
   ]
  },
  {
   "cell_type": "code",
   "execution_count": null,
   "metadata": {
    "scrolled": true
   },
   "outputs": [],
   "source": [
    "%%time\n",
    "# prepare data to graph schema\n",
    "# seed nodes\n",
    "seedList = [ \n",
    "    'MONDO:0014109', # NGLY1 deficiency\n",
    "    'HGNC:17646', # NGLY1 human gene\n",
    "    'HGNC:633', # AQP1 human gene\n",
    "    'MGI:103201', # AQP1 mouse gene\n",
    "    'HGNC:7781', # NRF1 human gene* Ginger: known as NFE2L1. http://biogps.org/#goto=genereport&id=4779\n",
    "    'HGNC:24622', # ENGASE human gene\n",
    "    'HGNC:636', # AQP3 human gene\n",
    "    'HGNC:19940' # AQP11 human gene\n",
    "] \n",
    "\n",
    "# get first shell of neighbours\n",
    "neighboursList = monarch.get_neighbours_list(seedList)\n",
    "print(len(neighboursList))\n",
    "\n",
    "# introduce animal model ortho-phenotypes for seed and 1st shell neighbors\n",
    "seed_orthophenoList = monarch.get_orthopheno_list(seedList)\n",
    "print(len(seed_orthophenoList))\n",
    "neighbours_orthophenoList = monarch.get_orthopheno_list(neighboursList)\n",
    "print(len(neighbours_orthophenoList))\n",
    "\n",
    "# network nodes: seed + 1shell + ortholog-phentoype\n",
    "geneList = sum([seedList,\n",
    "                neighboursList,\n",
    "                seed_orthophenoList,\n",
    "                neighbours_orthophenoList], \n",
    "               [])\n",
    "print('genelist: ',len(geneList))\n",
    "\n",
    "# get edge expansion\n",
    "network = monarch.extract_edges(geneList)\n",
    "print('network: ',len(network))\n",
    "\n",
    "# save edges\n",
    "monarch.print_network(network, 'monarch_connections')\n",
    "\n",
    "# build network\n",
    "file_name = 'monarch_connections_v2019-03-04.csv'\n",
    "monarch_connections = monarch.read_connections(file_name)\n",
    "monarch.build_edges(monarch_connections)\n",
    "monarch.build_nodes(monarch_connections)"
   ]
  },
  {
   "cell_type": "markdown",
   "metadata": {},
   "source": [
    "Network is returned as both CSV file and digital object"
   ]
  },
  {
   "cell_type": "markdown",
   "metadata": {},
   "source": [
    "## Graph library\n",
    "### Create the review knowledge graph\n",
    "#### import graph\n",
    "\n",
    "Tasks:\n",
    "\n",
    "* Load Networks and calculate graph nodes\n",
    "* Monarch graph connectivity\n",
    "* Build graph"
   ]
  },
  {
   "cell_type": "code",
   "execution_count": 3,
   "metadata": {},
   "outputs": [
    {
     "name": "stderr",
     "output_type": "stream",
     "text": [
      "/home/nuria/anaconda3/envs/avalanche/lib/python3.6/site-packages/IPython/core/magic.py:187: DtypeWarning: Columns (5) have mixed types. Specify dtype option on import or set low_memory=False.\n",
      "  call = lambda f, *a, **k: f(*a, **k)\n"
     ]
    },
    {
     "name": "stdout",
     "output_type": "stream",
     "text": [
      "Curated:\n",
      "(362, 10)\n",
      "Index(['subject_id', 'property_id', 'object_id', 'reference_uri',\n",
      "       'reference_supporting_text', 'reference_date', 'property_label',\n",
      "       'property_description', 'property_uri', 'g2p_mark'],\n",
      "      dtype='object')\n",
      "Monarch:\n",
      "(36235, 9)\n",
      "Index(['subject_id', 'property_id', 'object_id', 'reference_uri',\n",
      "       'reference_supporting_text', 'reference_date', 'property_label',\n",
      "       'property_description', 'property_uri'],\n",
      "      dtype='object')\n",
      "Transcriptomics:\n",
      "(386, 9)\n",
      "Index(['object_id', 'property_description', 'property_id', 'property_label',\n",
      "       'property_uri', 'reference_date', 'reference_supporting_text',\n",
      "       'reference_uri', 'subject_id'],\n",
      "      dtype='object')\n",
      "Regulatory:\n",
      "(197267, 9)\n",
      "Index(['object_id', 'property_description', 'property_id', 'property_label',\n",
      "       'property_uri', 'reference_date', 'reference_supporting_text',\n",
      "       'reference_uri', 'subject_id'],\n",
      "      dtype='object')\n",
      "\n",
      "Concatenating into a graph...\n",
      "(36983, 9)\n",
      "\n",
      "Drop duplicated rows...\n",
      "(36983, 9)\n",
      "\n",
      "Merging tf-gene network to the graph...\n",
      "(9795, 9)\n",
      "\n",
      "Saving tf merged edges...\n",
      "(46778, 9)\n",
      "\n",
      "Drop duplicated rows...\n",
      "(46778, 9)\n",
      "\n",
      "Generating graph nodes...\n",
      "(9809, 1)\n",
      "CPU times: user 1.95 s, sys: 273 ms, total: 2.22 s\n",
      "Wall time: 2.2 s\n"
     ]
    }
   ],
   "source": [
    "%%time\n",
    "# load networks and calculate graph nodes\n",
    "curation_file = './graph/curated_graph_edges_v2019-03-04.csv'\n",
    "monarch_file = './monarch/monarch_edges_v2019-03-04.csv'\n",
    "rna_file = './graph/rna_edges_v2019-03-04.csv'\n",
    "tf_file = './graph/regulation_edges_v2019-03-04.csv'\n",
    "graph_nodes_list = graph.graph_nodes(\n",
    "    curation_file_path=curation_file,\n",
    "    monarch_file_path=monarch_file,\n",
    "    transcriptomics_file_path=rna_file,\n",
    "    regulation_file_path=tf_file\n",
    ")\n"
   ]
  },
  {
   "cell_type": "code",
   "execution_count": 5,
   "metadata": {},
   "outputs": [
    {
     "name": "stdout",
     "output_type": "stream",
     "text": [
      "graph nodes list length: 9809\n",
      "graph nodes set length: 9809\n"
     ]
    }
   ],
   "source": [
    "## CHECK ##\n",
    "print('graph nodes list length:', len(graph_nodes_list))\n",
    "print('graph nodes set length:', len(set(graph_nodes_list)))"
   ]
  },
  {
   "cell_type": "code",
   "execution_count": 6,
   "metadata": {},
   "outputs": [
    {
     "name": "stdout",
     "output_type": "stream",
     "text": [
      "\n",
      "The function \"extract_edges()\" is running, please keep calm and have some coffee...\n"
     ]
    },
    {
     "name": "stderr",
     "output_type": "stream",
     "text": [
      "100%|██████████| 9809/9809 [10:04:36<00:00,  5.29s/it]  \n"
     ]
    },
    {
     "name": "stdout",
     "output_type": "stream",
     "text": [
      "Finished get_connections...\n",
      "network:  236506\n",
      "CPU times: user 14min 22s, sys: 52.9 s, total: 15min 15s\n",
      "Wall time: 10h 4min 36s\n"
     ]
    }
   ],
   "source": [
    "%%time\n",
    "# monarch graph connectivity\n",
    "# get edge expansion\n",
    "network = monarch.extract_edges(graph_nodes_list)\n",
    "print('network: ',len(network))"
   ]
  },
  {
   "cell_type": "code",
   "execution_count": 7,
   "metadata": {},
   "outputs": [
    {
     "name": "stdout",
     "output_type": "stream",
     "text": [
      "\n",
      "File '/home/nuria/workspace/graph-hypothesis-generation-lib/plan/monarch/monarch_connections_graph_v2019-03-05.csv' saved.\n"
     ]
    }
   ],
   "source": [
    "# save network\n",
    "monarch.print_network(network, 'monarch_connections_graph')"
   ]
  },
  {
   "cell_type": "code",
   "execution_count": 8,
   "metadata": {},
   "outputs": [
    {
     "name": "stdout",
     "output_type": "stream",
     "text": [
      "\n",
      "* This is the size of the data structure: (236506, 7)\n",
      "* These are the attributes: Index(['object_id', 'object_label', 'reference_id_list', 'relation_id',\n",
      "       'relation_label', 'subject_id', 'subject_label'],\n",
      "      dtype='object')\n",
      "* This is the first record:\n",
      "   object_id object_label reference_id_list relation_id  relation_label  \\\n",
      "0  HGNC:3236         EGFR               NaN  RO:0002434  interacts with   \n",
      "\n",
      "  subject_id subject_label  \n",
      "0  HGNC:7553           MYC  \n",
      "df (236506, 9)\n",
      "\n",
      "* This is the size of the edges file data structure: (236506, 9)\n",
      "* These are the edges attributes: Index(['object_id', 'property_description', 'property_id', 'property_label',\n",
      "       'property_uri', 'reference_date', 'reference_supporting_text',\n",
      "       'reference_uri', 'subject_id'],\n",
      "      dtype='object')\n",
      "* This is the first record:\n",
      "   object_id property_description property_id  property_label  \\\n",
      "0  HGNC:3236                   NA  RO:0002434  interacts with   \n",
      "\n",
      "                                property_uri reference_date  \\\n",
      "0  http://purl.obolibrary.org/obo/RO_0002434             NA   \n",
      "\n",
      "                           reference_supporting_text reference_uri subject_id  \n",
      "0  This edge comes from the Monarch Knowledge Gra...            NA  HGNC:7553  \n",
      "Number of concepts: 9468\n",
      "Number of nodes CURIEs: 30\n",
      "List of nodes CURIEs: dict_keys(['HGNC', 'MGI', 'MP', 'UBERON', 'HP', 'GO', 'ZFIN', 'NCBIGene', 'Xenbase', 'FlyBase', 'FBbt', 'WormBase', 'ZP', 'RGD', 'REACT', 'SGD', 'MONARCH', 'KEGG-path', 'FBcv', 'CL', 'MONDO', 'Coriell', '', 'WBPhenotype', 'ClinVarVariant', 'ENSEMBL', 'AQTLTrait', 'OMIM', 'APO', 'MMRRC'])\n",
      "\n",
      "Adding BioThings annotation: gene name, synonyms, description...\n",
      "symbols: 6019\n",
      "querying 1-1000...done.\n",
      "querying 1001-2000...done.\n",
      "querying 2001-3000...done.\n",
      "querying 3001-4000...done.\n",
      "querying 4001-5000...done.\n",
      "querying 5001-6000...done.\n",
      "querying 6001-6019...done.\n",
      "Finished.\n",
      "318 input query terms found dup hits:\n",
      "\t[('EGFR', 7), ('Car9', 2), ('FBXO6', 7), ('Ikzf3', 2), ('LINGO1', 7), ('mtus2', 2), ('Car12', 2), ('\n",
      "53 input query terms found no hit:\n",
      "\t['Aqp1<tm1b(EUCOMM)Wtsi>/Aqp1<tm1b(EUCOMM)Wtsi>', '[C57BL/6N-Aqp1<tm1b(EUCOMM)Wtsi>/H]', 'CABZ010535\n",
      "Pass \"returnall=True\" to return complete lists of duplicate or missing query terms.\n",
      "\n",
      "* This is the size of the nodes file data structure: (9468, 6)\n",
      "* These are the nodes attributes: Index(['description', 'id', 'name', 'preflabel', 'semantic_groups',\n",
      "       'synonyms'],\n",
      "      dtype='object')\n",
      "* This is the first record:\n",
      "                                         description         id  \\\n",
      "0  This gene is a proto-oncogene and encodes a nu...  HGNC:7553   \n",
      "\n",
      "                                            name preflabel semantic_groups  \\\n",
      "0  MYC proto-oncogene, bHLH transcription factor       MYC            GENE   \n",
      "\n",
      "                  synonyms  \n",
      "0  MRTL|MYCC|bHLHe39|c-Myc  \n",
      "CPU times: user 6.77 s, sys: 118 ms, total: 6.89 s\n",
      "Wall time: 30.6 s\n"
     ]
    }
   ],
   "source": [
    "%%time\n",
    "# build network\n",
    "file_name = 'monarch_connections_graph_v2019-03-05.csv'\n",
    "monarch_connections = monarch.read_connections(file_name)\n",
    "monarch.build_edges(monarch_connections)\n",
    "monarch.build_nodes(monarch_connections)"
   ]
  },
  {
   "cell_type": "code",
   "execution_count": null,
   "metadata": {},
   "outputs": [],
   "source": [
    "# build graph\n",
    "edges = graph.build_edges()"
   ]
  },
  {
   "cell_type": "code",
   "execution_count": null,
   "metadata": {},
   "outputs": [],
   "source": [
    "nodes = graph.build_nodes(edges)"
   ]
  },
  {
   "cell_type": "markdown",
   "metadata": {},
   "source": [
    "###### At once"
   ]
  },
  {
   "cell_type": "code",
   "execution_count": null,
   "metadata": {},
   "outputs": [],
   "source": [
    "%%time\n",
    "# build graph\n",
    "edges = graph.build_edges()\n",
    "nodes = graph.build_nodes(edges)"
   ]
  },
  {
   "cell_type": "markdown",
   "metadata": {},
   "source": [
    "## Neo4jlib library\n",
    "### Import the graph into Neo4j graph database\n",
    "#### import neo4jlib"
   ]
  },
  {
   "cell_type": "code",
   "execution_count": null,
   "metadata": {
    "scrolled": true
   },
   "outputs": [],
   "source": [
    "# import to graph interface, by now neo4j\n",
    "## get edges and files for neo4j\n",
    "edges_df = neo4jlib.get_dataframe(edges)"
   ]
  },
  {
   "cell_type": "code",
   "execution_count": null,
   "metadata": {},
   "outputs": [],
   "source": [
    "nodes_df = neo4jlib.get_dataframe(nodes)"
   ]
  },
  {
   "cell_type": "code",
   "execution_count": null,
   "metadata": {},
   "outputs": [],
   "source": [
    "statements = neo4jlib.get_statements(edges_df)"
   ]
  },
  {
   "cell_type": "code",
   "execution_count": null,
   "metadata": {},
   "outputs": [],
   "source": [
    "concepts = neo4jlib.get_concepts(nodes_df)"
   ]
  },
  {
   "cell_type": "code",
   "execution_count": null,
   "metadata": {},
   "outputs": [],
   "source": [
    "## import the graph into neo4j\n",
    "# save files into neo4j import dir\n",
    "neo4j_path = '/home/nuria/ngly1-graph/neo4j-graphs/neo4j/neo4j-lib'\n",
    "#neo4j_path = './neo4j-community-3.0.3'\n",
    "neo4jlib.save_neo4j_files(statements, neo4j_path, file_type = 'statements')"
   ]
  },
  {
   "cell_type": "code",
   "execution_count": null,
   "metadata": {},
   "outputs": [],
   "source": [
    "neo4jlib.save_neo4j_files(concepts, neo4j_path, file_type = 'concepts')"
   ]
  },
  {
   "cell_type": "code",
   "execution_count": null,
   "metadata": {},
   "outputs": [],
   "source": [
    "# import graph into neo4j\n",
    "neo4jlib.do_import(neo4j_path)"
   ]
  },
  {
   "cell_type": "markdown",
   "metadata": {},
   "source": [
    "###### At once"
   ]
  },
  {
   "cell_type": "code",
   "execution_count": null,
   "metadata": {},
   "outputs": [],
   "source": [
    "%%time\n",
    "# import to graph interface, by now neo4j\n",
    "## get edges and files for neo4j\n",
    "edges_df = neo4jlib.get_dataframe(edges)\n",
    "nodes_df = neo4jlib.get_dataframe(nodes)\n",
    "statements = neo4jlib.get_statements(edges_df)\n",
    "concepts = neo4jlib.get_concepts(nodes_df)\n",
    "print('statements: ', len(statements))\n",
    "print('concepts: ',len(concepts))\n",
    "\n",
    "## import the graph into neo4j\n",
    "# save files into neo4j import dir\n",
    "neo4j_path = '/home/nuria/ngly1-graph/neo4j-graphs/neo4j/neo4j-lib'\n",
    "#neo4j_path = './neo4j-community-3.0.3'\n",
    "neo4jlib.save_neo4j_files(statements, neo4j_path, file_type = 'statements')\n",
    "neo4jlib.save_neo4j_files(concepts, neo4j_path, file_type = 'concepts')\n",
    "\n",
    "# import graph into neo4j\n",
    "neo4jlib.do_import(neo4j_path)"
   ]
  },
  {
   "cell_type": "markdown",
   "metadata": {},
   "source": [
    "=> Alternatively from file:"
   ]
  },
  {
   "cell_type": "code",
   "execution_count": null,
   "metadata": {},
   "outputs": [],
   "source": [
    "%%time\n",
    "import neo4jlib\n",
    "# import to graph interface, by now neo4j\n",
    "## get edges and files for neo4j\n",
    "edges = neo4jlib.get_dataframe_from_file('./graph/graph_edges_v2019-02-22')\n",
    "nodes = neo4jlib.get_dataframe_from_file('./graph/graph_nodes_v2019-02-22')\n",
    "statements = neo4jlib.get_statements(edges)\n",
    "concepts = neo4jlib.get_concepts(nodes)\n",
    "print('statements: ', len(statements))\n",
    "print('concepts: ',len(concepts))\n",
    "\n",
    "## import the graph into neo4j\n",
    "# save files into neo4j import dir\n",
    "neo4j_path = './neo4j-community-3.0.3'\n",
    "neo4jlib.save_neo4j_files(statements, neo4j_path, file_type='statements')\n",
    "neo4jlib.save_neo4j_files(concepts, neo4j_path, file_type='concepts')\n",
    "\n",
    "# import graph into neo4j\n",
    "neo4jlib.do_import(neo4j_path)"
   ]
  },
  {
   "cell_type": "markdown",
   "metadata": {},
   "source": [
    "## hypothesis-generation library\n",
    "### Query the graph for mechanistic explanation, then summarize the extracted paths\n",
    "#### import hypothesis, summary"
   ]
  },
  {
   "cell_type": "markdown",
   "metadata": {},
   "source": [
    "### Ortopheno query with general nodes/relations removed\n",
    "#### import the graph into neo4j from file"
   ]
  },
  {
   "cell_type": "code",
   "execution_count": null,
   "metadata": {},
   "outputs": [],
   "source": [
    "import neo4jlib, hypothesis, summary"
   ]
  },
  {
   "cell_type": "code",
   "execution_count": null,
   "metadata": {},
   "outputs": [],
   "source": [
    "%%time\n",
    "# import to graph interface, by now neo4j\n",
    "## get edges and files for neo4j\n",
    "edges_df = neo4jlib.get_dataframe_from_file('./graph/graph_edges_v2019-02-22')\n",
    "nodes_df = neo4jlib.get_dataframe_from_file('./graph/graph_nodes_v2019-02-22')\n",
    "statements = neo4jlib.get_statements(edges_df)\n",
    "concepts = neo4jlib.get_concepts(nodes_df)\n",
    "print('statements: ', len(statements))\n",
    "print('concepts: ',len(concepts))\n",
    "\n",
    "## import the graph into neo4j\n",
    "# save files into neo4j import dir\n",
    "neo4j_path = './neo4j-community-3.0.3'\n",
    "neo4jlib.save_neo4j_files(statements, neo4j_path, file_type = 'statements')\n",
    "neo4jlib.save_neo4j_files(concepts, neo4j_path, file_type = 'concepts')\n",
    "\n",
    "# import graph into neo4j\n",
    "neo4jlib.do_import(neo4j_path)"
   ]
  },
  {
   "cell_type": "code",
   "execution_count": null,
   "metadata": {},
   "outputs": [],
   "source": [
    "%%time\n",
    "# get orthopheno paths\n",
    "seed = list([\n",
    "        'HGNC:17646',  # NGLY1 human gene\n",
    "        'HGNC:633'  # AQP1 human gene\n",
    "])\n",
    "hypothesis.query(seed,queryname='ngly1_aqp1',port='7687') #http_port= 7470; bolt_port=7680"
   ]
  },
  {
   "cell_type": "markdown",
   "metadata": {},
   "source": [
    "Checked manually that there are paths"
   ]
  },
  {
   "cell_type": "code",
   "execution_count": null,
   "metadata": {},
   "outputs": [],
   "source": [
    "%%time\n",
    "# get orthopheno paths\n",
    "seed = list([\n",
    "        'HGNC:17646',  # NGLY1 human gene\n",
    "        'HGNC:633'  # AQP1 human gene\n",
    "])\n",
    "hypothesis.query(seed, queryname='ngly1_aqp1', pwdegree='1000', phdegree='1000', port='7687')"
   ]
  },
  {
   "cell_type": "markdown",
   "metadata": {},
   "source": [
    "Checked manually that there are results. \n",
    "\n",
    "**There is not a check if there are results diff to 0**"
   ]
  },
  {
   "cell_type": "code",
   "execution_count": null,
   "metadata": {},
   "outputs": [],
   "source": [
    "%%time\n",
    "import hypothesis\n",
    "# get orthopheno paths\n",
    "seed = list([\n",
    "        'HGNC:17646',  # NGLY1 human gene\n",
    "        'HGNC:633'  # AQP1 human gene\n",
    "])\n",
    "hypothesis.open_query(seed,queryname='ngly1_aqp1',port='7687')"
   ]
  },
  {
   "cell_type": "markdown",
   "metadata": {},
   "source": [
    "Results!  \n",
    "\n",
    "* outfile: query_ngly1_aqp1_paths_v2019-02-22.json"
   ]
  },
  {
   "cell_type": "code",
   "execution_count": null,
   "metadata": {},
   "outputs": [],
   "source": [
    "%%time\n",
    "import summary\n",
    "# get summary\n",
    "data = summary.path_load('./hypothesis/query_ngly1_aqp1_paths_v2019-02-22')\n",
    "\n",
    "#parse data for summarization\n",
    "data_parsed = list()\n",
    "#funcs = [summary.metapaths, summary.nodes, summary.node_types, summary.edges, summary.edge_types]\n",
    "for query in data:\n",
    "    query_parsed = summary.query_parser(query)\n",
    "    #metapath(query_parsed)\n",
    "    #map(lambda x: x(query_parsed), funcs)\n",
    "    data_parsed.append(query_parsed)\n",
    "summary.metapaths(data_parsed)\n",
    "summary.nodes(data_parsed)\n",
    "summary.node_types(data_parsed)\n",
    "summary.edges(data_parsed)\n",
    "summary.edge_types(data_parsed)\n",
    "#for query in data_parsed:\n",
    "#    map(lambda x: x(query), funcs)"
   ]
  },
  {
   "cell_type": "markdown",
   "metadata": {},
   "source": [
    "It seems that works. Only summaries for aqp1->ngly1. Check if it is correct. Also check the debugging part below what is it???"
   ]
  },
  {
   "cell_type": "code",
   "execution_count": null,
   "metadata": {},
   "outputs": [],
   "source": []
  },
  {
   "cell_type": "code",
   "execution_count": null,
   "metadata": {},
   "outputs": [],
   "source": []
  }
 ],
 "metadata": {
  "kernelspec": {
   "display_name": "Python 3",
   "language": "python",
   "name": "python3"
  },
  "language_info": {
   "codemirror_mode": {
    "name": "ipython",
    "version": 3
   },
   "file_extension": ".py",
   "mimetype": "text/x-python",
   "name": "python",
   "nbconvert_exporter": "python",
   "pygments_lexer": "ipython3",
   "version": "3.6.4"
  }
 },
 "nbformat": 4,
 "nbformat_minor": 2
}
