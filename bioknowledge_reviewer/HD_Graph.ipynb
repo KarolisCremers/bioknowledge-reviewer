{
 "cells": [
  {
   "cell_type": "markdown",
   "metadata": {},
   "source": [
    "# Description\n",
    "\n",
    "This is the notebook for the creation of the first review network and derived hypotheses. \n",
    "\n",
    "* Using intermediary variables from workflow objects. In this workflow variables are directly used for the next step. \n",
    "\n",
    "\n",
    "* Review network: From Monarch knowledge graph, we built a network seeded by 8 nodes, retrieving their explicit relationships and all the relationships among all these nodes. Seed nodes:\n",
    "\n",
    "    - 'MONDO:0007739' HD\n",
    "    - 'HGNC:4851' Htt\n",
    "    - 'CHEBI:18248' Iron\n",
    "    - 'HGNC:18229' Rhes (RASD2)\n",
    "    \n",
    "Possible seed nodes:\n",
    "https://monarchinitiative.org/search/Iron\n",
    "* Connecting paths: query templates."
   ]
  },
  {
   "cell_type": "code",
   "execution_count": 1,
   "metadata": {},
   "outputs": [],
   "source": [
    "import transcriptomics, regulation, curation, monarch, graph, neo4jlib, hypothesis, summary, utils\n",
    "import pandas as pd"
   ]
  },
  {
   "cell_type": "markdown",
   "metadata": {},
   "source": [
    "## Import curated graph:"
   ]
  },
  {
   "cell_type": "code",
   "execution_count": 2,
   "metadata": {},
   "outputs": [
    {
     "name": "stdout",
     "output_type": "stream",
     "text": [
      "CPU times: user 4.7 ms, sys: 521 µs, total: 5.22 ms\n",
      "Wall time: 4.66 ms\n"
     ]
    }
   ],
   "source": [
    "%%time\n",
    "# initiate empty curation network:\n",
    "curation_edges = pd.read_csv(\"curation/data/HD/HD_curated_edges.csv\")\n",
    "curation_nodes = pd.read_csv(\"curation/data/HD/HD_curated_nodes.csv\")\n"
   ]
  },
  {
   "cell_type": "markdown",
   "metadata": {},
   "source": [
    "## Construct the transcriptomics subgraph"
   ]
  },
  {
   "cell_type": "code",
   "execution_count": 3,
   "metadata": {
    "scrolled": true
   },
   "outputs": [
    {
     "name": "stdout",
     "output_type": "stream",
     "text": [
      "\n",
      "The function \"read_data()\" is running...\n",
      "\n",
      "* This is the size of the raw expression data structure: (28087, 10)\n",
      "* These are the expression attributes: Index(['Unnamed: 0', 'symbol', 'baseMean', 'HD.mean', 'Control.mean',\n",
      "       'log2FoldChange', 'lfcSE', 'stat', 'pvalue', 'padj'],\n",
      "      dtype='object')\n",
      "* This is the first record:\n",
      "           Unnamed: 0 symbol  baseMean    HD.mean  Control.mean  \\\n",
      "0  ENSG00000069011.10  PITX1  5.645675  18.684286      0.323793   \n",
      "\n",
      "   log2FoldChange     lfcSE      stat        pvalue          padj  \n",
      "0        4.769658  0.366367  13.01879  9.567529e-39  2.687232e-34  \n",
      "\n",
      "The raw data is saved at: /home/karolis/LUMC/HDSR/bioknowledge-reviewer/bioknowledge_reviewer/transcriptomics/HD/data/GSE64810_mlhd_DESeq2_diffexp_DESeq2_outlier_trimmed_adjust.csv\n",
      "\n",
      "\n",
      "Finished read_data().\n",
      "\n",
      "\n",
      "The function \"clean_data()\" is running. Keeping only data with FC > 1.5 and FDR < 5% ...\n",
      "\n",
      "* This is the size of the clean expression data structure: (3209, 6)\n",
      "* These are the clean expression attributes: Index(['EnsembleID', 'symbol', 'log2FoldChange', 'pvalue', 'padj',\n",
      "       'Regulation'],\n",
      "      dtype='object')\n",
      "* This is the first record:\n",
      "           EnsembleID symbol  log2FoldChange        pvalue          padj  \\\n",
      "0  ENSG00000069011.10  PITX1        4.769658  9.567529e-39  2.687232e-34   \n",
      "\n",
      "    Regulation  \n",
      "0  Upregulated  \n",
      "\n",
      "The clean data is saved at: /home/karolis/LUMC/HDSR/bioknowledge-reviewer/bioknowledge_reviewer/transcriptomics/HD/out/Transcriptome_human_BA9.csv\n",
      "\n",
      "\n",
      "Finished clean_data().\n",
      "\n",
      "\n",
      "The function \"prepare_data_edges()\" is running...\n",
      "\n",
      "* This is the size of the expression data structure: (3209, 18)\n",
      "* These are the expression attributes: Index(['ensemble_id', 'symbol', 'log2FoldChange', 'pvalue', 'padj',\n",
      "       'regulation', 'source', 'subject_id', 'subject_label', 'property_id',\n",
      "       'property_label', 'reference_id', 'reference_uri',\n",
      "       'reference_supporting_text', 'reference_date', 'property_description',\n",
      "       'property_uri', 'object_id'],\n",
      "      dtype='object')\n",
      "* This is the first record:\n",
      "          ensemble_id symbol  log2FoldChange        pvalue          padj  \\\n",
      "0  ENSG00000069011.10  PITX1        4.769658  9.567529e-39  2.687232e-34   \n",
      "\n",
      "    regulation source               subject_id subject_label property_id  \\\n",
      "0  Upregulated   Chow  ensembl:ENSG00000197386           HTT     MI_0914   \n",
      "\n",
      "  property_label   reference_id                           reference_uri  \\\n",
      "0    association  PMID:27454300  http://purl.obolibrary.org/obo/MI_0914   \n",
      "\n",
      "                           reference_supporting_text reference_date  \\\n",
      "0  Here we present a genome-wide analysis of mRNA...      25/7/2016   \n",
      "\n",
      "                                property_description  \\\n",
      "0  Interaction between molecules that may partici...   \n",
      "\n",
      "                                 property_uri                object_id  \n",
      "0  http://purl.obolibrary.org/obo/INO_0000061  ensembl:ENSG00000069011  \n",
      "\n",
      "The HD BA9 transcriptomics expression edges are saved at: /home/karolis/LUMC/HDSR/bioknowledge-reviewer/bioknowledge_reviewer/transcriptomics/HD/out/Transcriptome_human_BA9_edges.csv\n",
      "\n",
      "\n",
      "Finished prepare_data_edges().\n",
      "\n",
      "\n",
      "The function \"prepare_rna_edges()\" is running...\n",
      "\n",
      "* This is the size of the edges data structure: (3209, 17)\n",
      "* These are the edges attributes: Index(['subject_id', 'subject_label', 'property_id', 'property_label',\n",
      "       'object_id', 'object_label', 'log2FoldChange', 'pvalue', 'fdr',\n",
      "       'regulation', 'source', 'reference_id', 'reference_uri',\n",
      "       'reference_supporting_text', 'reference_date', 'property_description',\n",
      "       'property_uri'],\n",
      "      dtype='object')\n",
      "* This is the first record:\n",
      "                subject_id subject_label property_id property_label  \\\n",
      "0  ensembl:ENSG00000197386           HTT     MI_0914    association   \n",
      "\n",
      "                 object_id object_label  log2FoldChange        pvalue  \\\n",
      "0  ensembl:ENSG00000069011        PITX1        4.769658  9.567529e-39   \n",
      "\n",
      "            fdr   regulation source   reference_id  \\\n",
      "0  2.687232e-34  Upregulated   Chow  PMID:27454300   \n",
      "\n",
      "                            reference_uri  \\\n",
      "0  http://purl.obolibrary.org/obo/MI_0914   \n",
      "\n",
      "                           reference_supporting_text reference_date  \\\n",
      "0  Here we present a genome-wide analysis of mRNA...      25/7/2016   \n",
      "\n",
      "                                property_description  \\\n",
      "0  Interaction between molecules that may partici...   \n",
      "\n",
      "                                 property_uri  \n",
      "0  http://purl.obolibrary.org/obo/INO_0000061  \n",
      "\n",
      "This data object is not saved.\n",
      "\n",
      "\n",
      "Finished prepare_rna_edges().\n",
      "\n",
      "\n",
      "The function \"build_edges()\" is running...\n",
      "\n",
      "* This is the size of the edges file data structure: (3209, 9)\n",
      "* These are the edges attributes: Index(['subject_id', 'object_id', 'property_id', 'property_label',\n",
      "       'property_description', 'property_uri', 'reference_uri',\n",
      "       'reference_supporting_text', 'reference_date'],\n",
      "      dtype='object')\n",
      "* This is the first record:\n",
      "                subject_id                object_id property_id  \\\n",
      "0  ensembl:ENSG00000197386  ensembl:ENSG00000069011     MI_0914   \n",
      "\n",
      "  property_label property_description  \\\n",
      "0    association                   NA   \n",
      "\n",
      "                                 property_uri  \\\n",
      "0  http://purl.obolibrary.org/obo/INO_0000061   \n",
      "\n",
      "                                  reference_uri  \\\n",
      "0  https://www.ncbi.nlm.nih.gov/pubmed/27454300   \n",
      "\n",
      "                           reference_supporting_text reference_date  \n",
      "0  Here we present a genome-wide analysis of mRNA...     2015-11-04  \n",
      "\n",
      "The transcriptomics network edges are built and saved at: /home/karolis/LUMC/HDSR/bioknowledge-reviewer/bioknowledge_reviewer/graph/rna_edges_v2022-07-27.csv\n",
      "\n",
      "\n",
      "Finished build_edges().\n",
      "\n",
      "\n",
      "The function \"build_nodes()\" is running...\n",
      "* Total number of nodes: 3210\n",
      "querying 1-1000...done.\n",
      "querying 1001-2000...done.\n",
      "querying 2001-3000...done.\n",
      "querying 3001-3210...done.\n",
      "Finished.\n",
      "182 input query terms found no hit:\n",
      "\t['ENSG00000200127', 'ENSG00000183748', 'ENSG00000140181', 'ENSG00000261589', 'ENSG00000034063', 'ENS\n",
      "Pass \"returnall=True\" to return complete lists of duplicate or missing query terms.\n",
      "182 nodes without available information\n",
      "These nodes have retained their original ID. First nodes is:\n",
      "['ENSG00000200127']\n",
      "630 nodes do not have a HGNC id, retained original ID\n",
      "\n",
      "* This is the size of the nodes file data structure: (3210, 6)\n",
      "* These are the nodes attributes: Index(['id', 'semantic_groups', 'preflabel', 'name', 'synonyms',\n",
      "       'description'],\n",
      "      dtype='object')\n",
      "* This is the first record:\n",
      "          id semantic_groups preflabel        name        synonyms  \\\n",
      "0  HGNC:4851            GENE       HTT  huntingtin  HD|IT15|LOMARS   \n",
      "\n",
      "                                         description  \n",
      "0  Huntingtin is a disease gene linked to Hunting...  \n",
      "\n",
      "The transcriptomics network nodes are built and saved at: /home/karolis/LUMC/HDSR/bioknowledge-reviewer/bioknowledge_reviewer/graph/rna_nodes_v2022-07-27.csv\n",
      "\n",
      "\n",
      "Finished build_nodes().\n",
      "\n",
      "\n",
      "* This is the size of the edges file data structure: (3209, 9)\n",
      "* These are the edges attributes: Index(['subject_id', 'object_id', 'property_id', 'property_label',\n",
      "       'property_description', 'property_uri', 'reference_uri',\n",
      "       'reference_supporting_text', 'reference_date'],\n",
      "      dtype='object')\n",
      "* This is the first record:\n",
      "  subject_id  object_id property_id property_label property_description  \\\n",
      "0  HGNC:4851  HGNC:9004     MI_0914    association                   NA   \n",
      "\n",
      "                                 property_uri  \\\n",
      "0  http://purl.obolibrary.org/obo/INO_0000061   \n",
      "\n",
      "                                  reference_uri  \\\n",
      "0  https://www.ncbi.nlm.nih.gov/pubmed/27454300   \n",
      "\n",
      "                           reference_supporting_text reference_date  \n",
      "0  Here we present a genome-wide analysis of mRNA...     2015-11-04  \n",
      "\n",
      "The transcriptomics network edges are built and saved at: /home/karolis/LUMC/HDSR/bioknowledge-reviewer/bioknowledge_reviewer/graph/rna_edges_v2022-07-27.csv\n",
      "\n",
      "\n",
      "Finished build_edges().\n",
      "\n",
      "CPU times: user 948 ms, sys: 23 ms, total: 971 ms\n",
      "Wall time: 11.4 s\n"
     ]
    }
   ],
   "source": [
    "%%time\n",
    "# transcriptomics:\n",
    "csv_path = './transcriptomics/GSE64810_mlhd_DESeq2_diffexp_DESeq2_outlier_trimmed_adjust.txt'\n",
    "data = transcriptomics.read_data(csv_path, sep='\\t')\n",
    "clean_data = transcriptomics.clean_data(data)\n",
    "data_edges = transcriptomics.prepare_data_edges(clean_data)\n",
    "rna_network = transcriptomics.prepare_rna_edges(data_edges)\n",
    "\n",
    "# build network with graph schema\n",
    "rna_edges = transcriptomics.build_edges(rna_network)\n",
    "rna_nodes, node_dict = transcriptomics.build_nodes(rna_network)\n",
    "rna_edges = transcriptomics.rework_edges(pd.DataFrame(rna_edges), node_dict)"
   ]
  },
  {
   "cell_type": "markdown",
   "metadata": {},
   "source": [
    "## Construct the regulation, Transcription factor targets subgraph"
   ]
  },
  {
   "cell_type": "code",
   "execution_count": 4,
   "metadata": {},
   "outputs": [
    {
     "name": "stdout",
     "output_type": "stream",
     "text": [
      "\n",
      "The function \"prepare_msigdb_data()\" is running...\n",
      "\n",
      "* Number of Transcription Factor Targets (TFT) gene sets: 615\n",
      "\n",
      "The MSigDB raw network is saved at: /home/karolis/LUMC/HDSR/bioknowledge-reviewer/bioknowledge_reviewer/regulation/msigdb/out/tf_genelist_entrez_msigdb.json. Other reporting files are also saved at the same directory.\n",
      "\n",
      "\n",
      "Finished prepare_msigdb_data().\n",
      "\n",
      "\n",
      "The function \"load_tf_gene_edges()\" is running...\n",
      "\n",
      "Finished load_tf_gene_edges().\n",
      "\n",
      "\n",
      "The function \"get_gene_id_normalization_dictionaries()\" is running...\n",
      "\n",
      "* Querying BioThings to map gene symbols to HGNC and Entrez IDs...\n",
      "querying 1-1000...done.\n",
      "querying 1001-2000...done.\n",
      "querying 2001-3000...done.\n",
      "querying 3001-3071...done.\n",
      "Finished.\n",
      "49 input query terms found no hit:\n",
      "\t['MEIS1BHOXA9', 'MYCMAX', 'E2F1DP2', 'COMP1', 'RORA1', 'INSAF', 'CACCCBINDINGFACTOR', 'CEBPGAMMA', '\n",
      "Pass \"returnall=True\" to return complete lists of duplicate or missing query terms.\n",
      "\n",
      "Saving not found gene symbols at: /home/karolis/LUMC/HDSR/bioknowledge-reviewer/bioknowledge_reviewer/regulation/not_found_symbols.list\n",
      "\n",
      "\n",
      "* Querying BioThings to map Entrez to HGNC IDs and gene symbols...\n",
      "querying 1-1000...done.\n",
      "querying 1001-2000...done.\n",
      "querying 2001-3000...done.\n",
      "querying 3001-4000...done.\n",
      "querying 4001-5000...done.\n",
      "querying 5001-6000...done.\n",
      "querying 6001-7000...done.\n",
      "querying 7001-8000...done.\n",
      "querying 8001-9000...done.\n",
      "querying 9001-10000...done.\n",
      "querying 10001-11000...done.\n",
      "querying 11001-12000...done.\n",
      "querying 12001-13000...done.\n",
      "querying 13001-14000...done.\n",
      "querying 14001-15000...done.\n",
      "querying 15001-16000...done.\n",
      "querying 16001-16632...done.\n",
      "Finished.\n",
      "148 input query terms found no hit:\n",
      "\t['283328', '6436', '286505', '400863', '4687', '121301', '256370', '401123', '401388', '126913', '34\n",
      "Pass \"returnall=True\" to return complete lists of duplicate or missing query terms.\n",
      "\n",
      "Saving not found Entrez gene IDs at: /home/karolis/LUMC/HDSR/bioknowledge-reviewer/bioknowledge_reviewer/regulation/not_found_entrez.list\n",
      "\n",
      "\n",
      "Finished get_gene_id_normalization_dictionaries().\n",
      "\n",
      "\n",
      "The function \"prepare_data_edges()\" is running...\n",
      "\n",
      "The tftargets edges are saved at: /home/karolis/LUMC/HDSR/bioknowledge-reviewer/bioknowledge_reviewer/regulation/tftargets/tftargets_edges.csv\n",
      "\n",
      "\n",
      "The MSigDB edges are saved at: /home/karolis/LUMC/HDSR/bioknowledge-reviewer/bioknowledge_reviewer/regulation/msigdb/msigdb_edges.csv\n",
      "\n",
      "\n",
      "Finished prepare_data_edges().\n",
      "\n",
      "\n",
      "The function \"prepare_regulation_edges()\" is running...\n",
      "\n",
      "Finished prepare_regulation_edges().\n",
      "\n",
      "\n",
      "The function \"build_edges()\" is running...\n",
      "\n",
      "* This is the size of the edges file data structure: (197267, 9)\n",
      "* These are the edges attributes: Index(['subject_id', 'object_id', 'property_id', 'property_label',\n",
      "       'property_description', 'property_uri', 'reference_uri',\n",
      "       'reference_supporting_text', 'reference_date'],\n",
      "      dtype='object')\n",
      "* This is the first record:\n",
      "  subject_id  object_id property_id  property_label property_description  \\\n",
      "0  HGNC:8615  HGNC:8803  RO:0002434  interacts with                   NA   \n",
      "\n",
      "                                property_uri  \\\n",
      "0  http://purl.obolibrary.org/obo/RO_0002434   \n",
      "\n",
      "                                  reference_uri  \\\n",
      "0  https://www.ncbi.nlm.nih.gov/pubmed/17202159   \n",
      "\n",
      "                           reference_supporting_text reference_date  \n",
      "0  This edge comes from the TRED dataset in \"tfta...     2007-01-01  \n",
      "\n",
      "The regulation network edges are built and saved at: /home/karolis/LUMC/HDSR/bioknowledge-reviewer/bioknowledge_reviewer/graph/regulation_edges_v2022-07-27.csv\n",
      "\n",
      "\n",
      "Finished build_edges().\n",
      "\n",
      "\n",
      "The function \"build_nodes()\" is running...\n",
      "\n",
      "* Total number of nodes: 16969\n",
      "\n",
      "* Trap genes without gene symbol, i.e. genes with discontinued entrez ID...\n",
      "* Number of concepts without gene symbol: 148\n",
      "* Check that all genes without gene symbol are identified by entrez ID...\n",
      "* Number of concepts without gene symbol by namespace:  NCBIGene    148\n",
      "Name: id, dtype: int64\n",
      "\n",
      "* Querying BioThings to map retired Entrez to gene symbols...\n",
      "querying 1-148...done.\n",
      "Finished.\n",
      "90 input query terms found no hit:\n",
      "\t['79907', '79911', '93333', '121301', '143902', '146856', '151720', '197379', '219392', '221943', '2\n",
      "Pass \"returnall=True\" to return complete lists of duplicate or missing query terms.\n",
      "\n",
      "* Querying BioThings to retrieve node attributes...\n",
      "querying 1-1000...done.\n",
      "querying 1001-2000...done.\n",
      "querying 2001-3000...done.\n",
      "querying 3001-4000...done.\n",
      "querying 4001-5000...done.\n",
      "querying 5001-6000...done.\n",
      "querying 6001-7000...done.\n",
      "querying 7001-8000...done.\n",
      "querying 8001-9000...done.\n",
      "querying 9001-10000...done.\n",
      "querying 10001-11000...done.\n",
      "querying 11001-12000...done.\n",
      "querying 12001-13000...done.\n",
      "querying 13001-14000...done.\n",
      "querying 14001-15000...done.\n",
      "querying 15001-16000...done.\n",
      "querying 16001-16841...done.\n",
      "Finished.\n",
      "49 input query terms found no hit:\n",
      "\t['RORA1', 'CEBPGAMMA', 'TCF11MAFG', 'TAL1BETAITF2', 'E2F1DP1', 'MYOGNF1', 'NFKAPPAB65', 'NFMUE1', 'C\n",
      "Pass \"returnall=True\" to return complete lists of duplicate or missing query terms.\n",
      "\n",
      "* This is the size of the nodes file data structure: (16969, 6)\n",
      "* These are the nodes attributes: Index(['id', 'semantic_groups', 'preflabel', 'name', 'synonyms',\n",
      "       'description'],\n",
      "      dtype='object')\n",
      "* This is the first record:\n",
      "          id semantic_groups preflabel          name    synonyms  \\\n",
      "0  HGNC:8615            GENE      PAX1  paired box 1  HUP48|OFC2   \n",
      "\n",
      "                                         description  \n",
      "0  This gene is a member of the paired box (PAX) ...  \n",
      "\n",
      "The regulation network nodes are built and saved at: /home/karolis/LUMC/HDSR/bioknowledge-reviewer/bioknowledge_reviewer/graph/regulation_nodes_v2022-07-27.csv\n",
      "\n",
      "\n",
      "Finished build_nodes().\n",
      "\n",
      "CPU times: user 48.5 s, sys: 220 ms, total: 48.7 s\n",
      "Wall time: 2min 32s\n"
     ]
    }
   ],
   "source": [
    "%%time\n",
    "# regulation:\n",
    "gmt_path = './regulation/msigdb/data/c3.tft.v6.1.entrez.gmt'\n",
    "regulation.prepare_msigdb_data(gmt_path)\n",
    "\n",
    "# prepare individual networks\n",
    "data = regulation.load_tf_gene_edges()\n",
    "dicts = regulation.get_gene_id_normalization_dictionaries(data)\n",
    "data_edges = regulation.prepare_data_edges(data, dicts)\n",
    "\n",
    "# prepare regulation network\n",
    "reg_network = regulation.prepare_regulation_edges(data_edges)\n",
    "\n",
    "# build network with graph schema\n",
    "reg_edges = regulation.build_edges(reg_network)\n",
    "reg_nodes = regulation.build_nodes(reg_network)"
   ]
  },
  {
   "cell_type": "markdown",
   "metadata": {},
   "source": [
    "# Construct the Monarch subgraph.\n",
    "\n",
    "This takes a very long time!\n",
    "\n",
    "If you have a file ready, better use the next cell!"
   ]
  },
  {
   "cell_type": "code",
   "execution_count": 5,
   "metadata": {
    "scrolled": true
   },
   "outputs": [
    {
     "name": "stderr",
     "output_type": "stream",
     "text": [
      "\r",
      "  0%|          | 0/4 [00:00<?, ?it/s]"
     ]
    },
    {
     "name": "stdout",
     "output_type": "stream",
     "text": [
      "\n",
      "The function \"get_neighbours_list()\" is running. Its runtime may take some minutes. If you interrupt the process, you will lose all the nodes retrieved and you should start over the execution of this function.\n"
     ]
    },
    {
     "name": "stderr",
     "output_type": "stream",
     "text": [
      "100%|██████████| 4/4 [00:19<00:00,  4.85s/it]\n",
      "  0%|          | 0/4 [00:00<?, ?it/s]"
     ]
    },
    {
     "name": "stdout",
     "output_type": "stream",
     "text": [
      "\n",
      "Finished get_neighbours_list().\n",
      "\n",
      "Nodes 1st degree neighbours:\n",
      "1034\n",
      "\n",
      "The function \"get_orthopheno_list()\" is running. Its runtime may take some hours. If you interrupt the process, you will lose all the nodes retrieved and you should start over the execution of this function.\n"
     ]
    },
    {
     "name": "stderr",
     "output_type": "stream",
     "text": [
      "100%|██████████| 4/4 [00:15<00:00,  3.91s/it]\n",
      "100%|██████████| 16/16 [00:33<00:00,  2.11s/it]\n",
      "  0%|          | 0/1034 [00:00<?, ?it/s]"
     ]
    },
    {
     "name": "stdout",
     "output_type": "stream",
     "text": [
      "\n",
      "Finished get_orthopheno_list().\n",
      "\n",
      "219\n",
      "\n",
      "The function \"get_orthopheno_list()\" is running. Its runtime may take some hours. If you interrupt the process, you will lose all the nodes retrieved and you should start over the execution of this function.\n"
     ]
    },
    {
     "name": "stderr",
     "output_type": "stream",
     "text": [
      "100%|██████████| 1034/1034 [1:01:01<00:00,  3.54s/it]\n",
      "100%|██████████| 6845/6845 [3:48:29<00:00,  2.00s/it]  \n",
      "  0%|          | 0/13395 [00:00<?, ?it/s]"
     ]
    },
    {
     "name": "stdout",
     "output_type": "stream",
     "text": [
      "\n",
      "Finished get_orthopheno_list().\n",
      "\n",
      "12384\n",
      "\n",
      "The function \"extract_edges()\" is running. Its runtime may take some hours. If you interrupt the process, you will lose all the edges retrieved and you should start over the execution of this function.\n"
     ]
    },
    {
     "name": "stderr",
     "output_type": "stream",
     "text": [
      "  0%|          | 20/13395 [00:43<6:46:58,  1.83s/it] "
     ]
    },
    {
     "name": "stdout",
     "output_type": "stream",
     "text": [
      "Saving intermediary results in temp_keep and temp_finished, set rerun=True to restart api query from latest backup.\n"
     ]
    },
    {
     "name": "stderr",
     "output_type": "stream",
     "text": [
      "  0%|          | 40/13395 [02:13<15:33:06,  4.19s/it]"
     ]
    },
    {
     "name": "stdout",
     "output_type": "stream",
     "text": [
      "Saving intermediary results in temp_keep and temp_finished, set rerun=True to restart api query from latest backup.\n"
     ]
    },
    {
     "name": "stderr",
     "output_type": "stream",
     "text": [
      "  0%|          | 60/13395 [03:12<12:24:16,  3.35s/it]"
     ]
    },
    {
     "name": "stdout",
     "output_type": "stream",
     "text": [
      "Saving intermediary results in temp_keep and temp_finished, set rerun=True to restart api query from latest backup.\n"
     ]
    },
    {
     "name": "stderr",
     "output_type": "stream",
     "text": [
      "  1%|          | 80/13395 [04:59<30:40:07,  8.29s/it]"
     ]
    },
    {
     "name": "stdout",
     "output_type": "stream",
     "text": [
      "Saving intermediary results in temp_keep and temp_finished, set rerun=True to restart api query from latest backup.\n"
     ]
    },
    {
     "name": "stderr",
     "output_type": "stream",
     "text": [
      "  1%|          | 100/13395 [05:52<5:52:58,  1.59s/it]"
     ]
    },
    {
     "name": "stdout",
     "output_type": "stream",
     "text": [
      "Saving intermediary results in temp_keep and temp_finished, set rerun=True to restart api query from latest backup.\n"
     ]
    },
    {
     "name": "stderr",
     "output_type": "stream",
     "text": [
      "  1%|          | 120/13395 [07:05<21:54:16,  5.94s/it]"
     ]
    },
    {
     "name": "stdout",
     "output_type": "stream",
     "text": [
      "Saving intermediary results in temp_keep and temp_finished, set rerun=True to restart api query from latest backup.\n"
     ]
    },
    {
     "name": "stderr",
     "output_type": "stream",
     "text": [
      "  1%|          | 140/13395 [07:52<7:32:30,  2.05s/it] "
     ]
    },
    {
     "name": "stdout",
     "output_type": "stream",
     "text": [
      "Saving intermediary results in temp_keep and temp_finished, set rerun=True to restart api query from latest backup.\n"
     ]
    },
    {
     "name": "stderr",
     "output_type": "stream",
     "text": [
      "  1%|          | 160/13395 [09:39<9:14:18,  2.51s/it] "
     ]
    },
    {
     "name": "stdout",
     "output_type": "stream",
     "text": [
      "Saving intermediary results in temp_keep and temp_finished, set rerun=True to restart api query from latest backup.\n"
     ]
    },
    {
     "name": "stderr",
     "output_type": "stream",
     "text": [
      "  1%|▏         | 180/13395 [10:37<7:40:05,  2.09s/it] "
     ]
    },
    {
     "name": "stdout",
     "output_type": "stream",
     "text": [
      "Saving intermediary results in temp_keep and temp_finished, set rerun=True to restart api query from latest backup.\n"
     ]
    },
    {
     "name": "stderr",
     "output_type": "stream",
     "text": [
      "  1%|▏         | 200/13395 [11:43<9:01:49,  2.46s/it] "
     ]
    },
    {
     "name": "stdout",
     "output_type": "stream",
     "text": [
      "Saving intermediary results in temp_keep and temp_finished, set rerun=True to restart api query from latest backup.\n"
     ]
    },
    {
     "name": "stderr",
     "output_type": "stream",
     "text": [
      "  2%|▏         | 220/13395 [12:35<8:05:55,  2.21s/it] "
     ]
    },
    {
     "name": "stdout",
     "output_type": "stream",
     "text": [
      "Saving intermediary results in temp_keep and temp_finished, set rerun=True to restart api query from latest backup.\n"
     ]
    },
    {
     "name": "stderr",
     "output_type": "stream",
     "text": [
      "  2%|▏         | 240/13395 [13:33<9:18:34,  2.55s/it] "
     ]
    },
    {
     "name": "stdout",
     "output_type": "stream",
     "text": [
      "Saving intermediary results in temp_keep and temp_finished, set rerun=True to restart api query from latest backup.\n"
     ]
    },
    {
     "name": "stderr",
     "output_type": "stream",
     "text": [
      "  2%|▏         | 260/13395 [14:38<13:03:50,  3.58s/it]"
     ]
    },
    {
     "name": "stdout",
     "output_type": "stream",
     "text": [
      "Saving intermediary results in temp_keep and temp_finished, set rerun=True to restart api query from latest backup.\n"
     ]
    },
    {
     "name": "stderr",
     "output_type": "stream",
     "text": [
      "  2%|▏         | 280/13395 [16:58<13:31:30,  3.71s/it]"
     ]
    },
    {
     "name": "stdout",
     "output_type": "stream",
     "text": [
      "Saving intermediary results in temp_keep and temp_finished, set rerun=True to restart api query from latest backup.\n"
     ]
    },
    {
     "name": "stderr",
     "output_type": "stream",
     "text": [
      "  2%|▏         | 300/13395 [18:14<28:41:44,  7.89s/it]"
     ]
    },
    {
     "name": "stdout",
     "output_type": "stream",
     "text": [
      "Saving intermediary results in temp_keep and temp_finished, set rerun=True to restart api query from latest backup.\n"
     ]
    },
    {
     "name": "stderr",
     "output_type": "stream",
     "text": [
      "  2%|▏         | 320/13395 [19:02<7:34:55,  2.09s/it] "
     ]
    },
    {
     "name": "stdout",
     "output_type": "stream",
     "text": [
      "Saving intermediary results in temp_keep and temp_finished, set rerun=True to restart api query from latest backup.\n"
     ]
    },
    {
     "name": "stderr",
     "output_type": "stream",
     "text": [
      "  3%|▎         | 340/13395 [19:45<10:07:31,  2.79s/it]"
     ]
    },
    {
     "name": "stdout",
     "output_type": "stream",
     "text": [
      "Saving intermediary results in temp_keep and temp_finished, set rerun=True to restart api query from latest backup.\n"
     ]
    },
    {
     "name": "stderr",
     "output_type": "stream",
     "text": [
      "  3%|▎         | 360/13395 [21:02<24:42:00,  6.82s/it]"
     ]
    },
    {
     "name": "stdout",
     "output_type": "stream",
     "text": [
      "Saving intermediary results in temp_keep and temp_finished, set rerun=True to restart api query from latest backup.\n"
     ]
    },
    {
     "name": "stderr",
     "output_type": "stream",
     "text": [
      "  3%|▎         | 380/13395 [21:59<13:52:43,  3.84s/it]"
     ]
    },
    {
     "name": "stdout",
     "output_type": "stream",
     "text": [
      "Saving intermediary results in temp_keep and temp_finished, set rerun=True to restart api query from latest backup.\n"
     ]
    },
    {
     "name": "stderr",
     "output_type": "stream",
     "text": [
      "  3%|▎         | 400/13395 [23:23<12:53:04,  3.57s/it]"
     ]
    },
    {
     "name": "stdout",
     "output_type": "stream",
     "text": [
      "Saving intermediary results in temp_keep and temp_finished, set rerun=True to restart api query from latest backup.\n"
     ]
    },
    {
     "name": "stderr",
     "output_type": "stream",
     "text": [
      "  3%|▎         | 420/13395 [24:07<6:56:35,  1.93s/it] "
     ]
    },
    {
     "name": "stdout",
     "output_type": "stream",
     "text": [
      "Saving intermediary results in temp_keep and temp_finished, set rerun=True to restart api query from latest backup.\n"
     ]
    },
    {
     "name": "stderr",
     "output_type": "stream",
     "text": [
      "  3%|▎         | 440/13395 [25:06<8:22:37,  2.33s/it] "
     ]
    },
    {
     "name": "stdout",
     "output_type": "stream",
     "text": [
      "Saving intermediary results in temp_keep and temp_finished, set rerun=True to restart api query from latest backup.\n"
     ]
    },
    {
     "name": "stderr",
     "output_type": "stream",
     "text": [
      "  3%|▎         | 460/13395 [26:10<13:26:43,  3.74s/it]"
     ]
    },
    {
     "name": "stdout",
     "output_type": "stream",
     "text": [
      "Saving intermediary results in temp_keep and temp_finished, set rerun=True to restart api query from latest backup.\n"
     ]
    },
    {
     "name": "stderr",
     "output_type": "stream",
     "text": [
      "  4%|▎         | 480/13395 [27:08<7:48:34,  2.18s/it] "
     ]
    },
    {
     "name": "stdout",
     "output_type": "stream",
     "text": [
      "Saving intermediary results in temp_keep and temp_finished, set rerun=True to restart api query from latest backup.\n"
     ]
    },
    {
     "name": "stderr",
     "output_type": "stream",
     "text": [
      "  4%|▎         | 500/13395 [27:59<8:18:40,  2.32s/it] "
     ]
    },
    {
     "name": "stdout",
     "output_type": "stream",
     "text": [
      "Saving intermediary results in temp_keep and temp_finished, set rerun=True to restart api query from latest backup.\n"
     ]
    },
    {
     "name": "stderr",
     "output_type": "stream",
     "text": [
      "  4%|▍         | 520/13395 [28:40<6:21:43,  1.78s/it] "
     ]
    },
    {
     "name": "stdout",
     "output_type": "stream",
     "text": [
      "Saving intermediary results in temp_keep and temp_finished, set rerun=True to restart api query from latest backup.\n"
     ]
    },
    {
     "name": "stderr",
     "output_type": "stream",
     "text": [
      "  4%|▍         | 540/13395 [30:18<34:08:58,  9.56s/it]"
     ]
    },
    {
     "name": "stdout",
     "output_type": "stream",
     "text": [
      "Saving intermediary results in temp_keep and temp_finished, set rerun=True to restart api query from latest backup.\n"
     ]
    },
    {
     "name": "stderr",
     "output_type": "stream",
     "text": [
      "  4%|▍         | 560/13395 [30:58<8:07:37,  2.28s/it] "
     ]
    },
    {
     "name": "stdout",
     "output_type": "stream",
     "text": [
      "Saving intermediary results in temp_keep and temp_finished, set rerun=True to restart api query from latest backup.\n"
     ]
    },
    {
     "name": "stderr",
     "output_type": "stream",
     "text": [
      "  4%|▍         | 580/13395 [31:55<6:27:54,  1.82s/it] "
     ]
    },
    {
     "name": "stdout",
     "output_type": "stream",
     "text": [
      "Saving intermediary results in temp_keep and temp_finished, set rerun=True to restart api query from latest backup.\n"
     ]
    },
    {
     "name": "stderr",
     "output_type": "stream",
     "text": [
      "  4%|▍         | 600/13395 [32:54<6:51:29,  1.93s/it] "
     ]
    },
    {
     "name": "stdout",
     "output_type": "stream",
     "text": [
      "Saving intermediary results in temp_keep and temp_finished, set rerun=True to restart api query from latest backup.\n"
     ]
    },
    {
     "name": "stderr",
     "output_type": "stream",
     "text": [
      "  5%|▍         | 620/13395 [33:59<9:05:43,  2.56s/it] "
     ]
    },
    {
     "name": "stdout",
     "output_type": "stream",
     "text": [
      "Saving intermediary results in temp_keep and temp_finished, set rerun=True to restart api query from latest backup.\n"
     ]
    },
    {
     "name": "stderr",
     "output_type": "stream",
     "text": [
      "  5%|▍         | 640/13395 [35:44<21:59:25,  6.21s/it]"
     ]
    },
    {
     "name": "stdout",
     "output_type": "stream",
     "text": [
      "Saving intermediary results in temp_keep and temp_finished, set rerun=True to restart api query from latest backup.\n"
     ]
    },
    {
     "name": "stderr",
     "output_type": "stream",
     "text": [
      "  5%|▍         | 660/13395 [37:00<8:52:00,  2.51s/it] "
     ]
    },
    {
     "name": "stdout",
     "output_type": "stream",
     "text": [
      "Saving intermediary results in temp_keep and temp_finished, set rerun=True to restart api query from latest backup.\n"
     ]
    },
    {
     "name": "stderr",
     "output_type": "stream",
     "text": [
      "  5%|▌         | 680/13395 [37:43<8:32:09,  2.42s/it] "
     ]
    },
    {
     "name": "stdout",
     "output_type": "stream",
     "text": [
      "Saving intermediary results in temp_keep and temp_finished, set rerun=True to restart api query from latest backup.\n"
     ]
    },
    {
     "name": "stderr",
     "output_type": "stream",
     "text": [
      "  5%|▌         | 700/13395 [39:27<10:06:17,  2.87s/it]"
     ]
    },
    {
     "name": "stdout",
     "output_type": "stream",
     "text": [
      "Saving intermediary results in temp_keep and temp_finished, set rerun=True to restart api query from latest backup.\n"
     ]
    },
    {
     "name": "stderr",
     "output_type": "stream",
     "text": [
      "  5%|▌         | 720/13395 [41:56<15:55:25,  4.52s/it]"
     ]
    },
    {
     "name": "stdout",
     "output_type": "stream",
     "text": [
      "Saving intermediary results in temp_keep and temp_finished, set rerun=True to restart api query from latest backup.\n"
     ]
    },
    {
     "name": "stderr",
     "output_type": "stream",
     "text": [
      "  6%|▌         | 740/13395 [42:51<5:47:36,  1.65s/it] "
     ]
    },
    {
     "name": "stdout",
     "output_type": "stream",
     "text": [
      "Saving intermediary results in temp_keep and temp_finished, set rerun=True to restart api query from latest backup.\n"
     ]
    },
    {
     "name": "stderr",
     "output_type": "stream",
     "text": [
      "  6%|▌         | 760/13395 [44:01<15:30:48,  4.42s/it]"
     ]
    },
    {
     "name": "stdout",
     "output_type": "stream",
     "text": [
      "Saving intermediary results in temp_keep and temp_finished, set rerun=True to restart api query from latest backup.\n"
     ]
    },
    {
     "name": "stderr",
     "output_type": "stream",
     "text": [
      "  6%|▌         | 780/13395 [44:47<7:14:25,  2.07s/it] "
     ]
    },
    {
     "name": "stdout",
     "output_type": "stream",
     "text": [
      "Saving intermediary results in temp_keep and temp_finished, set rerun=True to restart api query from latest backup.\n"
     ]
    },
    {
     "name": "stderr",
     "output_type": "stream",
     "text": [
      "  6%|▌         | 800/13395 [46:21<6:50:43,  1.96s/it] "
     ]
    },
    {
     "name": "stdout",
     "output_type": "stream",
     "text": [
      "Saving intermediary results in temp_keep and temp_finished, set rerun=True to restart api query from latest backup.\n"
     ]
    },
    {
     "name": "stderr",
     "output_type": "stream",
     "text": [
      "  6%|▌         | 820/13395 [47:09<7:16:29,  2.08s/it] "
     ]
    },
    {
     "name": "stdout",
     "output_type": "stream",
     "text": [
      "Saving intermediary results in temp_keep and temp_finished, set rerun=True to restart api query from latest backup.\n"
     ]
    },
    {
     "name": "stderr",
     "output_type": "stream",
     "text": [
      "  6%|▋         | 840/13395 [47:48<5:38:20,  1.62s/it] "
     ]
    },
    {
     "name": "stdout",
     "output_type": "stream",
     "text": [
      "Saving intermediary results in temp_keep and temp_finished, set rerun=True to restart api query from latest backup.\n"
     ]
    },
    {
     "name": "stderr",
     "output_type": "stream",
     "text": [
      "  6%|▋         | 860/13395 [48:44<9:04:18,  2.61s/it] "
     ]
    },
    {
     "name": "stdout",
     "output_type": "stream",
     "text": [
      "Saving intermediary results in temp_keep and temp_finished, set rerun=True to restart api query from latest backup.\n"
     ]
    },
    {
     "name": "stderr",
     "output_type": "stream",
     "text": [
      "  7%|▋         | 880/13395 [49:33<7:06:12,  2.04s/it] "
     ]
    },
    {
     "name": "stdout",
     "output_type": "stream",
     "text": [
      "Saving intermediary results in temp_keep and temp_finished, set rerun=True to restart api query from latest backup.\n"
     ]
    },
    {
     "name": "stderr",
     "output_type": "stream",
     "text": [
      "  7%|▋         | 900/13395 [50:24<7:19:06,  2.11s/it] "
     ]
    },
    {
     "name": "stdout",
     "output_type": "stream",
     "text": [
      "Saving intermediary results in temp_keep and temp_finished, set rerun=True to restart api query from latest backup.\n"
     ]
    },
    {
     "name": "stderr",
     "output_type": "stream",
     "text": [
      "  7%|▋         | 920/13395 [51:52<8:54:00,  2.57s/it] "
     ]
    },
    {
     "name": "stdout",
     "output_type": "stream",
     "text": [
      "Saving intermediary results in temp_keep and temp_finished, set rerun=True to restart api query from latest backup.\n"
     ]
    },
    {
     "name": "stderr",
     "output_type": "stream",
     "text": [
      "  7%|▋         | 940/13395 [52:47<9:28:14,  2.74s/it] "
     ]
    },
    {
     "name": "stdout",
     "output_type": "stream",
     "text": [
      "Saving intermediary results in temp_keep and temp_finished, set rerun=True to restart api query from latest backup.\n"
     ]
    },
    {
     "name": "stderr",
     "output_type": "stream",
     "text": [
      "  7%|▋         | 960/13395 [53:34<5:39:00,  1.64s/it] "
     ]
    },
    {
     "name": "stdout",
     "output_type": "stream",
     "text": [
      "Saving intermediary results in temp_keep and temp_finished, set rerun=True to restart api query from latest backup.\n"
     ]
    },
    {
     "name": "stderr",
     "output_type": "stream",
     "text": [
      "  7%|▋         | 980/13395 [54:26<11:08:14,  3.23s/it]"
     ]
    },
    {
     "name": "stdout",
     "output_type": "stream",
     "text": [
      "Saving intermediary results in temp_keep and temp_finished, set rerun=True to restart api query from latest backup.\n"
     ]
    },
    {
     "name": "stderr",
     "output_type": "stream",
     "text": [
      "  7%|▋         | 1000/13395 [55:09<6:58:59,  2.03s/it]"
     ]
    },
    {
     "name": "stdout",
     "output_type": "stream",
     "text": [
      "Saving intermediary results in temp_keep and temp_finished, set rerun=True to restart api query from latest backup.\n"
     ]
    },
    {
     "name": "stderr",
     "output_type": "stream",
     "text": [
      "  8%|▊         | 1020/13395 [55:58<6:20:51,  1.85s/it] "
     ]
    },
    {
     "name": "stdout",
     "output_type": "stream",
     "text": [
      "Saving intermediary results in temp_keep and temp_finished, set rerun=True to restart api query from latest backup.\n"
     ]
    },
    {
     "name": "stderr",
     "output_type": "stream",
     "text": [
      "  8%|▊         | 1040/13395 [57:23<16:35:08,  4.83s/it]"
     ]
    },
    {
     "name": "stdout",
     "output_type": "stream",
     "text": [
      "Saving intermediary results in temp_keep and temp_finished, set rerun=True to restart api query from latest backup.\n"
     ]
    },
    {
     "name": "stderr",
     "output_type": "stream",
     "text": [
      "  8%|▊         | 1060/13395 [58:34<7:00:42,  2.05s/it] "
     ]
    },
    {
     "name": "stdout",
     "output_type": "stream",
     "text": [
      "Saving intermediary results in temp_keep and temp_finished, set rerun=True to restart api query from latest backup.\n"
     ]
    },
    {
     "name": "stderr",
     "output_type": "stream",
     "text": [
      "  8%|▊         | 1080/13395 [59:31<10:44:59,  3.14s/it]"
     ]
    },
    {
     "name": "stdout",
     "output_type": "stream",
     "text": [
      "Saving intermediary results in temp_keep and temp_finished, set rerun=True to restart api query from latest backup.\n"
     ]
    },
    {
     "name": "stderr",
     "output_type": "stream",
     "text": [
      "  8%|▊         | 1100/13395 [1:00:20<10:16:38,  3.01s/it]"
     ]
    },
    {
     "name": "stdout",
     "output_type": "stream",
     "text": [
      "Saving intermediary results in temp_keep and temp_finished, set rerun=True to restart api query from latest backup.\n"
     ]
    },
    {
     "name": "stderr",
     "output_type": "stream",
     "text": [
      "  8%|▊         | 1120/13395 [1:01:13<6:30:18,  1.91s/it] "
     ]
    },
    {
     "name": "stdout",
     "output_type": "stream",
     "text": [
      "Saving intermediary results in temp_keep and temp_finished, set rerun=True to restart api query from latest backup.\n"
     ]
    },
    {
     "name": "stderr",
     "output_type": "stream",
     "text": [
      "  9%|▊         | 1140/13395 [1:02:23<12:03:12,  3.54s/it]"
     ]
    },
    {
     "name": "stdout",
     "output_type": "stream",
     "text": [
      "Saving intermediary results in temp_keep and temp_finished, set rerun=True to restart api query from latest backup.\n"
     ]
    },
    {
     "name": "stderr",
     "output_type": "stream",
     "text": [
      "  9%|▊         | 1160/13395 [1:03:04<7:50:51,  2.31s/it] "
     ]
    },
    {
     "name": "stdout",
     "output_type": "stream",
     "text": [
      "Saving intermediary results in temp_keep and temp_finished, set rerun=True to restart api query from latest backup.\n"
     ]
    },
    {
     "name": "stderr",
     "output_type": "stream",
     "text": [
      "  9%|▉         | 1180/13395 [1:04:01<9:52:51,  2.91s/it] "
     ]
    },
    {
     "name": "stdout",
     "output_type": "stream",
     "text": [
      "Saving intermediary results in temp_keep and temp_finished, set rerun=True to restart api query from latest backup.\n"
     ]
    },
    {
     "name": "stderr",
     "output_type": "stream",
     "text": [
      "  9%|▉         | 1200/13395 [1:04:46<4:55:22,  1.45s/it] "
     ]
    },
    {
     "name": "stdout",
     "output_type": "stream",
     "text": [
      "Saving intermediary results in temp_keep and temp_finished, set rerun=True to restart api query from latest backup.\n"
     ]
    },
    {
     "name": "stderr",
     "output_type": "stream",
     "text": [
      "  9%|▉         | 1220/13395 [1:05:46<8:31:18,  2.52s/it] "
     ]
    },
    {
     "name": "stdout",
     "output_type": "stream",
     "text": [
      "Saving intermediary results in temp_keep and temp_finished, set rerun=True to restart api query from latest backup.\n"
     ]
    },
    {
     "name": "stderr",
     "output_type": "stream",
     "text": [
      "  9%|▉         | 1240/13395 [1:06:36<10:11:11,  3.02s/it]"
     ]
    },
    {
     "name": "stdout",
     "output_type": "stream",
     "text": [
      "Saving intermediary results in temp_keep and temp_finished, set rerun=True to restart api query from latest backup.\n"
     ]
    },
    {
     "name": "stderr",
     "output_type": "stream",
     "text": [
      "  9%|▉         | 1260/13395 [1:07:26<11:10:48,  3.32s/it]"
     ]
    },
    {
     "name": "stdout",
     "output_type": "stream",
     "text": [
      "Saving intermediary results in temp_keep and temp_finished, set rerun=True to restart api query from latest backup.\n"
     ]
    },
    {
     "name": "stderr",
     "output_type": "stream",
     "text": [
      " 10%|▉         | 1280/13395 [1:08:14<9:11:11,  2.73s/it] "
     ]
    },
    {
     "name": "stdout",
     "output_type": "stream",
     "text": [
      "Saving intermediary results in temp_keep and temp_finished, set rerun=True to restart api query from latest backup.\n"
     ]
    },
    {
     "name": "stderr",
     "output_type": "stream",
     "text": [
      " 10%|▉         | 1300/13395 [1:09:01<11:41:52,  3.48s/it]"
     ]
    },
    {
     "name": "stdout",
     "output_type": "stream",
     "text": [
      "Saving intermediary results in temp_keep and temp_finished, set rerun=True to restart api query from latest backup.\n"
     ]
    },
    {
     "name": "stderr",
     "output_type": "stream",
     "text": [
      " 10%|▉         | 1320/13395 [1:10:53<47:12:14, 14.07s/it]"
     ]
    },
    {
     "name": "stdout",
     "output_type": "stream",
     "text": [
      "Saving intermediary results in temp_keep and temp_finished, set rerun=True to restart api query from latest backup.\n"
     ]
    },
    {
     "name": "stderr",
     "output_type": "stream",
     "text": [
      " 10%|█         | 1340/13395 [1:12:11<9:48:48,  2.93s/it] "
     ]
    },
    {
     "name": "stdout",
     "output_type": "stream",
     "text": [
      "Saving intermediary results in temp_keep and temp_finished, set rerun=True to restart api query from latest backup.\n"
     ]
    },
    {
     "name": "stderr",
     "output_type": "stream",
     "text": [
      " 10%|█         | 1360/13395 [1:13:19<8:57:30,  2.68s/it] "
     ]
    },
    {
     "name": "stdout",
     "output_type": "stream",
     "text": [
      "Saving intermediary results in temp_keep and temp_finished, set rerun=True to restart api query from latest backup.\n"
     ]
    },
    {
     "name": "stderr",
     "output_type": "stream",
     "text": [
      " 10%|█         | 1380/13395 [1:14:36<11:03:05,  3.31s/it]"
     ]
    },
    {
     "name": "stdout",
     "output_type": "stream",
     "text": [
      "Saving intermediary results in temp_keep and temp_finished, set rerun=True to restart api query from latest backup.\n"
     ]
    },
    {
     "name": "stderr",
     "output_type": "stream",
     "text": [
      " 10%|█         | 1400/13395 [1:15:25<13:05:25,  3.93s/it]"
     ]
    },
    {
     "name": "stdout",
     "output_type": "stream",
     "text": [
      "Saving intermediary results in temp_keep and temp_finished, set rerun=True to restart api query from latest backup.\n"
     ]
    },
    {
     "name": "stderr",
     "output_type": "stream",
     "text": [
      " 11%|█         | 1420/13395 [1:16:57<31:03:45,  9.34s/it]"
     ]
    },
    {
     "name": "stdout",
     "output_type": "stream",
     "text": [
      "Saving intermediary results in temp_keep and temp_finished, set rerun=True to restart api query from latest backup.\n"
     ]
    },
    {
     "name": "stderr",
     "output_type": "stream",
     "text": [
      " 11%|█         | 1440/13395 [1:17:46<7:26:01,  2.24s/it] "
     ]
    },
    {
     "name": "stdout",
     "output_type": "stream",
     "text": [
      "Saving intermediary results in temp_keep and temp_finished, set rerun=True to restart api query from latest backup.\n"
     ]
    },
    {
     "name": "stderr",
     "output_type": "stream",
     "text": [
      " 11%|█         | 1460/13395 [1:18:39<6:19:55,  1.91s/it] "
     ]
    },
    {
     "name": "stdout",
     "output_type": "stream",
     "text": [
      "Saving intermediary results in temp_keep and temp_finished, set rerun=True to restart api query from latest backup.\n"
     ]
    },
    {
     "name": "stderr",
     "output_type": "stream",
     "text": [
      " 11%|█         | 1480/13395 [1:19:57<9:22:19,  2.83s/it] "
     ]
    },
    {
     "name": "stdout",
     "output_type": "stream",
     "text": [
      "Saving intermediary results in temp_keep and temp_finished, set rerun=True to restart api query from latest backup.\n"
     ]
    },
    {
     "name": "stderr",
     "output_type": "stream",
     "text": [
      " 11%|█         | 1500/13395 [1:20:41<6:46:58,  2.05s/it] "
     ]
    },
    {
     "name": "stdout",
     "output_type": "stream",
     "text": [
      "Saving intermediary results in temp_keep and temp_finished, set rerun=True to restart api query from latest backup.\n"
     ]
    },
    {
     "name": "stderr",
     "output_type": "stream",
     "text": [
      " 11%|█▏        | 1520/13395 [1:21:25<7:54:56,  2.40s/it] "
     ]
    },
    {
     "name": "stdout",
     "output_type": "stream",
     "text": [
      "Saving intermediary results in temp_keep and temp_finished, set rerun=True to restart api query from latest backup.\n"
     ]
    },
    {
     "name": "stderr",
     "output_type": "stream",
     "text": [
      " 11%|█▏        | 1540/13395 [1:22:55<14:08:15,  4.29s/it]"
     ]
    },
    {
     "name": "stdout",
     "output_type": "stream",
     "text": [
      "Saving intermediary results in temp_keep and temp_finished, set rerun=True to restart api query from latest backup.\n"
     ]
    },
    {
     "name": "stderr",
     "output_type": "stream",
     "text": [
      " 12%|█▏        | 1560/13395 [1:24:00<10:05:06,  3.07s/it]"
     ]
    },
    {
     "name": "stdout",
     "output_type": "stream",
     "text": [
      "Saving intermediary results in temp_keep and temp_finished, set rerun=True to restart api query from latest backup.\n"
     ]
    },
    {
     "name": "stderr",
     "output_type": "stream",
     "text": [
      " 12%|█▏        | 1580/13395 [1:24:58<10:15:35,  3.13s/it]"
     ]
    },
    {
     "name": "stdout",
     "output_type": "stream",
     "text": [
      "Saving intermediary results in temp_keep and temp_finished, set rerun=True to restart api query from latest backup.\n"
     ]
    },
    {
     "name": "stderr",
     "output_type": "stream",
     "text": [
      " 12%|█▏        | 1600/13395 [1:26:16<9:57:33,  3.04s/it] "
     ]
    },
    {
     "name": "stdout",
     "output_type": "stream",
     "text": [
      "Saving intermediary results in temp_keep and temp_finished, set rerun=True to restart api query from latest backup.\n"
     ]
    },
    {
     "name": "stderr",
     "output_type": "stream",
     "text": [
      " 12%|█▏        | 1620/13395 [1:27:13<7:41:45,  2.35s/it] "
     ]
    },
    {
     "name": "stdout",
     "output_type": "stream",
     "text": [
      "Saving intermediary results in temp_keep and temp_finished, set rerun=True to restart api query from latest backup.\n"
     ]
    },
    {
     "name": "stderr",
     "output_type": "stream",
     "text": [
      " 12%|█▏        | 1640/13395 [1:28:45<24:10:48,  7.41s/it]"
     ]
    },
    {
     "name": "stdout",
     "output_type": "stream",
     "text": [
      "Saving intermediary results in temp_keep and temp_finished, set rerun=True to restart api query from latest backup.\n"
     ]
    },
    {
     "name": "stderr",
     "output_type": "stream",
     "text": [
      " 12%|█▏        | 1660/13395 [1:31:05<10:31:19,  3.23s/it] "
     ]
    },
    {
     "name": "stdout",
     "output_type": "stream",
     "text": [
      "Saving intermediary results in temp_keep and temp_finished, set rerun=True to restart api query from latest backup.\n"
     ]
    },
    {
     "name": "stderr",
     "output_type": "stream",
     "text": [
      " 13%|█▎        | 1680/13395 [1:31:59<10:03:51,  3.09s/it]"
     ]
    },
    {
     "name": "stdout",
     "output_type": "stream",
     "text": [
      "Saving intermediary results in temp_keep and temp_finished, set rerun=True to restart api query from latest backup.\n"
     ]
    },
    {
     "name": "stderr",
     "output_type": "stream",
     "text": [
      " 13%|█▎        | 1700/13395 [1:33:25<8:11:43,  2.52s/it] "
     ]
    },
    {
     "name": "stdout",
     "output_type": "stream",
     "text": [
      "Saving intermediary results in temp_keep and temp_finished, set rerun=True to restart api query from latest backup.\n"
     ]
    },
    {
     "name": "stderr",
     "output_type": "stream",
     "text": [
      " 13%|█▎        | 1720/13395 [1:34:35<9:35:49,  2.96s/it] "
     ]
    },
    {
     "name": "stdout",
     "output_type": "stream",
     "text": [
      "Saving intermediary results in temp_keep and temp_finished, set rerun=True to restart api query from latest backup.\n"
     ]
    },
    {
     "name": "stderr",
     "output_type": "stream",
     "text": [
      " 13%|█▎        | 1740/13395 [1:35:52<10:24:38,  3.22s/it]"
     ]
    },
    {
     "name": "stdout",
     "output_type": "stream",
     "text": [
      "Saving intermediary results in temp_keep and temp_finished, set rerun=True to restart api query from latest backup.\n"
     ]
    },
    {
     "name": "stderr",
     "output_type": "stream",
     "text": [
      " 13%|█▎        | 1760/13395 [1:37:07<9:11:25,  2.84s/it] "
     ]
    },
    {
     "name": "stdout",
     "output_type": "stream",
     "text": [
      "Saving intermediary results in temp_keep and temp_finished, set rerun=True to restart api query from latest backup.\n"
     ]
    },
    {
     "name": "stderr",
     "output_type": "stream",
     "text": [
      " 13%|█▎        | 1780/13395 [1:38:30<21:18:25,  6.60s/it]"
     ]
    },
    {
     "name": "stdout",
     "output_type": "stream",
     "text": [
      "Saving intermediary results in temp_keep and temp_finished, set rerun=True to restart api query from latest backup.\n"
     ]
    },
    {
     "name": "stderr",
     "output_type": "stream",
     "text": [
      " 13%|█▎        | 1800/13395 [1:40:47<26:05:00,  8.10s/it]"
     ]
    },
    {
     "name": "stdout",
     "output_type": "stream",
     "text": [
      "Saving intermediary results in temp_keep and temp_finished, set rerun=True to restart api query from latest backup.\n"
     ]
    },
    {
     "name": "stderr",
     "output_type": "stream",
     "text": [
      " 14%|█▎        | 1820/13395 [1:41:48<8:51:06,  2.75s/it] "
     ]
    },
    {
     "name": "stdout",
     "output_type": "stream",
     "text": [
      "Saving intermediary results in temp_keep and temp_finished, set rerun=True to restart api query from latest backup.\n"
     ]
    },
    {
     "name": "stderr",
     "output_type": "stream",
     "text": [
      " 14%|█▎        | 1840/13395 [1:43:42<9:26:30,  2.94s/it] "
     ]
    },
    {
     "name": "stdout",
     "output_type": "stream",
     "text": [
      "Saving intermediary results in temp_keep and temp_finished, set rerun=True to restart api query from latest backup.\n"
     ]
    },
    {
     "name": "stderr",
     "output_type": "stream",
     "text": [
      " 14%|█▍        | 1860/13395 [1:44:47<6:38:59,  2.08s/it] "
     ]
    },
    {
     "name": "stdout",
     "output_type": "stream",
     "text": [
      "Saving intermediary results in temp_keep and temp_finished, set rerun=True to restart api query from latest backup.\n"
     ]
    },
    {
     "name": "stderr",
     "output_type": "stream",
     "text": [
      " 14%|█▍        | 1880/13395 [1:45:43<7:14:53,  2.27s/it] "
     ]
    },
    {
     "name": "stdout",
     "output_type": "stream",
     "text": [
      "Saving intermediary results in temp_keep and temp_finished, set rerun=True to restart api query from latest backup.\n"
     ]
    },
    {
     "name": "stderr",
     "output_type": "stream",
     "text": [
      " 14%|█▍        | 1900/13395 [1:46:37<8:50:54,  2.77s/it] "
     ]
    },
    {
     "name": "stdout",
     "output_type": "stream",
     "text": [
      "Saving intermediary results in temp_keep and temp_finished, set rerun=True to restart api query from latest backup.\n"
     ]
    },
    {
     "name": "stderr",
     "output_type": "stream",
     "text": [
      " 14%|█▍        | 1920/13395 [1:48:28<14:11:34,  4.45s/it]"
     ]
    },
    {
     "name": "stdout",
     "output_type": "stream",
     "text": [
      "Saving intermediary results in temp_keep and temp_finished, set rerun=True to restart api query from latest backup.\n"
     ]
    },
    {
     "name": "stderr",
     "output_type": "stream",
     "text": [
      " 14%|█▍        | 1940/13395 [1:49:15<5:25:07,  1.70s/it] "
     ]
    },
    {
     "name": "stdout",
     "output_type": "stream",
     "text": [
      "Saving intermediary results in temp_keep and temp_finished, set rerun=True to restart api query from latest backup.\n"
     ]
    },
    {
     "name": "stderr",
     "output_type": "stream",
     "text": [
      " 15%|█▍        | 1960/13395 [1:50:22<15:26:39,  4.86s/it]"
     ]
    },
    {
     "name": "stdout",
     "output_type": "stream",
     "text": [
      "Saving intermediary results in temp_keep and temp_finished, set rerun=True to restart api query from latest backup.\n"
     ]
    },
    {
     "name": "stderr",
     "output_type": "stream",
     "text": [
      " 15%|█▍        | 1980/13395 [1:52:07<12:40:35,  4.00s/it]"
     ]
    },
    {
     "name": "stdout",
     "output_type": "stream",
     "text": [
      "Saving intermediary results in temp_keep and temp_finished, set rerun=True to restart api query from latest backup.\n"
     ]
    },
    {
     "name": "stderr",
     "output_type": "stream",
     "text": [
      " 15%|█▍        | 2000/13395 [1:53:12<9:44:20,  3.08s/it] "
     ]
    },
    {
     "name": "stdout",
     "output_type": "stream",
     "text": [
      "Saving intermediary results in temp_keep and temp_finished, set rerun=True to restart api query from latest backup.\n"
     ]
    },
    {
     "name": "stderr",
     "output_type": "stream",
     "text": [
      " 15%|█▌        | 2020/13395 [1:54:26<7:00:58,  2.22s/it] "
     ]
    },
    {
     "name": "stdout",
     "output_type": "stream",
     "text": [
      "Saving intermediary results in temp_keep and temp_finished, set rerun=True to restart api query from latest backup.\n"
     ]
    },
    {
     "name": "stderr",
     "output_type": "stream",
     "text": [
      " 15%|█▌        | 2040/13395 [1:55:43<9:30:04,  3.01s/it] "
     ]
    },
    {
     "name": "stdout",
     "output_type": "stream",
     "text": [
      "Saving intermediary results in temp_keep and temp_finished, set rerun=True to restart api query from latest backup.\n"
     ]
    },
    {
     "name": "stderr",
     "output_type": "stream",
     "text": [
      " 15%|█▌        | 2060/13395 [1:56:32<8:20:55,  2.65s/it] "
     ]
    },
    {
     "name": "stdout",
     "output_type": "stream",
     "text": [
      "Saving intermediary results in temp_keep and temp_finished, set rerun=True to restart api query from latest backup.\n"
     ]
    },
    {
     "name": "stderr",
     "output_type": "stream",
     "text": [
      " 16%|█▌        | 2080/13395 [1:57:27<7:56:43,  2.53s/it] "
     ]
    },
    {
     "name": "stdout",
     "output_type": "stream",
     "text": [
      "Saving intermediary results in temp_keep and temp_finished, set rerun=True to restart api query from latest backup.\n"
     ]
    },
    {
     "name": "stderr",
     "output_type": "stream",
     "text": [
      " 16%|█▌        | 2100/13395 [1:58:21<12:53:01,  4.11s/it]"
     ]
    },
    {
     "name": "stdout",
     "output_type": "stream",
     "text": [
      "Saving intermediary results in temp_keep and temp_finished, set rerun=True to restart api query from latest backup.\n"
     ]
    },
    {
     "name": "stderr",
     "output_type": "stream",
     "text": [
      " 16%|█▌        | 2120/13395 [1:59:05<6:00:33,  1.92s/it] "
     ]
    },
    {
     "name": "stdout",
     "output_type": "stream",
     "text": [
      "Saving intermediary results in temp_keep and temp_finished, set rerun=True to restart api query from latest backup.\n"
     ]
    },
    {
     "name": "stderr",
     "output_type": "stream",
     "text": [
      " 16%|█▌        | 2140/13395 [1:59:55<6:55:05,  2.21s/it] "
     ]
    },
    {
     "name": "stdout",
     "output_type": "stream",
     "text": [
      "Saving intermediary results in temp_keep and temp_finished, set rerun=True to restart api query from latest backup.\n"
     ]
    },
    {
     "name": "stderr",
     "output_type": "stream",
     "text": [
      " 16%|█▌        | 2160/13395 [2:00:59<4:59:26,  1.60s/it] "
     ]
    },
    {
     "name": "stdout",
     "output_type": "stream",
     "text": [
      "Saving intermediary results in temp_keep and temp_finished, set rerun=True to restart api query from latest backup.\n"
     ]
    },
    {
     "name": "stderr",
     "output_type": "stream",
     "text": [
      " 16%|█▋        | 2180/13395 [2:01:48<8:46:38,  2.82s/it] "
     ]
    },
    {
     "name": "stdout",
     "output_type": "stream",
     "text": [
      "Saving intermediary results in temp_keep and temp_finished, set rerun=True to restart api query from latest backup.\n"
     ]
    },
    {
     "name": "stderr",
     "output_type": "stream",
     "text": [
      " 16%|█▋        | 2200/13395 [2:02:41<6:14:58,  2.01s/it] "
     ]
    },
    {
     "name": "stdout",
     "output_type": "stream",
     "text": [
      "Saving intermediary results in temp_keep and temp_finished, set rerun=True to restart api query from latest backup.\n"
     ]
    },
    {
     "name": "stderr",
     "output_type": "stream",
     "text": [
      " 17%|█▋        | 2220/13395 [2:03:46<6:43:32,  2.17s/it] "
     ]
    },
    {
     "name": "stdout",
     "output_type": "stream",
     "text": [
      "Saving intermediary results in temp_keep and temp_finished, set rerun=True to restart api query from latest backup.\n"
     ]
    },
    {
     "name": "stderr",
     "output_type": "stream",
     "text": [
      " 17%|█▋        | 2240/13395 [2:04:37<8:37:19,  2.78s/it] "
     ]
    },
    {
     "name": "stdout",
     "output_type": "stream",
     "text": [
      "Saving intermediary results in temp_keep and temp_finished, set rerun=True to restart api query from latest backup.\n"
     ]
    },
    {
     "name": "stderr",
     "output_type": "stream",
     "text": [
      " 17%|█▋        | 2260/13395 [2:05:22<5:03:41,  1.64s/it] "
     ]
    },
    {
     "name": "stdout",
     "output_type": "stream",
     "text": [
      "Saving intermediary results in temp_keep and temp_finished, set rerun=True to restart api query from latest backup.\n"
     ]
    },
    {
     "name": "stderr",
     "output_type": "stream",
     "text": [
      " 17%|█▋        | 2280/13395 [2:06:28<8:28:15,  2.74s/it] "
     ]
    },
    {
     "name": "stdout",
     "output_type": "stream",
     "text": [
      "Saving intermediary results in temp_keep and temp_finished, set rerun=True to restart api query from latest backup.\n"
     ]
    },
    {
     "name": "stderr",
     "output_type": "stream",
     "text": [
      " 17%|█▋        | 2300/13395 [2:07:44<8:06:33,  2.63s/it] "
     ]
    },
    {
     "name": "stdout",
     "output_type": "stream",
     "text": [
      "Saving intermediary results in temp_keep and temp_finished, set rerun=True to restart api query from latest backup.\n"
     ]
    },
    {
     "name": "stderr",
     "output_type": "stream",
     "text": [
      " 17%|█▋        | 2320/13395 [2:08:32<5:57:34,  1.94s/it] "
     ]
    },
    {
     "name": "stdout",
     "output_type": "stream",
     "text": [
      "Saving intermediary results in temp_keep and temp_finished, set rerun=True to restart api query from latest backup.\n"
     ]
    },
    {
     "name": "stderr",
     "output_type": "stream",
     "text": [
      " 17%|█▋        | 2340/13395 [2:09:21<6:22:59,  2.08s/it] "
     ]
    },
    {
     "name": "stdout",
     "output_type": "stream",
     "text": [
      "Saving intermediary results in temp_keep and temp_finished, set rerun=True to restart api query from latest backup.\n"
     ]
    },
    {
     "name": "stderr",
     "output_type": "stream",
     "text": [
      " 18%|█▊        | 2360/13395 [2:13:07<92:42:55, 30.25s/it]"
     ]
    },
    {
     "name": "stdout",
     "output_type": "stream",
     "text": [
      "Saving intermediary results in temp_keep and temp_finished, set rerun=True to restart api query from latest backup.\n"
     ]
    },
    {
     "name": "stderr",
     "output_type": "stream",
     "text": [
      " 18%|█▊        | 2380/13395 [2:13:54<7:34:28,  2.48s/it] "
     ]
    },
    {
     "name": "stdout",
     "output_type": "stream",
     "text": [
      "Saving intermediary results in temp_keep and temp_finished, set rerun=True to restart api query from latest backup.\n"
     ]
    },
    {
     "name": "stderr",
     "output_type": "stream",
     "text": [
      " 18%|█▊        | 2400/13395 [2:14:43<7:27:53,  2.44s/it]"
     ]
    },
    {
     "name": "stdout",
     "output_type": "stream",
     "text": [
      "Saving intermediary results in temp_keep and temp_finished, set rerun=True to restart api query from latest backup.\n"
     ]
    },
    {
     "name": "stderr",
     "output_type": "stream",
     "text": [
      " 18%|█▊        | 2420/13395 [2:15:31<7:15:54,  2.38s/it]"
     ]
    },
    {
     "name": "stdout",
     "output_type": "stream",
     "text": [
      "Saving intermediary results in temp_keep and temp_finished, set rerun=True to restart api query from latest backup.\n"
     ]
    },
    {
     "name": "stderr",
     "output_type": "stream",
     "text": [
      " 18%|█▊        | 2440/13395 [2:16:42<8:22:03,  2.75s/it] "
     ]
    },
    {
     "name": "stdout",
     "output_type": "stream",
     "text": [
      "Saving intermediary results in temp_keep and temp_finished, set rerun=True to restart api query from latest backup.\n"
     ]
    },
    {
     "name": "stderr",
     "output_type": "stream",
     "text": [
      " 18%|█▊        | 2460/13395 [2:18:23<8:59:43,  2.96s/it] "
     ]
    },
    {
     "name": "stdout",
     "output_type": "stream",
     "text": [
      "Saving intermediary results in temp_keep and temp_finished, set rerun=True to restart api query from latest backup.\n"
     ]
    },
    {
     "name": "stderr",
     "output_type": "stream",
     "text": [
      " 19%|█▊        | 2480/13395 [2:19:22<8:53:38,  2.93s/it] "
     ]
    },
    {
     "name": "stdout",
     "output_type": "stream",
     "text": [
      "Saving intermediary results in temp_keep and temp_finished, set rerun=True to restart api query from latest backup.\n"
     ]
    },
    {
     "name": "stderr",
     "output_type": "stream",
     "text": [
      " 19%|█▊        | 2500/13395 [2:20:18<11:00:10,  3.64s/it]"
     ]
    },
    {
     "name": "stdout",
     "output_type": "stream",
     "text": [
      "Saving intermediary results in temp_keep and temp_finished, set rerun=True to restart api query from latest backup.\n"
     ]
    },
    {
     "name": "stderr",
     "output_type": "stream",
     "text": [
      " 19%|█▉        | 2520/13395 [2:21:07<5:51:13,  1.94s/it] "
     ]
    },
    {
     "name": "stdout",
     "output_type": "stream",
     "text": [
      "Saving intermediary results in temp_keep and temp_finished, set rerun=True to restart api query from latest backup.\n"
     ]
    },
    {
     "name": "stderr",
     "output_type": "stream",
     "text": [
      " 19%|█▉        | 2540/13395 [2:21:52<5:23:19,  1.79s/it] "
     ]
    },
    {
     "name": "stdout",
     "output_type": "stream",
     "text": [
      "Saving intermediary results in temp_keep and temp_finished, set rerun=True to restart api query from latest backup.\n"
     ]
    },
    {
     "name": "stderr",
     "output_type": "stream",
     "text": [
      " 19%|█▉        | 2560/13395 [2:22:51<10:07:06,  3.36s/it]"
     ]
    },
    {
     "name": "stdout",
     "output_type": "stream",
     "text": [
      "Saving intermediary results in temp_keep and temp_finished, set rerun=True to restart api query from latest backup.\n"
     ]
    },
    {
     "name": "stderr",
     "output_type": "stream",
     "text": [
      " 19%|█▉        | 2580/13395 [2:23:48<8:08:54,  2.71s/it] "
     ]
    },
    {
     "name": "stdout",
     "output_type": "stream",
     "text": [
      "Saving intermediary results in temp_keep and temp_finished, set rerun=True to restart api query from latest backup.\n"
     ]
    },
    {
     "name": "stderr",
     "output_type": "stream",
     "text": [
      " 19%|█▉        | 2600/13395 [2:25:11<8:21:22,  2.79s/it] "
     ]
    },
    {
     "name": "stdout",
     "output_type": "stream",
     "text": [
      "Saving intermediary results in temp_keep and temp_finished, set rerun=True to restart api query from latest backup.\n"
     ]
    },
    {
     "name": "stderr",
     "output_type": "stream",
     "text": [
      " 20%|█▉        | 2620/13395 [2:26:02<9:04:29,  3.03s/it] "
     ]
    },
    {
     "name": "stdout",
     "output_type": "stream",
     "text": [
      "Saving intermediary results in temp_keep and temp_finished, set rerun=True to restart api query from latest backup.\n"
     ]
    },
    {
     "name": "stderr",
     "output_type": "stream",
     "text": [
      " 20%|█▉        | 2640/13395 [2:27:00<6:35:20,  2.21s/it] "
     ]
    },
    {
     "name": "stdout",
     "output_type": "stream",
     "text": [
      "Saving intermediary results in temp_keep and temp_finished, set rerun=True to restart api query from latest backup.\n"
     ]
    },
    {
     "name": "stderr",
     "output_type": "stream",
     "text": [
      " 20%|█▉        | 2660/13395 [2:28:18<11:23:31,  3.82s/it]"
     ]
    },
    {
     "name": "stdout",
     "output_type": "stream",
     "text": [
      "Saving intermediary results in temp_keep and temp_finished, set rerun=True to restart api query from latest backup.\n"
     ]
    },
    {
     "name": "stderr",
     "output_type": "stream",
     "text": [
      " 20%|██        | 2680/13395 [2:29:00<4:41:12,  1.57s/it] "
     ]
    },
    {
     "name": "stdout",
     "output_type": "stream",
     "text": [
      "Saving intermediary results in temp_keep and temp_finished, set rerun=True to restart api query from latest backup.\n"
     ]
    },
    {
     "name": "stderr",
     "output_type": "stream",
     "text": [
      " 20%|██        | 2700/13395 [2:29:49<6:48:08,  2.29s/it]"
     ]
    },
    {
     "name": "stdout",
     "output_type": "stream",
     "text": [
      "Saving intermediary results in temp_keep and temp_finished, set rerun=True to restart api query from latest backup.\n"
     ]
    },
    {
     "name": "stderr",
     "output_type": "stream",
     "text": [
      " 20%|██        | 2720/13395 [2:30:44<5:50:46,  1.97s/it] "
     ]
    },
    {
     "name": "stdout",
     "output_type": "stream",
     "text": [
      "Saving intermediary results in temp_keep and temp_finished, set rerun=True to restart api query from latest backup.\n"
     ]
    },
    {
     "name": "stderr",
     "output_type": "stream",
     "text": [
      " 20%|██        | 2740/13395 [2:34:05<43:26:03, 14.68s/it]"
     ]
    },
    {
     "name": "stdout",
     "output_type": "stream",
     "text": [
      "Saving intermediary results in temp_keep and temp_finished, set rerun=True to restart api query from latest backup.\n"
     ]
    },
    {
     "name": "stderr",
     "output_type": "stream",
     "text": [
      " 21%|██        | 2760/13395 [2:36:17<14:22:32,  4.87s/it]"
     ]
    },
    {
     "name": "stdout",
     "output_type": "stream",
     "text": [
      "Saving intermediary results in temp_keep and temp_finished, set rerun=True to restart api query from latest backup.\n"
     ]
    },
    {
     "name": "stderr",
     "output_type": "stream",
     "text": [
      " 21%|██        | 2780/13395 [2:37:14<9:27:22,  3.21s/it] "
     ]
    },
    {
     "name": "stdout",
     "output_type": "stream",
     "text": [
      "Saving intermediary results in temp_keep and temp_finished, set rerun=True to restart api query from latest backup.\n"
     ]
    },
    {
     "name": "stderr",
     "output_type": "stream",
     "text": [
      " 21%|██        | 2800/13395 [2:38:06<4:47:24,  1.63s/it] "
     ]
    },
    {
     "name": "stdout",
     "output_type": "stream",
     "text": [
      "Saving intermediary results in temp_keep and temp_finished, set rerun=True to restart api query from latest backup.\n"
     ]
    },
    {
     "name": "stderr",
     "output_type": "stream",
     "text": [
      " 21%|██        | 2820/13395 [2:39:06<7:25:21,  2.53s/it] "
     ]
    },
    {
     "name": "stdout",
     "output_type": "stream",
     "text": [
      "Saving intermediary results in temp_keep and temp_finished, set rerun=True to restart api query from latest backup.\n"
     ]
    },
    {
     "name": "stderr",
     "output_type": "stream",
     "text": [
      " 21%|██        | 2840/13395 [2:40:04<7:49:46,  2.67s/it] "
     ]
    },
    {
     "name": "stdout",
     "output_type": "stream",
     "text": [
      "Saving intermediary results in temp_keep and temp_finished, set rerun=True to restart api query from latest backup.\n"
     ]
    },
    {
     "name": "stderr",
     "output_type": "stream",
     "text": [
      " 21%|██▏       | 2860/13395 [2:41:27<8:06:34,  2.77s/it] "
     ]
    },
    {
     "name": "stdout",
     "output_type": "stream",
     "text": [
      "Saving intermediary results in temp_keep and temp_finished, set rerun=True to restart api query from latest backup.\n"
     ]
    },
    {
     "name": "stderr",
     "output_type": "stream",
     "text": [
      " 22%|██▏       | 2880/13395 [2:43:00<9:30:59,  3.26s/it] "
     ]
    },
    {
     "name": "stdout",
     "output_type": "stream",
     "text": [
      "Saving intermediary results in temp_keep and temp_finished, set rerun=True to restart api query from latest backup.\n"
     ]
    },
    {
     "name": "stderr",
     "output_type": "stream",
     "text": [
      " 22%|██▏       | 2900/13395 [2:43:57<7:35:20,  2.60s/it] "
     ]
    },
    {
     "name": "stdout",
     "output_type": "stream",
     "text": [
      "Saving intermediary results in temp_keep and temp_finished, set rerun=True to restart api query from latest backup.\n"
     ]
    },
    {
     "name": "stderr",
     "output_type": "stream",
     "text": [
      " 22%|██▏       | 2920/13395 [2:44:50<7:56:05,  2.73s/it] "
     ]
    },
    {
     "name": "stdout",
     "output_type": "stream",
     "text": [
      "Saving intermediary results in temp_keep and temp_finished, set rerun=True to restart api query from latest backup.\n"
     ]
    },
    {
     "name": "stderr",
     "output_type": "stream",
     "text": [
      " 22%|██▏       | 2940/13395 [2:45:51<7:01:29,  2.42s/it] "
     ]
    },
    {
     "name": "stdout",
     "output_type": "stream",
     "text": [
      "Saving intermediary results in temp_keep and temp_finished, set rerun=True to restart api query from latest backup.\n"
     ]
    },
    {
     "name": "stderr",
     "output_type": "stream",
     "text": [
      " 22%|██▏       | 2960/13395 [2:46:46<12:18:44,  4.25s/it]"
     ]
    },
    {
     "name": "stdout",
     "output_type": "stream",
     "text": [
      "Saving intermediary results in temp_keep and temp_finished, set rerun=True to restart api query from latest backup.\n"
     ]
    },
    {
     "name": "stderr",
     "output_type": "stream",
     "text": [
      " 22%|██▏       | 2980/13395 [2:47:53<10:04:47,  3.48s/it]"
     ]
    },
    {
     "name": "stdout",
     "output_type": "stream",
     "text": [
      "Saving intermediary results in temp_keep and temp_finished, set rerun=True to restart api query from latest backup.\n"
     ]
    },
    {
     "name": "stderr",
     "output_type": "stream",
     "text": [
      " 22%|██▏       | 3000/13395 [2:49:02<12:20:49,  4.28s/it]"
     ]
    },
    {
     "name": "stdout",
     "output_type": "stream",
     "text": [
      "Saving intermediary results in temp_keep and temp_finished, set rerun=True to restart api query from latest backup.\n"
     ]
    },
    {
     "name": "stderr",
     "output_type": "stream",
     "text": [
      " 23%|██▎       | 3020/13395 [2:50:35<17:54:59,  6.22s/it]"
     ]
    },
    {
     "name": "stdout",
     "output_type": "stream",
     "text": [
      "Saving intermediary results in temp_keep and temp_finished, set rerun=True to restart api query from latest backup.\n"
     ]
    },
    {
     "name": "stderr",
     "output_type": "stream",
     "text": [
      " 23%|██▎       | 3040/13395 [2:51:19<6:30:09,  2.26s/it] "
     ]
    },
    {
     "name": "stdout",
     "output_type": "stream",
     "text": [
      "Saving intermediary results in temp_keep and temp_finished, set rerun=True to restart api query from latest backup.\n"
     ]
    },
    {
     "name": "stderr",
     "output_type": "stream",
     "text": [
      " 23%|██▎       | 3060/13395 [2:52:22<6:34:25,  2.29s/it] "
     ]
    },
    {
     "name": "stdout",
     "output_type": "stream",
     "text": [
      "Saving intermediary results in temp_keep and temp_finished, set rerun=True to restart api query from latest backup.\n"
     ]
    },
    {
     "name": "stderr",
     "output_type": "stream",
     "text": [
      " 23%|██▎       | 3080/13395 [2:53:10<6:48:04,  2.37s/it] "
     ]
    },
    {
     "name": "stdout",
     "output_type": "stream",
     "text": [
      "Saving intermediary results in temp_keep and temp_finished, set rerun=True to restart api query from latest backup.\n"
     ]
    },
    {
     "name": "stderr",
     "output_type": "stream",
     "text": [
      " 23%|██▎       | 3100/13395 [2:54:58<30:03:08, 10.51s/it]"
     ]
    },
    {
     "name": "stdout",
     "output_type": "stream",
     "text": [
      "Saving intermediary results in temp_keep and temp_finished, set rerun=True to restart api query from latest backup.\n"
     ]
    },
    {
     "name": "stderr",
     "output_type": "stream",
     "text": [
      " 23%|██▎       | 3120/13395 [2:56:10<13:39:45,  4.79s/it]"
     ]
    },
    {
     "name": "stdout",
     "output_type": "stream",
     "text": [
      "Saving intermediary results in temp_keep and temp_finished, set rerun=True to restart api query from latest backup.\n"
     ]
    },
    {
     "name": "stderr",
     "output_type": "stream",
     "text": [
      " 23%|██▎       | 3140/13395 [2:57:05<7:51:07,  2.76s/it] "
     ]
    },
    {
     "name": "stdout",
     "output_type": "stream",
     "text": [
      "Saving intermediary results in temp_keep and temp_finished, set rerun=True to restart api query from latest backup.\n"
     ]
    },
    {
     "name": "stderr",
     "output_type": "stream",
     "text": [
      " 24%|██▎       | 3160/13395 [2:58:35<12:32:04,  4.41s/it]"
     ]
    },
    {
     "name": "stdout",
     "output_type": "stream",
     "text": [
      "Saving intermediary results in temp_keep and temp_finished, set rerun=True to restart api query from latest backup.\n"
     ]
    },
    {
     "name": "stderr",
     "output_type": "stream",
     "text": [
      " 24%|██▎       | 3180/13395 [3:01:00<5:26:03,  1.92s/it] "
     ]
    },
    {
     "name": "stdout",
     "output_type": "stream",
     "text": [
      "Saving intermediary results in temp_keep and temp_finished, set rerun=True to restart api query from latest backup.\n"
     ]
    },
    {
     "name": "stderr",
     "output_type": "stream",
     "text": [
      " 24%|██▍       | 3200/13395 [3:02:12<6:58:45,  2.46s/it] "
     ]
    },
    {
     "name": "stdout",
     "output_type": "stream",
     "text": [
      "Saving intermediary results in temp_keep and temp_finished, set rerun=True to restart api query from latest backup.\n"
     ]
    },
    {
     "name": "stderr",
     "output_type": "stream",
     "text": [
      " 24%|██▍       | 3220/13395 [3:04:33<19:39:46,  6.96s/it]"
     ]
    },
    {
     "name": "stdout",
     "output_type": "stream",
     "text": [
      "Saving intermediary results in temp_keep and temp_finished, set rerun=True to restart api query from latest backup.\n"
     ]
    },
    {
     "name": "stderr",
     "output_type": "stream",
     "text": [
      " 24%|██▍       | 3240/13395 [3:05:44<11:08:49,  3.95s/it]"
     ]
    },
    {
     "name": "stdout",
     "output_type": "stream",
     "text": [
      "Saving intermediary results in temp_keep and temp_finished, set rerun=True to restart api query from latest backup.\n"
     ]
    },
    {
     "name": "stderr",
     "output_type": "stream",
     "text": [
      " 24%|██▍       | 3260/13395 [3:06:35<5:10:44,  1.84s/it] "
     ]
    },
    {
     "name": "stdout",
     "output_type": "stream",
     "text": [
      "Saving intermediary results in temp_keep and temp_finished, set rerun=True to restart api query from latest backup.\n"
     ]
    },
    {
     "name": "stderr",
     "output_type": "stream",
     "text": [
      " 24%|██▍       | 3280/13395 [3:07:22<8:39:01,  3.08s/it] "
     ]
    },
    {
     "name": "stdout",
     "output_type": "stream",
     "text": [
      "Saving intermediary results in temp_keep and temp_finished, set rerun=True to restart api query from latest backup.\n"
     ]
    },
    {
     "name": "stderr",
     "output_type": "stream",
     "text": [
      " 25%|██▍       | 3300/13395 [3:08:17<9:32:50,  3.40s/it] "
     ]
    },
    {
     "name": "stdout",
     "output_type": "stream",
     "text": [
      "Saving intermediary results in temp_keep and temp_finished, set rerun=True to restart api query from latest backup.\n"
     ]
    },
    {
     "name": "stderr",
     "output_type": "stream",
     "text": [
      " 25%|██▍       | 3320/13395 [3:09:08<6:22:15,  2.28s/it] "
     ]
    },
    {
     "name": "stdout",
     "output_type": "stream",
     "text": [
      "Saving intermediary results in temp_keep and temp_finished, set rerun=True to restart api query from latest backup.\n"
     ]
    },
    {
     "name": "stderr",
     "output_type": "stream",
     "text": [
      " 25%|██▍       | 3340/13395 [3:10:18<5:45:06,  2.06s/it] "
     ]
    },
    {
     "name": "stdout",
     "output_type": "stream",
     "text": [
      "Saving intermediary results in temp_keep and temp_finished, set rerun=True to restart api query from latest backup.\n"
     ]
    },
    {
     "name": "stderr",
     "output_type": "stream",
     "text": [
      " 25%|██▌       | 3360/13395 [3:11:07<4:41:17,  1.68s/it] "
     ]
    },
    {
     "name": "stdout",
     "output_type": "stream",
     "text": [
      "Saving intermediary results in temp_keep and temp_finished, set rerun=True to restart api query from latest backup.\n"
     ]
    },
    {
     "name": "stderr",
     "output_type": "stream",
     "text": [
      " 25%|██▌       | 3380/13395 [3:12:31<8:35:12,  3.09s/it] "
     ]
    },
    {
     "name": "stdout",
     "output_type": "stream",
     "text": [
      "Saving intermediary results in temp_keep and temp_finished, set rerun=True to restart api query from latest backup.\n"
     ]
    },
    {
     "name": "stderr",
     "output_type": "stream",
     "text": [
      " 25%|██▌       | 3400/13395 [3:13:16<5:58:24,  2.15s/it] "
     ]
    },
    {
     "name": "stdout",
     "output_type": "stream",
     "text": [
      "Saving intermediary results in temp_keep and temp_finished, set rerun=True to restart api query from latest backup.\n"
     ]
    },
    {
     "name": "stderr",
     "output_type": "stream",
     "text": [
      " 26%|██▌       | 3420/13395 [3:14:11<5:13:01,  1.88s/it] "
     ]
    },
    {
     "name": "stdout",
     "output_type": "stream",
     "text": [
      "Saving intermediary results in temp_keep and temp_finished, set rerun=True to restart api query from latest backup.\n"
     ]
    },
    {
     "name": "stderr",
     "output_type": "stream",
     "text": [
      " 26%|██▌       | 3440/13395 [3:15:13<14:20:50,  5.19s/it]"
     ]
    },
    {
     "name": "stdout",
     "output_type": "stream",
     "text": [
      "Saving intermediary results in temp_keep and temp_finished, set rerun=True to restart api query from latest backup.\n"
     ]
    },
    {
     "name": "stderr",
     "output_type": "stream",
     "text": [
      " 26%|██▌       | 3460/13395 [3:16:22<9:39:56,  3.50s/it] "
     ]
    },
    {
     "name": "stdout",
     "output_type": "stream",
     "text": [
      "Saving intermediary results in temp_keep and temp_finished, set rerun=True to restart api query from latest backup.\n"
     ]
    },
    {
     "name": "stderr",
     "output_type": "stream",
     "text": [
      " 26%|██▌       | 3480/13395 [3:17:01<6:16:08,  2.28s/it]"
     ]
    },
    {
     "name": "stdout",
     "output_type": "stream",
     "text": [
      "Saving intermediary results in temp_keep and temp_finished, set rerun=True to restart api query from latest backup.\n"
     ]
    },
    {
     "name": "stderr",
     "output_type": "stream",
     "text": [
      " 26%|██▌       | 3500/13395 [3:18:21<5:38:30,  2.05s/it] "
     ]
    },
    {
     "name": "stdout",
     "output_type": "stream",
     "text": [
      "Saving intermediary results in temp_keep and temp_finished, set rerun=True to restart api query from latest backup.\n"
     ]
    },
    {
     "name": "stderr",
     "output_type": "stream",
     "text": [
      " 26%|██▋       | 3520/13395 [3:19:42<9:18:16,  3.39s/it] "
     ]
    },
    {
     "name": "stdout",
     "output_type": "stream",
     "text": [
      "Saving intermediary results in temp_keep and temp_finished, set rerun=True to restart api query from latest backup.\n"
     ]
    },
    {
     "name": "stderr",
     "output_type": "stream",
     "text": [
      " 26%|██▋       | 3540/13395 [3:20:56<10:32:04,  3.85s/it]"
     ]
    },
    {
     "name": "stdout",
     "output_type": "stream",
     "text": [
      "Saving intermediary results in temp_keep and temp_finished, set rerun=True to restart api query from latest backup.\n"
     ]
    },
    {
     "name": "stderr",
     "output_type": "stream",
     "text": [
      " 27%|██▋       | 3560/13395 [3:21:40<5:47:36,  2.12s/it] "
     ]
    },
    {
     "name": "stdout",
     "output_type": "stream",
     "text": [
      "Saving intermediary results in temp_keep and temp_finished, set rerun=True to restart api query from latest backup.\n"
     ]
    },
    {
     "name": "stderr",
     "output_type": "stream",
     "text": [
      " 27%|██▋       | 3580/13395 [3:22:46<8:43:47,  3.20s/it] "
     ]
    },
    {
     "name": "stdout",
     "output_type": "stream",
     "text": [
      "Saving intermediary results in temp_keep and temp_finished, set rerun=True to restart api query from latest backup.\n"
     ]
    },
    {
     "name": "stderr",
     "output_type": "stream",
     "text": [
      " 27%|██▋       | 3600/13395 [3:23:53<11:57:43,  4.40s/it]"
     ]
    },
    {
     "name": "stdout",
     "output_type": "stream",
     "text": [
      "Saving intermediary results in temp_keep and temp_finished, set rerun=True to restart api query from latest backup.\n"
     ]
    },
    {
     "name": "stderr",
     "output_type": "stream",
     "text": [
      " 27%|██▋       | 3620/13395 [3:25:14<9:06:17,  3.35s/it] "
     ]
    },
    {
     "name": "stdout",
     "output_type": "stream",
     "text": [
      "Saving intermediary results in temp_keep and temp_finished, set rerun=True to restart api query from latest backup.\n"
     ]
    },
    {
     "name": "stderr",
     "output_type": "stream",
     "text": [
      " 27%|██▋       | 3640/13395 [3:26:01<6:28:16,  2.39s/it] "
     ]
    },
    {
     "name": "stdout",
     "output_type": "stream",
     "text": [
      "Saving intermediary results in temp_keep and temp_finished, set rerun=True to restart api query from latest backup.\n"
     ]
    },
    {
     "name": "stderr",
     "output_type": "stream",
     "text": [
      " 27%|██▋       | 3660/13395 [3:27:15<5:14:41,  1.94s/it] "
     ]
    },
    {
     "name": "stdout",
     "output_type": "stream",
     "text": [
      "Saving intermediary results in temp_keep and temp_finished, set rerun=True to restart api query from latest backup.\n"
     ]
    },
    {
     "name": "stderr",
     "output_type": "stream",
     "text": [
      " 27%|██▋       | 3680/13395 [3:28:24<12:10:59,  4.51s/it]"
     ]
    },
    {
     "name": "stdout",
     "output_type": "stream",
     "text": [
      "Saving intermediary results in temp_keep and temp_finished, set rerun=True to restart api query from latest backup.\n"
     ]
    },
    {
     "name": "stderr",
     "output_type": "stream",
     "text": [
      " 28%|██▊       | 3700/13395 [3:29:17<4:56:07,  1.83s/it] "
     ]
    },
    {
     "name": "stdout",
     "output_type": "stream",
     "text": [
      "Saving intermediary results in temp_keep and temp_finished, set rerun=True to restart api query from latest backup.\n"
     ]
    },
    {
     "name": "stderr",
     "output_type": "stream",
     "text": [
      " 28%|██▊       | 3720/13395 [3:30:06<7:31:41,  2.80s/it]"
     ]
    },
    {
     "name": "stdout",
     "output_type": "stream",
     "text": [
      "Saving intermediary results in temp_keep and temp_finished, set rerun=True to restart api query from latest backup.\n"
     ]
    },
    {
     "name": "stderr",
     "output_type": "stream",
     "text": [
      " 28%|██▊       | 3740/13395 [3:31:14<6:51:47,  2.56s/it] "
     ]
    },
    {
     "name": "stdout",
     "output_type": "stream",
     "text": [
      "Saving intermediary results in temp_keep and temp_finished, set rerun=True to restart api query from latest backup.\n"
     ]
    },
    {
     "name": "stderr",
     "output_type": "stream",
     "text": [
      " 28%|██▊       | 3760/13395 [3:32:20<7:36:05,  2.84s/it] "
     ]
    },
    {
     "name": "stdout",
     "output_type": "stream",
     "text": [
      "Saving intermediary results in temp_keep and temp_finished, set rerun=True to restart api query from latest backup.\n"
     ]
    },
    {
     "name": "stderr",
     "output_type": "stream",
     "text": [
      " 28%|██▊       | 3780/13395 [3:33:25<9:28:02,  3.54s/it] "
     ]
    },
    {
     "name": "stdout",
     "output_type": "stream",
     "text": [
      "Saving intermediary results in temp_keep and temp_finished, set rerun=True to restart api query from latest backup.\n"
     ]
    },
    {
     "name": "stderr",
     "output_type": "stream",
     "text": [
      " 28%|██▊       | 3800/13395 [3:34:18<7:23:30,  2.77s/it] "
     ]
    },
    {
     "name": "stdout",
     "output_type": "stream",
     "text": [
      "Saving intermediary results in temp_keep and temp_finished, set rerun=True to restart api query from latest backup.\n"
     ]
    },
    {
     "name": "stderr",
     "output_type": "stream",
     "text": [
      " 29%|██▊       | 3820/13395 [3:34:58<4:28:51,  1.68s/it]"
     ]
    },
    {
     "name": "stdout",
     "output_type": "stream",
     "text": [
      "Saving intermediary results in temp_keep and temp_finished, set rerun=True to restart api query from latest backup.\n"
     ]
    },
    {
     "name": "stderr",
     "output_type": "stream",
     "text": [
      " 29%|██▊       | 3840/13395 [3:35:46<4:40:07,  1.76s/it] "
     ]
    },
    {
     "name": "stdout",
     "output_type": "stream",
     "text": [
      "Saving intermediary results in temp_keep and temp_finished, set rerun=True to restart api query from latest backup.\n"
     ]
    },
    {
     "name": "stderr",
     "output_type": "stream",
     "text": [
      " 29%|██▉       | 3860/13395 [3:36:58<11:32:12,  4.36s/it]"
     ]
    },
    {
     "name": "stdout",
     "output_type": "stream",
     "text": [
      "Saving intermediary results in temp_keep and temp_finished, set rerun=True to restart api query from latest backup.\n"
     ]
    },
    {
     "name": "stderr",
     "output_type": "stream",
     "text": [
      " 29%|██▉       | 3880/13395 [3:38:06<7:03:00,  2.67s/it] "
     ]
    },
    {
     "name": "stdout",
     "output_type": "stream",
     "text": [
      "Saving intermediary results in temp_keep and temp_finished, set rerun=True to restart api query from latest backup.\n"
     ]
    },
    {
     "name": "stderr",
     "output_type": "stream",
     "text": [
      " 29%|██▉       | 3900/13395 [3:38:50<6:10:56,  2.34s/it]"
     ]
    },
    {
     "name": "stdout",
     "output_type": "stream",
     "text": [
      "Saving intermediary results in temp_keep and temp_finished, set rerun=True to restart api query from latest backup.\n"
     ]
    },
    {
     "name": "stderr",
     "output_type": "stream",
     "text": [
      " 29%|██▉       | 3920/13395 [3:39:59<8:33:29,  3.25s/it] "
     ]
    },
    {
     "name": "stdout",
     "output_type": "stream",
     "text": [
      "Saving intermediary results in temp_keep and temp_finished, set rerun=True to restart api query from latest backup.\n"
     ]
    },
    {
     "name": "stderr",
     "output_type": "stream",
     "text": [
      " 29%|██▉       | 3940/13395 [3:40:58<6:28:41,  2.47s/it] "
     ]
    },
    {
     "name": "stdout",
     "output_type": "stream",
     "text": [
      "Saving intermediary results in temp_keep and temp_finished, set rerun=True to restart api query from latest backup.\n"
     ]
    },
    {
     "name": "stderr",
     "output_type": "stream",
     "text": [
      " 30%|██▉       | 3960/13395 [3:42:12<7:41:36,  2.94s/it] "
     ]
    },
    {
     "name": "stdout",
     "output_type": "stream",
     "text": [
      "Saving intermediary results in temp_keep and temp_finished, set rerun=True to restart api query from latest backup.\n"
     ]
    },
    {
     "name": "stderr",
     "output_type": "stream",
     "text": [
      " 30%|██▉       | 3980/13395 [3:43:17<14:51:13,  5.68s/it]"
     ]
    },
    {
     "name": "stdout",
     "output_type": "stream",
     "text": [
      "Saving intermediary results in temp_keep and temp_finished, set rerun=True to restart api query from latest backup.\n"
     ]
    },
    {
     "name": "stderr",
     "output_type": "stream",
     "text": [
      " 30%|██▉       | 4000/13395 [3:44:23<6:40:43,  2.56s/it] "
     ]
    },
    {
     "name": "stdout",
     "output_type": "stream",
     "text": [
      "Saving intermediary results in temp_keep and temp_finished, set rerun=True to restart api query from latest backup.\n"
     ]
    },
    {
     "name": "stderr",
     "output_type": "stream",
     "text": [
      " 30%|███       | 4020/13395 [3:45:56<7:10:03,  2.75s/it] "
     ]
    },
    {
     "name": "stdout",
     "output_type": "stream",
     "text": [
      "Saving intermediary results in temp_keep and temp_finished, set rerun=True to restart api query from latest backup.\n"
     ]
    },
    {
     "name": "stderr",
     "output_type": "stream",
     "text": [
      " 30%|███       | 4040/13395 [3:47:39<9:39:53,  3.72s/it] "
     ]
    },
    {
     "name": "stdout",
     "output_type": "stream",
     "text": [
      "Saving intermediary results in temp_keep and temp_finished, set rerun=True to restart api query from latest backup.\n"
     ]
    },
    {
     "name": "stderr",
     "output_type": "stream",
     "text": [
      " 30%|███       | 4060/13395 [3:48:33<6:13:45,  2.40s/it] "
     ]
    },
    {
     "name": "stdout",
     "output_type": "stream",
     "text": [
      "Saving intermediary results in temp_keep and temp_finished, set rerun=True to restart api query from latest backup.\n"
     ]
    },
    {
     "name": "stderr",
     "output_type": "stream",
     "text": [
      " 30%|███       | 4080/13395 [3:49:42<6:13:40,  2.41s/it] "
     ]
    },
    {
     "name": "stdout",
     "output_type": "stream",
     "text": [
      "Saving intermediary results in temp_keep and temp_finished, set rerun=True to restart api query from latest backup.\n"
     ]
    },
    {
     "name": "stderr",
     "output_type": "stream",
     "text": [
      " 31%|███       | 4100/13395 [3:51:13<6:35:32,  2.55s/it] "
     ]
    },
    {
     "name": "stdout",
     "output_type": "stream",
     "text": [
      "Saving intermediary results in temp_keep and temp_finished, set rerun=True to restart api query from latest backup.\n"
     ]
    },
    {
     "name": "stderr",
     "output_type": "stream",
     "text": [
      " 31%|███       | 4120/13395 [3:52:32<5:00:22,  1.94s/it] "
     ]
    },
    {
     "name": "stdout",
     "output_type": "stream",
     "text": [
      "Saving intermediary results in temp_keep and temp_finished, set rerun=True to restart api query from latest backup.\n"
     ]
    },
    {
     "name": "stderr",
     "output_type": "stream",
     "text": [
      " 31%|███       | 4140/13395 [3:53:19<8:13:16,  3.20s/it] "
     ]
    },
    {
     "name": "stdout",
     "output_type": "stream",
     "text": [
      "Saving intermediary results in temp_keep and temp_finished, set rerun=True to restart api query from latest backup.\n"
     ]
    },
    {
     "name": "stderr",
     "output_type": "stream",
     "text": [
      " 31%|███       | 4160/13395 [3:54:12<7:59:43,  3.12s/it] "
     ]
    },
    {
     "name": "stdout",
     "output_type": "stream",
     "text": [
      "Saving intermediary results in temp_keep and temp_finished, set rerun=True to restart api query from latest backup.\n"
     ]
    },
    {
     "name": "stderr",
     "output_type": "stream",
     "text": [
      " 31%|███       | 4180/13395 [3:55:15<8:33:19,  3.34s/it] "
     ]
    },
    {
     "name": "stdout",
     "output_type": "stream",
     "text": [
      "Saving intermediary results in temp_keep and temp_finished, set rerun=True to restart api query from latest backup.\n"
     ]
    },
    {
     "name": "stderr",
     "output_type": "stream",
     "text": [
      " 31%|███▏      | 4200/13395 [3:56:04<5:03:46,  1.98s/it] "
     ]
    },
    {
     "name": "stdout",
     "output_type": "stream",
     "text": [
      "Saving intermediary results in temp_keep and temp_finished, set rerun=True to restart api query from latest backup.\n"
     ]
    },
    {
     "name": "stderr",
     "output_type": "stream",
     "text": [
      " 32%|███▏      | 4220/13395 [3:57:01<11:36:00,  4.55s/it]"
     ]
    },
    {
     "name": "stdout",
     "output_type": "stream",
     "text": [
      "Saving intermediary results in temp_keep and temp_finished, set rerun=True to restart api query from latest backup.\n"
     ]
    },
    {
     "name": "stderr",
     "output_type": "stream",
     "text": [
      " 32%|███▏      | 4240/13395 [3:57:58<6:04:09,  2.39s/it] "
     ]
    },
    {
     "name": "stdout",
     "output_type": "stream",
     "text": [
      "Saving intermediary results in temp_keep and temp_finished, set rerun=True to restart api query from latest backup.\n"
     ]
    },
    {
     "name": "stderr",
     "output_type": "stream",
     "text": [
      " 32%|███▏      | 4260/13395 [3:58:59<6:13:27,  2.45s/it] "
     ]
    },
    {
     "name": "stdout",
     "output_type": "stream",
     "text": [
      "Saving intermediary results in temp_keep and temp_finished, set rerun=True to restart api query from latest backup.\n"
     ]
    },
    {
     "name": "stderr",
     "output_type": "stream",
     "text": [
      " 32%|███▏      | 4280/13395 [3:59:50<6:52:36,  2.72s/it]"
     ]
    },
    {
     "name": "stdout",
     "output_type": "stream",
     "text": [
      "Saving intermediary results in temp_keep and temp_finished, set rerun=True to restart api query from latest backup.\n"
     ]
    },
    {
     "name": "stderr",
     "output_type": "stream",
     "text": [
      " 32%|███▏      | 4300/13395 [4:00:53<7:41:43,  3.05s/it] "
     ]
    },
    {
     "name": "stdout",
     "output_type": "stream",
     "text": [
      "Saving intermediary results in temp_keep and temp_finished, set rerun=True to restart api query from latest backup.\n"
     ]
    },
    {
     "name": "stderr",
     "output_type": "stream",
     "text": [
      " 32%|███▏      | 4320/13395 [4:02:11<12:08:47,  4.82s/it]"
     ]
    },
    {
     "name": "stdout",
     "output_type": "stream",
     "text": [
      "Saving intermediary results in temp_keep and temp_finished, set rerun=True to restart api query from latest backup.\n"
     ]
    },
    {
     "name": "stderr",
     "output_type": "stream",
     "text": [
      " 32%|███▏      | 4340/13395 [4:03:07<9:57:08,  3.96s/it] "
     ]
    },
    {
     "name": "stdout",
     "output_type": "stream",
     "text": [
      "Saving intermediary results in temp_keep and temp_finished, set rerun=True to restart api query from latest backup.\n"
     ]
    },
    {
     "name": "stderr",
     "output_type": "stream",
     "text": [
      " 33%|███▎      | 4360/13395 [4:03:54<4:14:42,  1.69s/it]"
     ]
    },
    {
     "name": "stdout",
     "output_type": "stream",
     "text": [
      "Saving intermediary results in temp_keep and temp_finished, set rerun=True to restart api query from latest backup.\n"
     ]
    },
    {
     "name": "stderr",
     "output_type": "stream",
     "text": [
      " 33%|███▎      | 4380/13395 [4:04:53<6:25:42,  2.57s/it] "
     ]
    },
    {
     "name": "stdout",
     "output_type": "stream",
     "text": [
      "Saving intermediary results in temp_keep and temp_finished, set rerun=True to restart api query from latest backup.\n"
     ]
    },
    {
     "name": "stderr",
     "output_type": "stream",
     "text": [
      " 33%|███▎      | 4400/13395 [4:05:59<15:30:03,  6.20s/it]"
     ]
    },
    {
     "name": "stdout",
     "output_type": "stream",
     "text": [
      "Saving intermediary results in temp_keep and temp_finished, set rerun=True to restart api query from latest backup.\n"
     ]
    },
    {
     "name": "stderr",
     "output_type": "stream",
     "text": [
      " 33%|███▎      | 4420/13395 [4:06:49<7:44:04,  3.10s/it] "
     ]
    },
    {
     "name": "stdout",
     "output_type": "stream",
     "text": [
      "Saving intermediary results in temp_keep and temp_finished, set rerun=True to restart api query from latest backup.\n"
     ]
    },
    {
     "name": "stderr",
     "output_type": "stream",
     "text": [
      " 33%|███▎      | 4440/13395 [4:07:29<5:23:02,  2.16s/it]"
     ]
    },
    {
     "name": "stdout",
     "output_type": "stream",
     "text": [
      "Saving intermediary results in temp_keep and temp_finished, set rerun=True to restart api query from latest backup.\n"
     ]
    },
    {
     "name": "stderr",
     "output_type": "stream",
     "text": [
      " 33%|███▎      | 4460/13395 [4:08:22<9:56:04,  4.00s/it]"
     ]
    },
    {
     "name": "stdout",
     "output_type": "stream",
     "text": [
      "Saving intermediary results in temp_keep and temp_finished, set rerun=True to restart api query from latest backup.\n"
     ]
    },
    {
     "name": "stderr",
     "output_type": "stream",
     "text": [
      " 33%|███▎      | 4480/13395 [4:09:15<6:28:06,  2.61s/it] "
     ]
    },
    {
     "name": "stdout",
     "output_type": "stream",
     "text": [
      "Saving intermediary results in temp_keep and temp_finished, set rerun=True to restart api query from latest backup.\n"
     ]
    },
    {
     "name": "stderr",
     "output_type": "stream",
     "text": [
      " 34%|███▎      | 4500/13395 [4:10:01<7:02:32,  2.85s/it]"
     ]
    },
    {
     "name": "stdout",
     "output_type": "stream",
     "text": [
      "Saving intermediary results in temp_keep and temp_finished, set rerun=True to restart api query from latest backup.\n"
     ]
    },
    {
     "name": "stderr",
     "output_type": "stream",
     "text": [
      " 34%|███▎      | 4520/13395 [4:10:51<4:39:39,  1.89s/it] "
     ]
    },
    {
     "name": "stdout",
     "output_type": "stream",
     "text": [
      "Saving intermediary results in temp_keep and temp_finished, set rerun=True to restart api query from latest backup.\n"
     ]
    },
    {
     "name": "stderr",
     "output_type": "stream",
     "text": [
      " 34%|███▍      | 4540/13395 [4:12:05<7:17:53,  2.97s/it] "
     ]
    },
    {
     "name": "stdout",
     "output_type": "stream",
     "text": [
      "Saving intermediary results in temp_keep and temp_finished, set rerun=True to restart api query from latest backup.\n"
     ]
    },
    {
     "name": "stderr",
     "output_type": "stream",
     "text": [
      " 34%|███▍      | 4560/13395 [4:13:16<5:57:52,  2.43s/it] "
     ]
    },
    {
     "name": "stdout",
     "output_type": "stream",
     "text": [
      "Saving intermediary results in temp_keep and temp_finished, set rerun=True to restart api query from latest backup.\n"
     ]
    },
    {
     "name": "stderr",
     "output_type": "stream",
     "text": [
      " 34%|███▍      | 4580/13395 [4:14:32<9:02:55,  3.70s/it] "
     ]
    },
    {
     "name": "stdout",
     "output_type": "stream",
     "text": [
      "Saving intermediary results in temp_keep and temp_finished, set rerun=True to restart api query from latest backup.\n"
     ]
    },
    {
     "name": "stderr",
     "output_type": "stream",
     "text": [
      " 34%|███▍      | 4600/13395 [4:15:30<5:46:36,  2.36s/it] "
     ]
    },
    {
     "name": "stdout",
     "output_type": "stream",
     "text": [
      "Saving intermediary results in temp_keep and temp_finished, set rerun=True to restart api query from latest backup.\n"
     ]
    },
    {
     "name": "stderr",
     "output_type": "stream",
     "text": [
      " 34%|███▍      | 4620/13395 [4:16:38<5:20:01,  2.19s/it] "
     ]
    },
    {
     "name": "stdout",
     "output_type": "stream",
     "text": [
      "Saving intermediary results in temp_keep and temp_finished, set rerun=True to restart api query from latest backup.\n"
     ]
    },
    {
     "name": "stderr",
     "output_type": "stream",
     "text": [
      " 35%|███▍      | 4640/13395 [4:17:29<6:27:29,  2.66s/it]"
     ]
    },
    {
     "name": "stdout",
     "output_type": "stream",
     "text": [
      "Saving intermediary results in temp_keep and temp_finished, set rerun=True to restart api query from latest backup.\n"
     ]
    },
    {
     "name": "stderr",
     "output_type": "stream",
     "text": [
      " 35%|███▍      | 4660/13395 [4:18:28<6:23:51,  2.64s/it]"
     ]
    },
    {
     "name": "stdout",
     "output_type": "stream",
     "text": [
      "Saving intermediary results in temp_keep and temp_finished, set rerun=True to restart api query from latest backup.\n"
     ]
    },
    {
     "name": "stderr",
     "output_type": "stream",
     "text": [
      " 35%|███▍      | 4680/13395 [4:20:00<9:40:29,  4.00s/it] "
     ]
    },
    {
     "name": "stdout",
     "output_type": "stream",
     "text": [
      "Saving intermediary results in temp_keep and temp_finished, set rerun=True to restart api query from latest backup.\n"
     ]
    },
    {
     "name": "stderr",
     "output_type": "stream",
     "text": [
      " 35%|███▌      | 4700/13395 [4:21:11<10:26:07,  4.32s/it]"
     ]
    },
    {
     "name": "stdout",
     "output_type": "stream",
     "text": [
      "Saving intermediary results in temp_keep and temp_finished, set rerun=True to restart api query from latest backup.\n"
     ]
    },
    {
     "name": "stderr",
     "output_type": "stream",
     "text": [
      " 35%|███▌      | 4720/13395 [4:22:15<8:06:55,  3.37s/it] "
     ]
    },
    {
     "name": "stdout",
     "output_type": "stream",
     "text": [
      "Saving intermediary results in temp_keep and temp_finished, set rerun=True to restart api query from latest backup.\n"
     ]
    },
    {
     "name": "stderr",
     "output_type": "stream",
     "text": [
      " 35%|███▌      | 4740/13395 [4:23:01<5:01:30,  2.09s/it]"
     ]
    },
    {
     "name": "stdout",
     "output_type": "stream",
     "text": [
      "Saving intermediary results in temp_keep and temp_finished, set rerun=True to restart api query from latest backup.\n"
     ]
    },
    {
     "name": "stderr",
     "output_type": "stream",
     "text": [
      " 36%|███▌      | 4760/13395 [4:23:48<6:34:03,  2.74s/it]"
     ]
    },
    {
     "name": "stdout",
     "output_type": "stream",
     "text": [
      "Saving intermediary results in temp_keep and temp_finished, set rerun=True to restart api query from latest backup.\n"
     ]
    },
    {
     "name": "stderr",
     "output_type": "stream",
     "text": [
      " 36%|███▌      | 4780/13395 [4:24:58<4:48:53,  2.01s/it] "
     ]
    },
    {
     "name": "stdout",
     "output_type": "stream",
     "text": [
      "Saving intermediary results in temp_keep and temp_finished, set rerun=True to restart api query from latest backup.\n"
     ]
    },
    {
     "name": "stderr",
     "output_type": "stream",
     "text": [
      " 36%|███▌      | 4800/13395 [4:26:04<5:27:43,  2.29s/it] "
     ]
    },
    {
     "name": "stdout",
     "output_type": "stream",
     "text": [
      "Saving intermediary results in temp_keep and temp_finished, set rerun=True to restart api query from latest backup.\n"
     ]
    },
    {
     "name": "stderr",
     "output_type": "stream",
     "text": [
      " 36%|███▌      | 4820/13395 [4:27:27<8:24:40,  3.53s/it] "
     ]
    },
    {
     "name": "stdout",
     "output_type": "stream",
     "text": [
      "Saving intermediary results in temp_keep and temp_finished, set rerun=True to restart api query from latest backup.\n"
     ]
    },
    {
     "name": "stderr",
     "output_type": "stream",
     "text": [
      " 36%|███▌      | 4840/13395 [4:30:01<10:41:30,  4.50s/it]"
     ]
    },
    {
     "name": "stdout",
     "output_type": "stream",
     "text": [
      "Saving intermediary results in temp_keep and temp_finished, set rerun=True to restart api query from latest backup.\n"
     ]
    },
    {
     "name": "stderr",
     "output_type": "stream",
     "text": [
      " 36%|███▋      | 4860/13395 [4:31:15<9:34:09,  4.04s/it] "
     ]
    },
    {
     "name": "stdout",
     "output_type": "stream",
     "text": [
      "Saving intermediary results in temp_keep and temp_finished, set rerun=True to restart api query from latest backup.\n"
     ]
    },
    {
     "name": "stderr",
     "output_type": "stream",
     "text": [
      " 36%|███▋      | 4880/13395 [4:32:31<11:13:03,  4.74s/it]"
     ]
    },
    {
     "name": "stdout",
     "output_type": "stream",
     "text": [
      "Saving intermediary results in temp_keep and temp_finished, set rerun=True to restart api query from latest backup.\n"
     ]
    },
    {
     "name": "stderr",
     "output_type": "stream",
     "text": [
      " 37%|███▋      | 4900/13395 [4:33:12<4:13:07,  1.79s/it] "
     ]
    },
    {
     "name": "stdout",
     "output_type": "stream",
     "text": [
      "Saving intermediary results in temp_keep and temp_finished, set rerun=True to restart api query from latest backup.\n"
     ]
    },
    {
     "name": "stderr",
     "output_type": "stream",
     "text": [
      " 37%|███▋      | 4920/13395 [4:34:50<10:27:19,  4.44s/it]"
     ]
    },
    {
     "name": "stdout",
     "output_type": "stream",
     "text": [
      "Saving intermediary results in temp_keep and temp_finished, set rerun=True to restart api query from latest backup.\n"
     ]
    },
    {
     "name": "stderr",
     "output_type": "stream",
     "text": [
      " 37%|███▋      | 4940/13395 [4:35:46<5:09:09,  2.19s/it] "
     ]
    },
    {
     "name": "stdout",
     "output_type": "stream",
     "text": [
      "Saving intermediary results in temp_keep and temp_finished, set rerun=True to restart api query from latest backup.\n"
     ]
    },
    {
     "name": "stderr",
     "output_type": "stream",
     "text": [
      " 37%|███▋      | 4960/13395 [4:36:47<6:46:05,  2.89s/it] "
     ]
    },
    {
     "name": "stdout",
     "output_type": "stream",
     "text": [
      "Saving intermediary results in temp_keep and temp_finished, set rerun=True to restart api query from latest backup.\n"
     ]
    },
    {
     "name": "stderr",
     "output_type": "stream",
     "text": [
      " 37%|███▋      | 4980/13395 [4:37:47<5:42:32,  2.44s/it] "
     ]
    },
    {
     "name": "stdout",
     "output_type": "stream",
     "text": [
      "Saving intermediary results in temp_keep and temp_finished, set rerun=True to restart api query from latest backup.\n"
     ]
    },
    {
     "name": "stderr",
     "output_type": "stream",
     "text": [
      " 37%|███▋      | 5000/13395 [4:39:02<5:49:45,  2.50s/it] "
     ]
    },
    {
     "name": "stdout",
     "output_type": "stream",
     "text": [
      "Saving intermediary results in temp_keep and temp_finished, set rerun=True to restart api query from latest backup.\n"
     ]
    },
    {
     "name": "stderr",
     "output_type": "stream",
     "text": [
      " 37%|███▋      | 5020/13395 [4:39:53<6:29:28,  2.79s/it]"
     ]
    },
    {
     "name": "stdout",
     "output_type": "stream",
     "text": [
      "Saving intermediary results in temp_keep and temp_finished, set rerun=True to restart api query from latest backup.\n"
     ]
    },
    {
     "name": "stderr",
     "output_type": "stream",
     "text": [
      " 38%|███▊      | 5040/13395 [4:40:47<3:45:26,  1.62s/it]"
     ]
    },
    {
     "name": "stdout",
     "output_type": "stream",
     "text": [
      "Saving intermediary results in temp_keep and temp_finished, set rerun=True to restart api query from latest backup.\n"
     ]
    },
    {
     "name": "stderr",
     "output_type": "stream",
     "text": [
      " 38%|███▊      | 5060/13395 [4:41:53<5:28:25,  2.36s/it] "
     ]
    },
    {
     "name": "stdout",
     "output_type": "stream",
     "text": [
      "Saving intermediary results in temp_keep and temp_finished, set rerun=True to restart api query from latest backup.\n"
     ]
    },
    {
     "name": "stderr",
     "output_type": "stream",
     "text": [
      " 38%|███▊      | 5080/13395 [4:43:08<14:31:54,  6.29s/it]"
     ]
    },
    {
     "name": "stdout",
     "output_type": "stream",
     "text": [
      "Saving intermediary results in temp_keep and temp_finished, set rerun=True to restart api query from latest backup.\n"
     ]
    },
    {
     "name": "stderr",
     "output_type": "stream",
     "text": [
      " 38%|███▊      | 5100/13395 [4:44:10<6:02:22,  2.62s/it] "
     ]
    },
    {
     "name": "stdout",
     "output_type": "stream",
     "text": [
      "Saving intermediary results in temp_keep and temp_finished, set rerun=True to restart api query from latest backup.\n"
     ]
    },
    {
     "name": "stderr",
     "output_type": "stream",
     "text": [
      " 38%|███▊      | 5120/13395 [4:44:52<6:22:21,  2.77s/it]"
     ]
    },
    {
     "name": "stdout",
     "output_type": "stream",
     "text": [
      "Saving intermediary results in temp_keep and temp_finished, set rerun=True to restart api query from latest backup.\n"
     ]
    },
    {
     "name": "stderr",
     "output_type": "stream",
     "text": [
      " 38%|███▊      | 5140/13395 [4:45:50<4:03:46,  1.77s/it] "
     ]
    },
    {
     "name": "stdout",
     "output_type": "stream",
     "text": [
      "Saving intermediary results in temp_keep and temp_finished, set rerun=True to restart api query from latest backup.\n"
     ]
    },
    {
     "name": "stderr",
     "output_type": "stream",
     "text": [
      " 39%|███▊      | 5160/13395 [4:47:03<15:02:43,  6.58s/it]"
     ]
    },
    {
     "name": "stdout",
     "output_type": "stream",
     "text": [
      "Saving intermediary results in temp_keep and temp_finished, set rerun=True to restart api query from latest backup.\n"
     ]
    },
    {
     "name": "stderr",
     "output_type": "stream",
     "text": [
      " 39%|███▊      | 5180/13395 [4:47:51<6:55:25,  3.03s/it] "
     ]
    },
    {
     "name": "stdout",
     "output_type": "stream",
     "text": [
      "Saving intermediary results in temp_keep and temp_finished, set rerun=True to restart api query from latest backup.\n"
     ]
    },
    {
     "name": "stderr",
     "output_type": "stream",
     "text": [
      " 39%|███▉      | 5200/13395 [4:48:58<5:15:13,  2.31s/it] "
     ]
    },
    {
     "name": "stdout",
     "output_type": "stream",
     "text": [
      "Saving intermediary results in temp_keep and temp_finished, set rerun=True to restart api query from latest backup.\n"
     ]
    },
    {
     "name": "stderr",
     "output_type": "stream",
     "text": [
      " 39%|███▉      | 5220/13395 [4:49:35<5:08:09,  2.26s/it]"
     ]
    },
    {
     "name": "stdout",
     "output_type": "stream",
     "text": [
      "Saving intermediary results in temp_keep and temp_finished, set rerun=True to restart api query from latest backup.\n"
     ]
    },
    {
     "name": "stderr",
     "output_type": "stream",
     "text": [
      " 39%|███▉      | 5240/13395 [4:50:56<4:16:42,  1.89s/it] "
     ]
    },
    {
     "name": "stdout",
     "output_type": "stream",
     "text": [
      "Saving intermediary results in temp_keep and temp_finished, set rerun=True to restart api query from latest backup.\n"
     ]
    },
    {
     "name": "stderr",
     "output_type": "stream",
     "text": [
      " 39%|███▉      | 5260/13395 [4:52:08<6:15:48,  2.77s/it] "
     ]
    },
    {
     "name": "stdout",
     "output_type": "stream",
     "text": [
      "Saving intermediary results in temp_keep and temp_finished, set rerun=True to restart api query from latest backup.\n"
     ]
    },
    {
     "name": "stderr",
     "output_type": "stream",
     "text": [
      " 39%|███▉      | 5280/13395 [4:53:08<4:03:58,  1.80s/it] "
     ]
    },
    {
     "name": "stdout",
     "output_type": "stream",
     "text": [
      "Saving intermediary results in temp_keep and temp_finished, set rerun=True to restart api query from latest backup.\n"
     ]
    },
    {
     "name": "stderr",
     "output_type": "stream",
     "text": [
      " 40%|███▉      | 5300/13395 [4:53:56<3:26:24,  1.53s/it] "
     ]
    },
    {
     "name": "stdout",
     "output_type": "stream",
     "text": [
      "Saving intermediary results in temp_keep and temp_finished, set rerun=True to restart api query from latest backup.\n"
     ]
    },
    {
     "name": "stderr",
     "output_type": "stream",
     "text": [
      " 40%|███▉      | 5320/13395 [4:55:20<5:39:55,  2.53s/it] "
     ]
    },
    {
     "name": "stdout",
     "output_type": "stream",
     "text": [
      "Saving intermediary results in temp_keep and temp_finished, set rerun=True to restart api query from latest backup.\n"
     ]
    },
    {
     "name": "stderr",
     "output_type": "stream",
     "text": [
      " 40%|███▉      | 5340/13395 [4:56:29<5:53:19,  2.63s/it] "
     ]
    },
    {
     "name": "stdout",
     "output_type": "stream",
     "text": [
      "Saving intermediary results in temp_keep and temp_finished, set rerun=True to restart api query from latest backup.\n"
     ]
    },
    {
     "name": "stderr",
     "output_type": "stream",
     "text": [
      " 40%|████      | 5360/13395 [4:57:17<5:27:58,  2.45s/it]"
     ]
    },
    {
     "name": "stdout",
     "output_type": "stream",
     "text": [
      "Saving intermediary results in temp_keep and temp_finished, set rerun=True to restart api query from latest backup.\n"
     ]
    },
    {
     "name": "stderr",
     "output_type": "stream",
     "text": [
      " 40%|████      | 5380/13395 [4:58:19<8:48:57,  3.96s/it] "
     ]
    },
    {
     "name": "stdout",
     "output_type": "stream",
     "text": [
      "Saving intermediary results in temp_keep and temp_finished, set rerun=True to restart api query from latest backup.\n"
     ]
    },
    {
     "name": "stderr",
     "output_type": "stream",
     "text": [
      " 40%|████      | 5400/13395 [4:59:28<6:53:28,  3.10s/it] "
     ]
    },
    {
     "name": "stdout",
     "output_type": "stream",
     "text": [
      "Saving intermediary results in temp_keep and temp_finished, set rerun=True to restart api query from latest backup.\n"
     ]
    },
    {
     "name": "stderr",
     "output_type": "stream",
     "text": [
      " 40%|████      | 5420/13395 [5:00:49<12:18:17,  5.55s/it]"
     ]
    },
    {
     "name": "stdout",
     "output_type": "stream",
     "text": [
      "Saving intermediary results in temp_keep and temp_finished, set rerun=True to restart api query from latest backup.\n"
     ]
    },
    {
     "name": "stderr",
     "output_type": "stream",
     "text": [
      " 41%|████      | 5440/13395 [5:02:14<12:28:30,  5.65s/it]"
     ]
    },
    {
     "name": "stdout",
     "output_type": "stream",
     "text": [
      "Saving intermediary results in temp_keep and temp_finished, set rerun=True to restart api query from latest backup.\n"
     ]
    },
    {
     "name": "stderr",
     "output_type": "stream",
     "text": [
      " 41%|████      | 5460/13395 [5:03:37<24:15:21, 11.00s/it]"
     ]
    },
    {
     "name": "stdout",
     "output_type": "stream",
     "text": [
      "Saving intermediary results in temp_keep and temp_finished, set rerun=True to restart api query from latest backup.\n"
     ]
    },
    {
     "name": "stderr",
     "output_type": "stream",
     "text": [
      " 41%|████      | 5480/13395 [5:04:48<6:40:56,  3.04s/it] "
     ]
    },
    {
     "name": "stdout",
     "output_type": "stream",
     "text": [
      "Saving intermediary results in temp_keep and temp_finished, set rerun=True to restart api query from latest backup.\n"
     ]
    },
    {
     "name": "stderr",
     "output_type": "stream",
     "text": [
      " 41%|████      | 5500/13395 [5:06:11<5:45:35,  2.63s/it] "
     ]
    },
    {
     "name": "stdout",
     "output_type": "stream",
     "text": [
      "Saving intermediary results in temp_keep and temp_finished, set rerun=True to restart api query from latest backup.\n"
     ]
    },
    {
     "name": "stderr",
     "output_type": "stream",
     "text": [
      " 41%|████      | 5520/13395 [5:07:26<7:35:56,  3.47s/it] "
     ]
    },
    {
     "name": "stdout",
     "output_type": "stream",
     "text": [
      "Saving intermediary results in temp_keep and temp_finished, set rerun=True to restart api query from latest backup.\n"
     ]
    },
    {
     "name": "stderr",
     "output_type": "stream",
     "text": [
      " 41%|████▏     | 5540/13395 [5:08:34<4:20:29,  1.99s/it] "
     ]
    },
    {
     "name": "stdout",
     "output_type": "stream",
     "text": [
      "Saving intermediary results in temp_keep and temp_finished, set rerun=True to restart api query from latest backup.\n"
     ]
    },
    {
     "name": "stderr",
     "output_type": "stream",
     "text": [
      " 42%|████▏     | 5560/13395 [5:09:39<10:11:24,  4.68s/it]"
     ]
    },
    {
     "name": "stdout",
     "output_type": "stream",
     "text": [
      "Saving intermediary results in temp_keep and temp_finished, set rerun=True to restart api query from latest backup.\n"
     ]
    },
    {
     "name": "stderr",
     "output_type": "stream",
     "text": [
      " 42%|████▏     | 5580/13395 [5:10:42<5:21:23,  2.47s/it] "
     ]
    },
    {
     "name": "stdout",
     "output_type": "stream",
     "text": [
      "Saving intermediary results in temp_keep and temp_finished, set rerun=True to restart api query from latest backup.\n"
     ]
    },
    {
     "name": "stderr",
     "output_type": "stream",
     "text": [
      " 42%|████▏     | 5600/13395 [5:11:27<5:05:00,  2.35s/it]"
     ]
    },
    {
     "name": "stdout",
     "output_type": "stream",
     "text": [
      "Saving intermediary results in temp_keep and temp_finished, set rerun=True to restart api query from latest backup.\n"
     ]
    },
    {
     "name": "stderr",
     "output_type": "stream",
     "text": [
      " 42%|████▏     | 5620/13395 [5:12:33<7:22:19,  3.41s/it] "
     ]
    },
    {
     "name": "stdout",
     "output_type": "stream",
     "text": [
      "Saving intermediary results in temp_keep and temp_finished, set rerun=True to restart api query from latest backup.\n"
     ]
    },
    {
     "name": "stderr",
     "output_type": "stream",
     "text": [
      " 42%|████▏     | 5640/13395 [5:14:00<5:23:32,  2.50s/it] "
     ]
    },
    {
     "name": "stdout",
     "output_type": "stream",
     "text": [
      "Saving intermediary results in temp_keep and temp_finished, set rerun=True to restart api query from latest backup.\n"
     ]
    },
    {
     "name": "stderr",
     "output_type": "stream",
     "text": [
      " 42%|████▏     | 5660/13395 [5:15:13<8:24:59,  3.92s/it]"
     ]
    },
    {
     "name": "stdout",
     "output_type": "stream",
     "text": [
      "Saving intermediary results in temp_keep and temp_finished, set rerun=True to restart api query from latest backup.\n"
     ]
    },
    {
     "name": "stderr",
     "output_type": "stream",
     "text": [
      " 42%|████▏     | 5680/13395 [5:16:02<5:59:43,  2.80s/it] "
     ]
    },
    {
     "name": "stdout",
     "output_type": "stream",
     "text": [
      "Saving intermediary results in temp_keep and temp_finished, set rerun=True to restart api query from latest backup.\n"
     ]
    },
    {
     "name": "stderr",
     "output_type": "stream",
     "text": [
      " 43%|████▎     | 5700/13395 [5:17:08<7:20:25,  3.43s/it] "
     ]
    },
    {
     "name": "stdout",
     "output_type": "stream",
     "text": [
      "Saving intermediary results in temp_keep and temp_finished, set rerun=True to restart api query from latest backup.\n"
     ]
    },
    {
     "name": "stderr",
     "output_type": "stream",
     "text": [
      " 43%|████▎     | 5720/13395 [5:17:48<4:09:52,  1.95s/it]"
     ]
    },
    {
     "name": "stdout",
     "output_type": "stream",
     "text": [
      "Saving intermediary results in temp_keep and temp_finished, set rerun=True to restart api query from latest backup.\n"
     ]
    },
    {
     "name": "stderr",
     "output_type": "stream",
     "text": [
      " 43%|████▎     | 5740/13395 [5:18:35<5:19:51,  2.51s/it]"
     ]
    },
    {
     "name": "stdout",
     "output_type": "stream",
     "text": [
      "Saving intermediary results in temp_keep and temp_finished, set rerun=True to restart api query from latest backup.\n"
     ]
    },
    {
     "name": "stderr",
     "output_type": "stream",
     "text": [
      " 43%|████▎     | 5760/13395 [5:19:41<8:06:32,  3.82s/it] "
     ]
    },
    {
     "name": "stdout",
     "output_type": "stream",
     "text": [
      "Saving intermediary results in temp_keep and temp_finished, set rerun=True to restart api query from latest backup.\n"
     ]
    },
    {
     "name": "stderr",
     "output_type": "stream",
     "text": [
      " 43%|████▎     | 5780/13395 [5:20:29<5:32:47,  2.62s/it]"
     ]
    },
    {
     "name": "stdout",
     "output_type": "stream",
     "text": [
      "Saving intermediary results in temp_keep and temp_finished, set rerun=True to restart api query from latest backup.\n"
     ]
    },
    {
     "name": "stderr",
     "output_type": "stream",
     "text": [
      " 43%|████▎     | 5800/13395 [5:22:49<4:43:32,  2.24s/it] "
     ]
    },
    {
     "name": "stdout",
     "output_type": "stream",
     "text": [
      "Saving intermediary results in temp_keep and temp_finished, set rerun=True to restart api query from latest backup.\n"
     ]
    },
    {
     "name": "stderr",
     "output_type": "stream",
     "text": [
      " 43%|████▎     | 5820/13395 [5:23:49<8:01:17,  3.81s/it]"
     ]
    },
    {
     "name": "stdout",
     "output_type": "stream",
     "text": [
      "Saving intermediary results in temp_keep and temp_finished, set rerun=True to restart api query from latest backup.\n"
     ]
    },
    {
     "name": "stderr",
     "output_type": "stream",
     "text": [
      " 44%|████▎     | 5840/13395 [5:24:29<3:32:53,  1.69s/it]"
     ]
    },
    {
     "name": "stdout",
     "output_type": "stream",
     "text": [
      "Saving intermediary results in temp_keep and temp_finished, set rerun=True to restart api query from latest backup.\n"
     ]
    },
    {
     "name": "stderr",
     "output_type": "stream",
     "text": [
      " 44%|████▎     | 5860/13395 [5:25:39<4:40:24,  2.23s/it] "
     ]
    },
    {
     "name": "stdout",
     "output_type": "stream",
     "text": [
      "Saving intermediary results in temp_keep and temp_finished, set rerun=True to restart api query from latest backup.\n"
     ]
    },
    {
     "name": "stderr",
     "output_type": "stream",
     "text": [
      " 44%|████▍     | 5880/13395 [5:27:15<5:23:04,  2.58s/it] "
     ]
    },
    {
     "name": "stdout",
     "output_type": "stream",
     "text": [
      "Saving intermediary results in temp_keep and temp_finished, set rerun=True to restart api query from latest backup.\n"
     ]
    },
    {
     "name": "stderr",
     "output_type": "stream",
     "text": [
      " 44%|████▍     | 5900/13395 [5:27:51<3:14:21,  1.56s/it]"
     ]
    },
    {
     "name": "stdout",
     "output_type": "stream",
     "text": [
      "Saving intermediary results in temp_keep and temp_finished, set rerun=True to restart api query from latest backup.\n"
     ]
    },
    {
     "name": "stderr",
     "output_type": "stream",
     "text": [
      " 44%|████▍     | 5920/13395 [5:29:16<4:42:43,  2.27s/it] "
     ]
    },
    {
     "name": "stdout",
     "output_type": "stream",
     "text": [
      "Saving intermediary results in temp_keep and temp_finished, set rerun=True to restart api query from latest backup.\n"
     ]
    },
    {
     "name": "stderr",
     "output_type": "stream",
     "text": [
      " 44%|████▍     | 5940/13395 [5:30:23<6:33:30,  3.17s/it] "
     ]
    },
    {
     "name": "stdout",
     "output_type": "stream",
     "text": [
      "Saving intermediary results in temp_keep and temp_finished, set rerun=True to restart api query from latest backup.\n"
     ]
    },
    {
     "name": "stderr",
     "output_type": "stream",
     "text": [
      " 44%|████▍     | 5960/13395 [5:31:27<9:12:49,  4.46s/it]"
     ]
    },
    {
     "name": "stdout",
     "output_type": "stream",
     "text": [
      "Saving intermediary results in temp_keep and temp_finished, set rerun=True to restart api query from latest backup.\n"
     ]
    },
    {
     "name": "stderr",
     "output_type": "stream",
     "text": [
      " 45%|████▍     | 5980/13395 [5:32:22<5:30:50,  2.68s/it] "
     ]
    },
    {
     "name": "stdout",
     "output_type": "stream",
     "text": [
      "Saving intermediary results in temp_keep and temp_finished, set rerun=True to restart api query from latest backup.\n"
     ]
    },
    {
     "name": "stderr",
     "output_type": "stream",
     "text": [
      " 45%|████▍     | 6000/13395 [5:33:36<6:32:05,  3.18s/it] "
     ]
    },
    {
     "name": "stdout",
     "output_type": "stream",
     "text": [
      "Saving intermediary results in temp_keep and temp_finished, set rerun=True to restart api query from latest backup.\n"
     ]
    },
    {
     "name": "stderr",
     "output_type": "stream",
     "text": [
      " 45%|████▍     | 6020/13395 [5:34:18<4:19:08,  2.11s/it]"
     ]
    },
    {
     "name": "stdout",
     "output_type": "stream",
     "text": [
      "Saving intermediary results in temp_keep and temp_finished, set rerun=True to restart api query from latest backup.\n"
     ]
    },
    {
     "name": "stderr",
     "output_type": "stream",
     "text": [
      " 45%|████▌     | 6040/13395 [5:35:19<13:51:12,  6.78s/it]"
     ]
    },
    {
     "name": "stdout",
     "output_type": "stream",
     "text": [
      "Saving intermediary results in temp_keep and temp_finished, set rerun=True to restart api query from latest backup.\n"
     ]
    },
    {
     "name": "stderr",
     "output_type": "stream",
     "text": [
      " 45%|████▌     | 6060/13395 [5:36:16<6:04:18,  2.98s/it] "
     ]
    },
    {
     "name": "stdout",
     "output_type": "stream",
     "text": [
      "Saving intermediary results in temp_keep and temp_finished, set rerun=True to restart api query from latest backup.\n"
     ]
    },
    {
     "name": "stderr",
     "output_type": "stream",
     "text": [
      " 45%|████▌     | 6080/13395 [5:37:11<5:51:25,  2.88s/it]"
     ]
    },
    {
     "name": "stdout",
     "output_type": "stream",
     "text": [
      "Saving intermediary results in temp_keep and temp_finished, set rerun=True to restart api query from latest backup.\n"
     ]
    },
    {
     "name": "stderr",
     "output_type": "stream",
     "text": [
      " 46%|████▌     | 6100/13395 [5:38:41<10:27:16,  5.16s/it]"
     ]
    },
    {
     "name": "stdout",
     "output_type": "stream",
     "text": [
      "Saving intermediary results in temp_keep and temp_finished, set rerun=True to restart api query from latest backup.\n"
     ]
    },
    {
     "name": "stderr",
     "output_type": "stream",
     "text": [
      " 46%|████▌     | 6120/13395 [5:39:38<3:38:36,  1.80s/it] "
     ]
    },
    {
     "name": "stdout",
     "output_type": "stream",
     "text": [
      "Saving intermediary results in temp_keep and temp_finished, set rerun=True to restart api query from latest backup.\n"
     ]
    },
    {
     "name": "stderr",
     "output_type": "stream",
     "text": [
      " 46%|████▌     | 6140/13395 [5:40:26<3:34:28,  1.77s/it]"
     ]
    },
    {
     "name": "stdout",
     "output_type": "stream",
     "text": [
      "Saving intermediary results in temp_keep and temp_finished, set rerun=True to restart api query from latest backup.\n"
     ]
    },
    {
     "name": "stderr",
     "output_type": "stream",
     "text": [
      " 46%|████▌     | 6160/13395 [5:41:39<5:54:49,  2.94s/it] "
     ]
    },
    {
     "name": "stdout",
     "output_type": "stream",
     "text": [
      "Saving intermediary results in temp_keep and temp_finished, set rerun=True to restart api query from latest backup.\n"
     ]
    },
    {
     "name": "stderr",
     "output_type": "stream",
     "text": [
      " 46%|████▌     | 6180/13395 [5:43:43<8:04:34,  4.03s/it] "
     ]
    },
    {
     "name": "stdout",
     "output_type": "stream",
     "text": [
      "Saving intermediary results in temp_keep and temp_finished, set rerun=True to restart api query from latest backup.\n"
     ]
    },
    {
     "name": "stderr",
     "output_type": "stream",
     "text": [
      " 46%|████▋     | 6200/13395 [5:44:28<5:31:46,  2.77s/it]"
     ]
    },
    {
     "name": "stdout",
     "output_type": "stream",
     "text": [
      "Saving intermediary results in temp_keep and temp_finished, set rerun=True to restart api query from latest backup.\n"
     ]
    },
    {
     "name": "stderr",
     "output_type": "stream",
     "text": [
      " 46%|████▋     | 6220/13395 [5:46:21<8:40:46,  4.35s/it] "
     ]
    },
    {
     "name": "stdout",
     "output_type": "stream",
     "text": [
      "Saving intermediary results in temp_keep and temp_finished, set rerun=True to restart api query from latest backup.\n"
     ]
    },
    {
     "name": "stderr",
     "output_type": "stream",
     "text": [
      " 47%|████▋     | 6240/13395 [5:47:04<4:36:49,  2.32s/it]"
     ]
    },
    {
     "name": "stdout",
     "output_type": "stream",
     "text": [
      "Saving intermediary results in temp_keep and temp_finished, set rerun=True to restart api query from latest backup.\n"
     ]
    },
    {
     "name": "stderr",
     "output_type": "stream",
     "text": [
      " 47%|████▋     | 6260/13395 [5:48:04<4:10:11,  2.10s/it] "
     ]
    },
    {
     "name": "stdout",
     "output_type": "stream",
     "text": [
      "Saving intermediary results in temp_keep and temp_finished, set rerun=True to restart api query from latest backup.\n"
     ]
    },
    {
     "name": "stderr",
     "output_type": "stream",
     "text": [
      " 47%|████▋     | 6280/13395 [5:48:49<3:11:03,  1.61s/it]"
     ]
    },
    {
     "name": "stdout",
     "output_type": "stream",
     "text": [
      "Saving intermediary results in temp_keep and temp_finished, set rerun=True to restart api query from latest backup.\n"
     ]
    },
    {
     "name": "stderr",
     "output_type": "stream",
     "text": [
      " 47%|████▋     | 6300/13395 [5:49:56<3:48:57,  1.94s/it] "
     ]
    },
    {
     "name": "stdout",
     "output_type": "stream",
     "text": [
      "Saving intermediary results in temp_keep and temp_finished, set rerun=True to restart api query from latest backup.\n"
     ]
    },
    {
     "name": "stderr",
     "output_type": "stream",
     "text": [
      " 47%|████▋     | 6320/13395 [5:50:58<7:45:11,  3.95s/it]"
     ]
    },
    {
     "name": "stdout",
     "output_type": "stream",
     "text": [
      "Saving intermediary results in temp_keep and temp_finished, set rerun=True to restart api query from latest backup.\n"
     ]
    },
    {
     "name": "stderr",
     "output_type": "stream",
     "text": [
      " 47%|████▋     | 6340/13395 [5:52:31<4:31:03,  2.31s/it] "
     ]
    },
    {
     "name": "stdout",
     "output_type": "stream",
     "text": [
      "Saving intermediary results in temp_keep and temp_finished, set rerun=True to restart api query from latest backup.\n"
     ]
    },
    {
     "name": "stderr",
     "output_type": "stream",
     "text": [
      " 47%|████▋     | 6360/13395 [5:53:45<4:53:16,  2.50s/it] "
     ]
    },
    {
     "name": "stdout",
     "output_type": "stream",
     "text": [
      "Saving intermediary results in temp_keep and temp_finished, set rerun=True to restart api query from latest backup.\n"
     ]
    },
    {
     "name": "stderr",
     "output_type": "stream",
     "text": [
      " 48%|████▊     | 6380/13395 [5:54:40<5:51:22,  3.01s/it]"
     ]
    },
    {
     "name": "stdout",
     "output_type": "stream",
     "text": [
      "Saving intermediary results in temp_keep and temp_finished, set rerun=True to restart api query from latest backup.\n"
     ]
    },
    {
     "name": "stderr",
     "output_type": "stream",
     "text": [
      " 48%|████▊     | 6400/13395 [5:55:33<4:44:59,  2.44s/it]"
     ]
    },
    {
     "name": "stdout",
     "output_type": "stream",
     "text": [
      "Saving intermediary results in temp_keep and temp_finished, set rerun=True to restart api query from latest backup.\n"
     ]
    },
    {
     "name": "stderr",
     "output_type": "stream",
     "text": [
      " 48%|████▊     | 6420/13395 [5:56:36<7:26:10,  3.84s/it]"
     ]
    },
    {
     "name": "stdout",
     "output_type": "stream",
     "text": [
      "Saving intermediary results in temp_keep and temp_finished, set rerun=True to restart api query from latest backup.\n"
     ]
    },
    {
     "name": "stderr",
     "output_type": "stream",
     "text": [
      " 48%|████▊     | 6440/13395 [5:57:21<3:16:12,  1.69s/it]"
     ]
    },
    {
     "name": "stdout",
     "output_type": "stream",
     "text": [
      "Saving intermediary results in temp_keep and temp_finished, set rerun=True to restart api query from latest backup.\n"
     ]
    },
    {
     "name": "stderr",
     "output_type": "stream",
     "text": [
      " 48%|████▊     | 6460/13395 [5:58:14<4:29:22,  2.33s/it]"
     ]
    },
    {
     "name": "stdout",
     "output_type": "stream",
     "text": [
      "Saving intermediary results in temp_keep and temp_finished, set rerun=True to restart api query from latest backup.\n"
     ]
    },
    {
     "name": "stderr",
     "output_type": "stream",
     "text": [
      " 48%|████▊     | 6480/13395 [5:59:21<4:48:16,  2.50s/it]"
     ]
    },
    {
     "name": "stdout",
     "output_type": "stream",
     "text": [
      "Saving intermediary results in temp_keep and temp_finished, set rerun=True to restart api query from latest backup.\n"
     ]
    },
    {
     "name": "stderr",
     "output_type": "stream",
     "text": [
      " 49%|████▊     | 6500/13395 [6:00:57<6:25:01,  3.35s/it] "
     ]
    },
    {
     "name": "stdout",
     "output_type": "stream",
     "text": [
      "Saving intermediary results in temp_keep and temp_finished, set rerun=True to restart api query from latest backup.\n"
     ]
    },
    {
     "name": "stderr",
     "output_type": "stream",
     "text": [
      " 49%|████▊     | 6520/13395 [6:01:45<4:06:48,  2.15s/it]"
     ]
    },
    {
     "name": "stdout",
     "output_type": "stream",
     "text": [
      "Saving intermediary results in temp_keep and temp_finished, set rerun=True to restart api query from latest backup.\n"
     ]
    },
    {
     "name": "stderr",
     "output_type": "stream",
     "text": [
      " 49%|████▉     | 6540/13395 [6:02:37<4:47:37,  2.52s/it]"
     ]
    },
    {
     "name": "stdout",
     "output_type": "stream",
     "text": [
      "Saving intermediary results in temp_keep and temp_finished, set rerun=True to restart api query from latest backup.\n"
     ]
    },
    {
     "name": "stderr",
     "output_type": "stream",
     "text": [
      " 49%|████▉     | 6560/13395 [6:03:23<4:30:12,  2.37s/it]"
     ]
    },
    {
     "name": "stdout",
     "output_type": "stream",
     "text": [
      "Saving intermediary results in temp_keep and temp_finished, set rerun=True to restart api query from latest backup.\n"
     ]
    },
    {
     "name": "stderr",
     "output_type": "stream",
     "text": [
      " 49%|████▉     | 6580/13395 [6:04:35<5:48:50,  3.07s/it] "
     ]
    },
    {
     "name": "stdout",
     "output_type": "stream",
     "text": [
      "Saving intermediary results in temp_keep and temp_finished, set rerun=True to restart api query from latest backup.\n"
     ]
    },
    {
     "name": "stderr",
     "output_type": "stream",
     "text": [
      " 49%|████▉     | 6600/13395 [6:05:58<4:50:28,  2.56s/it] "
     ]
    },
    {
     "name": "stdout",
     "output_type": "stream",
     "text": [
      "Saving intermediary results in temp_keep and temp_finished, set rerun=True to restart api query from latest backup.\n"
     ]
    },
    {
     "name": "stderr",
     "output_type": "stream",
     "text": [
      " 49%|████▉     | 6620/13395 [6:06:58<5:06:45,  2.72s/it] "
     ]
    },
    {
     "name": "stdout",
     "output_type": "stream",
     "text": [
      "Saving intermediary results in temp_keep and temp_finished, set rerun=True to restart api query from latest backup.\n"
     ]
    },
    {
     "name": "stderr",
     "output_type": "stream",
     "text": [
      " 50%|████▉     | 6640/13395 [6:08:06<8:19:00,  4.43s/it] "
     ]
    },
    {
     "name": "stdout",
     "output_type": "stream",
     "text": [
      "Saving intermediary results in temp_keep and temp_finished, set rerun=True to restart api query from latest backup.\n"
     ]
    },
    {
     "name": "stderr",
     "output_type": "stream",
     "text": [
      " 50%|████▉     | 6660/13395 [6:08:48<3:21:05,  1.79s/it]"
     ]
    },
    {
     "name": "stdout",
     "output_type": "stream",
     "text": [
      "Saving intermediary results in temp_keep and temp_finished, set rerun=True to restart api query from latest backup.\n"
     ]
    },
    {
     "name": "stderr",
     "output_type": "stream",
     "text": [
      " 50%|████▉     | 6680/13395 [6:09:38<8:42:22,  4.67s/it] "
     ]
    },
    {
     "name": "stdout",
     "output_type": "stream",
     "text": [
      "Saving intermediary results in temp_keep and temp_finished, set rerun=True to restart api query from latest backup.\n"
     ]
    },
    {
     "name": "stderr",
     "output_type": "stream",
     "text": [
      " 50%|█████     | 6700/13395 [6:10:23<3:39:23,  1.97s/it]"
     ]
    },
    {
     "name": "stdout",
     "output_type": "stream",
     "text": [
      "Saving intermediary results in temp_keep and temp_finished, set rerun=True to restart api query from latest backup.\n"
     ]
    },
    {
     "name": "stderr",
     "output_type": "stream",
     "text": [
      " 50%|█████     | 6720/13395 [6:11:30<5:02:54,  2.72s/it] "
     ]
    },
    {
     "name": "stdout",
     "output_type": "stream",
     "text": [
      "Saving intermediary results in temp_keep and temp_finished, set rerun=True to restart api query from latest backup.\n"
     ]
    },
    {
     "name": "stderr",
     "output_type": "stream",
     "text": [
      " 50%|█████     | 6740/13395 [6:12:38<5:56:37,  3.22s/it] "
     ]
    },
    {
     "name": "stdout",
     "output_type": "stream",
     "text": [
      "Saving intermediary results in temp_keep and temp_finished, set rerun=True to restart api query from latest backup.\n"
     ]
    },
    {
     "name": "stderr",
     "output_type": "stream",
     "text": [
      " 50%|█████     | 6760/13395 [6:13:45<5:26:41,  2.95s/it] "
     ]
    },
    {
     "name": "stdout",
     "output_type": "stream",
     "text": [
      "Saving intermediary results in temp_keep and temp_finished, set rerun=True to restart api query from latest backup.\n"
     ]
    },
    {
     "name": "stderr",
     "output_type": "stream",
     "text": [
      " 51%|█████     | 6780/13395 [6:14:35<3:33:24,  1.94s/it]"
     ]
    },
    {
     "name": "stdout",
     "output_type": "stream",
     "text": [
      "Saving intermediary results in temp_keep and temp_finished, set rerun=True to restart api query from latest backup.\n"
     ]
    },
    {
     "name": "stderr",
     "output_type": "stream",
     "text": [
      " 51%|█████     | 6800/13395 [6:15:27<5:20:06,  2.91s/it]"
     ]
    },
    {
     "name": "stdout",
     "output_type": "stream",
     "text": [
      "Saving intermediary results in temp_keep and temp_finished, set rerun=True to restart api query from latest backup.\n"
     ]
    },
    {
     "name": "stderr",
     "output_type": "stream",
     "text": [
      " 51%|█████     | 6820/13395 [6:16:19<5:08:13,  2.81s/it]"
     ]
    },
    {
     "name": "stdout",
     "output_type": "stream",
     "text": [
      "Saving intermediary results in temp_keep and temp_finished, set rerun=True to restart api query from latest backup.\n"
     ]
    },
    {
     "name": "stderr",
     "output_type": "stream",
     "text": [
      " 51%|█████     | 6840/13395 [6:18:20<18:48:11, 10.33s/it]"
     ]
    },
    {
     "name": "stdout",
     "output_type": "stream",
     "text": [
      "Saving intermediary results in temp_keep and temp_finished, set rerun=True to restart api query from latest backup.\n"
     ]
    },
    {
     "name": "stderr",
     "output_type": "stream",
     "text": [
      " 51%|█████     | 6860/13395 [6:20:06<5:11:24,  2.86s/it] "
     ]
    },
    {
     "name": "stdout",
     "output_type": "stream",
     "text": [
      "Saving intermediary results in temp_keep and temp_finished, set rerun=True to restart api query from latest backup.\n"
     ]
    },
    {
     "name": "stderr",
     "output_type": "stream",
     "text": [
      " 51%|█████▏    | 6880/13395 [6:21:11<5:30:46,  3.05s/it] "
     ]
    },
    {
     "name": "stdout",
     "output_type": "stream",
     "text": [
      "Saving intermediary results in temp_keep and temp_finished, set rerun=True to restart api query from latest backup.\n"
     ]
    },
    {
     "name": "stderr",
     "output_type": "stream",
     "text": [
      " 52%|█████▏    | 6900/13395 [6:22:29<7:01:27,  3.89s/it] "
     ]
    },
    {
     "name": "stdout",
     "output_type": "stream",
     "text": [
      "Saving intermediary results in temp_keep and temp_finished, set rerun=True to restart api query from latest backup.\n"
     ]
    },
    {
     "name": "stderr",
     "output_type": "stream",
     "text": [
      " 52%|█████▏    | 6920/13395 [6:23:40<7:32:02,  4.19s/it] "
     ]
    },
    {
     "name": "stdout",
     "output_type": "stream",
     "text": [
      "Saving intermediary results in temp_keep and temp_finished, set rerun=True to restart api query from latest backup.\n"
     ]
    },
    {
     "name": "stderr",
     "output_type": "stream",
     "text": [
      " 52%|█████▏    | 6940/13395 [6:24:42<3:51:25,  2.15s/it]"
     ]
    },
    {
     "name": "stdout",
     "output_type": "stream",
     "text": [
      "Saving intermediary results in temp_keep and temp_finished, set rerun=True to restart api query from latest backup.\n"
     ]
    },
    {
     "name": "stderr",
     "output_type": "stream",
     "text": [
      " 52%|█████▏    | 6960/13395 [6:25:40<3:41:39,  2.07s/it]"
     ]
    },
    {
     "name": "stdout",
     "output_type": "stream",
     "text": [
      "Saving intermediary results in temp_keep and temp_finished, set rerun=True to restart api query from latest backup.\n"
     ]
    },
    {
     "name": "stderr",
     "output_type": "stream",
     "text": [
      " 52%|█████▏    | 6980/13395 [6:26:43<5:30:36,  3.09s/it] "
     ]
    },
    {
     "name": "stdout",
     "output_type": "stream",
     "text": [
      "Saving intermediary results in temp_keep and temp_finished, set rerun=True to restart api query from latest backup.\n"
     ]
    },
    {
     "name": "stderr",
     "output_type": "stream",
     "text": [
      " 52%|█████▏    | 7000/13395 [6:27:35<5:48:07,  3.27s/it]"
     ]
    },
    {
     "name": "stdout",
     "output_type": "stream",
     "text": [
      "Saving intermediary results in temp_keep and temp_finished, set rerun=True to restart api query from latest backup.\n"
     ]
    },
    {
     "name": "stderr",
     "output_type": "stream",
     "text": [
      " 52%|█████▏    | 7020/13395 [6:28:24<3:30:34,  1.98s/it]"
     ]
    },
    {
     "name": "stdout",
     "output_type": "stream",
     "text": [
      "Saving intermediary results in temp_keep and temp_finished, set rerun=True to restart api query from latest backup.\n"
     ]
    },
    {
     "name": "stderr",
     "output_type": "stream",
     "text": [
      " 53%|█████▎    | 7040/13395 [6:30:01<3:32:37,  2.01s/it] "
     ]
    },
    {
     "name": "stdout",
     "output_type": "stream",
     "text": [
      "Saving intermediary results in temp_keep and temp_finished, set rerun=True to restart api query from latest backup.\n"
     ]
    },
    {
     "name": "stderr",
     "output_type": "stream",
     "text": [
      " 53%|█████▎    | 7060/13395 [6:30:56<7:26:23,  4.23s/it]"
     ]
    },
    {
     "name": "stdout",
     "output_type": "stream",
     "text": [
      "Saving intermediary results in temp_keep and temp_finished, set rerun=True to restart api query from latest backup.\n"
     ]
    },
    {
     "name": "stderr",
     "output_type": "stream",
     "text": [
      " 53%|█████▎    | 7080/13395 [6:32:10<5:41:38,  3.25s/it] "
     ]
    },
    {
     "name": "stdout",
     "output_type": "stream",
     "text": [
      "Saving intermediary results in temp_keep and temp_finished, set rerun=True to restart api query from latest backup.\n"
     ]
    },
    {
     "name": "stderr",
     "output_type": "stream",
     "text": [
      " 53%|█████▎    | 7100/13395 [6:33:54<6:40:13,  3.81s/it] "
     ]
    },
    {
     "name": "stdout",
     "output_type": "stream",
     "text": [
      "Saving intermediary results in temp_keep and temp_finished, set rerun=True to restart api query from latest backup.\n"
     ]
    },
    {
     "name": "stderr",
     "output_type": "stream",
     "text": [
      " 53%|█████▎    | 7120/13395 [6:34:50<3:14:23,  1.86s/it]"
     ]
    },
    {
     "name": "stdout",
     "output_type": "stream",
     "text": [
      "Saving intermediary results in temp_keep and temp_finished, set rerun=True to restart api query from latest backup.\n"
     ]
    },
    {
     "name": "stderr",
     "output_type": "stream",
     "text": [
      " 53%|█████▎    | 7140/13395 [6:36:13<2:43:54,  1.57s/it] "
     ]
    },
    {
     "name": "stdout",
     "output_type": "stream",
     "text": [
      "Saving intermediary results in temp_keep and temp_finished, set rerun=True to restart api query from latest backup.\n"
     ]
    },
    {
     "name": "stderr",
     "output_type": "stream",
     "text": [
      " 53%|█████▎    | 7160/13395 [6:37:13<7:07:45,  4.12s/it] "
     ]
    },
    {
     "name": "stdout",
     "output_type": "stream",
     "text": [
      "Saving intermediary results in temp_keep and temp_finished, set rerun=True to restart api query from latest backup.\n"
     ]
    },
    {
     "name": "stderr",
     "output_type": "stream",
     "text": [
      " 54%|█████▎    | 7180/13395 [6:38:08<4:40:08,  2.70s/it]"
     ]
    },
    {
     "name": "stdout",
     "output_type": "stream",
     "text": [
      "Saving intermediary results in temp_keep and temp_finished, set rerun=True to restart api query from latest backup.\n"
     ]
    },
    {
     "name": "stderr",
     "output_type": "stream",
     "text": [
      " 54%|█████▍    | 7200/13395 [6:39:14<6:22:45,  3.71s/it]"
     ]
    },
    {
     "name": "stdout",
     "output_type": "stream",
     "text": [
      "Saving intermediary results in temp_keep and temp_finished, set rerun=True to restart api query from latest backup.\n"
     ]
    },
    {
     "name": "stderr",
     "output_type": "stream",
     "text": [
      " 54%|█████▍    | 7220/13395 [6:41:44<17:09:34, 10.00s/it]"
     ]
    },
    {
     "name": "stdout",
     "output_type": "stream",
     "text": [
      "Saving intermediary results in temp_keep and temp_finished, set rerun=True to restart api query from latest backup.\n"
     ]
    },
    {
     "name": "stderr",
     "output_type": "stream",
     "text": [
      " 54%|█████▍    | 7240/13395 [6:42:43<6:28:47,  3.79s/it] "
     ]
    },
    {
     "name": "stdout",
     "output_type": "stream",
     "text": [
      "Saving intermediary results in temp_keep and temp_finished, set rerun=True to restart api query from latest backup.\n"
     ]
    },
    {
     "name": "stderr",
     "output_type": "stream",
     "text": [
      " 54%|█████▍    | 7260/13395 [6:43:41<3:21:30,  1.97s/it] "
     ]
    },
    {
     "name": "stdout",
     "output_type": "stream",
     "text": [
      "Saving intermediary results in temp_keep and temp_finished, set rerun=True to restart api query from latest backup.\n"
     ]
    },
    {
     "name": "stderr",
     "output_type": "stream",
     "text": [
      " 54%|█████▍    | 7280/13395 [6:44:29<3:39:56,  2.16s/it]"
     ]
    },
    {
     "name": "stdout",
     "output_type": "stream",
     "text": [
      "Saving intermediary results in temp_keep and temp_finished, set rerun=True to restart api query from latest backup.\n"
     ]
    },
    {
     "name": "stderr",
     "output_type": "stream",
     "text": [
      " 54%|█████▍    | 7300/13395 [6:45:29<5:04:54,  3.00s/it]"
     ]
    },
    {
     "name": "stdout",
     "output_type": "stream",
     "text": [
      "Saving intermediary results in temp_keep and temp_finished, set rerun=True to restart api query from latest backup.\n"
     ]
    },
    {
     "name": "stderr",
     "output_type": "stream",
     "text": [
      " 55%|█████▍    | 7320/13395 [6:46:16<4:49:54,  2.86s/it]"
     ]
    },
    {
     "name": "stdout",
     "output_type": "stream",
     "text": [
      "Saving intermediary results in temp_keep and temp_finished, set rerun=True to restart api query from latest backup.\n"
     ]
    },
    {
     "name": "stderr",
     "output_type": "stream",
     "text": [
      " 55%|█████▍    | 7340/13395 [6:47:02<5:19:55,  3.17s/it]"
     ]
    },
    {
     "name": "stdout",
     "output_type": "stream",
     "text": [
      "Saving intermediary results in temp_keep and temp_finished, set rerun=True to restart api query from latest backup.\n"
     ]
    },
    {
     "name": "stderr",
     "output_type": "stream",
     "text": [
      " 55%|█████▍    | 7360/13395 [6:48:10<4:10:44,  2.49s/it] "
     ]
    },
    {
     "name": "stdout",
     "output_type": "stream",
     "text": [
      "Saving intermediary results in temp_keep and temp_finished, set rerun=True to restart api query from latest backup.\n"
     ]
    },
    {
     "name": "stderr",
     "output_type": "stream",
     "text": [
      " 55%|█████▌    | 7380/13395 [6:49:12<5:15:01,  3.14s/it]"
     ]
    },
    {
     "name": "stdout",
     "output_type": "stream",
     "text": [
      "Saving intermediary results in temp_keep and temp_finished, set rerun=True to restart api query from latest backup.\n"
     ]
    },
    {
     "name": "stderr",
     "output_type": "stream",
     "text": [
      " 55%|█████▌    | 7400/13395 [6:50:11<5:26:22,  3.27s/it]"
     ]
    },
    {
     "name": "stdout",
     "output_type": "stream",
     "text": [
      "Saving intermediary results in temp_keep and temp_finished, set rerun=True to restart api query from latest backup.\n"
     ]
    },
    {
     "name": "stderr",
     "output_type": "stream",
     "text": [
      " 55%|█████▌    | 7420/13395 [6:51:00<3:13:29,  1.94s/it]"
     ]
    },
    {
     "name": "stdout",
     "output_type": "stream",
     "text": [
      "Saving intermediary results in temp_keep and temp_finished, set rerun=True to restart api query from latest backup.\n"
     ]
    },
    {
     "name": "stderr",
     "output_type": "stream",
     "text": [
      " 56%|█████▌    | 7440/13395 [6:52:17<5:27:28,  3.30s/it] "
     ]
    },
    {
     "name": "stdout",
     "output_type": "stream",
     "text": [
      "Saving intermediary results in temp_keep and temp_finished, set rerun=True to restart api query from latest backup.\n"
     ]
    },
    {
     "name": "stderr",
     "output_type": "stream",
     "text": [
      " 56%|█████▌    | 7460/13395 [6:53:02<3:44:31,  2.27s/it]"
     ]
    },
    {
     "name": "stdout",
     "output_type": "stream",
     "text": [
      "Saving intermediary results in temp_keep and temp_finished, set rerun=True to restart api query from latest backup.\n"
     ]
    },
    {
     "name": "stderr",
     "output_type": "stream",
     "text": [
      " 56%|█████▌    | 7480/13395 [6:53:48<3:51:41,  2.35s/it]"
     ]
    },
    {
     "name": "stdout",
     "output_type": "stream",
     "text": [
      "Saving intermediary results in temp_keep and temp_finished, set rerun=True to restart api query from latest backup.\n"
     ]
    },
    {
     "name": "stderr",
     "output_type": "stream",
     "text": [
      " 56%|█████▌    | 7500/13395 [6:54:37<2:58:50,  1.82s/it]"
     ]
    },
    {
     "name": "stdout",
     "output_type": "stream",
     "text": [
      "Saving intermediary results in temp_keep and temp_finished, set rerun=True to restart api query from latest backup.\n"
     ]
    },
    {
     "name": "stderr",
     "output_type": "stream",
     "text": [
      " 56%|█████▌    | 7520/13395 [6:55:29<4:59:58,  3.06s/it]"
     ]
    },
    {
     "name": "stdout",
     "output_type": "stream",
     "text": [
      "Saving intermediary results in temp_keep and temp_finished, set rerun=True to restart api query from latest backup.\n"
     ]
    },
    {
     "name": "stderr",
     "output_type": "stream",
     "text": [
      " 56%|█████▋    | 7540/13395 [6:56:22<3:39:39,  2.25s/it]"
     ]
    },
    {
     "name": "stdout",
     "output_type": "stream",
     "text": [
      "Saving intermediary results in temp_keep and temp_finished, set rerun=True to restart api query from latest backup.\n"
     ]
    },
    {
     "name": "stderr",
     "output_type": "stream",
     "text": [
      " 56%|█████▋    | 7560/13395 [6:57:26<2:50:59,  1.76s/it]"
     ]
    },
    {
     "name": "stdout",
     "output_type": "stream",
     "text": [
      "Saving intermediary results in temp_keep and temp_finished, set rerun=True to restart api query from latest backup.\n"
     ]
    },
    {
     "name": "stderr",
     "output_type": "stream",
     "text": [
      " 57%|█████▋    | 7580/13395 [6:58:45<5:36:22,  3.47s/it] "
     ]
    },
    {
     "name": "stdout",
     "output_type": "stream",
     "text": [
      "Saving intermediary results in temp_keep and temp_finished, set rerun=True to restart api query from latest backup.\n"
     ]
    },
    {
     "name": "stderr",
     "output_type": "stream",
     "text": [
      " 57%|█████▋    | 7600/13395 [6:59:24<2:46:06,  1.72s/it]"
     ]
    },
    {
     "name": "stdout",
     "output_type": "stream",
     "text": [
      "Saving intermediary results in temp_keep and temp_finished, set rerun=True to restart api query from latest backup.\n"
     ]
    },
    {
     "name": "stderr",
     "output_type": "stream",
     "text": [
      " 57%|█████▋    | 7620/13395 [7:00:02<3:36:02,  2.24s/it]"
     ]
    },
    {
     "name": "stdout",
     "output_type": "stream",
     "text": [
      "Saving intermediary results in temp_keep and temp_finished, set rerun=True to restart api query from latest backup.\n"
     ]
    },
    {
     "name": "stderr",
     "output_type": "stream",
     "text": [
      " 57%|█████▋    | 7640/13395 [7:00:53<4:09:26,  2.60s/it]"
     ]
    },
    {
     "name": "stdout",
     "output_type": "stream",
     "text": [
      "Saving intermediary results in temp_keep and temp_finished, set rerun=True to restart api query from latest backup.\n"
     ]
    },
    {
     "name": "stderr",
     "output_type": "stream",
     "text": [
      " 57%|█████▋    | 7660/13395 [7:02:05<4:08:53,  2.60s/it]"
     ]
    },
    {
     "name": "stdout",
     "output_type": "stream",
     "text": [
      "Saving intermediary results in temp_keep and temp_finished, set rerun=True to restart api query from latest backup.\n"
     ]
    },
    {
     "name": "stderr",
     "output_type": "stream",
     "text": [
      " 57%|█████▋    | 7680/13395 [7:03:14<5:54:38,  3.72s/it]"
     ]
    },
    {
     "name": "stdout",
     "output_type": "stream",
     "text": [
      "Saving intermediary results in temp_keep and temp_finished, set rerun=True to restart api query from latest backup.\n"
     ]
    },
    {
     "name": "stderr",
     "output_type": "stream",
     "text": [
      " 57%|█████▋    | 7700/13395 [7:03:59<3:18:14,  2.09s/it]"
     ]
    },
    {
     "name": "stdout",
     "output_type": "stream",
     "text": [
      "Saving intermediary results in temp_keep and temp_finished, set rerun=True to restart api query from latest backup.\n"
     ]
    },
    {
     "name": "stderr",
     "output_type": "stream",
     "text": [
      " 58%|█████▊    | 7720/13395 [7:05:00<6:06:05,  3.87s/it]"
     ]
    },
    {
     "name": "stdout",
     "output_type": "stream",
     "text": [
      "Saving intermediary results in temp_keep and temp_finished, set rerun=True to restart api query from latest backup.\n"
     ]
    },
    {
     "name": "stderr",
     "output_type": "stream",
     "text": [
      " 58%|█████▊    | 7740/13395 [7:05:57<4:45:57,  3.03s/it]"
     ]
    },
    {
     "name": "stdout",
     "output_type": "stream",
     "text": [
      "Saving intermediary results in temp_keep and temp_finished, set rerun=True to restart api query from latest backup.\n"
     ]
    },
    {
     "name": "stderr",
     "output_type": "stream",
     "text": [
      " 58%|█████▊    | 7760/13395 [7:07:07<9:34:46,  6.12s/it] "
     ]
    },
    {
     "name": "stdout",
     "output_type": "stream",
     "text": [
      "Saving intermediary results in temp_keep and temp_finished, set rerun=True to restart api query from latest backup.\n"
     ]
    },
    {
     "name": "stderr",
     "output_type": "stream",
     "text": [
      " 58%|█████▊    | 7780/13395 [7:07:47<3:41:47,  2.37s/it]"
     ]
    },
    {
     "name": "stdout",
     "output_type": "stream",
     "text": [
      "Saving intermediary results in temp_keep and temp_finished, set rerun=True to restart api query from latest backup.\n"
     ]
    },
    {
     "name": "stderr",
     "output_type": "stream",
     "text": [
      " 58%|█████▊    | 7800/13395 [7:08:33<4:10:32,  2.69s/it]"
     ]
    },
    {
     "name": "stdout",
     "output_type": "stream",
     "text": [
      "Saving intermediary results in temp_keep and temp_finished, set rerun=True to restart api query from latest backup.\n"
     ]
    },
    {
     "name": "stderr",
     "output_type": "stream",
     "text": [
      " 58%|█████▊    | 7820/13395 [7:09:25<3:42:16,  2.39s/it]"
     ]
    },
    {
     "name": "stdout",
     "output_type": "stream",
     "text": [
      "Saving intermediary results in temp_keep and temp_finished, set rerun=True to restart api query from latest backup.\n"
     ]
    },
    {
     "name": "stderr",
     "output_type": "stream",
     "text": [
      " 59%|█████▊    | 7840/13395 [7:10:39<8:39:37,  5.61s/it] "
     ]
    },
    {
     "name": "stdout",
     "output_type": "stream",
     "text": [
      "Saving intermediary results in temp_keep and temp_finished, set rerun=True to restart api query from latest backup.\n"
     ]
    },
    {
     "name": "stderr",
     "output_type": "stream",
     "text": [
      " 59%|█████▊    | 7860/13395 [7:11:21<4:17:13,  2.79s/it]"
     ]
    },
    {
     "name": "stdout",
     "output_type": "stream",
     "text": [
      "Saving intermediary results in temp_keep and temp_finished, set rerun=True to restart api query from latest backup.\n"
     ]
    },
    {
     "name": "stderr",
     "output_type": "stream",
     "text": [
      " 59%|█████▉    | 7880/13395 [7:12:49<6:49:08,  4.45s/it] "
     ]
    },
    {
     "name": "stdout",
     "output_type": "stream",
     "text": [
      "Saving intermediary results in temp_keep and temp_finished, set rerun=True to restart api query from latest backup.\n"
     ]
    },
    {
     "name": "stderr",
     "output_type": "stream",
     "text": [
      " 59%|█████▉    | 7900/13395 [7:13:57<5:42:32,  3.74s/it] "
     ]
    },
    {
     "name": "stdout",
     "output_type": "stream",
     "text": [
      "Saving intermediary results in temp_keep and temp_finished, set rerun=True to restart api query from latest backup.\n"
     ]
    },
    {
     "name": "stderr",
     "output_type": "stream",
     "text": [
      " 59%|█████▉    | 7920/13395 [7:14:49<4:50:01,  3.18s/it]"
     ]
    },
    {
     "name": "stdout",
     "output_type": "stream",
     "text": [
      "Saving intermediary results in temp_keep and temp_finished, set rerun=True to restart api query from latest backup.\n"
     ]
    },
    {
     "name": "stderr",
     "output_type": "stream",
     "text": [
      " 59%|█████▉    | 7940/13395 [7:15:44<5:37:22,  3.71s/it]"
     ]
    },
    {
     "name": "stdout",
     "output_type": "stream",
     "text": [
      "Saving intermediary results in temp_keep and temp_finished, set rerun=True to restart api query from latest backup.\n"
     ]
    },
    {
     "name": "stderr",
     "output_type": "stream",
     "text": [
      " 59%|█████▉    | 7960/13395 [7:16:43<4:40:07,  3.09s/it]"
     ]
    },
    {
     "name": "stdout",
     "output_type": "stream",
     "text": [
      "Saving intermediary results in temp_keep and temp_finished, set rerun=True to restart api query from latest backup.\n"
     ]
    },
    {
     "name": "stderr",
     "output_type": "stream",
     "text": [
      " 60%|█████▉    | 7980/13395 [7:17:34<5:05:24,  3.38s/it]"
     ]
    },
    {
     "name": "stdout",
     "output_type": "stream",
     "text": [
      "Saving intermediary results in temp_keep and temp_finished, set rerun=True to restart api query from latest backup.\n"
     ]
    },
    {
     "name": "stderr",
     "output_type": "stream",
     "text": [
      " 60%|█████▉    | 8000/13395 [7:18:34<2:38:12,  1.76s/it] "
     ]
    },
    {
     "name": "stdout",
     "output_type": "stream",
     "text": [
      "Saving intermediary results in temp_keep and temp_finished, set rerun=True to restart api query from latest backup.\n"
     ]
    },
    {
     "name": "stderr",
     "output_type": "stream",
     "text": [
      " 60%|█████▉    | 8020/13395 [7:19:26<2:23:43,  1.60s/it]"
     ]
    },
    {
     "name": "stdout",
     "output_type": "stream",
     "text": [
      "Saving intermediary results in temp_keep and temp_finished, set rerun=True to restart api query from latest backup.\n"
     ]
    },
    {
     "name": "stderr",
     "output_type": "stream",
     "text": [
      " 60%|██████    | 8040/13395 [7:20:28<4:54:22,  3.30s/it] "
     ]
    },
    {
     "name": "stdout",
     "output_type": "stream",
     "text": [
      "Saving intermediary results in temp_keep and temp_finished, set rerun=True to restart api query from latest backup.\n"
     ]
    },
    {
     "name": "stderr",
     "output_type": "stream",
     "text": [
      " 60%|██████    | 8060/13395 [7:21:25<4:04:09,  2.75s/it]"
     ]
    },
    {
     "name": "stdout",
     "output_type": "stream",
     "text": [
      "Saving intermediary results in temp_keep and temp_finished, set rerun=True to restart api query from latest backup.\n"
     ]
    },
    {
     "name": "stderr",
     "output_type": "stream",
     "text": [
      " 60%|██████    | 8080/13395 [7:22:24<4:21:00,  2.95s/it]"
     ]
    },
    {
     "name": "stdout",
     "output_type": "stream",
     "text": [
      "Saving intermediary results in temp_keep and temp_finished, set rerun=True to restart api query from latest backup.\n"
     ]
    },
    {
     "name": "stderr",
     "output_type": "stream",
     "text": [
      " 60%|██████    | 8100/13395 [7:23:32<5:56:42,  4.04s/it]"
     ]
    },
    {
     "name": "stdout",
     "output_type": "stream",
     "text": [
      "Saving intermediary results in temp_keep and temp_finished, set rerun=True to restart api query from latest backup.\n"
     ]
    },
    {
     "name": "stderr",
     "output_type": "stream",
     "text": [
      " 61%|██████    | 8120/13395 [7:24:22<3:07:20,  2.13s/it]"
     ]
    },
    {
     "name": "stdout",
     "output_type": "stream",
     "text": [
      "Saving intermediary results in temp_keep and temp_finished, set rerun=True to restart api query from latest backup.\n"
     ]
    },
    {
     "name": "stderr",
     "output_type": "stream",
     "text": [
      " 61%|██████    | 8140/13395 [7:25:05<2:21:37,  1.62s/it]"
     ]
    },
    {
     "name": "stdout",
     "output_type": "stream",
     "text": [
      "Saving intermediary results in temp_keep and temp_finished, set rerun=True to restart api query from latest backup.\n"
     ]
    },
    {
     "name": "stderr",
     "output_type": "stream",
     "text": [
      " 61%|██████    | 8160/13395 [7:25:55<2:16:38,  1.57s/it]"
     ]
    },
    {
     "name": "stdout",
     "output_type": "stream",
     "text": [
      "Saving intermediary results in temp_keep and temp_finished, set rerun=True to restart api query from latest backup.\n"
     ]
    },
    {
     "name": "stderr",
     "output_type": "stream",
     "text": [
      " 61%|██████    | 8180/13395 [7:27:02<5:04:17,  3.50s/it]"
     ]
    },
    {
     "name": "stdout",
     "output_type": "stream",
     "text": [
      "Saving intermediary results in temp_keep and temp_finished, set rerun=True to restart api query from latest backup.\n"
     ]
    },
    {
     "name": "stderr",
     "output_type": "stream",
     "text": [
      " 61%|██████    | 8200/13395 [7:28:23<5:48:15,  4.02s/it]"
     ]
    },
    {
     "name": "stdout",
     "output_type": "stream",
     "text": [
      "Saving intermediary results in temp_keep and temp_finished, set rerun=True to restart api query from latest backup.\n"
     ]
    },
    {
     "name": "stderr",
     "output_type": "stream",
     "text": [
      " 61%|██████▏   | 8220/13395 [7:29:22<5:08:25,  3.58s/it]"
     ]
    },
    {
     "name": "stdout",
     "output_type": "stream",
     "text": [
      "Saving intermediary results in temp_keep and temp_finished, set rerun=True to restart api query from latest backup.\n"
     ]
    },
    {
     "name": "stderr",
     "output_type": "stream",
     "text": [
      " 62%|██████▏   | 8240/13395 [7:30:13<3:28:10,  2.42s/it]"
     ]
    },
    {
     "name": "stdout",
     "output_type": "stream",
     "text": [
      "Saving intermediary results in temp_keep and temp_finished, set rerun=True to restart api query from latest backup.\n"
     ]
    },
    {
     "name": "stderr",
     "output_type": "stream",
     "text": [
      " 62%|██████▏   | 8260/13395 [7:31:01<4:01:32,  2.82s/it]"
     ]
    },
    {
     "name": "stdout",
     "output_type": "stream",
     "text": [
      "Saving intermediary results in temp_keep and temp_finished, set rerun=True to restart api query from latest backup.\n"
     ]
    },
    {
     "name": "stderr",
     "output_type": "stream",
     "text": [
      " 62%|██████▏   | 8280/13395 [7:31:58<5:03:47,  3.56s/it]"
     ]
    },
    {
     "name": "stdout",
     "output_type": "stream",
     "text": [
      "Saving intermediary results in temp_keep and temp_finished, set rerun=True to restart api query from latest backup.\n"
     ]
    },
    {
     "name": "stderr",
     "output_type": "stream",
     "text": [
      " 62%|██████▏   | 8300/13395 [7:34:21<3:33:31,  2.51s/it] "
     ]
    },
    {
     "name": "stdout",
     "output_type": "stream",
     "text": [
      "Saving intermediary results in temp_keep and temp_finished, set rerun=True to restart api query from latest backup.\n"
     ]
    },
    {
     "name": "stderr",
     "output_type": "stream",
     "text": [
      " 62%|██████▏   | 8320/13395 [7:35:47<7:41:32,  5.46s/it] "
     ]
    },
    {
     "name": "stdout",
     "output_type": "stream",
     "text": [
      "Saving intermediary results in temp_keep and temp_finished, set rerun=True to restart api query from latest backup.\n"
     ]
    },
    {
     "name": "stderr",
     "output_type": "stream",
     "text": [
      " 62%|██████▏   | 8340/13395 [7:37:00<3:13:52,  2.30s/it] "
     ]
    },
    {
     "name": "stdout",
     "output_type": "stream",
     "text": [
      "Saving intermediary results in temp_keep and temp_finished, set rerun=True to restart api query from latest backup.\n"
     ]
    },
    {
     "name": "stderr",
     "output_type": "stream",
     "text": [
      " 62%|██████▏   | 8360/13395 [7:38:10<5:00:14,  3.58s/it]"
     ]
    },
    {
     "name": "stdout",
     "output_type": "stream",
     "text": [
      "Saving intermediary results in temp_keep and temp_finished, set rerun=True to restart api query from latest backup.\n"
     ]
    },
    {
     "name": "stderr",
     "output_type": "stream",
     "text": [
      " 63%|██████▎   | 8380/13395 [7:39:32<6:53:39,  4.95s/it] "
     ]
    },
    {
     "name": "stdout",
     "output_type": "stream",
     "text": [
      "Saving intermediary results in temp_keep and temp_finished, set rerun=True to restart api query from latest backup.\n"
     ]
    },
    {
     "name": "stderr",
     "output_type": "stream",
     "text": [
      " 63%|██████▎   | 8400/13395 [7:40:16<3:48:13,  2.74s/it]"
     ]
    },
    {
     "name": "stdout",
     "output_type": "stream",
     "text": [
      "Saving intermediary results in temp_keep and temp_finished, set rerun=True to restart api query from latest backup.\n"
     ]
    },
    {
     "name": "stderr",
     "output_type": "stream",
     "text": [
      " 63%|██████▎   | 8420/13395 [7:41:26<3:50:33,  2.78s/it]"
     ]
    },
    {
     "name": "stdout",
     "output_type": "stream",
     "text": [
      "Saving intermediary results in temp_keep and temp_finished, set rerun=True to restart api query from latest backup.\n"
     ]
    },
    {
     "name": "stderr",
     "output_type": "stream",
     "text": [
      " 63%|██████▎   | 8440/13395 [7:42:50<4:58:19,  3.61s/it] "
     ]
    },
    {
     "name": "stdout",
     "output_type": "stream",
     "text": [
      "Saving intermediary results in temp_keep and temp_finished, set rerun=True to restart api query from latest backup.\n"
     ]
    },
    {
     "name": "stderr",
     "output_type": "stream",
     "text": [
      " 63%|██████▎   | 8460/13395 [7:44:29<11:23:50,  8.31s/it]"
     ]
    },
    {
     "name": "stdout",
     "output_type": "stream",
     "text": [
      "Saving intermediary results in temp_keep and temp_finished, set rerun=True to restart api query from latest backup.\n"
     ]
    },
    {
     "name": "stderr",
     "output_type": "stream",
     "text": [
      " 63%|██████▎   | 8480/13395 [7:45:33<2:50:14,  2.08s/it] "
     ]
    },
    {
     "name": "stdout",
     "output_type": "stream",
     "text": [
      "Saving intermediary results in temp_keep and temp_finished, set rerun=True to restart api query from latest backup.\n"
     ]
    },
    {
     "name": "stderr",
     "output_type": "stream",
     "text": [
      " 63%|██████▎   | 8500/13395 [7:47:01<3:07:59,  2.30s/it] "
     ]
    },
    {
     "name": "stdout",
     "output_type": "stream",
     "text": [
      "Saving intermediary results in temp_keep and temp_finished, set rerun=True to restart api query from latest backup.\n"
     ]
    },
    {
     "name": "stderr",
     "output_type": "stream",
     "text": [
      " 64%|██████▎   | 8520/13395 [7:47:49<2:44:31,  2.02s/it]"
     ]
    },
    {
     "name": "stdout",
     "output_type": "stream",
     "text": [
      "Saving intermediary results in temp_keep and temp_finished, set rerun=True to restart api query from latest backup.\n"
     ]
    },
    {
     "name": "stderr",
     "output_type": "stream",
     "text": [
      " 64%|██████▍   | 8540/13395 [7:49:25<7:25:57,  5.51s/it] "
     ]
    },
    {
     "name": "stdout",
     "output_type": "stream",
     "text": [
      "Saving intermediary results in temp_keep and temp_finished, set rerun=True to restart api query from latest backup.\n"
     ]
    },
    {
     "name": "stderr",
     "output_type": "stream",
     "text": [
      " 64%|██████▍   | 8560/13395 [7:50:18<2:28:54,  1.85s/it]"
     ]
    },
    {
     "name": "stdout",
     "output_type": "stream",
     "text": [
      "Saving intermediary results in temp_keep and temp_finished, set rerun=True to restart api query from latest backup.\n"
     ]
    },
    {
     "name": "stderr",
     "output_type": "stream",
     "text": [
      " 64%|██████▍   | 8580/13395 [7:51:06<3:06:08,  2.32s/it]"
     ]
    },
    {
     "name": "stdout",
     "output_type": "stream",
     "text": [
      "Saving intermediary results in temp_keep and temp_finished, set rerun=True to restart api query from latest backup.\n"
     ]
    },
    {
     "name": "stderr",
     "output_type": "stream",
     "text": [
      " 64%|██████▍   | 8600/13395 [7:52:00<3:50:05,  2.88s/it]"
     ]
    },
    {
     "name": "stdout",
     "output_type": "stream",
     "text": [
      "Saving intermediary results in temp_keep and temp_finished, set rerun=True to restart api query from latest backup.\n"
     ]
    },
    {
     "name": "stderr",
     "output_type": "stream",
     "text": [
      " 64%|██████▍   | 8620/13395 [7:53:05<3:47:29,  2.86s/it]"
     ]
    },
    {
     "name": "stdout",
     "output_type": "stream",
     "text": [
      "Saving intermediary results in temp_keep and temp_finished, set rerun=True to restart api query from latest backup.\n"
     ]
    },
    {
     "name": "stderr",
     "output_type": "stream",
     "text": [
      " 65%|██████▍   | 8640/13395 [7:53:59<3:14:02,  2.45s/it]"
     ]
    },
    {
     "name": "stdout",
     "output_type": "stream",
     "text": [
      "Saving intermediary results in temp_keep and temp_finished, set rerun=True to restart api query from latest backup.\n"
     ]
    },
    {
     "name": "stderr",
     "output_type": "stream",
     "text": [
      " 65%|██████▍   | 8660/13395 [7:54:44<3:15:15,  2.47s/it]"
     ]
    },
    {
     "name": "stdout",
     "output_type": "stream",
     "text": [
      "Saving intermediary results in temp_keep and temp_finished, set rerun=True to restart api query from latest backup.\n"
     ]
    },
    {
     "name": "stderr",
     "output_type": "stream",
     "text": [
      " 65%|██████▍   | 8680/13395 [7:55:55<3:44:01,  2.85s/it]"
     ]
    },
    {
     "name": "stdout",
     "output_type": "stream",
     "text": [
      "Saving intermediary results in temp_keep and temp_finished, set rerun=True to restart api query from latest backup.\n"
     ]
    },
    {
     "name": "stderr",
     "output_type": "stream",
     "text": [
      " 65%|██████▍   | 8700/13395 [7:56:33<2:03:20,  1.58s/it]"
     ]
    },
    {
     "name": "stdout",
     "output_type": "stream",
     "text": [
      "Saving intermediary results in temp_keep and temp_finished, set rerun=True to restart api query from latest backup.\n"
     ]
    },
    {
     "name": "stderr",
     "output_type": "stream",
     "text": [
      " 65%|██████▌   | 8720/13395 [7:57:39<4:34:18,  3.52s/it]"
     ]
    },
    {
     "name": "stdout",
     "output_type": "stream",
     "text": [
      "Saving intermediary results in temp_keep and temp_finished, set rerun=True to restart api query from latest backup.\n"
     ]
    },
    {
     "name": "stderr",
     "output_type": "stream",
     "text": [
      " 65%|██████▌   | 8740/13395 [7:59:16<2:47:46,  2.16s/it] "
     ]
    },
    {
     "name": "stdout",
     "output_type": "stream",
     "text": [
      "Saving intermediary results in temp_keep and temp_finished, set rerun=True to restart api query from latest backup.\n"
     ]
    },
    {
     "name": "stderr",
     "output_type": "stream",
     "text": [
      " 65%|██████▌   | 8760/13395 [8:00:06<4:26:54,  3.46s/it]"
     ]
    },
    {
     "name": "stdout",
     "output_type": "stream",
     "text": [
      "Saving intermediary results in temp_keep and temp_finished, set rerun=True to restart api query from latest backup.\n"
     ]
    },
    {
     "name": "stderr",
     "output_type": "stream",
     "text": [
      " 66%|██████▌   | 8780/13395 [8:00:48<2:34:47,  2.01s/it]"
     ]
    },
    {
     "name": "stdout",
     "output_type": "stream",
     "text": [
      "Saving intermediary results in temp_keep and temp_finished, set rerun=True to restart api query from latest backup.\n"
     ]
    },
    {
     "name": "stderr",
     "output_type": "stream",
     "text": [
      " 66%|██████▌   | 8800/13395 [8:01:36<2:59:33,  2.34s/it]"
     ]
    },
    {
     "name": "stdout",
     "output_type": "stream",
     "text": [
      "Saving intermediary results in temp_keep and temp_finished, set rerun=True to restart api query from latest backup.\n"
     ]
    },
    {
     "name": "stderr",
     "output_type": "stream",
     "text": [
      " 66%|██████▌   | 8820/13395 [8:02:31<2:52:37,  2.26s/it]"
     ]
    },
    {
     "name": "stdout",
     "output_type": "stream",
     "text": [
      "Saving intermediary results in temp_keep and temp_finished, set rerun=True to restart api query from latest backup.\n"
     ]
    },
    {
     "name": "stderr",
     "output_type": "stream",
     "text": [
      " 66%|██████▌   | 8840/13395 [8:03:41<2:33:49,  2.03s/it]"
     ]
    },
    {
     "name": "stdout",
     "output_type": "stream",
     "text": [
      "Saving intermediary results in temp_keep and temp_finished, set rerun=True to restart api query from latest backup.\n"
     ]
    },
    {
     "name": "stderr",
     "output_type": "stream",
     "text": [
      " 66%|██████▌   | 8860/13395 [8:04:50<3:29:47,  2.78s/it]"
     ]
    },
    {
     "name": "stdout",
     "output_type": "stream",
     "text": [
      "Saving intermediary results in temp_keep and temp_finished, set rerun=True to restart api query from latest backup.\n"
     ]
    },
    {
     "name": "stderr",
     "output_type": "stream",
     "text": [
      " 66%|██████▋   | 8880/13395 [8:05:40<2:44:14,  2.18s/it]"
     ]
    },
    {
     "name": "stdout",
     "output_type": "stream",
     "text": [
      "Saving intermediary results in temp_keep and temp_finished, set rerun=True to restart api query from latest backup.\n"
     ]
    },
    {
     "name": "stderr",
     "output_type": "stream",
     "text": [
      " 66%|██████▋   | 8900/13395 [8:06:37<2:45:06,  2.20s/it]"
     ]
    },
    {
     "name": "stdout",
     "output_type": "stream",
     "text": [
      "Saving intermediary results in temp_keep and temp_finished, set rerun=True to restart api query from latest backup.\n"
     ]
    },
    {
     "name": "stderr",
     "output_type": "stream",
     "text": [
      " 67%|██████▋   | 8920/13395 [8:07:20<3:04:13,  2.47s/it]"
     ]
    },
    {
     "name": "stdout",
     "output_type": "stream",
     "text": [
      "Saving intermediary results in temp_keep and temp_finished, set rerun=True to restart api query from latest backup.\n"
     ]
    },
    {
     "name": "stderr",
     "output_type": "stream",
     "text": [
      " 67%|██████▋   | 8940/13395 [8:08:14<2:44:23,  2.21s/it]"
     ]
    },
    {
     "name": "stdout",
     "output_type": "stream",
     "text": [
      "Saving intermediary results in temp_keep and temp_finished, set rerun=True to restart api query from latest backup.\n"
     ]
    },
    {
     "name": "stderr",
     "output_type": "stream",
     "text": [
      " 67%|██████▋   | 8960/13395 [8:09:01<2:17:54,  1.87s/it]"
     ]
    },
    {
     "name": "stdout",
     "output_type": "stream",
     "text": [
      "Saving intermediary results in temp_keep and temp_finished, set rerun=True to restart api query from latest backup.\n"
     ]
    },
    {
     "name": "stderr",
     "output_type": "stream",
     "text": [
      " 67%|██████▋   | 8980/13395 [8:09:57<2:39:29,  2.17s/it]"
     ]
    },
    {
     "name": "stdout",
     "output_type": "stream",
     "text": [
      "Saving intermediary results in temp_keep and temp_finished, set rerun=True to restart api query from latest backup.\n"
     ]
    },
    {
     "name": "stderr",
     "output_type": "stream",
     "text": [
      " 67%|██████▋   | 9000/13395 [8:12:11<3:09:13,  2.58s/it] "
     ]
    },
    {
     "name": "stdout",
     "output_type": "stream",
     "text": [
      "Saving intermediary results in temp_keep and temp_finished, set rerun=True to restart api query from latest backup.\n"
     ]
    },
    {
     "name": "stderr",
     "output_type": "stream",
     "text": [
      " 67%|██████▋   | 9020/13395 [8:12:50<3:34:28,  2.94s/it]"
     ]
    },
    {
     "name": "stdout",
     "output_type": "stream",
     "text": [
      "Saving intermediary results in temp_keep and temp_finished, set rerun=True to restart api query from latest backup.\n"
     ]
    },
    {
     "name": "stderr",
     "output_type": "stream",
     "text": [
      " 67%|██████▋   | 9040/13395 [8:13:50<5:16:03,  4.35s/it]"
     ]
    },
    {
     "name": "stdout",
     "output_type": "stream",
     "text": [
      "Saving intermediary results in temp_keep and temp_finished, set rerun=True to restart api query from latest backup.\n"
     ]
    },
    {
     "name": "stderr",
     "output_type": "stream",
     "text": [
      " 68%|██████▊   | 9060/13395 [8:14:35<2:19:40,  1.93s/it]"
     ]
    },
    {
     "name": "stdout",
     "output_type": "stream",
     "text": [
      "Saving intermediary results in temp_keep and temp_finished, set rerun=True to restart api query from latest backup.\n"
     ]
    },
    {
     "name": "stderr",
     "output_type": "stream",
     "text": [
      " 68%|██████▊   | 9080/13395 [8:15:37<4:10:03,  3.48s/it]"
     ]
    },
    {
     "name": "stdout",
     "output_type": "stream",
     "text": [
      "Saving intermediary results in temp_keep and temp_finished, set rerun=True to restart api query from latest backup.\n"
     ]
    },
    {
     "name": "stderr",
     "output_type": "stream",
     "text": [
      " 68%|██████▊   | 9100/13395 [8:16:28<2:30:36,  2.10s/it]"
     ]
    },
    {
     "name": "stdout",
     "output_type": "stream",
     "text": [
      "Saving intermediary results in temp_keep and temp_finished, set rerun=True to restart api query from latest backup.\n"
     ]
    },
    {
     "name": "stderr",
     "output_type": "stream",
     "text": [
      " 68%|██████▊   | 9120/13395 [8:17:52<3:21:10,  2.82s/it] "
     ]
    },
    {
     "name": "stdout",
     "output_type": "stream",
     "text": [
      "Saving intermediary results in temp_keep and temp_finished, set rerun=True to restart api query from latest backup.\n"
     ]
    },
    {
     "name": "stderr",
     "output_type": "stream",
     "text": [
      " 68%|██████▊   | 9140/13395 [8:18:46<6:09:19,  5.21s/it]"
     ]
    },
    {
     "name": "stdout",
     "output_type": "stream",
     "text": [
      "Saving intermediary results in temp_keep and temp_finished, set rerun=True to restart api query from latest backup.\n"
     ]
    },
    {
     "name": "stderr",
     "output_type": "stream",
     "text": [
      " 68%|██████▊   | 9160/13395 [8:19:34<2:21:05,  2.00s/it]"
     ]
    },
    {
     "name": "stdout",
     "output_type": "stream",
     "text": [
      "Saving intermediary results in temp_keep and temp_finished, set rerun=True to restart api query from latest backup.\n"
     ]
    },
    {
     "name": "stderr",
     "output_type": "stream",
     "text": [
      " 69%|██████▊   | 9180/13395 [8:21:07<2:47:21,  2.38s/it] "
     ]
    },
    {
     "name": "stdout",
     "output_type": "stream",
     "text": [
      "Saving intermediary results in temp_keep and temp_finished, set rerun=True to restart api query from latest backup.\n"
     ]
    },
    {
     "name": "stderr",
     "output_type": "stream",
     "text": [
      " 69%|██████▊   | 9200/13395 [8:21:52<2:20:34,  2.01s/it]"
     ]
    },
    {
     "name": "stdout",
     "output_type": "stream",
     "text": [
      "Saving intermediary results in temp_keep and temp_finished, set rerun=True to restart api query from latest backup.\n"
     ]
    },
    {
     "name": "stderr",
     "output_type": "stream",
     "text": [
      " 69%|██████▉   | 9220/13395 [8:22:49<3:53:57,  3.36s/it]"
     ]
    },
    {
     "name": "stdout",
     "output_type": "stream",
     "text": [
      "Saving intermediary results in temp_keep and temp_finished, set rerun=True to restart api query from latest backup.\n"
     ]
    },
    {
     "name": "stderr",
     "output_type": "stream",
     "text": [
      " 69%|██████▉   | 9240/13395 [8:23:44<4:04:21,  3.53s/it]"
     ]
    },
    {
     "name": "stdout",
     "output_type": "stream",
     "text": [
      "Saving intermediary results in temp_keep and temp_finished, set rerun=True to restart api query from latest backup.\n"
     ]
    },
    {
     "name": "stderr",
     "output_type": "stream",
     "text": [
      " 69%|██████▉   | 9260/13395 [8:24:44<3:47:05,  3.30s/it]"
     ]
    },
    {
     "name": "stdout",
     "output_type": "stream",
     "text": [
      "Saving intermediary results in temp_keep and temp_finished, set rerun=True to restart api query from latest backup.\n"
     ]
    },
    {
     "name": "stderr",
     "output_type": "stream",
     "text": [
      " 69%|██████▉   | 9280/13395 [8:25:46<1:56:46,  1.70s/it]"
     ]
    },
    {
     "name": "stdout",
     "output_type": "stream",
     "text": [
      "Saving intermediary results in temp_keep and temp_finished, set rerun=True to restart api query from latest backup.\n"
     ]
    },
    {
     "name": "stderr",
     "output_type": "stream",
     "text": [
      " 69%|██████▉   | 9300/13395 [8:28:12<3:58:52,  3.50s/it] "
     ]
    },
    {
     "name": "stdout",
     "output_type": "stream",
     "text": [
      "Saving intermediary results in temp_keep and temp_finished, set rerun=True to restart api query from latest backup.\n"
     ]
    },
    {
     "name": "stderr",
     "output_type": "stream",
     "text": [
      " 70%|██████▉   | 9320/13395 [8:29:08<2:20:48,  2.07s/it]"
     ]
    },
    {
     "name": "stdout",
     "output_type": "stream",
     "text": [
      "Saving intermediary results in temp_keep and temp_finished, set rerun=True to restart api query from latest backup.\n"
     ]
    },
    {
     "name": "stderr",
     "output_type": "stream",
     "text": [
      " 70%|██████▉   | 9340/13395 [8:30:10<3:00:50,  2.68s/it]"
     ]
    },
    {
     "name": "stdout",
     "output_type": "stream",
     "text": [
      "Saving intermediary results in temp_keep and temp_finished, set rerun=True to restart api query from latest backup.\n"
     ]
    },
    {
     "name": "stderr",
     "output_type": "stream",
     "text": [
      " 70%|██████▉   | 9360/13395 [8:31:05<3:58:00,  3.54s/it]"
     ]
    },
    {
     "name": "stdout",
     "output_type": "stream",
     "text": [
      "Saving intermediary results in temp_keep and temp_finished, set rerun=True to restart api query from latest backup.\n"
     ]
    },
    {
     "name": "stderr",
     "output_type": "stream",
     "text": [
      " 70%|███████   | 9380/13395 [8:32:09<3:20:53,  3.00s/it]"
     ]
    },
    {
     "name": "stdout",
     "output_type": "stream",
     "text": [
      "Saving intermediary results in temp_keep and temp_finished, set rerun=True to restart api query from latest backup.\n"
     ]
    },
    {
     "name": "stderr",
     "output_type": "stream",
     "text": [
      " 70%|███████   | 9400/13395 [8:34:31<5:03:53,  4.56s/it] "
     ]
    },
    {
     "name": "stdout",
     "output_type": "stream",
     "text": [
      "Saving intermediary results in temp_keep and temp_finished, set rerun=True to restart api query from latest backup.\n"
     ]
    },
    {
     "name": "stderr",
     "output_type": "stream",
     "text": [
      " 70%|███████   | 9420/13395 [8:35:31<3:09:56,  2.87s/it]"
     ]
    },
    {
     "name": "stdout",
     "output_type": "stream",
     "text": [
      "Saving intermediary results in temp_keep and temp_finished, set rerun=True to restart api query from latest backup.\n"
     ]
    },
    {
     "name": "stderr",
     "output_type": "stream",
     "text": [
      " 70%|███████   | 9440/13395 [8:37:19<15:24:44, 14.03s/it]"
     ]
    },
    {
     "name": "stdout",
     "output_type": "stream",
     "text": [
      "Saving intermediary results in temp_keep and temp_finished, set rerun=True to restart api query from latest backup.\n"
     ]
    },
    {
     "name": "stderr",
     "output_type": "stream",
     "text": [
      " 71%|███████   | 9460/13395 [8:38:46<3:28:17,  3.18s/it] "
     ]
    },
    {
     "name": "stdout",
     "output_type": "stream",
     "text": [
      "Saving intermediary results in temp_keep and temp_finished, set rerun=True to restart api query from latest backup.\n"
     ]
    },
    {
     "name": "stderr",
     "output_type": "stream",
     "text": [
      " 71%|███████   | 9480/13395 [8:39:34<2:35:48,  2.39s/it]"
     ]
    },
    {
     "name": "stdout",
     "output_type": "stream",
     "text": [
      "Saving intermediary results in temp_keep and temp_finished, set rerun=True to restart api query from latest backup.\n"
     ]
    },
    {
     "name": "stderr",
     "output_type": "stream",
     "text": [
      " 71%|███████   | 9500/13395 [8:40:43<3:06:50,  2.88s/it]"
     ]
    },
    {
     "name": "stdout",
     "output_type": "stream",
     "text": [
      "Saving intermediary results in temp_keep and temp_finished, set rerun=True to restart api query from latest backup.\n"
     ]
    },
    {
     "name": "stderr",
     "output_type": "stream",
     "text": [
      " 71%|███████   | 9520/13395 [8:41:40<3:39:08,  3.39s/it]"
     ]
    },
    {
     "name": "stdout",
     "output_type": "stream",
     "text": [
      "Saving intermediary results in temp_keep and temp_finished, set rerun=True to restart api query from latest backup.\n"
     ]
    },
    {
     "name": "stderr",
     "output_type": "stream",
     "text": [
      " 71%|███████   | 9540/13395 [8:42:29<2:36:35,  2.44s/it]"
     ]
    },
    {
     "name": "stdout",
     "output_type": "stream",
     "text": [
      "Saving intermediary results in temp_keep and temp_finished, set rerun=True to restart api query from latest backup.\n"
     ]
    },
    {
     "name": "stderr",
     "output_type": "stream",
     "text": [
      " 71%|███████▏  | 9560/13395 [8:43:26<3:39:05,  3.43s/it]"
     ]
    },
    {
     "name": "stdout",
     "output_type": "stream",
     "text": [
      "Saving intermediary results in temp_keep and temp_finished, set rerun=True to restart api query from latest backup.\n"
     ]
    },
    {
     "name": "stderr",
     "output_type": "stream",
     "text": [
      " 72%|███████▏  | 9580/13395 [8:44:34<4:27:27,  4.21s/it]"
     ]
    },
    {
     "name": "stdout",
     "output_type": "stream",
     "text": [
      "Saving intermediary results in temp_keep and temp_finished, set rerun=True to restart api query from latest backup.\n"
     ]
    },
    {
     "name": "stderr",
     "output_type": "stream",
     "text": [
      " 72%|███████▏  | 9600/13395 [8:45:49<6:18:22,  5.98s/it] "
     ]
    },
    {
     "name": "stdout",
     "output_type": "stream",
     "text": [
      "Saving intermediary results in temp_keep and temp_finished, set rerun=True to restart api query from latest backup.\n"
     ]
    },
    {
     "name": "stderr",
     "output_type": "stream",
     "text": [
      " 72%|███████▏  | 9620/13395 [8:46:46<3:59:59,  3.81s/it]"
     ]
    },
    {
     "name": "stdout",
     "output_type": "stream",
     "text": [
      "Saving intermediary results in temp_keep and temp_finished, set rerun=True to restart api query from latest backup.\n"
     ]
    },
    {
     "name": "stderr",
     "output_type": "stream",
     "text": [
      " 72%|███████▏  | 9640/13395 [8:47:36<2:35:26,  2.48s/it]"
     ]
    },
    {
     "name": "stdout",
     "output_type": "stream",
     "text": [
      "Saving intermediary results in temp_keep and temp_finished, set rerun=True to restart api query from latest backup.\n"
     ]
    },
    {
     "name": "stderr",
     "output_type": "stream",
     "text": [
      " 72%|███████▏  | 9660/13395 [8:48:33<2:09:55,  2.09s/it]"
     ]
    },
    {
     "name": "stdout",
     "output_type": "stream",
     "text": [
      "Saving intermediary results in temp_keep and temp_finished, set rerun=True to restart api query from latest backup.\n"
     ]
    },
    {
     "name": "stderr",
     "output_type": "stream",
     "text": [
      " 72%|███████▏  | 9680/13395 [8:49:34<2:25:44,  2.35s/it]"
     ]
    },
    {
     "name": "stdout",
     "output_type": "stream",
     "text": [
      "Saving intermediary results in temp_keep and temp_finished, set rerun=True to restart api query from latest backup.\n"
     ]
    },
    {
     "name": "stderr",
     "output_type": "stream",
     "text": [
      " 72%|███████▏  | 9700/13395 [8:50:34<2:53:43,  2.82s/it]"
     ]
    },
    {
     "name": "stdout",
     "output_type": "stream",
     "text": [
      "Saving intermediary results in temp_keep and temp_finished, set rerun=True to restart api query from latest backup.\n"
     ]
    },
    {
     "name": "stderr",
     "output_type": "stream",
     "text": [
      " 73%|███████▎  | 9720/13395 [8:52:13<11:52:13, 11.63s/it]"
     ]
    },
    {
     "name": "stdout",
     "output_type": "stream",
     "text": [
      "Saving intermediary results in temp_keep and temp_finished, set rerun=True to restart api query from latest backup.\n"
     ]
    },
    {
     "name": "stderr",
     "output_type": "stream",
     "text": [
      " 73%|███████▎  | 9740/13395 [8:53:12<2:38:34,  2.60s/it] "
     ]
    },
    {
     "name": "stdout",
     "output_type": "stream",
     "text": [
      "Saving intermediary results in temp_keep and temp_finished, set rerun=True to restart api query from latest backup.\n"
     ]
    },
    {
     "name": "stderr",
     "output_type": "stream",
     "text": [
      " 73%|███████▎  | 9760/13395 [8:54:06<3:18:16,  3.27s/it]"
     ]
    },
    {
     "name": "stdout",
     "output_type": "stream",
     "text": [
      "Saving intermediary results in temp_keep and temp_finished, set rerun=True to restart api query from latest backup.\n"
     ]
    },
    {
     "name": "stderr",
     "output_type": "stream",
     "text": [
      " 73%|███████▎  | 9780/13395 [8:55:21<2:18:31,  2.30s/it]"
     ]
    },
    {
     "name": "stdout",
     "output_type": "stream",
     "text": [
      "Saving intermediary results in temp_keep and temp_finished, set rerun=True to restart api query from latest backup.\n"
     ]
    },
    {
     "name": "stderr",
     "output_type": "stream",
     "text": [
      " 73%|███████▎  | 9800/13395 [8:56:36<4:06:38,  4.12s/it]"
     ]
    },
    {
     "name": "stdout",
     "output_type": "stream",
     "text": [
      "Saving intermediary results in temp_keep and temp_finished, set rerun=True to restart api query from latest backup.\n"
     ]
    },
    {
     "name": "stderr",
     "output_type": "stream",
     "text": [
      " 73%|███████▎  | 9820/13395 [8:57:31<2:22:07,  2.39s/it]"
     ]
    },
    {
     "name": "stdout",
     "output_type": "stream",
     "text": [
      "Saving intermediary results in temp_keep and temp_finished, set rerun=True to restart api query from latest backup.\n"
     ]
    },
    {
     "name": "stderr",
     "output_type": "stream",
     "text": [
      " 73%|███████▎  | 9840/13395 [8:58:38<2:57:01,  2.99s/it]"
     ]
    },
    {
     "name": "stdout",
     "output_type": "stream",
     "text": [
      "Saving intermediary results in temp_keep and temp_finished, set rerun=True to restart api query from latest backup.\n"
     ]
    },
    {
     "name": "stderr",
     "output_type": "stream",
     "text": [
      " 74%|███████▎  | 9860/13395 [9:00:02<4:02:40,  4.12s/it]"
     ]
    },
    {
     "name": "stdout",
     "output_type": "stream",
     "text": [
      "Saving intermediary results in temp_keep and temp_finished, set rerun=True to restart api query from latest backup.\n"
     ]
    },
    {
     "name": "stderr",
     "output_type": "stream",
     "text": [
      " 74%|███████▍  | 9880/13395 [9:01:09<2:40:31,  2.74s/it]"
     ]
    },
    {
     "name": "stdout",
     "output_type": "stream",
     "text": [
      "Saving intermediary results in temp_keep and temp_finished, set rerun=True to restart api query from latest backup.\n"
     ]
    },
    {
     "name": "stderr",
     "output_type": "stream",
     "text": [
      " 74%|███████▍  | 9900/13395 [9:03:02<4:20:29,  4.47s/it] "
     ]
    },
    {
     "name": "stdout",
     "output_type": "stream",
     "text": [
      "Saving intermediary results in temp_keep and temp_finished, set rerun=True to restart api query from latest backup.\n"
     ]
    },
    {
     "name": "stderr",
     "output_type": "stream",
     "text": [
      " 74%|███████▍  | 9920/13395 [9:03:51<4:11:56,  4.35s/it]"
     ]
    },
    {
     "name": "stdout",
     "output_type": "stream",
     "text": [
      "Saving intermediary results in temp_keep and temp_finished, set rerun=True to restart api query from latest backup.\n"
     ]
    },
    {
     "name": "stderr",
     "output_type": "stream",
     "text": [
      " 74%|███████▍  | 9940/13395 [9:06:18<8:43:55,  9.10s/it] "
     ]
    },
    {
     "name": "stdout",
     "output_type": "stream",
     "text": [
      "Saving intermediary results in temp_keep and temp_finished, set rerun=True to restart api query from latest backup.\n"
     ]
    },
    {
     "name": "stderr",
     "output_type": "stream",
     "text": [
      " 74%|███████▍  | 9960/13395 [9:07:17<2:57:18,  3.10s/it]"
     ]
    },
    {
     "name": "stdout",
     "output_type": "stream",
     "text": [
      "Saving intermediary results in temp_keep and temp_finished, set rerun=True to restart api query from latest backup.\n"
     ]
    },
    {
     "name": "stderr",
     "output_type": "stream",
     "text": [
      " 75%|███████▍  | 9980/13395 [9:08:34<3:10:27,  3.35s/it]"
     ]
    },
    {
     "name": "stdout",
     "output_type": "stream",
     "text": [
      "Saving intermediary results in temp_keep and temp_finished, set rerun=True to restart api query from latest backup.\n"
     ]
    },
    {
     "name": "stderr",
     "output_type": "stream",
     "text": [
      " 75%|███████▍  | 10000/13395 [9:09:28<5:00:14,  5.31s/it]"
     ]
    },
    {
     "name": "stdout",
     "output_type": "stream",
     "text": [
      "Saving intermediary results in temp_keep and temp_finished, set rerun=True to restart api query from latest backup.\n"
     ]
    },
    {
     "name": "stderr",
     "output_type": "stream",
     "text": [
      " 75%|███████▍  | 10020/13395 [9:10:23<1:59:06,  2.12s/it]"
     ]
    },
    {
     "name": "stdout",
     "output_type": "stream",
     "text": [
      "Saving intermediary results in temp_keep and temp_finished, set rerun=True to restart api query from latest backup.\n"
     ]
    },
    {
     "name": "stderr",
     "output_type": "stream",
     "text": [
      " 75%|███████▍  | 10040/13395 [9:11:07<2:07:56,  2.29s/it]"
     ]
    },
    {
     "name": "stdout",
     "output_type": "stream",
     "text": [
      "Saving intermediary results in temp_keep and temp_finished, set rerun=True to restart api query from latest backup.\n"
     ]
    },
    {
     "name": "stderr",
     "output_type": "stream",
     "text": [
      " 75%|███████▌  | 10060/13395 [9:12:05<1:55:45,  2.08s/it]"
     ]
    },
    {
     "name": "stdout",
     "output_type": "stream",
     "text": [
      "Saving intermediary results in temp_keep and temp_finished, set rerun=True to restart api query from latest backup.\n"
     ]
    },
    {
     "name": "stderr",
     "output_type": "stream",
     "text": [
      " 75%|███████▌  | 10080/13395 [9:13:09<2:15:34,  2.45s/it]"
     ]
    },
    {
     "name": "stdout",
     "output_type": "stream",
     "text": [
      "Saving intermediary results in temp_keep and temp_finished, set rerun=True to restart api query from latest backup.\n"
     ]
    },
    {
     "name": "stderr",
     "output_type": "stream",
     "text": [
      " 75%|███████▌  | 10100/13395 [9:15:14<2:24:03,  2.62s/it] "
     ]
    },
    {
     "name": "stdout",
     "output_type": "stream",
     "text": [
      "Saving intermediary results in temp_keep and temp_finished, set rerun=True to restart api query from latest backup.\n"
     ]
    },
    {
     "name": "stderr",
     "output_type": "stream",
     "text": [
      " 76%|███████▌  | 10120/13395 [9:16:09<1:39:19,  1.82s/it]"
     ]
    },
    {
     "name": "stdout",
     "output_type": "stream",
     "text": [
      "Saving intermediary results in temp_keep and temp_finished, set rerun=True to restart api query from latest backup.\n"
     ]
    },
    {
     "name": "stderr",
     "output_type": "stream",
     "text": [
      " 76%|███████▌  | 10140/13395 [9:16:59<2:43:54,  3.02s/it]"
     ]
    },
    {
     "name": "stdout",
     "output_type": "stream",
     "text": [
      "Saving intermediary results in temp_keep and temp_finished, set rerun=True to restart api query from latest backup.\n"
     ]
    },
    {
     "name": "stderr",
     "output_type": "stream",
     "text": [
      " 76%|███████▌  | 10160/13395 [9:18:04<2:38:35,  2.94s/it]"
     ]
    },
    {
     "name": "stdout",
     "output_type": "stream",
     "text": [
      "Saving intermediary results in temp_keep and temp_finished, set rerun=True to restart api query from latest backup.\n"
     ]
    },
    {
     "name": "stderr",
     "output_type": "stream",
     "text": [
      " 76%|███████▌  | 10180/13395 [9:18:57<2:09:07,  2.41s/it]"
     ]
    },
    {
     "name": "stdout",
     "output_type": "stream",
     "text": [
      "Saving intermediary results in temp_keep and temp_finished, set rerun=True to restart api query from latest backup.\n"
     ]
    },
    {
     "name": "stderr",
     "output_type": "stream",
     "text": [
      " 76%|███████▌  | 10200/13395 [9:20:22<6:13:02,  7.01s/it]"
     ]
    },
    {
     "name": "stdout",
     "output_type": "stream",
     "text": [
      "Saving intermediary results in temp_keep and temp_finished, set rerun=True to restart api query from latest backup.\n"
     ]
    },
    {
     "name": "stderr",
     "output_type": "stream",
     "text": [
      " 76%|███████▋  | 10220/13395 [9:20:57<1:27:00,  1.64s/it]"
     ]
    },
    {
     "name": "stdout",
     "output_type": "stream",
     "text": [
      "Saving intermediary results in temp_keep and temp_finished, set rerun=True to restart api query from latest backup.\n"
     ]
    },
    {
     "name": "stderr",
     "output_type": "stream",
     "text": [
      " 76%|███████▋  | 10240/13395 [9:21:41<1:42:55,  1.96s/it]"
     ]
    },
    {
     "name": "stdout",
     "output_type": "stream",
     "text": [
      "Saving intermediary results in temp_keep and temp_finished, set rerun=True to restart api query from latest backup.\n"
     ]
    },
    {
     "name": "stderr",
     "output_type": "stream",
     "text": [
      " 77%|███████▋  | 10260/13395 [9:22:53<1:55:53,  2.22s/it]"
     ]
    },
    {
     "name": "stdout",
     "output_type": "stream",
     "text": [
      "Saving intermediary results in temp_keep and temp_finished, set rerun=True to restart api query from latest backup.\n"
     ]
    },
    {
     "name": "stderr",
     "output_type": "stream",
     "text": [
      " 77%|███████▋  | 10280/13395 [9:23:53<1:30:53,  1.75s/it]"
     ]
    },
    {
     "name": "stdout",
     "output_type": "stream",
     "text": [
      "Saving intermediary results in temp_keep and temp_finished, set rerun=True to restart api query from latest backup.\n"
     ]
    },
    {
     "name": "stderr",
     "output_type": "stream",
     "text": [
      " 77%|███████▋  | 10300/13395 [9:24:58<2:34:48,  3.00s/it]"
     ]
    },
    {
     "name": "stdout",
     "output_type": "stream",
     "text": [
      "Saving intermediary results in temp_keep and temp_finished, set rerun=True to restart api query from latest backup.\n"
     ]
    },
    {
     "name": "stderr",
     "output_type": "stream",
     "text": [
      " 77%|███████▋  | 10320/13395 [9:25:59<1:56:41,  2.28s/it]"
     ]
    },
    {
     "name": "stdout",
     "output_type": "stream",
     "text": [
      "Saving intermediary results in temp_keep and temp_finished, set rerun=True to restart api query from latest backup.\n"
     ]
    },
    {
     "name": "stderr",
     "output_type": "stream",
     "text": [
      " 77%|███████▋  | 10340/13395 [9:27:10<2:23:53,  2.83s/it]"
     ]
    },
    {
     "name": "stdout",
     "output_type": "stream",
     "text": [
      "Saving intermediary results in temp_keep and temp_finished, set rerun=True to restart api query from latest backup.\n"
     ]
    },
    {
     "name": "stderr",
     "output_type": "stream",
     "text": [
      " 77%|███████▋  | 10360/13395 [9:28:30<2:40:53,  3.18s/it]"
     ]
    },
    {
     "name": "stdout",
     "output_type": "stream",
     "text": [
      "Saving intermediary results in temp_keep and temp_finished, set rerun=True to restart api query from latest backup.\n"
     ]
    },
    {
     "name": "stderr",
     "output_type": "stream",
     "text": [
      " 77%|███████▋  | 10380/13395 [9:29:42<3:27:50,  4.14s/it]"
     ]
    },
    {
     "name": "stdout",
     "output_type": "stream",
     "text": [
      "Saving intermediary results in temp_keep and temp_finished, set rerun=True to restart api query from latest backup.\n"
     ]
    },
    {
     "name": "stderr",
     "output_type": "stream",
     "text": [
      " 78%|███████▊  | 10400/13395 [9:30:38<4:29:02,  5.39s/it]"
     ]
    },
    {
     "name": "stdout",
     "output_type": "stream",
     "text": [
      "Saving intermediary results in temp_keep and temp_finished, set rerun=True to restart api query from latest backup.\n"
     ]
    },
    {
     "name": "stderr",
     "output_type": "stream",
     "text": [
      " 78%|███████▊  | 10420/13395 [9:31:43<2:19:15,  2.81s/it]"
     ]
    },
    {
     "name": "stdout",
     "output_type": "stream",
     "text": [
      "Saving intermediary results in temp_keep and temp_finished, set rerun=True to restart api query from latest backup.\n"
     ]
    },
    {
     "name": "stderr",
     "output_type": "stream",
     "text": [
      " 78%|███████▊  | 10440/13395 [9:32:42<2:09:26,  2.63s/it]"
     ]
    },
    {
     "name": "stdout",
     "output_type": "stream",
     "text": [
      "Saving intermediary results in temp_keep and temp_finished, set rerun=True to restart api query from latest backup.\n"
     ]
    },
    {
     "name": "stderr",
     "output_type": "stream",
     "text": [
      " 78%|███████▊  | 10460/13395 [9:33:24<2:04:35,  2.55s/it]"
     ]
    },
    {
     "name": "stdout",
     "output_type": "stream",
     "text": [
      "Saving intermediary results in temp_keep and temp_finished, set rerun=True to restart api query from latest backup.\n"
     ]
    },
    {
     "name": "stderr",
     "output_type": "stream",
     "text": [
      " 78%|███████▊  | 10480/13395 [9:34:17<1:23:12,  1.71s/it]"
     ]
    },
    {
     "name": "stdout",
     "output_type": "stream",
     "text": [
      "Saving intermediary results in temp_keep and temp_finished, set rerun=True to restart api query from latest backup.\n"
     ]
    },
    {
     "name": "stderr",
     "output_type": "stream",
     "text": [
      " 78%|███████▊  | 10500/13395 [9:35:11<2:49:47,  3.52s/it]"
     ]
    },
    {
     "name": "stdout",
     "output_type": "stream",
     "text": [
      "Saving intermediary results in temp_keep and temp_finished, set rerun=True to restart api query from latest backup.\n"
     ]
    },
    {
     "name": "stderr",
     "output_type": "stream",
     "text": [
      " 79%|███████▊  | 10520/13395 [9:36:04<1:51:23,  2.32s/it]"
     ]
    },
    {
     "name": "stdout",
     "output_type": "stream",
     "text": [
      "Saving intermediary results in temp_keep and temp_finished, set rerun=True to restart api query from latest backup.\n"
     ]
    },
    {
     "name": "stderr",
     "output_type": "stream",
     "text": [
      " 79%|███████▊  | 10540/13395 [9:36:56<1:39:59,  2.10s/it]"
     ]
    },
    {
     "name": "stdout",
     "output_type": "stream",
     "text": [
      "Saving intermediary results in temp_keep and temp_finished, set rerun=True to restart api query from latest backup.\n"
     ]
    },
    {
     "name": "stderr",
     "output_type": "stream",
     "text": [
      " 79%|███████▉  | 10560/13395 [9:37:48<2:10:01,  2.75s/it]"
     ]
    },
    {
     "name": "stdout",
     "output_type": "stream",
     "text": [
      "Saving intermediary results in temp_keep and temp_finished, set rerun=True to restart api query from latest backup.\n"
     ]
    },
    {
     "name": "stderr",
     "output_type": "stream",
     "text": [
      " 79%|███████▉  | 10580/13395 [9:40:11<1:34:35,  2.02s/it] "
     ]
    },
    {
     "name": "stdout",
     "output_type": "stream",
     "text": [
      "Saving intermediary results in temp_keep and temp_finished, set rerun=True to restart api query from latest backup.\n"
     ]
    },
    {
     "name": "stderr",
     "output_type": "stream",
     "text": [
      " 79%|███████▉  | 10600/13395 [9:41:20<3:00:59,  3.89s/it]"
     ]
    },
    {
     "name": "stdout",
     "output_type": "stream",
     "text": [
      "Saving intermediary results in temp_keep and temp_finished, set rerun=True to restart api query from latest backup.\n"
     ]
    },
    {
     "name": "stderr",
     "output_type": "stream",
     "text": [
      " 79%|███████▉  | 10620/13395 [9:42:17<2:36:59,  3.39s/it]"
     ]
    },
    {
     "name": "stdout",
     "output_type": "stream",
     "text": [
      "Saving intermediary results in temp_keep and temp_finished, set rerun=True to restart api query from latest backup.\n"
     ]
    },
    {
     "name": "stderr",
     "output_type": "stream",
     "text": [
      " 79%|███████▉  | 10640/13395 [9:43:08<2:11:17,  2.86s/it]"
     ]
    },
    {
     "name": "stdout",
     "output_type": "stream",
     "text": [
      "Saving intermediary results in temp_keep and temp_finished, set rerun=True to restart api query from latest backup.\n"
     ]
    },
    {
     "name": "stderr",
     "output_type": "stream",
     "text": [
      " 80%|███████▉  | 10660/13395 [9:44:35<2:24:40,  3.17s/it]"
     ]
    },
    {
     "name": "stdout",
     "output_type": "stream",
     "text": [
      "Saving intermediary results in temp_keep and temp_finished, set rerun=True to restart api query from latest backup.\n"
     ]
    },
    {
     "name": "stderr",
     "output_type": "stream",
     "text": [
      " 80%|███████▉  | 10680/13395 [9:45:24<1:19:26,  1.76s/it]"
     ]
    },
    {
     "name": "stdout",
     "output_type": "stream",
     "text": [
      "Saving intermediary results in temp_keep and temp_finished, set rerun=True to restart api query from latest backup.\n"
     ]
    },
    {
     "name": "stderr",
     "output_type": "stream",
     "text": [
      " 80%|███████▉  | 10700/13395 [9:46:16<2:43:10,  3.63s/it]"
     ]
    },
    {
     "name": "stdout",
     "output_type": "stream",
     "text": [
      "Saving intermediary results in temp_keep and temp_finished, set rerun=True to restart api query from latest backup.\n"
     ]
    },
    {
     "name": "stderr",
     "output_type": "stream",
     "text": [
      " 80%|████████  | 10720/13395 [9:47:01<1:19:40,  1.79s/it]"
     ]
    },
    {
     "name": "stdout",
     "output_type": "stream",
     "text": [
      "Saving intermediary results in temp_keep and temp_finished, set rerun=True to restart api query from latest backup.\n"
     ]
    },
    {
     "name": "stderr",
     "output_type": "stream",
     "text": [
      " 80%|████████  | 10740/13395 [9:47:58<2:40:54,  3.64s/it]"
     ]
    },
    {
     "name": "stdout",
     "output_type": "stream",
     "text": [
      "Saving intermediary results in temp_keep and temp_finished, set rerun=True to restart api query from latest backup.\n"
     ]
    },
    {
     "name": "stderr",
     "output_type": "stream",
     "text": [
      " 80%|████████  | 10760/13395 [9:48:48<1:21:37,  1.86s/it]"
     ]
    },
    {
     "name": "stdout",
     "output_type": "stream",
     "text": [
      "Saving intermediary results in temp_keep and temp_finished, set rerun=True to restart api query from latest backup.\n"
     ]
    },
    {
     "name": "stderr",
     "output_type": "stream",
     "text": [
      " 80%|████████  | 10780/13395 [9:50:23<1:49:31,  2.51s/it]"
     ]
    },
    {
     "name": "stdout",
     "output_type": "stream",
     "text": [
      "Saving intermediary results in temp_keep and temp_finished, set rerun=True to restart api query from latest backup.\n"
     ]
    },
    {
     "name": "stderr",
     "output_type": "stream",
     "text": [
      " 81%|████████  | 10800/13395 [9:51:25<1:19:37,  1.84s/it]"
     ]
    },
    {
     "name": "stdout",
     "output_type": "stream",
     "text": [
      "Saving intermediary results in temp_keep and temp_finished, set rerun=True to restart api query from latest backup.\n"
     ]
    },
    {
     "name": "stderr",
     "output_type": "stream",
     "text": [
      " 81%|████████  | 10820/13395 [9:52:25<1:46:32,  2.48s/it]"
     ]
    },
    {
     "name": "stdout",
     "output_type": "stream",
     "text": [
      "Saving intermediary results in temp_keep and temp_finished, set rerun=True to restart api query from latest backup.\n"
     ]
    },
    {
     "name": "stderr",
     "output_type": "stream",
     "text": [
      " 81%|████████  | 10840/13395 [9:53:30<1:43:18,  2.43s/it]"
     ]
    },
    {
     "name": "stdout",
     "output_type": "stream",
     "text": [
      "Saving intermediary results in temp_keep and temp_finished, set rerun=True to restart api query from latest backup.\n"
     ]
    },
    {
     "name": "stderr",
     "output_type": "stream",
     "text": [
      " 81%|████████  | 10860/13395 [9:56:30<3:11:30,  4.53s/it] "
     ]
    },
    {
     "name": "stdout",
     "output_type": "stream",
     "text": [
      "Saving intermediary results in temp_keep and temp_finished, set rerun=True to restart api query from latest backup.\n"
     ]
    },
    {
     "name": "stderr",
     "output_type": "stream",
     "text": [
      " 81%|████████  | 10880/13395 [9:57:14<1:44:36,  2.50s/it]"
     ]
    },
    {
     "name": "stdout",
     "output_type": "stream",
     "text": [
      "Saving intermediary results in temp_keep and temp_finished, set rerun=True to restart api query from latest backup.\n"
     ]
    },
    {
     "name": "stderr",
     "output_type": "stream",
     "text": [
      " 81%|████████▏ | 10900/13395 [9:59:31<2:05:01,  3.01s/it] "
     ]
    },
    {
     "name": "stdout",
     "output_type": "stream",
     "text": [
      "Saving intermediary results in temp_keep and temp_finished, set rerun=True to restart api query from latest backup.\n"
     ]
    },
    {
     "name": "stderr",
     "output_type": "stream",
     "text": [
      " 82%|████████▏ | 10920/13395 [10:01:43<2:09:06,  3.13s/it] "
     ]
    },
    {
     "name": "stdout",
     "output_type": "stream",
     "text": [
      "Saving intermediary results in temp_keep and temp_finished, set rerun=True to restart api query from latest backup.\n"
     ]
    },
    {
     "name": "stderr",
     "output_type": "stream",
     "text": [
      " 82%|████████▏ | 10940/13395 [10:02:51<2:21:18,  3.45s/it]"
     ]
    },
    {
     "name": "stdout",
     "output_type": "stream",
     "text": [
      "Saving intermediary results in temp_keep and temp_finished, set rerun=True to restart api query from latest backup.\n"
     ]
    },
    {
     "name": "stderr",
     "output_type": "stream",
     "text": [
      " 82%|████████▏ | 10960/13395 [10:04:35<7:40:39, 11.35s/it] "
     ]
    },
    {
     "name": "stdout",
     "output_type": "stream",
     "text": [
      "Saving intermediary results in temp_keep and temp_finished, set rerun=True to restart api query from latest backup.\n"
     ]
    },
    {
     "name": "stderr",
     "output_type": "stream",
     "text": [
      " 82%|████████▏ | 10980/13395 [10:05:27<1:27:24,  2.17s/it]"
     ]
    },
    {
     "name": "stdout",
     "output_type": "stream",
     "text": [
      "Saving intermediary results in temp_keep and temp_finished, set rerun=True to restart api query from latest backup.\n"
     ]
    },
    {
     "name": "stderr",
     "output_type": "stream",
     "text": [
      " 82%|████████▏ | 11000/13395 [10:06:15<2:02:06,  3.06s/it]"
     ]
    },
    {
     "name": "stdout",
     "output_type": "stream",
     "text": [
      "Saving intermediary results in temp_keep and temp_finished, set rerun=True to restart api query from latest backup.\n"
     ]
    },
    {
     "name": "stderr",
     "output_type": "stream",
     "text": [
      " 82%|████████▏ | 11020/13395 [10:07:12<1:55:42,  2.92s/it]"
     ]
    },
    {
     "name": "stdout",
     "output_type": "stream",
     "text": [
      "Saving intermediary results in temp_keep and temp_finished, set rerun=True to restart api query from latest backup.\n"
     ]
    },
    {
     "name": "stderr",
     "output_type": "stream",
     "text": [
      " 82%|████████▏ | 11040/13395 [10:08:18<2:46:31,  4.24s/it]"
     ]
    },
    {
     "name": "stdout",
     "output_type": "stream",
     "text": [
      "Saving intermediary results in temp_keep and temp_finished, set rerun=True to restart api query from latest backup.\n"
     ]
    },
    {
     "name": "stderr",
     "output_type": "stream",
     "text": [
      " 83%|████████▎ | 11060/13395 [10:09:01<1:06:39,  1.71s/it]"
     ]
    },
    {
     "name": "stdout",
     "output_type": "stream",
     "text": [
      "Saving intermediary results in temp_keep and temp_finished, set rerun=True to restart api query from latest backup.\n"
     ]
    },
    {
     "name": "stderr",
     "output_type": "stream",
     "text": [
      " 83%|████████▎ | 11080/13395 [10:10:35<3:35:43,  5.59s/it]"
     ]
    },
    {
     "name": "stdout",
     "output_type": "stream",
     "text": [
      "Saving intermediary results in temp_keep and temp_finished, set rerun=True to restart api query from latest backup.\n"
     ]
    },
    {
     "name": "stderr",
     "output_type": "stream",
     "text": [
      " 83%|████████▎ | 11100/13395 [10:11:29<1:13:27,  1.92s/it]"
     ]
    },
    {
     "name": "stdout",
     "output_type": "stream",
     "text": [
      "Saving intermediary results in temp_keep and temp_finished, set rerun=True to restart api query from latest backup.\n"
     ]
    },
    {
     "name": "stderr",
     "output_type": "stream",
     "text": [
      " 83%|████████▎ | 11120/13395 [10:12:37<2:10:16,  3.44s/it]"
     ]
    },
    {
     "name": "stdout",
     "output_type": "stream",
     "text": [
      "Saving intermediary results in temp_keep and temp_finished, set rerun=True to restart api query from latest backup.\n"
     ]
    },
    {
     "name": "stderr",
     "output_type": "stream",
     "text": [
      " 83%|████████▎ | 11140/13395 [10:13:30<1:05:17,  1.74s/it]"
     ]
    },
    {
     "name": "stdout",
     "output_type": "stream",
     "text": [
      "Saving intermediary results in temp_keep and temp_finished, set rerun=True to restart api query from latest backup.\n"
     ]
    },
    {
     "name": "stderr",
     "output_type": "stream",
     "text": [
      " 83%|████████▎ | 11160/13395 [10:14:53<1:59:06,  3.20s/it]"
     ]
    },
    {
     "name": "stdout",
     "output_type": "stream",
     "text": [
      "Saving intermediary results in temp_keep and temp_finished, set rerun=True to restart api query from latest backup.\n"
     ]
    },
    {
     "name": "stderr",
     "output_type": "stream",
     "text": [
      " 83%|████████▎ | 11180/13395 [10:16:12<1:44:43,  2.84s/it]"
     ]
    },
    {
     "name": "stdout",
     "output_type": "stream",
     "text": [
      "Saving intermediary results in temp_keep and temp_finished, set rerun=True to restart api query from latest backup.\n"
     ]
    },
    {
     "name": "stderr",
     "output_type": "stream",
     "text": [
      " 84%|████████▎ | 11200/13395 [10:17:21<1:28:00,  2.41s/it]"
     ]
    },
    {
     "name": "stdout",
     "output_type": "stream",
     "text": [
      "Saving intermediary results in temp_keep and temp_finished, set rerun=True to restart api query from latest backup.\n"
     ]
    },
    {
     "name": "stderr",
     "output_type": "stream",
     "text": [
      " 84%|████████▍ | 11220/13395 [10:18:42<2:18:48,  3.83s/it]"
     ]
    },
    {
     "name": "stdout",
     "output_type": "stream",
     "text": [
      "Saving intermediary results in temp_keep and temp_finished, set rerun=True to restart api query from latest backup.\n"
     ]
    },
    {
     "name": "stderr",
     "output_type": "stream",
     "text": [
      " 84%|████████▍ | 11240/13395 [10:19:47<2:02:10,  3.40s/it]"
     ]
    },
    {
     "name": "stdout",
     "output_type": "stream",
     "text": [
      "Saving intermediary results in temp_keep and temp_finished, set rerun=True to restart api query from latest backup.\n"
     ]
    },
    {
     "name": "stderr",
     "output_type": "stream",
     "text": [
      " 84%|████████▍ | 11260/13395 [10:20:38<2:01:24,  3.41s/it]"
     ]
    },
    {
     "name": "stdout",
     "output_type": "stream",
     "text": [
      "Saving intermediary results in temp_keep and temp_finished, set rerun=True to restart api query from latest backup.\n"
     ]
    },
    {
     "name": "stderr",
     "output_type": "stream",
     "text": [
      " 84%|████████▍ | 11280/13395 [10:21:32<2:17:20,  3.90s/it]"
     ]
    },
    {
     "name": "stdout",
     "output_type": "stream",
     "text": [
      "Saving intermediary results in temp_keep and temp_finished, set rerun=True to restart api query from latest backup.\n"
     ]
    },
    {
     "name": "stderr",
     "output_type": "stream",
     "text": [
      " 84%|████████▍ | 11300/13395 [10:22:26<1:26:19,  2.47s/it]"
     ]
    },
    {
     "name": "stdout",
     "output_type": "stream",
     "text": [
      "Saving intermediary results in temp_keep and temp_finished, set rerun=True to restart api query from latest backup.\n"
     ]
    },
    {
     "name": "stderr",
     "output_type": "stream",
     "text": [
      " 85%|████████▍ | 11320/13395 [10:24:53<1:45:59,  3.06s/it] "
     ]
    },
    {
     "name": "stdout",
     "output_type": "stream",
     "text": [
      "Saving intermediary results in temp_keep and temp_finished, set rerun=True to restart api query from latest backup.\n"
     ]
    },
    {
     "name": "stderr",
     "output_type": "stream",
     "text": [
      " 85%|████████▍ | 11340/13395 [10:26:05<1:24:20,  2.46s/it]"
     ]
    },
    {
     "name": "stdout",
     "output_type": "stream",
     "text": [
      "Saving intermediary results in temp_keep and temp_finished, set rerun=True to restart api query from latest backup.\n"
     ]
    },
    {
     "name": "stderr",
     "output_type": "stream",
     "text": [
      " 85%|████████▍ | 11360/13395 [10:26:58<1:14:23,  2.19s/it]"
     ]
    },
    {
     "name": "stdout",
     "output_type": "stream",
     "text": [
      "Saving intermediary results in temp_keep and temp_finished, set rerun=True to restart api query from latest backup.\n"
     ]
    },
    {
     "name": "stderr",
     "output_type": "stream",
     "text": [
      " 85%|████████▍ | 11380/13395 [10:27:56<1:17:30,  2.31s/it]"
     ]
    },
    {
     "name": "stdout",
     "output_type": "stream",
     "text": [
      "Saving intermediary results in temp_keep and temp_finished, set rerun=True to restart api query from latest backup.\n"
     ]
    },
    {
     "name": "stderr",
     "output_type": "stream",
     "text": [
      " 85%|████████▌ | 11400/13395 [10:28:57<1:33:06,  2.80s/it]"
     ]
    },
    {
     "name": "stdout",
     "output_type": "stream",
     "text": [
      "Saving intermediary results in temp_keep and temp_finished, set rerun=True to restart api query from latest backup.\n"
     ]
    },
    {
     "name": "stderr",
     "output_type": "stream",
     "text": [
      " 85%|████████▌ | 11420/13395 [10:30:36<2:23:25,  4.36s/it]"
     ]
    },
    {
     "name": "stdout",
     "output_type": "stream",
     "text": [
      "Saving intermediary results in temp_keep and temp_finished, set rerun=True to restart api query from latest backup.\n"
     ]
    },
    {
     "name": "stderr",
     "output_type": "stream",
     "text": [
      " 85%|████████▌ | 11440/13395 [10:32:08<4:46:33,  8.79s/it]"
     ]
    },
    {
     "name": "stdout",
     "output_type": "stream",
     "text": [
      "Saving intermediary results in temp_keep and temp_finished, set rerun=True to restart api query from latest backup.\n"
     ]
    },
    {
     "name": "stderr",
     "output_type": "stream",
     "text": [
      " 86%|████████▌ | 11460/13395 [10:33:42<1:24:46,  2.63s/it]"
     ]
    },
    {
     "name": "stdout",
     "output_type": "stream",
     "text": [
      "Saving intermediary results in temp_keep and temp_finished, set rerun=True to restart api query from latest backup.\n"
     ]
    },
    {
     "name": "stderr",
     "output_type": "stream",
     "text": [
      " 86%|████████▌ | 11480/13395 [10:34:22<52:49,  1.66s/it]  "
     ]
    },
    {
     "name": "stdout",
     "output_type": "stream",
     "text": [
      "Saving intermediary results in temp_keep and temp_finished, set rerun=True to restart api query from latest backup.\n"
     ]
    },
    {
     "name": "stderr",
     "output_type": "stream",
     "text": [
      " 86%|████████▌ | 11500/13395 [10:35:26<1:15:01,  2.38s/it]"
     ]
    },
    {
     "name": "stdout",
     "output_type": "stream",
     "text": [
      "Saving intermediary results in temp_keep and temp_finished, set rerun=True to restart api query from latest backup.\n"
     ]
    },
    {
     "name": "stderr",
     "output_type": "stream",
     "text": [
      " 86%|████████▌ | 11520/13395 [10:36:25<1:41:05,  3.23s/it]"
     ]
    },
    {
     "name": "stdout",
     "output_type": "stream",
     "text": [
      "Saving intermediary results in temp_keep and temp_finished, set rerun=True to restart api query from latest backup.\n"
     ]
    },
    {
     "name": "stderr",
     "output_type": "stream",
     "text": [
      " 86%|████████▌ | 11540/13395 [10:37:51<2:15:17,  4.38s/it]"
     ]
    },
    {
     "name": "stdout",
     "output_type": "stream",
     "text": [
      "Saving intermediary results in temp_keep and temp_finished, set rerun=True to restart api query from latest backup.\n"
     ]
    },
    {
     "name": "stderr",
     "output_type": "stream",
     "text": [
      " 86%|████████▋ | 11560/13395 [10:38:40<1:18:00,  2.55s/it]"
     ]
    },
    {
     "name": "stdout",
     "output_type": "stream",
     "text": [
      "Saving intermediary results in temp_keep and temp_finished, set rerun=True to restart api query from latest backup.\n"
     ]
    },
    {
     "name": "stderr",
     "output_type": "stream",
     "text": [
      " 86%|████████▋ | 11580/13395 [10:39:33<1:26:07,  2.85s/it]"
     ]
    },
    {
     "name": "stdout",
     "output_type": "stream",
     "text": [
      "Saving intermediary results in temp_keep and temp_finished, set rerun=True to restart api query from latest backup.\n"
     ]
    },
    {
     "name": "stderr",
     "output_type": "stream",
     "text": [
      " 87%|████████▋ | 11600/13395 [10:42:49<2:29:44,  5.01s/it] "
     ]
    },
    {
     "name": "stdout",
     "output_type": "stream",
     "text": [
      "Saving intermediary results in temp_keep and temp_finished, set rerun=True to restart api query from latest backup.\n"
     ]
    },
    {
     "name": "stderr",
     "output_type": "stream",
     "text": [
      " 87%|████████▋ | 11620/13395 [10:43:48<57:06,  1.93s/it]  "
     ]
    },
    {
     "name": "stdout",
     "output_type": "stream",
     "text": [
      "Saving intermediary results in temp_keep and temp_finished, set rerun=True to restart api query from latest backup.\n"
     ]
    },
    {
     "name": "stderr",
     "output_type": "stream",
     "text": [
      " 87%|████████▋ | 11640/13395 [10:44:34<1:14:26,  2.54s/it]"
     ]
    },
    {
     "name": "stdout",
     "output_type": "stream",
     "text": [
      "Saving intermediary results in temp_keep and temp_finished, set rerun=True to restart api query from latest backup.\n"
     ]
    },
    {
     "name": "stderr",
     "output_type": "stream",
     "text": [
      " 87%|████████▋ | 11660/13395 [10:45:51<1:30:53,  3.14s/it]"
     ]
    },
    {
     "name": "stdout",
     "output_type": "stream",
     "text": [
      "Saving intermediary results in temp_keep and temp_finished, set rerun=True to restart api query from latest backup.\n"
     ]
    },
    {
     "name": "stderr",
     "output_type": "stream",
     "text": [
      " 87%|████████▋ | 11680/13395 [10:46:40<1:19:11,  2.77s/it]"
     ]
    },
    {
     "name": "stdout",
     "output_type": "stream",
     "text": [
      "Saving intermediary results in temp_keep and temp_finished, set rerun=True to restart api query from latest backup.\n"
     ]
    },
    {
     "name": "stderr",
     "output_type": "stream",
     "text": [
      " 87%|████████▋ | 11700/13395 [10:48:07<2:28:22,  5.25s/it]"
     ]
    },
    {
     "name": "stdout",
     "output_type": "stream",
     "text": [
      "Saving intermediary results in temp_keep and temp_finished, set rerun=True to restart api query from latest backup.\n"
     ]
    },
    {
     "name": "stderr",
     "output_type": "stream",
     "text": [
      " 87%|████████▋ | 11720/13395 [10:48:59<1:00:04,  2.15s/it]"
     ]
    },
    {
     "name": "stdout",
     "output_type": "stream",
     "text": [
      "Saving intermediary results in temp_keep and temp_finished, set rerun=True to restart api query from latest backup.\n"
     ]
    },
    {
     "name": "stderr",
     "output_type": "stream",
     "text": [
      " 88%|████████▊ | 11740/13395 [10:50:16<2:14:02,  4.86s/it]"
     ]
    },
    {
     "name": "stdout",
     "output_type": "stream",
     "text": [
      "Saving intermediary results in temp_keep and temp_finished, set rerun=True to restart api query from latest backup.\n"
     ]
    },
    {
     "name": "stderr",
     "output_type": "stream",
     "text": [
      " 88%|████████▊ | 11760/13395 [10:51:20<1:41:43,  3.73s/it]"
     ]
    },
    {
     "name": "stdout",
     "output_type": "stream",
     "text": [
      "Saving intermediary results in temp_keep and temp_finished, set rerun=True to restart api query from latest backup.\n"
     ]
    },
    {
     "name": "stderr",
     "output_type": "stream",
     "text": [
      " 88%|████████▊ | 11780/13395 [10:52:43<45:56,  1.71s/it]  "
     ]
    },
    {
     "name": "stdout",
     "output_type": "stream",
     "text": [
      "Saving intermediary results in temp_keep and temp_finished, set rerun=True to restart api query from latest backup.\n"
     ]
    },
    {
     "name": "stderr",
     "output_type": "stream",
     "text": [
      " 88%|████████▊ | 11800/13395 [10:53:40<2:04:53,  4.70s/it]"
     ]
    },
    {
     "name": "stdout",
     "output_type": "stream",
     "text": [
      "Saving intermediary results in temp_keep and temp_finished, set rerun=True to restart api query from latest backup.\n"
     ]
    },
    {
     "name": "stderr",
     "output_type": "stream",
     "text": [
      " 88%|████████▊ | 11820/13395 [10:54:45<1:08:49,  2.62s/it]"
     ]
    },
    {
     "name": "stdout",
     "output_type": "stream",
     "text": [
      "Saving intermediary results in temp_keep and temp_finished, set rerun=True to restart api query from latest backup.\n"
     ]
    },
    {
     "name": "stderr",
     "output_type": "stream",
     "text": [
      " 88%|████████▊ | 11840/13395 [10:55:42<1:16:14,  2.94s/it]"
     ]
    },
    {
     "name": "stdout",
     "output_type": "stream",
     "text": [
      "Saving intermediary results in temp_keep and temp_finished, set rerun=True to restart api query from latest backup.\n"
     ]
    },
    {
     "name": "stderr",
     "output_type": "stream",
     "text": [
      " 89%|████████▊ | 11860/13395 [10:56:32<1:20:47,  3.16s/it]"
     ]
    },
    {
     "name": "stdout",
     "output_type": "stream",
     "text": [
      "Saving intermediary results in temp_keep and temp_finished, set rerun=True to restart api query from latest backup.\n"
     ]
    },
    {
     "name": "stderr",
     "output_type": "stream",
     "text": [
      " 89%|████████▊ | 11880/13395 [10:57:25<49:30,  1.96s/it]  "
     ]
    },
    {
     "name": "stdout",
     "output_type": "stream",
     "text": [
      "Saving intermediary results in temp_keep and temp_finished, set rerun=True to restart api query from latest backup.\n"
     ]
    },
    {
     "name": "stderr",
     "output_type": "stream",
     "text": [
      " 89%|████████▉ | 11900/13395 [10:58:38<1:44:16,  4.18s/it]"
     ]
    },
    {
     "name": "stdout",
     "output_type": "stream",
     "text": [
      "Saving intermediary results in temp_keep and temp_finished, set rerun=True to restart api query from latest backup.\n"
     ]
    },
    {
     "name": "stderr",
     "output_type": "stream",
     "text": [
      " 89%|████████▉ | 11920/13395 [10:59:20<38:04,  1.55s/it]  "
     ]
    },
    {
     "name": "stdout",
     "output_type": "stream",
     "text": [
      "Saving intermediary results in temp_keep and temp_finished, set rerun=True to restart api query from latest backup.\n"
     ]
    },
    {
     "name": "stderr",
     "output_type": "stream",
     "text": [
      " 89%|████████▉ | 11940/13395 [11:00:39<2:27:02,  6.06s/it]"
     ]
    },
    {
     "name": "stdout",
     "output_type": "stream",
     "text": [
      "Saving intermediary results in temp_keep and temp_finished, set rerun=True to restart api query from latest backup.\n"
     ]
    },
    {
     "name": "stderr",
     "output_type": "stream",
     "text": [
      " 89%|████████▉ | 11960/13395 [11:01:16<51:10,  2.14s/it]  "
     ]
    },
    {
     "name": "stdout",
     "output_type": "stream",
     "text": [
      "Saving intermediary results in temp_keep and temp_finished, set rerun=True to restart api query from latest backup.\n"
     ]
    },
    {
     "name": "stderr",
     "output_type": "stream",
     "text": [
      " 89%|████████▉ | 11980/13395 [11:02:33<54:43,  2.32s/it]  "
     ]
    },
    {
     "name": "stdout",
     "output_type": "stream",
     "text": [
      "Saving intermediary results in temp_keep and temp_finished, set rerun=True to restart api query from latest backup.\n"
     ]
    },
    {
     "name": "stderr",
     "output_type": "stream",
     "text": [
      " 90%|████████▉ | 12000/13395 [11:03:34<1:18:24,  3.37s/it]"
     ]
    },
    {
     "name": "stdout",
     "output_type": "stream",
     "text": [
      "Saving intermediary results in temp_keep and temp_finished, set rerun=True to restart api query from latest backup.\n"
     ]
    },
    {
     "name": "stderr",
     "output_type": "stream",
     "text": [
      " 90%|████████▉ | 12020/13395 [11:04:23<52:31,  2.29s/it]  "
     ]
    },
    {
     "name": "stdout",
     "output_type": "stream",
     "text": [
      "Saving intermediary results in temp_keep and temp_finished, set rerun=True to restart api query from latest backup.\n"
     ]
    },
    {
     "name": "stderr",
     "output_type": "stream",
     "text": [
      " 90%|████████▉ | 12040/13395 [11:05:18<42:42,  1.89s/it]  "
     ]
    },
    {
     "name": "stdout",
     "output_type": "stream",
     "text": [
      "Saving intermediary results in temp_keep and temp_finished, set rerun=True to restart api query from latest backup.\n"
     ]
    },
    {
     "name": "stderr",
     "output_type": "stream",
     "text": [
      " 90%|█████████ | 12060/13395 [11:06:45<54:32,  2.45s/it]  "
     ]
    },
    {
     "name": "stdout",
     "output_type": "stream",
     "text": [
      "Saving intermediary results in temp_keep and temp_finished, set rerun=True to restart api query from latest backup.\n"
     ]
    },
    {
     "name": "stderr",
     "output_type": "stream",
     "text": [
      " 90%|█████████ | 12080/13395 [11:07:45<49:35,  2.26s/it]  "
     ]
    },
    {
     "name": "stdout",
     "output_type": "stream",
     "text": [
      "Saving intermediary results in temp_keep and temp_finished, set rerun=True to restart api query from latest backup.\n"
     ]
    },
    {
     "name": "stderr",
     "output_type": "stream",
     "text": [
      " 90%|█████████ | 12100/13395 [11:08:50<44:53,  2.08s/it]  "
     ]
    },
    {
     "name": "stdout",
     "output_type": "stream",
     "text": [
      "Saving intermediary results in temp_keep and temp_finished, set rerun=True to restart api query from latest backup.\n"
     ]
    },
    {
     "name": "stderr",
     "output_type": "stream",
     "text": [
      " 90%|█████████ | 12120/13395 [11:09:41<1:07:02,  3.16s/it]"
     ]
    },
    {
     "name": "stdout",
     "output_type": "stream",
     "text": [
      "Saving intermediary results in temp_keep and temp_finished, set rerun=True to restart api query from latest backup.\n"
     ]
    },
    {
     "name": "stderr",
     "output_type": "stream",
     "text": [
      " 91%|█████████ | 12140/13395 [11:10:58<1:39:37,  4.76s/it]"
     ]
    },
    {
     "name": "stdout",
     "output_type": "stream",
     "text": [
      "Saving intermediary results in temp_keep and temp_finished, set rerun=True to restart api query from latest backup.\n"
     ]
    },
    {
     "name": "stderr",
     "output_type": "stream",
     "text": [
      " 91%|█████████ | 12160/13395 [11:11:51<48:26,  2.35s/it]  "
     ]
    },
    {
     "name": "stdout",
     "output_type": "stream",
     "text": [
      "Saving intermediary results in temp_keep and temp_finished, set rerun=True to restart api query from latest backup.\n"
     ]
    },
    {
     "name": "stderr",
     "output_type": "stream",
     "text": [
      " 91%|█████████ | 12180/13395 [11:13:17<1:55:23,  5.70s/it]"
     ]
    },
    {
     "name": "stdout",
     "output_type": "stream",
     "text": [
      "Saving intermediary results in temp_keep and temp_finished, set rerun=True to restart api query from latest backup.\n"
     ]
    },
    {
     "name": "stderr",
     "output_type": "stream",
     "text": [
      " 91%|█████████ | 12200/13395 [11:14:13<36:50,  1.85s/it]  "
     ]
    },
    {
     "name": "stdout",
     "output_type": "stream",
     "text": [
      "Saving intermediary results in temp_keep and temp_finished, set rerun=True to restart api query from latest backup.\n"
     ]
    },
    {
     "name": "stderr",
     "output_type": "stream",
     "text": [
      " 91%|█████████ | 12220/13395 [11:15:10<1:12:44,  3.71s/it]"
     ]
    },
    {
     "name": "stdout",
     "output_type": "stream",
     "text": [
      "Saving intermediary results in temp_keep and temp_finished, set rerun=True to restart api query from latest backup.\n"
     ]
    },
    {
     "name": "stderr",
     "output_type": "stream",
     "text": [
      " 91%|█████████▏| 12240/13395 [11:15:58<1:07:31,  3.51s/it]"
     ]
    },
    {
     "name": "stdout",
     "output_type": "stream",
     "text": [
      "Saving intermediary results in temp_keep and temp_finished, set rerun=True to restart api query from latest backup.\n"
     ]
    },
    {
     "name": "stderr",
     "output_type": "stream",
     "text": [
      " 92%|█████████▏| 12260/13395 [11:17:02<52:37,  2.78s/it]  "
     ]
    },
    {
     "name": "stdout",
     "output_type": "stream",
     "text": [
      "Saving intermediary results in temp_keep and temp_finished, set rerun=True to restart api query from latest backup.\n"
     ]
    },
    {
     "name": "stderr",
     "output_type": "stream",
     "text": [
      " 92%|█████████▏| 12280/13395 [11:18:16<40:59,  2.21s/it]  "
     ]
    },
    {
     "name": "stdout",
     "output_type": "stream",
     "text": [
      "Saving intermediary results in temp_keep and temp_finished, set rerun=True to restart api query from latest backup.\n"
     ]
    },
    {
     "name": "stderr",
     "output_type": "stream",
     "text": [
      " 92%|█████████▏| 12300/13395 [11:19:01<1:07:47,  3.71s/it]"
     ]
    },
    {
     "name": "stdout",
     "output_type": "stream",
     "text": [
      "Saving intermediary results in temp_keep and temp_finished, set rerun=True to restart api query from latest backup.\n"
     ]
    },
    {
     "name": "stderr",
     "output_type": "stream",
     "text": [
      " 92%|█████████▏| 12320/13395 [11:20:47<1:03:59,  3.57s/it]"
     ]
    },
    {
     "name": "stdout",
     "output_type": "stream",
     "text": [
      "Saving intermediary results in temp_keep and temp_finished, set rerun=True to restart api query from latest backup.\n"
     ]
    },
    {
     "name": "stderr",
     "output_type": "stream",
     "text": [
      " 92%|█████████▏| 12340/13395 [11:22:00<1:24:54,  4.83s/it]"
     ]
    },
    {
     "name": "stdout",
     "output_type": "stream",
     "text": [
      "Saving intermediary results in temp_keep and temp_finished, set rerun=True to restart api query from latest backup.\n"
     ]
    },
    {
     "name": "stderr",
     "output_type": "stream",
     "text": [
      " 92%|█████████▏| 12360/13395 [11:23:55<45:04,  2.61s/it]  "
     ]
    },
    {
     "name": "stdout",
     "output_type": "stream",
     "text": [
      "Saving intermediary results in temp_keep and temp_finished, set rerun=True to restart api query from latest backup.\n"
     ]
    },
    {
     "name": "stderr",
     "output_type": "stream",
     "text": [
      " 92%|█████████▏| 12380/13395 [11:24:56<45:19,  2.68s/it]  "
     ]
    },
    {
     "name": "stdout",
     "output_type": "stream",
     "text": [
      "Saving intermediary results in temp_keep and temp_finished, set rerun=True to restart api query from latest backup.\n"
     ]
    },
    {
     "name": "stderr",
     "output_type": "stream",
     "text": [
      " 93%|█████████▎| 12400/13395 [11:26:10<55:15,  3.33s/it]  "
     ]
    },
    {
     "name": "stdout",
     "output_type": "stream",
     "text": [
      "Saving intermediary results in temp_keep and temp_finished, set rerun=True to restart api query from latest backup.\n"
     ]
    },
    {
     "name": "stderr",
     "output_type": "stream",
     "text": [
      " 93%|█████████▎| 12420/13395 [11:27:01<40:49,  2.51s/it]"
     ]
    },
    {
     "name": "stdout",
     "output_type": "stream",
     "text": [
      "Saving intermediary results in temp_keep and temp_finished, set rerun=True to restart api query from latest backup.\n"
     ]
    },
    {
     "name": "stderr",
     "output_type": "stream",
     "text": [
      " 93%|█████████▎| 12440/13395 [11:29:15<57:22,  3.60s/it]  "
     ]
    },
    {
     "name": "stdout",
     "output_type": "stream",
     "text": [
      "Saving intermediary results in temp_keep and temp_finished, set rerun=True to restart api query from latest backup.\n"
     ]
    },
    {
     "name": "stderr",
     "output_type": "stream",
     "text": [
      " 93%|█████████▎| 12460/13395 [11:30:08<44:33,  2.86s/it]  "
     ]
    },
    {
     "name": "stdout",
     "output_type": "stream",
     "text": [
      "Saving intermediary results in temp_keep and temp_finished, set rerun=True to restart api query from latest backup.\n"
     ]
    },
    {
     "name": "stderr",
     "output_type": "stream",
     "text": [
      " 93%|█████████▎| 12480/13395 [11:31:00<33:22,  2.19s/it]  "
     ]
    },
    {
     "name": "stdout",
     "output_type": "stream",
     "text": [
      "Saving intermediary results in temp_keep and temp_finished, set rerun=True to restart api query from latest backup.\n"
     ]
    },
    {
     "name": "stderr",
     "output_type": "stream",
     "text": [
      " 93%|█████████▎| 12500/13395 [11:32:00<50:31,  3.39s/it]  "
     ]
    },
    {
     "name": "stdout",
     "output_type": "stream",
     "text": [
      "Saving intermediary results in temp_keep and temp_finished, set rerun=True to restart api query from latest backup.\n"
     ]
    },
    {
     "name": "stderr",
     "output_type": "stream",
     "text": [
      " 93%|█████████▎| 12520/13395 [11:33:03<1:05:03,  4.46s/it]"
     ]
    },
    {
     "name": "stdout",
     "output_type": "stream",
     "text": [
      "Saving intermediary results in temp_keep and temp_finished, set rerun=True to restart api query from latest backup.\n"
     ]
    },
    {
     "name": "stderr",
     "output_type": "stream",
     "text": [
      " 94%|█████████▎| 12540/13395 [11:33:55<29:09,  2.05s/it]  "
     ]
    },
    {
     "name": "stdout",
     "output_type": "stream",
     "text": [
      "Saving intermediary results in temp_keep and temp_finished, set rerun=True to restart api query from latest backup.\n"
     ]
    },
    {
     "name": "stderr",
     "output_type": "stream",
     "text": [
      " 94%|█████████▍| 12560/13395 [11:35:28<31:21,  2.25s/it]  "
     ]
    },
    {
     "name": "stdout",
     "output_type": "stream",
     "text": [
      "Saving intermediary results in temp_keep and temp_finished, set rerun=True to restart api query from latest backup.\n"
     ]
    },
    {
     "name": "stderr",
     "output_type": "stream",
     "text": [
      " 94%|█████████▍| 12580/13395 [11:37:02<1:50:08,  8.11s/it]"
     ]
    },
    {
     "name": "stdout",
     "output_type": "stream",
     "text": [
      "Saving intermediary results in temp_keep and temp_finished, set rerun=True to restart api query from latest backup.\n"
     ]
    },
    {
     "name": "stderr",
     "output_type": "stream",
     "text": [
      " 94%|█████████▍| 12600/13395 [11:37:56<44:58,  3.39s/it]  "
     ]
    },
    {
     "name": "stdout",
     "output_type": "stream",
     "text": [
      "Saving intermediary results in temp_keep and temp_finished, set rerun=True to restart api query from latest backup.\n"
     ]
    },
    {
     "name": "stderr",
     "output_type": "stream",
     "text": [
      " 94%|█████████▍| 12620/13395 [11:38:44<28:19,  2.19s/it]"
     ]
    },
    {
     "name": "stdout",
     "output_type": "stream",
     "text": [
      "Saving intermediary results in temp_keep and temp_finished, set rerun=True to restart api query from latest backup.\n"
     ]
    },
    {
     "name": "stderr",
     "output_type": "stream",
     "text": [
      " 94%|█████████▍| 12640/13395 [11:39:52<50:15,  3.99s/it]  "
     ]
    },
    {
     "name": "stdout",
     "output_type": "stream",
     "text": [
      "Saving intermediary results in temp_keep and temp_finished, set rerun=True to restart api query from latest backup.\n"
     ]
    },
    {
     "name": "stderr",
     "output_type": "stream",
     "text": [
      " 95%|█████████▍| 12660/13395 [11:40:55<24:42,  2.02s/it]  "
     ]
    },
    {
     "name": "stdout",
     "output_type": "stream",
     "text": [
      "Saving intermediary results in temp_keep and temp_finished, set rerun=True to restart api query from latest backup.\n"
     ]
    },
    {
     "name": "stderr",
     "output_type": "stream",
     "text": [
      " 95%|█████████▍| 12680/13395 [11:41:41<24:46,  2.08s/it]"
     ]
    },
    {
     "name": "stdout",
     "output_type": "stream",
     "text": [
      "Saving intermediary results in temp_keep and temp_finished, set rerun=True to restart api query from latest backup.\n"
     ]
    },
    {
     "name": "stderr",
     "output_type": "stream",
     "text": [
      " 95%|█████████▍| 12700/13395 [11:43:25<56:37,  4.89s/it]  "
     ]
    },
    {
     "name": "stdout",
     "output_type": "stream",
     "text": [
      "Saving intermediary results in temp_keep and temp_finished, set rerun=True to restart api query from latest backup.\n"
     ]
    },
    {
     "name": "stderr",
     "output_type": "stream",
     "text": [
      " 95%|█████████▍| 12720/13395 [11:44:42<31:37,  2.81s/it]  "
     ]
    },
    {
     "name": "stdout",
     "output_type": "stream",
     "text": [
      "Saving intermediary results in temp_keep and temp_finished, set rerun=True to restart api query from latest backup.\n"
     ]
    },
    {
     "name": "stderr",
     "output_type": "stream",
     "text": [
      " 95%|█████████▌| 12740/13395 [11:45:28<39:17,  3.60s/it]"
     ]
    },
    {
     "name": "stdout",
     "output_type": "stream",
     "text": [
      "Saving intermediary results in temp_keep and temp_finished, set rerun=True to restart api query from latest backup.\n"
     ]
    },
    {
     "name": "stderr",
     "output_type": "stream",
     "text": [
      " 95%|█████████▌| 12760/13395 [11:46:19<20:37,  1.95s/it]"
     ]
    },
    {
     "name": "stdout",
     "output_type": "stream",
     "text": [
      "Saving intermediary results in temp_keep and temp_finished, set rerun=True to restart api query from latest backup.\n"
     ]
    },
    {
     "name": "stderr",
     "output_type": "stream",
     "text": [
      " 95%|█████████▌| 12780/13395 [11:47:24<17:20,  1.69s/it]  "
     ]
    },
    {
     "name": "stdout",
     "output_type": "stream",
     "text": [
      "Saving intermediary results in temp_keep and temp_finished, set rerun=True to restart api query from latest backup.\n"
     ]
    },
    {
     "name": "stderr",
     "output_type": "stream",
     "text": [
      " 96%|█████████▌| 12800/13395 [11:48:09<20:04,  2.02s/it]"
     ]
    },
    {
     "name": "stdout",
     "output_type": "stream",
     "text": [
      "Saving intermediary results in temp_keep and temp_finished, set rerun=True to restart api query from latest backup.\n"
     ]
    },
    {
     "name": "stderr",
     "output_type": "stream",
     "text": [
      " 96%|█████████▌| 12820/13395 [11:48:46<16:20,  1.71s/it]"
     ]
    },
    {
     "name": "stdout",
     "output_type": "stream",
     "text": [
      "Saving intermediary results in temp_keep and temp_finished, set rerun=True to restart api query from latest backup.\n"
     ]
    },
    {
     "name": "stderr",
     "output_type": "stream",
     "text": [
      " 96%|█████████▌| 12840/13395 [11:49:32<32:03,  3.47s/it]"
     ]
    },
    {
     "name": "stdout",
     "output_type": "stream",
     "text": [
      "Saving intermediary results in temp_keep and temp_finished, set rerun=True to restart api query from latest backup.\n"
     ]
    },
    {
     "name": "stderr",
     "output_type": "stream",
     "text": [
      " 96%|█████████▌| 12860/13395 [11:50:43<20:51,  2.34s/it]  "
     ]
    },
    {
     "name": "stdout",
     "output_type": "stream",
     "text": [
      "Saving intermediary results in temp_keep and temp_finished, set rerun=True to restart api query from latest backup.\n"
     ]
    },
    {
     "name": "stderr",
     "output_type": "stream",
     "text": [
      " 96%|█████████▌| 12880/13395 [11:51:49<50:31,  5.89s/it]"
     ]
    },
    {
     "name": "stdout",
     "output_type": "stream",
     "text": [
      "Saving intermediary results in temp_keep and temp_finished, set rerun=True to restart api query from latest backup.\n"
     ]
    },
    {
     "name": "stderr",
     "output_type": "stream",
     "text": [
      " 96%|█████████▋| 12900/13395 [11:52:38<17:54,  2.17s/it]"
     ]
    },
    {
     "name": "stdout",
     "output_type": "stream",
     "text": [
      "Saving intermediary results in temp_keep and temp_finished, set rerun=True to restart api query from latest backup.\n"
     ]
    },
    {
     "name": "stderr",
     "output_type": "stream",
     "text": [
      " 96%|█████████▋| 12920/13395 [11:53:35<28:02,  3.54s/it]"
     ]
    },
    {
     "name": "stdout",
     "output_type": "stream",
     "text": [
      "Saving intermediary results in temp_keep and temp_finished, set rerun=True to restart api query from latest backup.\n"
     ]
    },
    {
     "name": "stderr",
     "output_type": "stream",
     "text": [
      " 97%|█████████▋| 12940/13395 [11:54:26<21:09,  2.79s/it]"
     ]
    },
    {
     "name": "stdout",
     "output_type": "stream",
     "text": [
      "Saving intermediary results in temp_keep and temp_finished, set rerun=True to restart api query from latest backup.\n"
     ]
    },
    {
     "name": "stderr",
     "output_type": "stream",
     "text": [
      " 97%|█████████▋| 12960/13395 [11:55:28<20:25,  2.82s/it]"
     ]
    },
    {
     "name": "stdout",
     "output_type": "stream",
     "text": [
      "Saving intermediary results in temp_keep and temp_finished, set rerun=True to restart api query from latest backup.\n"
     ]
    },
    {
     "name": "stderr",
     "output_type": "stream",
     "text": [
      " 97%|█████████▋| 12980/13395 [11:57:35<28:43,  4.15s/it]  "
     ]
    },
    {
     "name": "stdout",
     "output_type": "stream",
     "text": [
      "Saving intermediary results in temp_keep and temp_finished, set rerun=True to restart api query from latest backup.\n"
     ]
    },
    {
     "name": "stderr",
     "output_type": "stream",
     "text": [
      " 97%|█████████▋| 13000/13395 [11:58:21<12:47,  1.94s/it]"
     ]
    },
    {
     "name": "stdout",
     "output_type": "stream",
     "text": [
      "Saving intermediary results in temp_keep and temp_finished, set rerun=True to restart api query from latest backup.\n"
     ]
    },
    {
     "name": "stderr",
     "output_type": "stream",
     "text": [
      " 97%|█████████▋| 13020/13395 [11:59:22<13:57,  2.23s/it]"
     ]
    },
    {
     "name": "stdout",
     "output_type": "stream",
     "text": [
      "Saving intermediary results in temp_keep and temp_finished, set rerun=True to restart api query from latest backup.\n"
     ]
    },
    {
     "name": "stderr",
     "output_type": "stream",
     "text": [
      " 97%|█████████▋| 13040/13395 [12:00:35<13:28,  2.28s/it]"
     ]
    },
    {
     "name": "stdout",
     "output_type": "stream",
     "text": [
      "Saving intermediary results in temp_keep and temp_finished, set rerun=True to restart api query from latest backup.\n"
     ]
    },
    {
     "name": "stderr",
     "output_type": "stream",
     "text": [
      " 97%|█████████▋| 13060/13395 [12:02:19<18:13,  3.26s/it]  "
     ]
    },
    {
     "name": "stdout",
     "output_type": "stream",
     "text": [
      "Saving intermediary results in temp_keep and temp_finished, set rerun=True to restart api query from latest backup.\n"
     ]
    },
    {
     "name": "stderr",
     "output_type": "stream",
     "text": [
      " 98%|█████████▊| 13080/13395 [12:03:18<20:30,  3.91s/it]"
     ]
    },
    {
     "name": "stdout",
     "output_type": "stream",
     "text": [
      "Saving intermediary results in temp_keep and temp_finished, set rerun=True to restart api query from latest backup.\n"
     ]
    },
    {
     "name": "stderr",
     "output_type": "stream",
     "text": [
      " 98%|█████████▊| 13100/13395 [12:04:21<18:28,  3.76s/it]"
     ]
    },
    {
     "name": "stdout",
     "output_type": "stream",
     "text": [
      "Saving intermediary results in temp_keep and temp_finished, set rerun=True to restart api query from latest backup.\n"
     ]
    },
    {
     "name": "stderr",
     "output_type": "stream",
     "text": [
      " 98%|█████████▊| 13120/13395 [12:05:34<15:28,  3.38s/it]"
     ]
    },
    {
     "name": "stdout",
     "output_type": "stream",
     "text": [
      "Saving intermediary results in temp_keep and temp_finished, set rerun=True to restart api query from latest backup.\n"
     ]
    },
    {
     "name": "stderr",
     "output_type": "stream",
     "text": [
      " 98%|█████████▊| 13140/13395 [12:06:18<06:41,  1.57s/it]"
     ]
    },
    {
     "name": "stdout",
     "output_type": "stream",
     "text": [
      "Saving intermediary results in temp_keep and temp_finished, set rerun=True to restart api query from latest backup.\n"
     ]
    },
    {
     "name": "stderr",
     "output_type": "stream",
     "text": [
      " 98%|█████████▊| 13160/13395 [12:07:35<08:29,  2.17s/it]"
     ]
    },
    {
     "name": "stdout",
     "output_type": "stream",
     "text": [
      "Saving intermediary results in temp_keep and temp_finished, set rerun=True to restart api query from latest backup.\n"
     ]
    },
    {
     "name": "stderr",
     "output_type": "stream",
     "text": [
      " 98%|█████████▊| 13180/13395 [12:08:58<20:20,  5.68s/it]"
     ]
    },
    {
     "name": "stdout",
     "output_type": "stream",
     "text": [
      "Saving intermediary results in temp_keep and temp_finished, set rerun=True to restart api query from latest backup.\n"
     ]
    },
    {
     "name": "stderr",
     "output_type": "stream",
     "text": [
      " 99%|█████████▊| 13200/13395 [12:10:45<10:40,  3.28s/it]"
     ]
    },
    {
     "name": "stdout",
     "output_type": "stream",
     "text": [
      "Saving intermediary results in temp_keep and temp_finished, set rerun=True to restart api query from latest backup.\n"
     ]
    },
    {
     "name": "stderr",
     "output_type": "stream",
     "text": [
      " 99%|█████████▊| 13220/13395 [12:12:11<12:51,  4.41s/it]"
     ]
    },
    {
     "name": "stdout",
     "output_type": "stream",
     "text": [
      "Saving intermediary results in temp_keep and temp_finished, set rerun=True to restart api query from latest backup.\n"
     ]
    },
    {
     "name": "stderr",
     "output_type": "stream",
     "text": [
      " 99%|█████████▉| 13240/13395 [12:13:21<10:28,  4.05s/it]"
     ]
    },
    {
     "name": "stdout",
     "output_type": "stream",
     "text": [
      "Saving intermediary results in temp_keep and temp_finished, set rerun=True to restart api query from latest backup.\n"
     ]
    },
    {
     "name": "stderr",
     "output_type": "stream",
     "text": [
      " 99%|█████████▉| 13260/13395 [12:14:04<05:42,  2.54s/it]"
     ]
    },
    {
     "name": "stdout",
     "output_type": "stream",
     "text": [
      "Saving intermediary results in temp_keep and temp_finished, set rerun=True to restart api query from latest backup.\n"
     ]
    },
    {
     "name": "stderr",
     "output_type": "stream",
     "text": [
      " 99%|█████████▉| 13280/13395 [12:14:59<04:54,  2.56s/it]"
     ]
    },
    {
     "name": "stdout",
     "output_type": "stream",
     "text": [
      "Saving intermediary results in temp_keep and temp_finished, set rerun=True to restart api query from latest backup.\n"
     ]
    },
    {
     "name": "stderr",
     "output_type": "stream",
     "text": [
      " 99%|█████████▉| 13300/13395 [12:16:08<09:09,  5.78s/it]"
     ]
    },
    {
     "name": "stdout",
     "output_type": "stream",
     "text": [
      "Saving intermediary results in temp_keep and temp_finished, set rerun=True to restart api query from latest backup.\n"
     ]
    },
    {
     "name": "stderr",
     "output_type": "stream",
     "text": [
      " 99%|█████████▉| 13320/13395 [12:17:15<03:02,  2.44s/it]"
     ]
    },
    {
     "name": "stdout",
     "output_type": "stream",
     "text": [
      "Saving intermediary results in temp_keep and temp_finished, set rerun=True to restart api query from latest backup.\n"
     ]
    },
    {
     "name": "stderr",
     "output_type": "stream",
     "text": [
      "100%|█████████▉| 13340/13395 [12:18:23<03:45,  4.09s/it]"
     ]
    },
    {
     "name": "stdout",
     "output_type": "stream",
     "text": [
      "Saving intermediary results in temp_keep and temp_finished, set rerun=True to restart api query from latest backup.\n"
     ]
    },
    {
     "name": "stderr",
     "output_type": "stream",
     "text": [
      "100%|█████████▉| 13360/13395 [12:19:09<01:23,  2.37s/it]"
     ]
    },
    {
     "name": "stdout",
     "output_type": "stream",
     "text": [
      "Saving intermediary results in temp_keep and temp_finished, set rerun=True to restart api query from latest backup.\n"
     ]
    },
    {
     "name": "stderr",
     "output_type": "stream",
     "text": [
      "100%|█████████▉| 13380/13395 [12:20:16<01:05,  4.35s/it]"
     ]
    },
    {
     "name": "stdout",
     "output_type": "stream",
     "text": [
      "Saving intermediary results in temp_keep and temp_finished, set rerun=True to restart api query from latest backup.\n"
     ]
    },
    {
     "name": "stderr",
     "output_type": "stream",
     "text": [
      "100%|██████████| 13395/13395 [12:20:54<00:00,  3.32s/it]\n"
     ]
    },
    {
     "name": "stdout",
     "output_type": "stream",
     "text": [
      "\n",
      "Finished extract_edges(). To save the retrieved Monarch edges use the function \"print_network()\".\n",
      "\n",
      "connections after 2nd degree:\n",
      "207835\n",
      "\n",
      "Saving Monarch edges at: '/home/karolis/LUMC/HDSR/bioknowledge-reviewer/bioknowledge_reviewer/monarch/monarch_connections_v2022-07-24.csv'...\n",
      "\n",
      "\n",
      "The function \"build_edges()\" is running...\n",
      "df (207835, 9)\n",
      "\n",
      "* This is the size of the edges file data structure: (207835, 9)\n",
      "* These are the edges attributes: Index(['subject_id', 'object_id', 'property_id', 'property_label',\n",
      "       'property_description', 'property_uri', 'reference_uri',\n",
      "       'reference_supporting_text', 'reference_date'],\n",
      "      dtype='object')\n",
      "* This is the first record:\n",
      "                   subject_id                   object_id    property_id  \\\n",
      "0  ENSEMBL:ENSSSCG00000038466  ENSEMBL:ENSCAFG00000047620  RO:HOM0000017   \n",
      "\n",
      "                   property_label property_description  \\\n",
      "0  in orthology relationship with                   NA   \n",
      "\n",
      "                                   property_uri reference_uri  \\\n",
      "0  http://purl.obolibrary.org/obo/RO_HOM0000017            NA   \n",
      "\n",
      "                           reference_supporting_text reference_date  \n",
      "0  This edge comes from the Monarch Knowledge Gra...             NA  \n",
      "\n",
      "The Monarch network edges are built and saved at: /home/karolis/LUMC/HDSR/bioknowledge-reviewer/bioknowledge_reviewer/monarch/monarch_edges_v2022-07-24.csv\n",
      "\n",
      "\n",
      "Finished build_edges().\n",
      "\n",
      "\n",
      "The function \"build_nodes()\" is running...\n",
      "Number of concepts: 13394\n",
      "Number of nodes CURIEs: 30\n",
      "List of nodes CURIEs: dict_keys(['ENSEMBL', 'HGNC', 'HP', 'MGI', 'WormBase', 'ZFIN', 'ZP', 'RGD', 'Xenbase', 'FlyBase', 'SGD', 'NCBIGene', 'WBPhenotype', 'EnsemblGenome', 'dictyBase', 'MP', 'UBERON', 'MONARCH', 'GO', 'PomBase', 'FBcv', 'Coriell', 'MONDO', 'EFO', 'REACT', 'dbSNP', 'APO', 'ClinVarVariant', 'dbSNPIndividual', 'OMIM'])\n",
      "\n",
      "Adding BioThings annotation: gene name, synonyms, description...\n",
      "symbols: 6916\n",
      "querying 1-1000...done.\n",
      "querying 1001-2000...done.\n",
      "querying 2001-3000...done.\n",
      "querying 3001-4000...done.\n",
      "querying 4001-5000...done.\n",
      "querying 5001-6000...done.\n",
      "querying 6001-6916...done.\n",
      "Finished.\n",
      "686 input query terms found dup hits:\n",
      "\t[('EIF4E2', 3), ('Prmt2', 2), ('prmt2', 2), ('Ctbp1', 2), ('ACTBL2', 2), ('LSM5', 3), ('ERCC6L', 3),\n",
      "3631 input query terms found no hit:\n",
      "\t['A0A5F4CGE3', 'ENSEMBL:ENSECAG00000034395', 'ENSEMBL:ENSECAG00000034339', 'ENSEMBL:ENSPTRG000000206\n",
      "Pass \"returnall=True\" to return complete lists of duplicate or missing query terms.\n",
      "\n",
      "* This is the size of the nodes file data structure: (13394, 6)\n",
      "* These are the nodes attributes: Index(['id', 'semantic_groups', 'preflabel', 'name', 'synonyms',\n",
      "       'description'],\n",
      "      dtype='object')\n",
      "* This is the first record:\n",
      "                           id semantic_groups preflabel  \\\n",
      "0  ENSEMBL:ENSSSCG00000038466            GENE    EIF4E2   \n",
      "\n",
      "                                                name  \\\n",
      "0  eukaryotic translation initiation factor 4E fa...   \n",
      "\n",
      "                        synonyms description  \n",
      "0  4E-LP|4EHP|EIF4EL3|IF4e|h4EHP          NA  \n",
      "\n",
      "The Monarch network nodes are built and saved at: /home/karolis/LUMC/HDSR/bioknowledge-reviewer/bioknowledge_reviewer/monarch/monarch_nodes_v2022-07-24.csv\n",
      "\n",
      "\n",
      "Finished build_nodes().\n",
      "\n",
      "type edges: <class 'list'>\n",
      "type nodes: <class 'list'>\n",
      "\n",
      "len edges: 207835\n",
      "len nodes: 13394\n",
      "\n",
      "attribute edges: dict_keys(['subject_id', 'object_id', 'property_id', 'property_label', 'property_description', 'property_uri', 'reference_uri', 'reference_supporting_text', 'reference_date'])\n",
      "attribute nodes: dict_keys(['id', 'semantic_groups', 'preflabel', 'name', 'synonyms', 'description'])\n",
      "CPU times: user 28min 14s, sys: 1min 50s, total: 30min 4s\n",
      "Wall time: 17h 12min\n"
     ]
    }
   ],
   "source": [
    "%%time\n",
    "# Monarch extraction:\n",
    "# seed nodes\n",
    "seedList = [ \n",
    "    'MONDO:0007739', # HD\n",
    "    'HGNC:4851', # Htt\n",
    "    'HGNC:182293', # Rhes\n",
    "    'REACT:R-HSA-917937' #Iron uptake pathway\n",
    "] \n",
    "\n",
    "# get first degree neighbours\n",
    "neighboursList = monarch.get_neighbours_list(seedList)\n",
    "print(\"Nodes 1st degree neighbours:\")\n",
    "print(len(neighboursList))\n",
    "# introduce animal model orthologs for seed nodes, can count as the 1st shell\n",
    "seed_orthophenoList = monarch.get_orthopheno_list(seedList)\n",
    "print(len(seed_orthophenoList))\n",
    "## For 2nd shell nodes, or specifically, the neigbours of the seed nodes and captured orthologs in last query:\n",
    "neighbours_orthophenoList = monarch.get_orthopheno_list(neighboursList)\n",
    "print(len(neighbours_orthophenoList))\n",
    "\n",
    "node_list = sum([seedList, neighboursList, seed_orthophenoList, neighbours_orthophenoList], \n",
    "               [])\n",
    "monarch_network = monarch.extract_edges(node_list)\n",
    "print(\"connections after extraction:\")\n",
    "print(len(monarch_network))\n",
    "\n",
    "monarch.print_network(monarch_network, 'monarch_connections')\n",
    "\n",
    "\n",
    "# build network with graph schema \n",
    "monarch_edges = monarch.build_edges(monarch_network)\n",
    "monarch_nodes = monarch.build_nodes(monarch_network)\n",
    "\n",
    "# print type of objects\n",
    "print('type edges:', type(monarch_edges))\n",
    "print('type nodes:', type(monarch_nodes))\n",
    "print()\n",
    "\n",
    "# print objects sizes\n",
    "print('len edges:', len(monarch_edges))\n",
    "print('len nodes:', len(monarch_nodes))\n",
    "print()\n",
    "\n",
    "# print object attribute\n",
    "print('attribute edges:', monarch_edges[0].keys())\n",
    "print('attribute nodes:', monarch_nodes[0].keys())\n",
    "\n",
    "# load networks and calculate graph nodes\n",
    "graph_nodes_list, reg_graph_edges = graph.graph_nodes(\n",
    "    curation=curation_edges,\n",
    "    monarch=monarch_edges,\n",
    "    transcriptomics=rna_edges,\n",
    "    regulation=reg_edges\n",
    ")\n",
    "\n",
    "# Monarch graph connectivity\n",
    "## get Monarch edges\n",
    "monarch_network_graph = monarch.extract_edges(graph_nodes_list)\n",
    "print('network: ',len(monarch_network_graph))\n",
    "\n",
    "## save Monarch network\n",
    "monarch.print_network(monarch_network_graph, 'monarch_connections_graph')\n",
    "## build Monarch network with graph schema\n",
    "monarch_graph_edges = monarch.build_edges(monarch_network_graph)\n",
    "monarch_graph_nodes = monarch.build_nodes(monarch_network_graph)"
   ]
  },
  {
   "cell_type": "markdown",
   "metadata": {},
   "source": [
    "## Import an already constructed monarch subgraph\n",
    "Skip this cell if you generated your own subgraph!"
   ]
  },
  {
   "cell_type": "code",
   "execution_count": 5,
   "metadata": {},
   "outputs": [],
   "source": [
    "monarch_edges = pd.read_csv(\"/home/karolis/LUMC/HDSR/bioknowledge-reviewer/bioknowledge_reviewer/monarch/monarch_edges_v2022-07-24.csv\")\n",
    "monarch_nodes = pd.read_csv(\"/home/karolis/LUMC/HDSR/bioknowledge-reviewer/bioknowledge_reviewer/monarch/monarch_nodes_v2022-07-24.csv\")\n",
    "monarch_edges = monarch_edges.to_dict('records')\n",
    "monarch_nodes = monarch_nodes.to_dict('records')"
   ]
  },
  {
   "cell_type": "code",
   "execution_count": 6,
   "metadata": {
    "scrolled": true
   },
   "outputs": [
    {
     "name": "stdout",
     "output_type": "stream",
     "text": [
      "type edges: <class 'list'>\n",
      "type nodes: <class 'list'>\n",
      "\n",
      "len edges: 207835\n",
      "len nodes: 13394\n",
      "\n",
      "attribute edges: dict_keys(['subject_id', 'property_id', 'object_id', 'reference_uri', 'reference_supporting_text', 'reference_date', 'property_label', 'property_description', 'property_uri'])\n",
      "attribute nodes: dict_keys(['id', 'semantic_groups', 'preflabel', 'synonyms', 'description', 'name'])\n"
     ]
    }
   ],
   "source": [
    "# print type of objects\n",
    "print('type edges:', type(monarch_edges))\n",
    "print('type nodes:', type(monarch_nodes))\n",
    "print()\n",
    "\n",
    "# print objects sizes\n",
    "print('len edges:', len(monarch_edges))\n",
    "print('len nodes:', len(monarch_nodes))\n",
    "print()\n",
    "\n",
    "# print object attribute\n",
    "print('attribute edges:', monarch_edges[0].keys())\n",
    "print('attribute nodes:', monarch_nodes[0].keys())"
   ]
  },
  {
   "cell_type": "markdown",
   "metadata": {},
   "source": [
    "## Merge all subgraphs into a Structured Review\n",
    "Using the files generated from the previous cells are more stable than using the output variables."
   ]
  },
  {
   "cell_type": "code",
   "execution_count": 7,
   "metadata": {},
   "outputs": [
    {
     "name": "stdout",
     "output_type": "stream",
     "text": [
      "\n",
      "The function \"build_edges()\" is running...\n",
      "\n",
      "Preparing networks...\n",
      "Curated:\n",
      "(1, 9)\n",
      "Index(['subject_id', 'property_id', 'object_id', 'reference_uri',\n",
      "       'reference_supporting_text', 'reference_date', 'property_label',\n",
      "       'property_description', 'property_uri'],\n",
      "      dtype='object')\n",
      "Monarch:\n",
      "(207835, 9)\n",
      "Index(['subject_id', 'property_id', 'object_id', 'reference_uri',\n",
      "       'reference_supporting_text', 'reference_date', 'property_label',\n",
      "       'property_description', 'property_uri'],\n",
      "      dtype='object')\n",
      "Transcriptomics:\n",
      "(3209, 9)\n",
      "Index(['subject_id', 'object_id', 'property_id', 'property_label',\n",
      "       'property_description', 'property_uri', 'reference_uri',\n",
      "       'reference_supporting_text', 'reference_date'],\n",
      "      dtype='object')\n",
      "Regulatory:\n",
      "(197267, 9)\n",
      "Index(['subject_id', 'object_id', 'property_id', 'property_label',\n",
      "       'property_description', 'property_uri', 'reference_uri',\n",
      "       'reference_supporting_text', 'reference_date'],\n",
      "      dtype='object')\n",
      "\n",
      "Concatenating into a graph...\n",
      "(408312, 9)\n",
      "\n",
      "Drop duplicated rows...\n",
      "(408288, 9)\n",
      "\n",
      "Saving final graph...\n",
      "(408288, 9)\n",
      "Index(['subject_id', 'property_id', 'object_id', 'reference_uri',\n",
      "       'reference_supporting_text', 'reference_date', 'property_label',\n",
      "       'property_description', 'property_uri'],\n",
      "      dtype='object')\n",
      "\n",
      "* This is the size of the edges file data structure: (408288, 9)\n",
      "* These are the edges attributes: Index(['subject_id', 'property_id', 'object_id', 'reference_uri',\n",
      "       'reference_supporting_text', 'reference_date', 'property_label',\n",
      "       'property_description', 'property_uri'],\n",
      "      dtype='object')\n",
      "* This is the first record:\n",
      "  subject_id property_id   object_id  \\\n",
      "0  HGNC:4851  GO:0010629  HGNC:11763   \n",
      "\n",
      "                                       reference_uri  \\\n",
      "0  https://journals.plos.org/plosgenetics/article...   \n",
      "\n",
      "                           reference_supporting_text reference_date  \\\n",
      "0  Consistent with the reduction in Ft levels, we...       07/17/17   \n",
      "\n",
      "                           property_label  \\\n",
      "0  negative regulation of gene expression   \n",
      "\n",
      "                                property_description  \\\n",
      "0  Any process that decreases the frequency, rate...   \n",
      "\n",
      "                                property_uri  \n",
      "0  http://purl.obolibrary.org/obo/GO_0010629  \n",
      "\n",
      "The NGLY1 Deficiency knowledge graph edges are built and saved at: /home/karolis/LUMC/HDSR/bioknowledge-reviewer/bioknowledge_reviewer/graph/graph_edges_v2022-07-27.csv\n",
      "\n",
      "\n",
      "Finished build_edges().\n",
      "\n",
      "\n",
      "The function \"build_nodes()\" is running...\n",
      "\n",
      "Preparing networks...\n",
      "Curated:\n",
      "(2, 6)\n",
      "Index(['id', 'semantic_groups', 'preflabel', 'name', 'synonyms',\n",
      "       'description'],\n",
      "      dtype='object')\n",
      "Monarch:\n",
      "(13394, 6)\n",
      "Index(['id', 'semantic_groups', 'preflabel', 'synonyms', 'description',\n",
      "       'name'],\n",
      "      dtype='object')\n",
      "Transcriptomics:\n",
      "(3210, 6)\n",
      "Index(['id', 'semantic_groups', 'preflabel', 'name', 'synonyms',\n",
      "       'description'],\n",
      "      dtype='object')\n",
      "Regulatory:\n",
      "(16969, 6)\n",
      "Index(['id', 'semantic_groups', 'preflabel', 'name', 'synonyms',\n",
      "       'description'],\n",
      "      dtype='object')\n",
      "\n",
      "Annotating nodes in the graph...\n",
      "graph from e (31538, 1)\n",
      "annotation check\n",
      "curated (2, 6)\n",
      "monarch (13394, 6)\n",
      "rna (31538, 6)\n",
      "regulation (16969, 6)\n",
      "\n",
      "Concatenating all nodes...\n",
      "graph ann (61903, 6)\n",
      "diff set()\n",
      "\n",
      "Drop duplicated rows...\n",
      "(59969, 6)\n",
      "\n",
      "Drop duplicated nodes...\n",
      "(31538, 6)\n",
      "\n",
      "All graph nodes are annotated.\n",
      "Regulation nodes not in the graph: 0\n",
      "\n",
      "Saving final graph...\n",
      "(31538, 6)\n",
      "Index(['id', 'semantic_groups', 'preflabel', 'synonyms', 'name',\n",
      "       'description'],\n",
      "      dtype='object')\n",
      "\n",
      "* This is the size of the edges file data structure: (31538, 6)\n",
      "* These are the edges attributes: Index(['id', 'semantic_groups', 'preflabel', 'synonyms', 'name',\n",
      "       'description'],\n",
      "      dtype='object')\n",
      "* This is the first record:\n",
      "          id semantic_groups preflabel        synonyms        name description\n",
      "0  HGNC:4851            GENE       HTT  HD|IT15|LOMARS  Huntingtin  huntingtin\n",
      "\n",
      "The NGLY1 Deficiency knowledge graph nodes are built and saved at: /home/karolis/LUMC/HDSR/bioknowledge-reviewer/bioknowledge_reviewer/graph/graph_nodes_v2022-07-27.csv\n",
      "\n",
      "\n",
      "Finished build_nodes().\n",
      "\n"
     ]
    }
   ],
   "source": [
    "\n",
    "# build review graph\n",
    "edges = graph.build_edges(\n",
    "    curation=\"curation/data/HD/HD_curated_edges.csv\",\n",
    "    monarch=\"/home/karolis/LUMC/HDSR/bioknowledge-reviewer/bioknowledge_reviewer/monarch/monarch_edges_v2022-07-24.csv\",\n",
    "    transcriptomics=\"/home/karolis/LUMC/HDSR/bioknowledge-reviewer/bioknowledge_reviewer/graph/rna_edges_v2022-07-25.csv\",\n",
    "    regulation=\"/home/karolis/LUMC/HDSR/bioknowledge-reviewer/bioknowledge_reviewer/graph/regulation_edges_v2022-07-25.csv\"\n",
    "    , input_from_file=True\n",
    ")\n",
    "nodes = graph.build_nodes(\n",
    "    statements=edges,\n",
    "    curation=\"curation/data/HD/HD_curated_nodes.csv\",\n",
    "    monarch=\"/home/karolis/LUMC/HDSR/bioknowledge-reviewer/bioknowledge_reviewer/monarch/monarch_nodes_v2022-07-24.csv\",\n",
    "    transcriptomics=\"/home/karolis/LUMC/HDSR/bioknowledge-reviewer/bioknowledge_reviewer/graph/rna_nodes_v2022-07-25.csv\",\n",
    "    regulation=\"/home/karolis/LUMC/HDSR/bioknowledge-reviewer/bioknowledge_reviewer/graph/regulation_nodes_v2022-07-25.csv\",\n",
    "    input_from_file=True\n",
    "\n",
    ")"
   ]
  },
  {
   "cell_type": "code",
   "execution_count": 8,
   "metadata": {},
   "outputs": [
    {
     "name": "stdout",
     "output_type": "stream",
     "text": [
      "type edges: <class 'pandas.core.frame.DataFrame'>\n",
      "type nodes: <class 'pandas.core.frame.DataFrame'>\n",
      "\n",
      "len edges: 408288\n",
      "len nodes: 31538\n",
      "\n",
      "attribute edges: Index(['subject_id', 'property_id', 'object_id', 'reference_uri',\n",
      "       'reference_supporting_text', 'reference_date', 'property_label',\n",
      "       'property_description', 'property_uri'],\n",
      "      dtype='object')\n",
      "attribute nodes: Index(['id', 'semantic_groups', 'preflabel', 'synonyms', 'name',\n",
      "       'description'],\n",
      "      dtype='object')\n"
     ]
    }
   ],
   "source": [
    "# print type of objects\n",
    "print('type edges:', type(edges))\n",
    "print('type nodes:', type(nodes))\n",
    "print()\n",
    "\n",
    "# print objects sizes\n",
    "print('len edges:', len(edges))\n",
    "print('len nodes:', len(nodes))\n",
    "print()\n",
    "\n",
    "# print object attribute\n",
    "print('attribute edges:', edges.columns)\n",
    "print('attribute nodes:', nodes.columns)"
   ]
  },
  {
   "cell_type": "markdown",
   "metadata": {},
   "source": [
    "## Generate the NEO4J instance of the SR"
   ]
  },
  {
   "cell_type": "code",
   "execution_count": 9,
   "metadata": {},
   "outputs": [
    {
     "name": "stdout",
     "output_type": "stream",
     "text": [
      "Creating a Neo4j community v4.2.1 server instance...\n",
      "Preparing the server...\n",
      "Configuration adjusted!\n",
      "Starting the server...\n",
      "Neo4j v4.2.1 is running.\n",
      "The name of the neo4j directory is neo4j-community-4.2.1\n",
      "statements:  408288\n",
      "concepts:  31538\n",
      "\n",
      "File './neo4j-community-4.2.1/import/HD/HD_statements.csv' saved.\n",
      "\n",
      "File './neo4j-community-4.2.1/import/HD/HD_concepts.csv' saved.\n",
      "\n",
      "The function \"do_import()\" is running...\n",
      "\n",
      "The graph is imported into the server. Neo4j is running.You can start exploring and querying for hypothesis. If you change ports or authentication in the Neo4j configuration file, the hypothesis-generation modules performance, hypothesis.py and summary.py, will be affected.\n",
      "\n",
      "CPU times: user 3.41 s, sys: 164 ms, total: 3.57 s\n",
      "Wall time: 24.9 s\n"
     ]
    }
   ],
   "source": [
    "%%time\n",
    "# create a Neo4j server instance\n",
    "neo4j_dir = neo4jlib.create_neo4j_instance('4.2.1')\n",
    "print('The name of the neo4j directory is {}'.format(neo4j_dir))\n",
    "\n",
    "# import to graph database\n",
    "## prepare the graph to neo4j format\n",
    "edges_df = utils.get_dataframe(edges)\n",
    "nodes_df = utils.get_dataframe(nodes)\n",
    "statements = neo4jlib.get_statements(edges_df)\n",
    "concepts = neo4jlib.get_concepts(nodes_df)\n",
    "print('statements: ', len(statements))\n",
    "print('concepts: ',len(concepts))\n",
    "\n",
    "## save files into neo4j import dir\n",
    "neo4j_path = './{}'.format(neo4j_dir)\n",
    "neo4jlib.save_neo4j_files(statements, neo4j_path, file_type = 'statements')\n",
    "neo4jlib.save_neo4j_files(concepts, neo4j_path, file_type = 'concepts')\n",
    "\n",
    "## import graph into neo4j database\n",
    "neo4jlib.do_import(neo4j_path)"
   ]
  },
  {
   "cell_type": "code",
   "execution_count": null,
   "metadata": {},
   "outputs": [],
   "source": []
  }
 ],
 "metadata": {
  "kernelspec": {
   "display_name": "Python 3",
   "language": "python",
   "name": "python3"
  },
  "language_info": {
   "codemirror_mode": {
    "name": "ipython",
    "version": 3
   },
   "file_extension": ".py",
   "mimetype": "text/x-python",
   "name": "python",
   "nbconvert_exporter": "python",
   "pygments_lexer": "ipython3",
   "version": "3.9.12"
  }
 },
 "nbformat": 4,
 "nbformat_minor": 2
}
