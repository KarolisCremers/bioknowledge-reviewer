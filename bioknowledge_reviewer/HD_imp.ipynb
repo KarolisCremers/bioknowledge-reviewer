{
 "cells": [
  {
   "cell_type": "code",
   "execution_count": 6,
   "metadata": {},
   "outputs": [],
   "source": [
    "# @name graph_v3.2_v20190616\n",
    "# @description notebook to build the NGLY1 Deficiency review knowledge graph v3.2\n",
    "# @author Núria Queralt Rosinach\n",
    "# @date 16 June 2019"
   ]
  },
  {
   "cell_type": "markdown",
   "metadata": {},
   "source": [
    "# Description\n",
    "\n",
    "This is the notebook for the creation of the first review network and derived hypotheses. \n",
    "\n",
    "* Using intermediary variables from workflow objects. In this workflow variables are directly used for the next step. \n",
    "\n",
    "\n",
    "* Review network: From Monarch knowledge graph, we built a network seeded by 8 nodes, retrieving their explicit relationships and all the relationships among all these nodes. Seed nodes:\n",
    "\n",
    "    - 'MONDO:0007739' HD\n",
    "    - 'HGNC:4851' Htt\n",
    "    - 'CHEBI:18248' Iron (not working)\n",
    "    - 'HGNC:18229' Rhes (RASD2)\n",
    "    \n",
    "Possible seed nodes:\n",
    "https://monarchinitiative.org/search/Iron\n",
    "* Connecting paths: query templates."
   ]
  },
  {
   "cell_type": "code",
   "execution_count": 1,
   "metadata": {},
   "outputs": [],
   "source": [
    "import transcriptomics, regulation, curation, monarch, graph, neo4jlib, hypothesis, summary, utils\n",
    "import pandas as pd"
   ]
  },
  {
   "cell_type": "code",
   "execution_count": null,
   "metadata": {},
   "outputs": [],
   "source": [
    "monarch.get_connections()"
   ]
  },
  {
   "cell_type": "code",
   "execution_count": 9,
   "metadata": {},
   "outputs": [
    {
     "name": "stderr",
     "output_type": "stream",
     "text": [
      "100%|██████████| 1/1 [00:03<00:00,  3.09s/it]\n"
     ]
    }
   ],
   "source": [
    "nodes, edges = monarch.get_neighbours([\"HGNC:18229\"])"
   ]
  },
  {
   "cell_type": "code",
   "execution_count": 10,
   "metadata": {},
   "outputs": [
    {
     "data": {
      "text/plain": [
       "66"
      ]
     },
     "execution_count": 10,
     "metadata": {},
     "output_type": "execute_result"
    }
   ],
   "source": [
    "len(nodes)"
   ]
  },
  {
   "cell_type": "code",
   "execution_count": 6,
   "metadata": {
    "scrolled": true
   },
   "outputs": [
    {
     "data": {
      "text/plain": [
       "{'ENSEMBL:ENSP00000220592',\n",
       " 'ENSEMBL:ENSP00000236995',\n",
       " 'ENSEMBL:ENSP00000246314',\n",
       " 'ENSEMBL:ENSP00000258682',\n",
       " 'ENSEMBL:ENSP00000261793',\n",
       " 'ENSEMBL:ENSP00000268712',\n",
       " 'ENSEMBL:ENSP00000272163',\n",
       " 'ENSEMBL:ENSP00000277853',\n",
       " 'ENSEMBL:ENSP00000282356',\n",
       " 'ENSEMBL:ENSP00000296402',\n",
       " 'ENSEMBL:ENSP00000301624',\n",
       " 'ENSEMBL:ENSP00000301948',\n",
       " 'ENSEMBL:ENSP00000302967',\n",
       " 'ENSEMBL:ENSP00000306759',\n",
       " 'ENSEMBL:ENSP00000307082',\n",
       " 'ENSEMBL:ENSP00000309591',\n",
       " 'ENSEMBL:ENSP00000313950',\n",
       " 'ENSEMBL:ENSP00000315599',\n",
       " 'ENSEMBL:ENSP00000326375',\n",
       " 'ENSEMBL:ENSP00000326427',\n",
       " 'ENSEMBL:ENSP00000326518',\n",
       " 'ENSEMBL:ENSP00000326544',\n",
       " 'ENSEMBL:ENSP00000326900',\n",
       " 'ENSEMBL:ENSP00000336783',\n",
       " 'ENSEMBL:ENSP00000338371',\n",
       " 'ENSEMBL:ENSP00000339004',\n",
       " 'ENSEMBL:ENSP00000339740',\n",
       " 'ENSEMBL:ENSP00000339883',\n",
       " 'ENSEMBL:ENSP00000347184',\n",
       " 'ENSEMBL:ENSP00000349467',\n",
       " 'ENSEMBL:ENSP00000350028',\n",
       " 'ENSEMBL:ENSP00000351542',\n",
       " 'ENSEMBL:ENSP00000353622',\n",
       " 'ENSEMBL:ENSP00000357621',\n",
       " 'ENSEMBL:ENSP00000358659',\n",
       " 'ENSEMBL:ENSP00000362287',\n",
       " 'ENSEMBL:ENSP00000362300',\n",
       " 'ENSEMBL:ENSP00000362306',\n",
       " 'ENSEMBL:ENSP00000362649',\n",
       " 'ENSEMBL:ENSP00000369098',\n",
       " 'ENSEMBL:ENSP00000370104',\n",
       " 'ENSEMBL:ENSP00000370348',\n",
       " 'ENSEMBL:ENSP00000378030',\n",
       " 'ENSEMBL:ENSP00000378032',\n",
       " 'ENSEMBL:ENSP00000378243',\n",
       " 'ENSEMBL:ENSP00000378402',\n",
       " 'ENSEMBL:ENSP00000378403',\n",
       " 'ENSEMBL:ENSP00000379096',\n",
       " 'ENSEMBL:ENSP00000379098',\n",
       " 'ENSEMBL:ENSP00000379144',\n",
       " 'ENSEMBL:ENSP00000379189',\n",
       " 'ENSEMBL:ENSP00000379192',\n",
       " 'ENSEMBL:ENSP00000379841',\n",
       " 'ENSEMBL:ENSP00000384018',\n",
       " 'ENSEMBL:ENSP00000384795',\n",
       " 'ENSEMBL:ENSP00000385571',\n",
       " 'ENSEMBL:ENSP00000385988',\n",
       " 'ENSEMBL:ENSP00000387699',\n",
       " 'ENSEMBL:ENSP00000390292',\n",
       " 'ENSEMBL:ENSP00000394097',\n",
       " 'ENSEMBL:ENSP00000395535',\n",
       " 'ENSEMBL:ENSP00000397937',\n",
       " 'ENSEMBL:ENSP00000399797',\n",
       " 'ENSEMBL:ENSP00000401946',\n",
       " 'ENSEMBL:ENSP00000405539',\n",
       " 'ENSEMBL:ENSP00000405574',\n",
       " 'ENSEMBL:ENSP00000410298',\n",
       " 'ENSEMBL:ENSP00000413251',\n",
       " 'ENSEMBL:ENSP00000413724',\n",
       " 'ENSEMBL:ENSP00000422566',\n",
       " 'ENSEMBL:ENSP00000422634',\n",
       " 'ENSEMBL:ENSP00000423482',\n",
       " 'ENSEMBL:ENSP00000430008',\n",
       " 'ENSEMBL:ENSP00000430176',\n",
       " 'ENSEMBL:ENSP00000430432',\n",
       " 'ENSEMBL:ENSP00000443869',\n",
       " 'ENSEMBL:ENSP00000462207',\n",
       " 'ENSEMBL:ENSP00000463999',\n",
       " 'ENSEMBL:ENSP00000466651',\n",
       " 'ENSEMBL:ENSP00000467154',\n",
       " 'ENSEMBL:ENSP00000468647',\n",
       " 'ENSEMBL:ENSP00000493782',\n",
       " 'ENSEMBL:ENSP00000495556',\n",
       " 'ENSEMBL:ENSP00000496215',\n",
       " 'ENSEMBL:ENSP00000499940',\n",
       " 'ENSEMBL:ENSP00000500125',\n",
       " 'ENSEMBL:ENSP00000500255',\n",
       " 'ENSEMBL:ENSP00000500293',\n",
       " 'ENSEMBL:ENSP00000500386',\n",
       " 'ENSEMBL:ENSP00000500642',\n",
       " 'ENSEMBL:ENSP00000500677',\n",
       " 'ENSEMBL:ENSP00000500873',\n",
       " 'HGNC:11390',\n",
       " 'HGNC:11585',\n",
       " 'HGNC:11969',\n",
       " 'HGNC:14402',\n",
       " 'HGNC:1442',\n",
       " 'HGNC:1460',\n",
       " 'HGNC:1461',\n",
       " 'HGNC:1462',\n",
       " 'HGNC:1463',\n",
       " 'HGNC:1464',\n",
       " 'HGNC:18421',\n",
       " 'HGNC:18424',\n",
       " 'HGNC:19353',\n",
       " 'HGNC:2345',\n",
       " 'HGNC:29190',\n",
       " 'HGNC:29318',\n",
       " 'HGNC:29529',\n",
       " 'HGNC:31516',\n",
       " 'HGNC:3262',\n",
       " 'HGNC:3263',\n",
       " 'HGNC:3811',\n",
       " 'HGNC:4550',\n",
       " 'HGNC:4851',\n",
       " 'HGNC:4852',\n",
       " 'HGNC:4853',\n",
       " 'HGNC:4854',\n",
       " 'HGNC:6518',\n",
       " 'HGNC:6990',\n",
       " 'HGNC:7200',\n",
       " 'HGNC:7672',\n",
       " 'HGNC:7673',\n",
       " 'HGNC:9380',\n",
       " 'MONDO:0007739',\n",
       " 'MONDO:0008214',\n",
       " 'MONDO:0008646',\n",
       " 'MONDO:0008974',\n",
       " 'MONDO:0010235',\n",
       " 'MONDO:0010283',\n",
       " 'MONDO:0010397',\n",
       " 'MONDO:0010726',\n",
       " 'MONDO:0011213',\n",
       " 'MONDO:0012809',\n",
       " 'MONDO:0013256',\n",
       " 'MONDO:0013270',\n",
       " 'MONDO:0013966',\n",
       " 'MONDO:0014359',\n",
       " 'MONDO:0014548',\n",
       " 'MONDO:0014842',\n",
       " 'MONDO:0015802',\n",
       " 'MONDO:0016621',\n",
       " 'MONDO:0017746',\n",
       " 'MONDO:0017990',\n",
       " 'MONDO:0018663',\n",
       " 'MONDO:0019181',\n",
       " 'MONDO:0026731',\n",
       " 'MONDO:0030919',\n",
       " 'MONDO:0030920',\n",
       " 'MONDO:0032795',\n",
       " 'MONDO:0044700',\n",
       " 'MONDO:0054573'}"
      ]
     },
     "execution_count": 6,
     "metadata": {},
     "output_type": "execute_result"
    }
   ],
   "source": [
    "nodes"
   ]
  },
  {
   "cell_type": "code",
   "execution_count": 5,
   "metadata": {
    "scrolled": true
   },
   "outputs": [
    {
     "name": "stderr",
     "output_type": "stream",
     "text": [
      "100%|██████████| 152/152 [10:32<00:00,  2.37s/it]\n"
     ]
    }
   ],
   "source": [
    "nodes2, edges2 = monarch.get_neighbours(nodes)"
   ]
  },
  {
   "cell_type": "markdown",
   "metadata": {},
   "source": [
    "## Edges library\n",
    "### Review edges to integrate into the knowledge graph and prepare them as individual networks\n",
    "\n",
    "#### TRANSCRIPTOMICS NETWORK\n",
    "#### import transcriptomics\n",
    "We retrieved edges from RNA-seq transcriptomics profiles using the `transcriptomics` module:\n",
    "\n",
    "    - Experimental data sets: from Chow et al. paper [pmid:29346549] (NGLY1 deficiency model on fruit fly)"
   ]
  },
  {
   "cell_type": "code",
   "execution_count": 13,
   "metadata": {},
   "outputs": [
    {
     "name": "stdout",
     "output_type": "stream",
     "text": [
      "\n",
      "The function \"read_data()\" is running...\n",
      "\n",
      "* This is the size of the raw expression data structure: (28087, 10)\n",
      "* These are the expression attributes: Index(['Unnamed: 0', 'symbol', 'baseMean', 'HD.mean', 'Control.mean',\n",
      "       'log2FoldChange', 'lfcSE', 'stat', 'pvalue', 'padj'],\n",
      "      dtype='object')\n",
      "* This is the first record:\n",
      "           Unnamed: 0 symbol  baseMean    HD.mean  Control.mean  \\\n",
      "0  ENSG00000069011.10  PITX1  5.645675  18.684286      0.323793   \n",
      "\n",
      "   log2FoldChange     lfcSE      stat        pvalue          padj  \n",
      "0        4.769658  0.366367  13.01879  9.567529e-39  2.687232e-34  \n",
      "\n",
      "The raw data is saved at: /home/karolis/Structured review/bioknowledge-reviewer/bioknowledge_reviewer/transcriptomics/HD/data/GSE64810_mlhd_DESeq2_diffexp_DESeq2_outlier_trimmed_adjust.csv\n",
      "\n",
      "\n",
      "Finished read_data().\n",
      "\n",
      "CPU times: user 155 ms, sys: 16.3 ms, total: 171 ms\n",
      "Wall time: 166 ms\n"
     ]
    }
   ],
   "source": [
    "%%time\n",
    "# prepare data to graph schema\n",
    "csv_path = './transcriptomics/GSE64810_mlhd_DESeq2_diffexp_DESeq2_outlier_trimmed_adjust.txt'\n",
    "data = transcriptomics.read_data(csv_path)"
   ]
  },
  {
   "cell_type": "code",
   "execution_count": null,
   "metadata": {
    "scrolled": true
   },
   "outputs": [],
   "source": []
  },
  {
   "cell_type": "code",
   "execution_count": 10,
   "metadata": {
    "scrolled": true
   },
   "outputs": [
    {
     "name": "stdout",
     "output_type": "stream",
     "text": [
      "\n",
      "The function \"read_data()\" is running...\n",
      "\n",
      "* This is the size of the raw expression data structure: (28087, 10)\n",
      "* These are the expression attributes: Index(['Unnamed: 0', 'symbol', 'baseMean', 'HD.mean', 'Control.mean',\n",
      "       'log2FoldChange', 'lfcSE', 'stat', 'pvalue', 'padj'],\n",
      "      dtype='object')\n",
      "* This is the first record:\n",
      "           Unnamed: 0 symbol  baseMean    HD.mean  Control.mean  \\\n",
      "0  ENSG00000069011.10  PITX1  5.645675  18.684286      0.323793   \n",
      "\n",
      "   log2FoldChange     lfcSE      stat        pvalue          padj  \n",
      "0        4.769658  0.366367  13.01879  9.567529e-39  2.687232e-34  \n",
      "\n",
      "The raw data is saved at: /home/karolis/Structured review/bioknowledge-reviewer/bioknowledge_reviewer/transcriptomics/HD/data/GSE64810_mlhd_DESeq2_diffexp_DESeq2_outlier_trimmed_adjust.csv\n",
      "\n",
      "\n",
      "Finished read_data().\n",
      "\n",
      "\n",
      "The function \"clean_data()\" is running. Keeping only data with FC > 1.5 and FDR < 5% ...\n",
      "\n",
      "* This is the size of the clean expression data structure: (3209, 6)\n",
      "* These are the clean expression attributes: Index(['EnsembleID', 'symbol', 'log2FoldChange', 'pvalue', 'padj',\n",
      "       'Regulation'],\n",
      "      dtype='object')\n",
      "* This is the first record:\n",
      "           EnsembleID symbol  log2FoldChange        pvalue          padj  \\\n",
      "0  ENSG00000069011.10  PITX1        4.769658  9.567529e-39  2.687232e-34   \n",
      "\n",
      "    Regulation  \n",
      "0  Upregulated  \n",
      "\n",
      "The clean data is saved at: /home/karolis/Structured review/bioknowledge-reviewer/bioknowledge_reviewer/transcriptomics/HD/out/Transcriptome_human_BA9.csv\n",
      "\n",
      "\n",
      "Finished clean_data().\n",
      "\n",
      "\n",
      "The function \"prepare_data_edges()\" is running...\n",
      "\n",
      "* This is the size of the expression data structure: (3209, 13)\n",
      "* These are the expression attributes: Index(['ensemble_id', 'symbol', 'log2FoldChange', 'pvalue', 'padj',\n",
      "       'regulation', 'source', 'subject_id', 'subject_label', 'property_id',\n",
      "       'property_label', 'reference_id', 'object_id'],\n",
      "      dtype='object')\n",
      "* This is the first record:\n",
      "          ensemble_id symbol  log2FoldChange        pvalue          padj  \\\n",
      "0  ENSG00000069011.10  PITX1        4.769658  9.567529e-39  2.687232e-34   \n",
      "\n",
      "    regulation source               subject_id subject_label property_id  \\\n",
      "0  Upregulated   Chow  ensembl:ENSG00000197386           HTT  RO:0002434   \n",
      "\n",
      "   property_label   reference_id                object_id  \n",
      "0  interacts with  PMID:26636579  ensembl:ENSG00000069011  \n",
      "\n",
      "The HD BA9 transcriptomics expression edges are saved at: /home/karolis/Structured review/bioknowledge-reviewer/bioknowledge_reviewer/transcriptomics/HD/out/Transcriptome_human_BA9_edges.csv\n",
      "\n",
      "\n",
      "Finished prepare_data_edges().\n",
      "\n",
      "\n",
      "The function \"prepare_rna_edges()\" is running...\n",
      "\n",
      "* This is the size of the edges data structure: (3209, 12)\n",
      "* These are the edges attributes: Index(['subject_id', 'subject_label', 'property_id', 'property_label',\n",
      "       'object_id', 'object_label', 'log2FoldChange', 'pvalue', 'fdr',\n",
      "       'regulation', 'source', 'reference_id'],\n",
      "      dtype='object')\n",
      "* This is the first record:\n",
      "                subject_id subject_label property_id  property_label  \\\n",
      "0  ensembl:ENSG00000197386           HTT  RO:0002434  interacts with   \n",
      "\n",
      "                 object_id object_label  log2FoldChange        pvalue  \\\n",
      "0  ensembl:ENSG00000069011        PITX1        4.769658  9.567529e-39   \n",
      "\n",
      "            fdr   regulation source   reference_id  \n",
      "0  2.687232e-34  Upregulated   Chow  PMID:26636579  \n",
      "\n",
      "This data object is not saved.\n",
      "\n",
      "\n",
      "Finished prepare_rna_edges().\n",
      "\n",
      "\n",
      "The function \"build_edges()\" is running...\n",
      "\n",
      "* This is the size of the edges file data structure: (3209, 9)\n",
      "* These are the edges attributes: Index(['object_id', 'property_description', 'property_id', 'property_label',\n",
      "       'property_uri', 'reference_date', 'reference_supporting_text',\n",
      "       'reference_uri', 'subject_id'],\n",
      "      dtype='object')\n",
      "* This is the first record:\n",
      "                 object_id property_description property_id  property_label  \\\n",
      "0  ensembl:ENSG00000069011                   NA  RO:0002434  interacts with   \n",
      "\n",
      "                                property_uri reference_date  \\\n",
      "0  http://purl.obolibrary.org/obo/RO_0002434     2015-11-04   \n",
      "\n",
      "                           reference_supporting_text  \\\n",
      "0  Here we present a genome-wide analysis of mRNA...   \n",
      "\n",
      "                                  reference_uri               subject_id  \n",
      "0  https://www.ncbi.nlm.nih.gov/pubmed/26636579  ensembl:ENSG00000197386  \n",
      "\n",
      "The transcriptomics network edges are built and saved at: /home/karolis/Structured review/bioknowledge-reviewer/bioknowledge_reviewer/graph/rna_edges_v2020-11-16.csv\n",
      "\n",
      "\n",
      "Finished build_edges().\n",
      "\n",
      "\n",
      "The function \"build_nodes()\" is running...\n",
      "* Total number of nodes: 3210\n",
      "querying 1-1000...done.\n",
      "querying 1001-2000...done.\n",
      "querying 2001-3000...done.\n",
      "querying 3001-3210...done.\n",
      "Finished.\n",
      "178 input query terms found no hit:\n",
      "\t['ENSG00000200127', 'ENSG00000183748', 'ENSG00000140181', 'ENSG00000261589', 'ENSG00000034063', 'ENS\n",
      "Pass \"returnall=True\" to return complete lists of duplicate or missing query terms.\n",
      "\n",
      "* This is the size of the nodes file data structure: (3210, 6)\n",
      "* These are the nodes attributes: Index(['description', 'id', 'name', 'preflabel', 'semantic_groups',\n",
      "       'synonyms'],\n",
      "      dtype='object')\n",
      "* This is the first record:\n",
      "                                         description                       id  \\\n",
      "0  Huntingtin is a disease gene linked to Hunting...  ensembl:ENSG00000197386   \n",
      "\n",
      "         name preflabel semantic_groups        synonyms  \n",
      "0  huntingtin       HTT            GENE  HD|IT15|LOMARS  \n",
      "\n",
      "The transcriptomics network nodes are built and saved at: /home/karolis/Structured review/bioknowledge-reviewer/bioknowledge_reviewer/graph/rna_nodes_v2020-11-16.csv\n",
      "\n",
      "\n",
      "Finished build_nodes().\n",
      "\n",
      "CPU times: user 3.1 s, sys: 60.1 ms, total: 3.16 s\n",
      "Wall time: 14.4 s\n"
     ]
    }
   ],
   "source": [
    "%%time\n",
    "# prepare data to graph schema\n",
    "csv_path = './transcriptomics/GSE64810_mlhd_DESeq2_diffexp_DESeq2_outlier_trimmed_adjust.txt'\n",
    "data = transcriptomics.read_data(csv_path)\n",
    "clean_data = transcriptomics.clean_data(data)\n",
    "data_edges = transcriptomics.prepare_data_edges(clean_data)\n",
    "rna_network = transcriptomics.prepare_rna_edges(data_edges)\n",
    "\n",
    "# build network with graph schema\n",
    "rna_edges = transcriptomics.build_edges(rna_network)\n",
    "rna_nodes = transcriptomics.build_nodes(rna_network)"
   ]
  },
  {
   "cell_type": "markdown",
   "metadata": {},
   "source": [
    "- Transcriptomics network is returned as both digital object (`rna_edges`, `rna_nodes`) and CSV files at _**graph/**_ (`rna_edges_version.csv`, `rna_nodes_version.csv`)"
   ]
  },
  {
   "cell_type": "code",
   "execution_count": 3,
   "metadata": {},
   "outputs": [
    {
     "name": "stdout",
     "output_type": "stream",
     "text": [
      "type edges: <class 'list'>\n",
      "type nodes: <class 'list'>\n",
      "\n",
      "len edges: 386\n",
      "len nodes: 386\n",
      "\n",
      "attribute edges: dict_keys(['subject_id', 'object_id', 'property_id', 'property_label', 'property_description', 'property_uri', 'reference_uri', 'reference_supporting_text', 'reference_date'])\n",
      "attribute nodes: dict_keys(['id', 'semantic_groups', 'preflabel', 'name', 'synonyms', 'description'])\n"
     ]
    }
   ],
   "source": [
    "# print type of objects\n",
    "print('type edges:', type(rna_edges))\n",
    "print('type nodes:', type(rna_nodes))\n",
    "print()\n",
    "\n",
    "# print objects sizes\n",
    "print('len edges:', len(rna_edges))\n",
    "print('len nodes:', len(rna_nodes))\n",
    "print()\n",
    "\n",
    "# print object attribute\n",
    "print('attribute edges:', rna_edges[0].keys())\n",
    "print('attribute nodes:', rna_nodes[0].keys())"
   ]
  },
  {
   "cell_type": "markdown",
   "metadata": {},
   "source": [
    "#### REGULATION NETWORK\n",
    "#### import regulation\n",
    "\n",
    "We retrieved human TF gene expression regulation edges from several sources using the `regulation` module."
   ]
  },
  {
   "cell_type": "code",
   "execution_count": 11,
   "metadata": {
    "scrolled": true
   },
   "outputs": [
    {
     "name": "stdout",
     "output_type": "stream",
     "text": [
      "\n",
      "The function \"prepare_msigdb_data()\" is running...\n",
      "\n",
      "* Number of Transcription Factor Targets (TFT) gene sets: 615\n",
      "\n",
      "The MSigDB raw network is saved at: /home/karolis/Structured review/bioknowledge-reviewer/bioknowledge_reviewer/regulation/msigdb/out/tf_genelist_entrez_msigdb.json. Other reporting files are also saved at the same directory.\n",
      "\n",
      "\n",
      "Finished prepare_msigdb_data().\n",
      "\n",
      "\n",
      "The function \"load_tf_gene_edges()\" is running...\n",
      "\n",
      "Finished load_tf_gene_edges().\n",
      "\n",
      "\n",
      "The function \"get_gene_id_normalization_dictionaries()\" is running...\n",
      "\n",
      "* Querying BioThings to map gene symbols to HGNC and Entrez IDs...\n",
      "querying 1-1000...done.\n",
      "querying 1001-2000...done.\n",
      "querying 2001-3000...done.\n",
      "querying 3001-3071...done.\n",
      "Finished.\n",
      "48 input query terms found no hit:\n",
      "\t['MYCMAX', 'AP1FJ', 'TAL1BETAITF2', 'HAND1E47', 'NKX62', 'GNCF', 'COMP1', 'AHRARNT', 'E2F1DP1RB', 'T\n",
      "Pass \"returnall=True\" to return complete lists of duplicate or missing query terms.\n",
      "\n",
      "Saving not found gene symbols at: /home/karolis/Structured review/bioknowledge-reviewer/bioknowledge_reviewer/regulation/not_found_symbols.list\n",
      "\n",
      "\n",
      "* Querying BioThings to map Entrez to HGNC IDs and gene symbols...\n",
      "querying 1-1000...done.\n",
      "querying 1001-2000...done.\n",
      "querying 2001-3000...done.\n",
      "querying 3001-4000...done.\n",
      "querying 4001-5000...done.\n",
      "querying 5001-6000...done.\n",
      "querying 6001-7000...done.\n",
      "querying 7001-8000...done.\n",
      "querying 8001-9000...done.\n",
      "querying 9001-10000...done.\n",
      "querying 10001-11000...done.\n",
      "querying 11001-12000...done.\n",
      "querying 12001-13000...done.\n",
      "querying 13001-14000...done.\n",
      "querying 14001-15000...done.\n",
      "querying 15001-16000...done.\n",
      "querying 16001-16632...done.\n",
      "Finished.\n",
      "144 input query terms found no hit:\n",
      "\t['100506627', '283650', '286505', '126913', '23578', '400576', '286166', '55265', '283528', '144467'\n",
      "Pass \"returnall=True\" to return complete lists of duplicate or missing query terms.\n",
      "\n",
      "Saving not found Entrez gene IDs at: /home/karolis/Structured review/bioknowledge-reviewer/bioknowledge_reviewer/regulation/not_found_entrez.list\n",
      "\n",
      "\n",
      "Finished get_gene_id_normalization_dictionaries().\n",
      "\n",
      "\n",
      "The function \"prepare_data_edges()\" is running...\n",
      "\n",
      "The tftargets edges are saved at: /home/karolis/Structured review/bioknowledge-reviewer/bioknowledge_reviewer/regulation/tftargets/tftargets_edges.csv\n",
      "\n",
      "\n",
      "The MSigDB edges are saved at: /home/karolis/Structured review/bioknowledge-reviewer/bioknowledge_reviewer/regulation/msigdb/msigdb_edges.csv\n",
      "\n",
      "\n",
      "Finished prepare_data_edges().\n",
      "\n",
      "\n",
      "The function \"prepare_regulation_edges()\" is running...\n",
      "\n",
      "Finished prepare_regulation_edges().\n",
      "\n",
      "\n",
      "The function \"build_edges()\" is running...\n",
      "\n",
      "* This is the size of the edges file data structure: (197267, 9)\n",
      "* These are the edges attributes: Index(['object_id', 'property_description', 'property_id', 'property_label',\n",
      "       'property_uri', 'reference_date', 'reference_supporting_text',\n",
      "       'reference_uri', 'subject_id'],\n",
      "      dtype='object')\n",
      "* This is the first record:\n",
      "   object_id property_description property_id  property_label  \\\n",
      "0  HGNC:8803                   NA  RO:0002434  interacts with   \n",
      "\n",
      "                                property_uri reference_date  \\\n",
      "0  http://purl.obolibrary.org/obo/RO_0002434     2007-01-01   \n",
      "\n",
      "                           reference_supporting_text  \\\n",
      "0  This edge comes from the TRED dataset in \"tfta...   \n",
      "\n",
      "                                  reference_uri subject_id  \n",
      "0  https://www.ncbi.nlm.nih.gov/pubmed/17202159  HGNC:8615  \n",
      "\n",
      "The regulation network edges are built and saved at: /home/karolis/Structured review/bioknowledge-reviewer/bioknowledge_reviewer/graph/regulation_edges_v2020-11-16.csv\n",
      "\n",
      "\n",
      "Finished build_edges().\n",
      "\n",
      "\n",
      "The function \"build_nodes()\" is running...\n",
      "\n",
      "* Total number of nodes: 16967\n",
      "\n",
      "* Trap genes without gene symbol, i.e. genes with discontinued entrez ID...\n",
      "* Number of concepts without gene symbol: 144\n",
      "* Check that all genes without gene symbol are identified by entrez ID...\n",
      "* Number of concepts without gene symbol by namespace:  NCBIGene    144\n",
      "Name: id, dtype: int64\n",
      "\n",
      "* Querying BioThings to map retired Entrez to gene symbols...\n",
      "querying 1-144...done.\n",
      "Finished.\n",
      "90 input query terms found no hit:\n",
      "\t['79907', '79911', '93333', '121301', '143902', '146856', '151720', '197379', '219392', '221943', '2\n",
      "Pass \"returnall=True\" to return complete lists of duplicate or missing query terms.\n",
      "\n",
      "* Querying BioThings to retrieve node attributes...\n",
      "querying 1-1000...done.\n",
      "querying 1001-2000...done.\n",
      "querying 2001-3000...done.\n",
      "querying 3001-4000...done.\n",
      "querying 4001-5000...done.\n",
      "querying 5001-6000...done.\n",
      "querying 6001-7000...done.\n",
      "querying 7001-8000...done.\n",
      "querying 8001-9000...done.\n",
      "querying 9001-10000...done.\n",
      "querying 10001-11000...done.\n",
      "querying 11001-12000...done.\n",
      "querying 12001-13000...done.\n",
      "querying 13001-14000...done.\n",
      "querying 14001-15000...done.\n",
      "querying 15001-16000...done.\n",
      "querying 16001-16842...done.\n",
      "Finished.\n",
      "48 input query terms found no hit:\n",
      "\t['GNCF', 'COMP1', 'AMEF2', 'E2F4DP1', 'MEIS1BHOXA9', 'INSAF', 'CDPCR3HD', 'CACCCBINDINGFACTOR', 'NFM\n",
      "Pass \"returnall=True\" to return complete lists of duplicate or missing query terms.\n",
      "\n",
      "* This is the size of the nodes file data structure: (16967, 6)\n",
      "* These are the nodes attributes: Index(['description', 'id', 'name', 'preflabel', 'semantic_groups',\n",
      "       'synonyms'],\n",
      "      dtype='object')\n",
      "* This is the first record:\n",
      "                                         description         id          name  \\\n",
      "0  This gene is a member of the paired box (PAX) ...  HGNC:8615  paired box 1   \n",
      "\n",
      "  preflabel semantic_groups    synonyms  \n",
      "0      PAX1            GENE  HUP48|OFC2  \n",
      "\n",
      "The regulation network nodes are built and saved at: /home/karolis/Structured review/bioknowledge-reviewer/bioknowledge_reviewer/graph/regulation_nodes_v2020-11-16.csv\n",
      "\n",
      "\n",
      "Finished build_nodes().\n",
      "\n",
      "CPU times: user 3min 27s, sys: 744 ms, total: 3min 28s\n",
      "Wall time: 5min 36s\n"
     ]
    }
   ],
   "source": [
    "%%time\n",
    "# prepare msigdb data\n",
    "gmt_path = './regulation/msigdb/data/c3.tft.v6.1.entrez.gmt'\n",
    "regulation.prepare_msigdb_data(gmt_path)\n",
    "\n",
    "# prepare individual networks\n",
    "data = regulation.load_tf_gene_edges()\n",
    "dicts = regulation.get_gene_id_normalization_dictionaries(data)\n",
    "data_edges = regulation.prepare_data_edges(data, dicts)\n",
    "\n",
    "# prepare regulation network\n",
    "reg_network = regulation.prepare_regulation_edges(data_edges)\n",
    "\n",
    "# build network with graph schema\n",
    "reg_edges = regulation.build_edges(reg_network)\n",
    "reg_nodes = regulation.build_nodes(reg_network)"
   ]
  },
  {
   "cell_type": "markdown",
   "metadata": {},
   "source": [
    "- Regulation network is returned as both digital object (`reg_edges`, `reg_nodes`) and CSV files at _**graph/**_ (`regulation_edges_version.csv`, `regulation_nodes_version.csv`)"
   ]
  },
  {
   "cell_type": "code",
   "execution_count": 5,
   "metadata": {},
   "outputs": [
    {
     "name": "stdout",
     "output_type": "stream",
     "text": [
      "type edges: <class 'list'>\n",
      "type nodes: <class 'list'>\n",
      "\n",
      "len edges: 197267\n",
      "len nodes: 16966\n",
      "\n",
      "attribute edges: dict_keys(['subject_id', 'object_id', 'property_id', 'property_label', 'property_description', 'property_uri', 'reference_uri', 'reference_supporting_text', 'reference_date'])\n",
      "attribute nodes: dict_keys(['id', 'semantic_groups', 'preflabel', 'name', 'synonyms', 'description'])\n"
     ]
    }
   ],
   "source": [
    "# print type of objects\n",
    "print('type edges:', type(reg_edges))\n",
    "print('type nodes:', type(reg_nodes))\n",
    "print()\n",
    "\n",
    "# print objects sizes\n",
    "print('len edges:', len(reg_edges))\n",
    "print('len nodes:', len(reg_nodes))\n",
    "print()\n",
    "\n",
    "# print object attribute\n",
    "print('attribute edges:', reg_edges[0].keys())\n",
    "print('attribute nodes:', reg_nodes[0].keys())"
   ]
  },
  {
   "cell_type": "markdown",
   "metadata": {},
   "source": [
    "#### CURATED NETWORK\n",
    "#### import curation\n",
    "\n",
    "We retrieved and prepared curated edges using the `curation` module. "
   ]
  },
  {
   "cell_type": "code",
   "execution_count": 19,
   "metadata": {},
   "outputs": [],
   "source": [
    "curation_edges = pd.read_csv(\"curation/data/HD/Empty_edges.csv\")\n",
    "curation_nodes = pd.read_csv(\"curation/data/HD/Empty_nodes.csv\")"
   ]
  },
  {
   "cell_type": "code",
   "execution_count": 2,
   "metadata": {
    "scrolled": true
   },
   "outputs": [
    {
     "name": "stdout",
     "output_type": "stream",
     "text": [
      "\n",
      "The function \"read_network()\" is running...\n",
      "\n",
      "Reading and concatenating all curated statements in the network...\n",
      "\n",
      "* Curation edge files concatenated shape: (322, 22)\n",
      "\n",
      "Reading and concatenating all curated nodes in the network...\n",
      "\n",
      "* Curation node files concatenated shape: (318, 9)\n",
      "\n",
      "Finished read_network().\n",
      "\n",
      "\n",
      "The function \"prepare_data_edges()\" is running...\n",
      "\n",
      "Preparing curated network...\n",
      "\n",
      "Saving curated network at curation/...\n",
      "\n",
      "*Curated edges data structure shape: (321, 9)\n",
      "*Curated edges data structure fields: Index(['subject_id', 'property_id', 'object_id', 'reference_uri',\n",
      "       'reference_supporting_text', 'reference_date', 'property_label',\n",
      "       'property_description', 'property_uri'],\n",
      "      dtype='object')\n",
      "\n",
      "The curated edges are saved at: /home/karolis/Structured review/bioknowledge-reviewer/bioknowledge_reviewer/curation/curated_edges_v2020-11-16.csv\n",
      "\n",
      "\n",
      "Finished prepare_data_edges().\n",
      "\n",
      "\n",
      "The function \"prepare_data_nodes()\" is running...\n",
      "\n",
      "Preparing curated nodes...\n",
      "\n",
      "Saving curated nodes at curation/...\n",
      "\n",
      "*Curated nodes data structure shape: (288, 5)\n",
      "*Curated nodes data structure fields: Index(['id', 'semantic_groups', 'preflabel', 'synonyms', 'description'], dtype='object')\n",
      "\n",
      "The curated nodes are saved at: /home/karolis/Structured review/bioknowledge-reviewer/bioknowledge_reviewer/curation/curated_nodes_v2020-11-16.csv\n",
      "\n",
      "\n",
      "Finished prepare_data_nodes().\n",
      "\n",
      "\n",
      "The function \"prepare_curated_edges()\" is running...\n",
      "\n",
      "Preparing curated edges to graph schema...\n",
      "\n",
      "Mapping genes to HGNC ID...\n",
      "\n",
      "Mapping genes to HGNC ID...\n",
      "querying 1-18...done.\n",
      "Finished.\n",
      "\n",
      "Adding diseases to MONDO ID network...\n",
      "\n",
      "Adding gene to protein network...\n",
      "querying 1-43...done.\n",
      "Finished.\n",
      "\n",
      "Drop duplicated gene-protein relations...\n"
     ]
    },
    {
     "ename": "KeyError",
     "evalue": "'property_label'",
     "output_type": "error",
     "traceback": [
      "\u001b[0;31m---------------------------------------------------------------------------\u001b[0m",
      "\u001b[0;31mKeyError\u001b[0m                                  Traceback (most recent call last)",
      "\u001b[0;32m~/anaconda3/envs/sr/lib/python3.6/site-packages/pandas/core/indexes/base.py\u001b[0m in \u001b[0;36mget_loc\u001b[0;34m(self, key, method, tolerance)\u001b[0m\n\u001b[1;32m   3077\u001b[0m             \u001b[0;32mtry\u001b[0m\u001b[0;34m:\u001b[0m\u001b[0;34m\u001b[0m\u001b[0;34m\u001b[0m\u001b[0m\n\u001b[0;32m-> 3078\u001b[0;31m                 \u001b[0;32mreturn\u001b[0m \u001b[0mself\u001b[0m\u001b[0;34m.\u001b[0m\u001b[0m_engine\u001b[0m\u001b[0;34m.\u001b[0m\u001b[0mget_loc\u001b[0m\u001b[0;34m(\u001b[0m\u001b[0mkey\u001b[0m\u001b[0;34m)\u001b[0m\u001b[0;34m\u001b[0m\u001b[0;34m\u001b[0m\u001b[0m\n\u001b[0m\u001b[1;32m   3079\u001b[0m             \u001b[0;32mexcept\u001b[0m \u001b[0mKeyError\u001b[0m\u001b[0;34m:\u001b[0m\u001b[0;34m\u001b[0m\u001b[0;34m\u001b[0m\u001b[0m\n",
      "\u001b[0;32mpandas/_libs/index.pyx\u001b[0m in \u001b[0;36mpandas._libs.index.IndexEngine.get_loc\u001b[0;34m()\u001b[0m\n",
      "\u001b[0;32mpandas/_libs/index.pyx\u001b[0m in \u001b[0;36mpandas._libs.index.IndexEngine.get_loc\u001b[0;34m()\u001b[0m\n",
      "\u001b[0;32mpandas/_libs/hashtable_class_helper.pxi\u001b[0m in \u001b[0;36mpandas._libs.hashtable.PyObjectHashTable.get_item\u001b[0;34m()\u001b[0m\n",
      "\u001b[0;32mpandas/_libs/hashtable_class_helper.pxi\u001b[0m in \u001b[0;36mpandas._libs.hashtable.PyObjectHashTable.get_item\u001b[0;34m()\u001b[0m\n",
      "\u001b[0;31mKeyError\u001b[0m: 'property_label'",
      "\nDuring handling of the above exception, another exception occurred:\n",
      "\u001b[0;31mKeyError\u001b[0m                                  Traceback (most recent call last)",
      "\u001b[0;32m<timed exec>\u001b[0m in \u001b[0;36m<module>\u001b[0;34m()\u001b[0m\n",
      "\u001b[0;32m~/Structured review/bioknowledge-reviewer/bioknowledge_reviewer/curation.py\u001b[0m in \u001b[0;36mprepare_curated_edges\u001b[0;34m(edges_df)\u001b[0m\n\u001b[1;32m    363\u001b[0m \u001b[0;34m\u001b[0m\u001b[0m\n\u001b[1;32m    364\u001b[0m     \u001b[0;31m## Normalize PROTEINS2GENES: add g2p network\u001b[0m\u001b[0;34m\u001b[0m\u001b[0;34m\u001b[0m\u001b[0;34m\u001b[0m\u001b[0m\n\u001b[0;32m--> 365\u001b[0;31m     \u001b[0medges\u001b[0m \u001b[0;34m=\u001b[0m \u001b[0mnormalize_genes_to_proteins_to_graph\u001b[0m\u001b[0;34m(\u001b[0m\u001b[0medges\u001b[0m\u001b[0;34m,\u001b[0m \u001b[0mconcept_dct\u001b[0m\u001b[0;34m)\u001b[0m\u001b[0;34m\u001b[0m\u001b[0;34m\u001b[0m\u001b[0m\n\u001b[0m\u001b[1;32m    366\u001b[0m     \u001b[0mprint\u001b[0m\u001b[0;34m(\u001b[0m\u001b[0;34m'\\nFinished prepare_curated_edges().\\n'\u001b[0m\u001b[0;34m)\u001b[0m\u001b[0;34m\u001b[0m\u001b[0;34m\u001b[0m\u001b[0m\n\u001b[1;32m    367\u001b[0m \u001b[0;34m\u001b[0m\u001b[0m\n",
      "\u001b[0;32m~/Structured review/bioknowledge-reviewer/bioknowledge_reviewer/curation.py\u001b[0m in \u001b[0;36mnormalize_genes_to_proteins_to_graph\u001b[0;34m(curated_df, concept_dct)\u001b[0m\n\u001b[1;32m    336\u001b[0m     curated_df['g2p_mark'] = (\n\u001b[1;32m    337\u001b[0m         [curated_df.at[idx, 'property_label'] if 'has gene product' in curated_df.at[idx, 'property_label'] else\n\u001b[0;32m--> 338\u001b[0;31m          idx for idx in curated_df.index]\n\u001b[0m\u001b[1;32m    339\u001b[0m     )\n\u001b[1;32m    340\u001b[0m     \u001b[0;31m# keep first: keep the g2p manually added\u001b[0m\u001b[0;34m\u001b[0m\u001b[0;34m\u001b[0m\u001b[0;34m\u001b[0m\u001b[0m\n",
      "\u001b[0;32m~/Structured review/bioknowledge-reviewer/bioknowledge_reviewer/curation.py\u001b[0m in \u001b[0;36m<listcomp>\u001b[0;34m(.0)\u001b[0m\n\u001b[1;32m    336\u001b[0m     curated_df['g2p_mark'] = (\n\u001b[1;32m    337\u001b[0m         [curated_df.at[idx, 'property_label'] if 'has gene product' in curated_df.at[idx, 'property_label'] else\n\u001b[0;32m--> 338\u001b[0;31m          idx for idx in curated_df.index]\n\u001b[0m\u001b[1;32m    339\u001b[0m     )\n\u001b[1;32m    340\u001b[0m     \u001b[0;31m# keep first: keep the g2p manually added\u001b[0m\u001b[0;34m\u001b[0m\u001b[0;34m\u001b[0m\u001b[0;34m\u001b[0m\u001b[0m\n",
      "\u001b[0;32m~/anaconda3/envs/sr/lib/python3.6/site-packages/pandas/core/indexing.py\u001b[0m in \u001b[0;36m__getitem__\u001b[0;34m(self, key)\u001b[0m\n\u001b[1;32m   2140\u001b[0m \u001b[0;34m\u001b[0m\u001b[0m\n\u001b[1;32m   2141\u001b[0m         \u001b[0mkey\u001b[0m \u001b[0;34m=\u001b[0m \u001b[0mself\u001b[0m\u001b[0;34m.\u001b[0m\u001b[0m_convert_key\u001b[0m\u001b[0;34m(\u001b[0m\u001b[0mkey\u001b[0m\u001b[0;34m)\u001b[0m\u001b[0;34m\u001b[0m\u001b[0;34m\u001b[0m\u001b[0m\n\u001b[0;32m-> 2142\u001b[0;31m         \u001b[0;32mreturn\u001b[0m \u001b[0mself\u001b[0m\u001b[0;34m.\u001b[0m\u001b[0mobj\u001b[0m\u001b[0;34m.\u001b[0m\u001b[0m_get_value\u001b[0m\u001b[0;34m(\u001b[0m\u001b[0;34m*\u001b[0m\u001b[0mkey\u001b[0m\u001b[0;34m,\u001b[0m \u001b[0mtakeable\u001b[0m\u001b[0;34m=\u001b[0m\u001b[0mself\u001b[0m\u001b[0;34m.\u001b[0m\u001b[0m_takeable\u001b[0m\u001b[0;34m)\u001b[0m\u001b[0;34m\u001b[0m\u001b[0;34m\u001b[0m\u001b[0m\n\u001b[0m\u001b[1;32m   2143\u001b[0m \u001b[0;34m\u001b[0m\u001b[0m\n\u001b[1;32m   2144\u001b[0m     \u001b[0;32mdef\u001b[0m \u001b[0m__setitem__\u001b[0m\u001b[0;34m(\u001b[0m\u001b[0mself\u001b[0m\u001b[0;34m,\u001b[0m \u001b[0mkey\u001b[0m\u001b[0;34m,\u001b[0m \u001b[0mvalue\u001b[0m\u001b[0;34m)\u001b[0m\u001b[0;34m:\u001b[0m\u001b[0;34m\u001b[0m\u001b[0;34m\u001b[0m\u001b[0m\n",
      "\u001b[0;32m~/anaconda3/envs/sr/lib/python3.6/site-packages/pandas/core/frame.py\u001b[0m in \u001b[0;36m_get_value\u001b[0;34m(self, index, col, takeable)\u001b[0m\n\u001b[1;32m   2533\u001b[0m             \u001b[0;32mreturn\u001b[0m \u001b[0mcom\u001b[0m\u001b[0;34m.\u001b[0m\u001b[0m_maybe_box_datetimelike\u001b[0m\u001b[0;34m(\u001b[0m\u001b[0mseries\u001b[0m\u001b[0;34m.\u001b[0m\u001b[0m_values\u001b[0m\u001b[0;34m[\u001b[0m\u001b[0mindex\u001b[0m\u001b[0;34m]\u001b[0m\u001b[0;34m)\u001b[0m\u001b[0;34m\u001b[0m\u001b[0;34m\u001b[0m\u001b[0m\n\u001b[1;32m   2534\u001b[0m \u001b[0;34m\u001b[0m\u001b[0m\n\u001b[0;32m-> 2535\u001b[0;31m         \u001b[0mseries\u001b[0m \u001b[0;34m=\u001b[0m \u001b[0mself\u001b[0m\u001b[0;34m.\u001b[0m\u001b[0m_get_item_cache\u001b[0m\u001b[0;34m(\u001b[0m\u001b[0mcol\u001b[0m\u001b[0;34m)\u001b[0m\u001b[0;34m\u001b[0m\u001b[0;34m\u001b[0m\u001b[0m\n\u001b[0m\u001b[1;32m   2536\u001b[0m         \u001b[0mengine\u001b[0m \u001b[0;34m=\u001b[0m \u001b[0mself\u001b[0m\u001b[0;34m.\u001b[0m\u001b[0mindex\u001b[0m\u001b[0;34m.\u001b[0m\u001b[0m_engine\u001b[0m\u001b[0;34m\u001b[0m\u001b[0;34m\u001b[0m\u001b[0m\n\u001b[1;32m   2537\u001b[0m \u001b[0;34m\u001b[0m\u001b[0m\n",
      "\u001b[0;32m~/anaconda3/envs/sr/lib/python3.6/site-packages/pandas/core/generic.py\u001b[0m in \u001b[0;36m_get_item_cache\u001b[0;34m(self, item)\u001b[0m\n\u001b[1;32m   2487\u001b[0m         \u001b[0mres\u001b[0m \u001b[0;34m=\u001b[0m \u001b[0mcache\u001b[0m\u001b[0;34m.\u001b[0m\u001b[0mget\u001b[0m\u001b[0;34m(\u001b[0m\u001b[0mitem\u001b[0m\u001b[0;34m)\u001b[0m\u001b[0;34m\u001b[0m\u001b[0;34m\u001b[0m\u001b[0m\n\u001b[1;32m   2488\u001b[0m         \u001b[0;32mif\u001b[0m \u001b[0mres\u001b[0m \u001b[0;32mis\u001b[0m \u001b[0;32mNone\u001b[0m\u001b[0;34m:\u001b[0m\u001b[0;34m\u001b[0m\u001b[0;34m\u001b[0m\u001b[0m\n\u001b[0;32m-> 2489\u001b[0;31m             \u001b[0mvalues\u001b[0m \u001b[0;34m=\u001b[0m \u001b[0mself\u001b[0m\u001b[0;34m.\u001b[0m\u001b[0m_data\u001b[0m\u001b[0;34m.\u001b[0m\u001b[0mget\u001b[0m\u001b[0;34m(\u001b[0m\u001b[0mitem\u001b[0m\u001b[0;34m)\u001b[0m\u001b[0;34m\u001b[0m\u001b[0;34m\u001b[0m\u001b[0m\n\u001b[0m\u001b[1;32m   2490\u001b[0m             \u001b[0mres\u001b[0m \u001b[0;34m=\u001b[0m \u001b[0mself\u001b[0m\u001b[0;34m.\u001b[0m\u001b[0m_box_item_values\u001b[0m\u001b[0;34m(\u001b[0m\u001b[0mitem\u001b[0m\u001b[0;34m,\u001b[0m \u001b[0mvalues\u001b[0m\u001b[0;34m)\u001b[0m\u001b[0;34m\u001b[0m\u001b[0;34m\u001b[0m\u001b[0m\n\u001b[1;32m   2491\u001b[0m             \u001b[0mcache\u001b[0m\u001b[0;34m[\u001b[0m\u001b[0mitem\u001b[0m\u001b[0;34m]\u001b[0m \u001b[0;34m=\u001b[0m \u001b[0mres\u001b[0m\u001b[0;34m\u001b[0m\u001b[0;34m\u001b[0m\u001b[0m\n",
      "\u001b[0;32m~/anaconda3/envs/sr/lib/python3.6/site-packages/pandas/core/internals.py\u001b[0m in \u001b[0;36mget\u001b[0;34m(self, item, fastpath)\u001b[0m\n\u001b[1;32m   4113\u001b[0m \u001b[0;34m\u001b[0m\u001b[0m\n\u001b[1;32m   4114\u001b[0m             \u001b[0;32mif\u001b[0m \u001b[0;32mnot\u001b[0m \u001b[0misna\u001b[0m\u001b[0;34m(\u001b[0m\u001b[0mitem\u001b[0m\u001b[0;34m)\u001b[0m\u001b[0;34m:\u001b[0m\u001b[0;34m\u001b[0m\u001b[0;34m\u001b[0m\u001b[0m\n\u001b[0;32m-> 4115\u001b[0;31m                 \u001b[0mloc\u001b[0m \u001b[0;34m=\u001b[0m \u001b[0mself\u001b[0m\u001b[0;34m.\u001b[0m\u001b[0mitems\u001b[0m\u001b[0;34m.\u001b[0m\u001b[0mget_loc\u001b[0m\u001b[0;34m(\u001b[0m\u001b[0mitem\u001b[0m\u001b[0;34m)\u001b[0m\u001b[0;34m\u001b[0m\u001b[0;34m\u001b[0m\u001b[0m\n\u001b[0m\u001b[1;32m   4116\u001b[0m             \u001b[0;32melse\u001b[0m\u001b[0;34m:\u001b[0m\u001b[0;34m\u001b[0m\u001b[0;34m\u001b[0m\u001b[0m\n\u001b[1;32m   4117\u001b[0m                 \u001b[0mindexer\u001b[0m \u001b[0;34m=\u001b[0m \u001b[0mnp\u001b[0m\u001b[0;34m.\u001b[0m\u001b[0marange\u001b[0m\u001b[0;34m(\u001b[0m\u001b[0mlen\u001b[0m\u001b[0;34m(\u001b[0m\u001b[0mself\u001b[0m\u001b[0;34m.\u001b[0m\u001b[0mitems\u001b[0m\u001b[0;34m)\u001b[0m\u001b[0;34m)\u001b[0m\u001b[0;34m[\u001b[0m\u001b[0misna\u001b[0m\u001b[0;34m(\u001b[0m\u001b[0mself\u001b[0m\u001b[0;34m.\u001b[0m\u001b[0mitems\u001b[0m\u001b[0;34m)\u001b[0m\u001b[0;34m]\u001b[0m\u001b[0;34m\u001b[0m\u001b[0;34m\u001b[0m\u001b[0m\n",
      "\u001b[0;32m~/anaconda3/envs/sr/lib/python3.6/site-packages/pandas/core/indexes/base.py\u001b[0m in \u001b[0;36mget_loc\u001b[0;34m(self, key, method, tolerance)\u001b[0m\n\u001b[1;32m   3078\u001b[0m                 \u001b[0;32mreturn\u001b[0m \u001b[0mself\u001b[0m\u001b[0;34m.\u001b[0m\u001b[0m_engine\u001b[0m\u001b[0;34m.\u001b[0m\u001b[0mget_loc\u001b[0m\u001b[0;34m(\u001b[0m\u001b[0mkey\u001b[0m\u001b[0;34m)\u001b[0m\u001b[0;34m\u001b[0m\u001b[0;34m\u001b[0m\u001b[0m\n\u001b[1;32m   3079\u001b[0m             \u001b[0;32mexcept\u001b[0m \u001b[0mKeyError\u001b[0m\u001b[0;34m:\u001b[0m\u001b[0;34m\u001b[0m\u001b[0;34m\u001b[0m\u001b[0m\n\u001b[0;32m-> 3080\u001b[0;31m                 \u001b[0;32mreturn\u001b[0m \u001b[0mself\u001b[0m\u001b[0;34m.\u001b[0m\u001b[0m_engine\u001b[0m\u001b[0;34m.\u001b[0m\u001b[0mget_loc\u001b[0m\u001b[0;34m(\u001b[0m\u001b[0mself\u001b[0m\u001b[0;34m.\u001b[0m\u001b[0m_maybe_cast_indexer\u001b[0m\u001b[0;34m(\u001b[0m\u001b[0mkey\u001b[0m\u001b[0;34m)\u001b[0m\u001b[0;34m)\u001b[0m\u001b[0;34m\u001b[0m\u001b[0;34m\u001b[0m\u001b[0m\n\u001b[0m\u001b[1;32m   3081\u001b[0m \u001b[0;34m\u001b[0m\u001b[0m\n\u001b[1;32m   3082\u001b[0m         \u001b[0mindexer\u001b[0m \u001b[0;34m=\u001b[0m \u001b[0mself\u001b[0m\u001b[0;34m.\u001b[0m\u001b[0mget_indexer\u001b[0m\u001b[0;34m(\u001b[0m\u001b[0;34m[\u001b[0m\u001b[0mkey\u001b[0m\u001b[0;34m]\u001b[0m\u001b[0;34m,\u001b[0m \u001b[0mmethod\u001b[0m\u001b[0;34m=\u001b[0m\u001b[0mmethod\u001b[0m\u001b[0;34m,\u001b[0m \u001b[0mtolerance\u001b[0m\u001b[0;34m=\u001b[0m\u001b[0mtolerance\u001b[0m\u001b[0;34m)\u001b[0m\u001b[0;34m\u001b[0m\u001b[0;34m\u001b[0m\u001b[0m\n",
      "\u001b[0;32mpandas/_libs/index.pyx\u001b[0m in \u001b[0;36mpandas._libs.index.IndexEngine.get_loc\u001b[0;34m()\u001b[0m\n",
      "\u001b[0;32mpandas/_libs/index.pyx\u001b[0m in \u001b[0;36mpandas._libs.index.IndexEngine.get_loc\u001b[0;34m()\u001b[0m\n",
      "\u001b[0;32mpandas/_libs/hashtable_class_helper.pxi\u001b[0m in \u001b[0;36mpandas._libs.hashtable.PyObjectHashTable.get_item\u001b[0;34m()\u001b[0m\n",
      "\u001b[0;32mpandas/_libs/hashtable_class_helper.pxi\u001b[0m in \u001b[0;36mpandas._libs.hashtable.PyObjectHashTable.get_item\u001b[0;34m()\u001b[0m\n",
      "\u001b[0;31mKeyError\u001b[0m: 'property_label'"
     ]
    }
   ],
   "source": [
    "%%time\n",
    "# graph v3.2\n",
    "# read network from drive and concat all curated statements\n",
    "curation_edges, curation_nodes = curation.read_network(version='v20180118')\n",
    "\n",
    "# prepare data edges and nodes\n",
    "data_edges = curation.prepare_data_edges(curation_edges)\n",
    "data_nodes = curation.prepare_data_nodes(curation_nodes)\n",
    "\n",
    "# prepare curated edges and nodes\n",
    "curated_network = curation.prepare_curated_edges(data_edges)\n",
    "curated_concepts = curation.prepare_curated_nodes(data_nodes)\n",
    "\n",
    "\n",
    "# build edges and nodes files\n",
    "curation_edges = curation.build_edges(curated_network)\n",
    "curation_nodes = curation.build_nodes(curated_concepts)"
   ]
  },
  {
   "cell_type": "markdown",
   "metadata": {},
   "source": [
    "- Curated network is returned as both digital object (`curation_edges`, `curation_nodes`) and CSV files at _**graph/**_ (`curated_graph_edges_version.csv`, `curated_graph_nodes_version.csv`)\n",
    "- The original curated network, i.e. without graph data model normalization, is saved as CSV files at _**curation/**_ (`curated_edges_version.csv`, `curated_nodes_version.csv`)"
   ]
  },
  {
   "cell_type": "code",
   "execution_count": 7,
   "metadata": {},
   "outputs": [
    {
     "name": "stdout",
     "output_type": "stream",
     "text": [
      "type edges: <class 'list'>\n",
      "type nodes: <class 'list'>\n",
      "\n",
      "len edges: 362\n",
      "len nodes: 302\n",
      "\n",
      "attribute edges: dict_keys(['subject_id', 'object_id', 'property_id', 'property_label', 'property_description', 'property_uri', 'reference_uri', 'reference_supporting_text', 'reference_date', 'g2p_mark'])\n",
      "attribute nodes: dict_keys(['id', 'semantic_groups', 'preflabel', 'name', 'synonyms', 'description'])\n"
     ]
    }
   ],
   "source": [
    "# print type of objects\n",
    "print('type edges:', type(curation_edges))\n",
    "print('type nodes:', type(curation_nodes))\n",
    "print()\n",
    "\n",
    "# print objects sizes\n",
    "print('len edges:', len(curation_edges))\n",
    "print('len nodes:', len(curation_nodes))\n",
    "print()\n",
    "\n",
    "# print object attribute\n",
    "print('attribute edges:', curation_edges[0].keys())\n",
    "print('attribute nodes:', curation_nodes[0].keys())"
   ]
  },
  {
   "cell_type": "markdown",
   "metadata": {},
   "source": [
    "#### MONARCH NETWORK\n",
    "#### import monarch\n",
    "We retrieved edges from Monarch using the `monarch` module.\n",
    "\n",
    "Tasks:\n",
    "\n",
    "- From 8 seed nodes we retrieved 1st shell nodes\n",
    "- From all seed and 1st shell nodes we retrieved ortho-phenotypes\n",
    "- We retrieved extra edges among all of them, i.e. extra connectivity between: seed, 1st shell, ortholog-phenotype nodes"
   ]
  },
  {
   "cell_type": "code",
   "execution_count": 2,
   "metadata": {},
   "outputs": [
    {
     "name": "stdout",
     "output_type": "stream",
     "text": [
      "\n",
      "The function \"get_neighbours_list()\" is running. Its runtime may take some minutes. If you interrupt the process, you will lose all the nodes retrieved and you should start over the execution of this function.\n"
     ]
    },
    {
     "name": "stderr",
     "output_type": "stream",
     "text": [
      "100%|██████████| 4/4 [00:29<00:00,  6.43s/it]\n"
     ]
    },
    {
     "name": "stdout",
     "output_type": "stream",
     "text": [
      "\n",
      "Finished get_neighbours_list().\n",
      "\n",
      "1022\n"
     ]
    },
    {
     "name": "stderr",
     "output_type": "stream",
     "text": [
      "100%|██████████| 1022/1022 [1:10:20<00:00,  7.38s/it]\n"
     ]
    },
    {
     "name": "stdout",
     "output_type": "stream",
     "text": [
      "12221\n",
      "CPU times: user 2min 4s, sys: 7.55 s, total: 2min 11s\n",
      "Wall time: 1h 10min 49s\n"
     ]
    }
   ],
   "source": [
    "%%time\n",
    "# prepare data to graph schema\n",
    "# seed nodes\n",
    "seedList = [ \n",
    "    'MONDO:0007739', # HD\n",
    "    'HGNC:4851', # Htt\n",
    "    'HGNC:182293', # Rhes\n",
    "    'REACT:R-HSA-917937' #Iron uptake pathway\n",
    "] \n",
    "\n",
    "# get first shell of neighbours\n",
    "neighboursList = monarch.get_neighbours_list(seedList)\n",
    "print(len(neighboursList))\n",
    "# get second degree of neighbours\n",
    "monarch_network = monarch.get_connections(neighboursList)\n",
    "print(len(monarch_network))"
   ]
  },
  {
   "cell_type": "code",
   "execution_count": 3,
   "metadata": {},
   "outputs": [
    {
     "name": "stdout",
     "output_type": "stream",
     "text": [
      "\n",
      "Saving Monarch edges at: '/home/karolis/Structured review/bioknowledge-reviewer/bioknowledge_reviewer/monarch/monarch_connections_v2020-11-20.csv'...\n",
      "\n",
      "\n",
      "The function \"build_edges()\" is running...\n",
      "df (12221, 9)\n",
      "\n",
      "* This is the size of the edges file data structure: (12221, 9)\n",
      "* These are the edges attributes: Index(['object_id', 'property_description', 'property_id', 'property_label',\n",
      "       'property_uri', 'reference_date', 'reference_supporting_text',\n",
      "       'reference_uri', 'subject_id'],\n",
      "      dtype='object')\n",
      "* This is the first record:\n",
      "    object_id property_description property_id property_label  \\\n",
      "0  HP:0000739                   NA  RO:0002200  has phenotype   \n",
      "\n",
      "                                property_uri reference_date  \\\n",
      "0  http://purl.obolibrary.org/obo/RO_0002200             NA   \n",
      "\n",
      "                           reference_supporting_text reference_uri  subject_id  \n",
      "0  This edge comes from the Monarch Knowledge Gra...            NA  HGNC:11007  \n",
      "\n",
      "The Monarch network edges are built and saved at: /home/karolis/Structured review/bioknowledge-reviewer/bioknowledge_reviewer/monarch/monarch_edges_v2020-11-20.csv\n",
      "\n",
      "\n",
      "Finished build_edges().\n",
      "\n",
      "\n",
      "The function \"build_nodes()\" is running...\n",
      "Number of concepts: 734\n",
      "Number of nodes CURIEs: 19\n",
      "List of nodes CURIEs: dict_keys(['HGNC', 'HP', 'UBERON', 'GO', 'EFO', 'RGD', 'dbSNP', 'MONDO', 'ENSEMBL', 'MGI', 'dictyBase', 'ClinVarVariant', 'FlyBase', 'Xenbase', 'WormBase', 'ZFIN', 'Coriell', 'dbSNPIndividual', 'REACT'])\n",
      "\n",
      "Adding BioThings annotation: gene name, synonyms, description...\n",
      "symbols: 485\n",
      "querying 1-485...done.\n",
      "Finished.\n",
      "2 input query terms found dup hits:\n",
      "\t[('Htt', 2), ('htt', 3)]\n",
      "116 input query terms found no hit:\n",
      "\t['ENSEMBL:ENSCAFG00000014682', 'Htt<tm4Mem>/Htt<tm4Mem> [involves: 129S1/Sv * 129X1/SvJ * CD-1]', 'E\n",
      "Pass \"returnall=True\" to return complete lists of duplicate or missing query terms.\n",
      "\n",
      "* This is the size of the nodes file data structure: (734, 6)\n",
      "* These are the nodes attributes: Index(['description', 'id', 'name', 'preflabel', 'semantic_groups',\n",
      "       'synonyms'],\n",
      "      dtype='object')\n",
      "* This is the first record:\n",
      "  description          id                              name preflabel  \\\n",
      "0          NA  HGNC:11007  solute carrier family 2 member 3    SLC2A3   \n",
      "\n",
      "  semantic_groups synonyms  \n",
      "0            GENE    GLUT3  \n",
      "\n",
      "The Monarch network nodes are built and saved at: /home/karolis/Structured review/bioknowledge-reviewer/bioknowledge_reviewer/monarch/monarch_nodes_v2020-11-20.csv\n",
      "\n",
      "\n",
      "Finished build_nodes().\n",
      "\n"
     ]
    }
   ],
   "source": [
    "monarch.print_network(monarch_network, 'monarch_connections')\n",
    "\n",
    "# build network with graph schema \n",
    "monarch_edges = monarch.build_edges(monarch_network)\n",
    "monarch_nodes = monarch.build_nodes(monarch_network)"
   ]
  },
  {
   "cell_type": "code",
   "execution_count": 4,
   "metadata": {},
   "outputs": [
    {
     "name": "stdout",
     "output_type": "stream",
     "text": [
      "type edges: <class 'list'>\n",
      "type nodes: <class 'list'>\n",
      "\n",
      "len edges: 12221\n",
      "len nodes: 734\n",
      "\n",
      "attribute edges: dict_keys(['subject_id', 'object_id', 'property_id', 'property_label', 'property_description', 'property_uri', 'reference_uri', 'reference_supporting_text', 'reference_date'])\n",
      "attribute nodes: dict_keys(['id', 'semantic_groups', 'preflabel', 'name', 'synonyms', 'description'])\n"
     ]
    }
   ],
   "source": [
    "# print type of objects\n",
    "print('type edges:', type(monarch_edges))\n",
    "print('type nodes:', type(monarch_nodes))\n",
    "print()\n",
    "\n",
    "# print objects sizes\n",
    "print('len edges:', len(monarch_edges))\n",
    "print('len nodes:', len(monarch_nodes))\n",
    "print()\n",
    "\n",
    "# print object attribute\n",
    "print('attribute edges:', monarch_edges[0].keys())\n",
    "print('attribute nodes:', monarch_nodes[0].keys())"
   ]
  },
  {
   "cell_type": "code",
   "execution_count": 17,
   "metadata": {
    "scrolled": true
   },
   "outputs": [
    {
     "name": "stdout",
     "output_type": "stream",
     "text": [
      "\n",
      "The function \"get_neighbours_list()\" is running. Its runtime may take some minutes. If you interrupt the process, you will lose all the nodes retrieved and you should start over the execution of this function.\n"
     ]
    },
    {
     "name": "stderr",
     "output_type": "stream",
     "text": [
      "100%|██████████| 3/3 [00:18<00:00,  5.14s/it]\n"
     ]
    },
    {
     "name": "stdout",
     "output_type": "stream",
     "text": [
      "\n",
      "Finished get_neighbours_list().\n",
      "\n",
      "648\n",
      "\n",
      "The function \"get_orthopheno_list()\" is running. Its runtime may take some hours. If you interrupt the process, you will lose all the nodes retrieved and you should start over the execution of this function.\n"
     ]
    },
    {
     "name": "stderr",
     "output_type": "stream",
     "text": [
      "100%|██████████| 3/3 [00:15<00:00,  4.28s/it]\n",
      "100%|██████████| 22/22 [01:08<00:00,  3.05s/it]\n"
     ]
    },
    {
     "name": "stdout",
     "output_type": "stream",
     "text": [
      "\n",
      "Finished get_orthopheno_list().\n",
      "\n",
      "73\n",
      "\n",
      "The function \"get_orthopheno_list()\" is running. Its runtime may take some hours. If you interrupt the process, you will lose all the nodes retrieved and you should start over the execution of this function.\n"
     ]
    },
    {
     "name": "stderr",
     "output_type": "stream",
     "text": [
      "100%|██████████| 648/648 [43:17<00:00,  3.81s/it]  \n",
      "100%|██████████| 2679/2679 [2:15:54<00:00,  2.81s/it]  \n"
     ]
    },
    {
     "name": "stdout",
     "output_type": "stream",
     "text": [
      "\n",
      "Finished get_orthopheno_list().\n",
      "\n",
      "5128\n",
      "genelist:  651\n",
      "\n",
      "The function \"extract_edges()\" is running. Its runtime may take some hours. If you interrupt the process, you will lose all the edges retrieved and you should start over the execution of this function.\n"
     ]
    },
    {
     "name": "stderr",
     "output_type": "stream",
     "text": [
      "100%|██████████| 651/651 [36:19<00:00,  3.48s/it]  \n"
     ]
    },
    {
     "name": "stdout",
     "output_type": "stream",
     "text": [
      "\n",
      "Finished extract_edges(). To save the retrieved Monarch edges use the function \"print_network()\".\n",
      "\n",
      "network:  3095\n",
      "\n",
      "Saving Monarch edges at: '/home/karolis/Structured review/bioknowledge-reviewer/bioknowledge_reviewer/monarch/monarch_connections_v2020-11-15.csv'...\n",
      "\n",
      "\n",
      "The function \"build_edges()\" is running...\n",
      "df (3095, 9)\n",
      "\n",
      "* This is the size of the edges file data structure: (3095, 9)\n",
      "* These are the edges attributes: Index(['object_id', 'property_description', 'property_id', 'property_label',\n",
      "       'property_uri', 'reference_date', 'reference_supporting_text',\n",
      "       'reference_uri', 'subject_id'],\n",
      "      dtype='object')\n",
      "* This is the first record:\n",
      "    object_id property_description property_id  property_label  \\\n",
      "0  HGNC:28817                   NA  RO:0002434  interacts with   \n",
      "\n",
      "                                property_uri reference_date  \\\n",
      "0  http://purl.obolibrary.org/obo/RO_0002434             NA   \n",
      "\n",
      "                           reference_supporting_text reference_uri subject_id  \n",
      "0  This edge comes from the Monarch Knowledge Gra...            NA   HGNC:633  \n",
      "\n",
      "The Monarch network edges are built and saved at: /home/karolis/Structured review/bioknowledge-reviewer/bioknowledge_reviewer/monarch/monarch_edges_v2020-11-15.csv\n",
      "\n",
      "\n",
      "Finished build_edges().\n",
      "\n",
      "\n",
      "The function \"build_nodes()\" is running...\n",
      "Number of concepts: 650\n",
      "Number of nodes CURIEs: 21\n",
      "List of nodes CURIEs: dict_keys(['HGNC', 'Coriell', 'MONDO', 'FlyBase', 'ENSEMBL', 'GO', 'HP', 'UBERON', 'RGD', 'ClinVarVariant', 'CL', 'MGI', 'REACT', 'dictyBase', 'dbSNPIndividual', 'ZFIN', 'WormBase', 'dbSNP', 'EFO', 'OMIM', 'NCBIGene'])\n",
      "\n",
      "Adding BioThings annotation: gene name, synonyms, description...\n",
      "symbols: 269\n",
      "querying 1-269...done.\n",
      "Finished.\n",
      "2 input query terms found dup hits:\n",
      "\t[('AQP1', 2), ('Aqp1', 2)]\n",
      "104 input query terms found no hit:\n",
      "\t['FlyBase:CG17664', 'Htt<tm2Detl>', 'ENSEMBL:ENSCAFG00000003102', 'ENSEMBL:ENSGALG00000005209', 'AVP\n",
      "Pass \"returnall=True\" to return complete lists of duplicate or missing query terms.\n",
      "\n",
      "* This is the size of the nodes file data structure: (650, 6)\n",
      "* These are the nodes attributes: Index(['description', 'id', 'name', 'preflabel', 'semantic_groups',\n",
      "       'synonyms'],\n",
      "      dtype='object')\n",
      "* This is the first record:\n",
      "                                         description        id  \\\n",
      "0  This gene encodes a small integral membrane pr...  HGNC:633   \n",
      "\n",
      "                               name preflabel semantic_groups  \\\n",
      "0  aquaporin 1 (Colton blood group)      AQP1            GENE   \n",
      "\n",
      "             synonyms  \n",
      "0  AQP-CHIP|CHIP28|CO  \n",
      "\n",
      "The Monarch network nodes are built and saved at: /home/karolis/Structured review/bioknowledge-reviewer/bioknowledge_reviewer/monarch/monarch_nodes_v2020-11-15.csv\n",
      "\n",
      "\n",
      "Finished build_nodes().\n",
      "\n",
      "CPU times: user 6min 39s, sys: 20 s, total: 6min 59s\n",
      "Wall time: 3h 37min 18s\n"
     ]
    }
   ],
   "source": [
    "%%time\n",
    "# prepare data to graph schema\n",
    "# seed nodes\n",
    "seedList = [ \n",
    "    'MONDO:0007739', # HD\n",
    "    'HGNC:4851', # Htt\n",
    "    'HGNC:182293', # Rhes\n",
    "] \n",
    "\n",
    "# get first shell of neighbours\n",
    "neighboursList = monarch.get_neighbours_list(seedList)\n",
    "print(len(neighboursList))\n",
    "\n",
    "# introduce animal model ortho-phenotypes for seed and 1st shell neighbors\n",
    "## For seed nodes:\n",
    "seed_orthophenoList = monarch.get_orthopheno_list(seedList)\n",
    "print(len(seed_orthophenoList))\n",
    "## For 1st shell nodes:\n",
    "neighbours_orthophenoList = monarch.get_orthopheno_list(neighboursList)\n",
    "print(len(neighbours_orthophenoList))\n",
    "\n",
    "# network nodes: seed + 1shell + ortholog-phentoype\n",
    "geneList = sum([seedList,\n",
    "                neighboursList,\n",
    "                #seed_orthophenoList,\n",
    "                #neighbours_orthophenoList\n",
    "               ], \n",
    "               [])\n",
    "print('genelist: ',len(geneList))\n",
    "\n",
    "# get Monarch network\n",
    "monarch_network = monarch.extract_edges(geneList)\n",
    "print('network: ',len(monarch_network))\n",
    "\n",
    "# save edges\n",
    "monarch.print_network(monarch_network, 'monarch_connections')\n",
    "\n",
    "# build network with graph schema \n",
    "monarch_edges = monarch.build_edges(monarch_network)\n",
    "monarch_nodes = monarch.build_nodes(monarch_network)"
   ]
  },
  {
   "cell_type": "code",
   "execution_count": 13,
   "metadata": {
    "scrolled": true
   },
   "outputs": [
    {
     "name": "stdout",
     "output_type": "stream",
     "text": [
      "\n",
      "* This is the size of the data structure: (3095, 7)\n",
      "* These are the attributes: Index(['object_id', 'object_label', 'reference_id_list', 'relation_id',\n",
      "       'relation_label', 'subject_id', 'subject_label'],\n",
      "      dtype='object')\n",
      "* This is the first record:\n",
      "    object_id object_label  reference_id_list relation_id  relation_label  \\\n",
      "0  HGNC:28817       LRRC59                NaN  RO:0002434  interacts with   \n",
      "\n",
      "  subject_id subject_label  \n",
      "0   HGNC:633          AQP1  \n"
     ]
    }
   ],
   "source": [
    "monarch_network = monarch.read_connections(\"monarch_connections_v2020-11-15.csv\")\n",
    "monarch_edges = monarch.build_edges(monarch_network)\n",
    "monarch_nodes = monarch.build_nodes(monarch_network)"
   ]
  },
  {
   "cell_type": "code",
   "execution_count": 14,
   "metadata": {
    "scrolled": true
   },
   "outputs": [
    {
     "name": "stdout",
     "output_type": "stream",
     "text": [
      "\n",
      "The function \"build_edges()\" is running...\n",
      "df (3095, 9)\n",
      "\n",
      "* This is the size of the edges file data structure: (3095, 9)\n",
      "* These are the edges attributes: Index(['object_id', 'property_description', 'property_id', 'property_label',\n",
      "       'property_uri', 'reference_date', 'reference_supporting_text',\n",
      "       'reference_uri', 'subject_id'],\n",
      "      dtype='object')\n",
      "* This is the first record:\n",
      "    object_id property_description property_id  property_label  \\\n",
      "0  HGNC:28817                   NA  RO:0002434  interacts with   \n",
      "\n",
      "                                property_uri reference_date  \\\n",
      "0  http://purl.obolibrary.org/obo/RO_0002434             NA   \n",
      "\n",
      "                           reference_supporting_text reference_uri subject_id  \n",
      "0  This edge comes from the Monarch Knowledge Gra...            NA   HGNC:633  \n",
      "\n",
      "The Monarch network edges are built and saved at: /home/karolis/Structured review/bioknowledge-reviewer/bioknowledge_reviewer/monarch/monarch_edges_v2020-11-16.csv\n",
      "\n",
      "\n",
      "Finished build_edges().\n",
      "\n"
     ]
    }
   ],
   "source": [
    "monarch_edges = monarch.build_edges(monarch_network)\n"
   ]
  },
  {
   "cell_type": "code",
   "execution_count": 15,
   "metadata": {
    "scrolled": true
   },
   "outputs": [
    {
     "name": "stdout",
     "output_type": "stream",
     "text": [
      "\n",
      "The function \"build_nodes()\" is running...\n",
      "Number of concepts: 650\n",
      "Number of nodes CURIEs: 21\n",
      "List of nodes CURIEs: dict_keys(['HGNC', 'Coriell', 'MONDO', 'FlyBase', 'ENSEMBL', 'GO', 'HP', 'UBERON', 'RGD', 'ClinVarVariant', 'CL', 'MGI', 'REACT', 'dictyBase', 'dbSNPIndividual', 'ZFIN', 'WormBase', 'dbSNP', 'EFO', 'OMIM', 'NCBIGene'])\n",
      "\n",
      "Adding BioThings annotation: gene name, synonyms, description...\n",
      "symbols: 269\n",
      "querying 1-269...done.\n",
      "Finished.\n",
      "2 input query terms found dup hits:\n",
      "\t[('AQP1', 2), ('Aqp1', 2)]\n",
      "104 input query terms found no hit:\n",
      "\t['FlyBase:CG17664', 'Htt<tm2Detl>', 'ENSEMBL:ENSCAFG00000003102', 'ENSEMBL:ENSGALG00000005209', 'AVP\n",
      "Pass \"returnall=True\" to return complete lists of duplicate or missing query terms.\n",
      "\n",
      "* This is the size of the nodes file data structure: (650, 6)\n",
      "* These are the nodes attributes: Index(['description', 'id', 'name', 'preflabel', 'semantic_groups',\n",
      "       'synonyms'],\n",
      "      dtype='object')\n",
      "* This is the first record:\n",
      "                                         description        id  \\\n",
      "0  This gene encodes a small integral membrane pr...  HGNC:633   \n",
      "\n",
      "                               name preflabel semantic_groups  \\\n",
      "0  aquaporin 1 (Colton blood group)      AQP1            GENE   \n",
      "\n",
      "             synonyms  \n",
      "0  AQP-CHIP|CHIP28|CO  \n",
      "\n",
      "The Monarch network nodes are built and saved at: /home/karolis/Structured review/bioknowledge-reviewer/bioknowledge_reviewer/monarch/monarch_nodes_v2020-11-16.csv\n",
      "\n",
      "\n",
      "Finished build_nodes().\n",
      "\n"
     ]
    }
   ],
   "source": [
    "monarch_nodes = monarch.build_nodes(monarch_network)"
   ]
  },
  {
   "cell_type": "code",
   "execution_count": 18,
   "metadata": {
    "scrolled": true
   },
   "outputs": [
    {
     "name": "stdout",
     "output_type": "stream",
     "text": [
      "type edges: <class 'list'>\n",
      "type nodes: <class 'list'>\n",
      "\n",
      "len edges: 3095\n",
      "len nodes: 650\n",
      "\n",
      "attribute edges: dict_keys(['subject_id', 'object_id', 'property_id', 'property_label', 'property_description', 'property_uri', 'reference_uri', 'reference_supporting_text', 'reference_date'])\n",
      "attribute nodes: dict_keys(['id', 'semantic_groups', 'preflabel', 'name', 'synonyms', 'description'])\n"
     ]
    }
   ],
   "source": [
    "# print type of objects\n",
    "print('type edges:', type(monarch_edges))\n",
    "print('type nodes:', type(monarch_nodes))\n",
    "print()\n",
    "\n",
    "# print objects sizes\n",
    "print('len edges:', len(monarch_edges))\n",
    "print('len nodes:', len(monarch_nodes))\n",
    "print()\n",
    "\n",
    "# print object attribute\n",
    "print('attribute edges:', monarch_edges[0].keys())\n",
    "print('attribute nodes:', monarch_nodes[0].keys())"
   ]
  },
  {
   "cell_type": "markdown",
   "metadata": {},
   "source": [
    "- Monarch network is returned as both digital object (`monarch_edges`, `monarch_nodes`) and CSV files at _**monarch/**_ (`monarch_edges_version.csv`, `monarch_nodes_version.csv`)"
   ]
  },
  {
   "cell_type": "markdown",
   "metadata": {},
   "source": [
    "## Graph library\n",
    "### Create the review knowledge graph\n",
    "#### import graph\n",
    "\n",
    "Tasks:\n",
    "\n",
    "* Load Networks and calculate graph nodes\n",
    "* Retrieve extra connectivity for the graph from Monarch\n",
    "* Build the review graph"
   ]
  },
  {
   "cell_type": "code",
   "execution_count": null,
   "metadata": {},
   "outputs": [],
   "source": []
  },
  {
   "cell_type": "code",
   "execution_count": 6,
   "metadata": {
    "scrolled": true
   },
   "outputs": [
    {
     "name": "stdout",
     "output_type": "stream",
     "text": [
      "\n",
      "The function \"graph_nodes()\" is running...\n",
      "\n",
      "Preparing networks...\n",
      "Curated:\n",
      "(2, 9)\n",
      "Index(['subject_id', 'property_id', 'object_id', 'reference_uri',\n",
      "       'reference_supporting_text', 'reference_date', 'property_label',\n",
      "       'property_description', 'property_uri'],\n",
      "      dtype='object')\n",
      "Monarch:\n",
      "(12221, 9)\n",
      "Index(['object_id', 'property_description', 'property_id', 'property_label',\n",
      "       'property_uri', 'reference_date', 'reference_supporting_text',\n",
      "       'reference_uri', 'subject_id'],\n",
      "      dtype='object')\n",
      "Transcriptomics:\n",
      "(3209, 9)\n",
      "Index(['object_id', 'property_description', 'property_id', 'property_label',\n",
      "       'property_uri', 'reference_date', 'reference_supporting_text',\n",
      "       'reference_uri', 'subject_id'],\n",
      "      dtype='object')\n",
      "Regulatory:\n",
      "(197267, 9)\n",
      "Index(['object_id', 'property_description', 'property_id', 'property_label',\n",
      "       'property_uri', 'reference_date', 'reference_supporting_text',\n",
      "       'reference_uri', 'subject_id'],\n",
      "      dtype='object')\n",
      "\n",
      "Concatenating into a graph...\n",
      "(15432, 9)\n",
      "\n",
      "Drop duplicated rows...\n",
      "(15431, 9)\n",
      "\n",
      "Merging tf-gene network to the graph...\n",
      "(13412, 9)\n",
      "\n",
      "Saving tf merged edges...\n",
      "\n",
      "The regulation graph merged edges are saved at: /home/karolis/Structured review/bioknowledge-reviewer/bioknowledge_reviewer/graph/regulation_graph_edges_v2020-11-20.csv\n",
      "\n",
      "(28843, 9)\n",
      "\n",
      "Drop duplicated rows...\n",
      "(28843, 9)\n",
      "\n",
      "Generating graph nodes...\n",
      "(9540, 1)\n",
      "\n",
      "Finished graph_nodes().\n",
      "\n",
      "\n",
      "The function \"extract_edges()\" is running. Its runtime may take some hours. If you interrupt the process, you will lose all the edges retrieved and you should start over the execution of this function.\n"
     ]
    },
    {
     "name": "stderr",
     "output_type": "stream",
     "text": [
      "100%|██████████| 9540/9540 [10:10:18<00:00,  5.19s/it]  \n"
     ]
    },
    {
     "name": "stdout",
     "output_type": "stream",
     "text": [
      "\n",
      "Finished extract_edges(). To save the retrieved Monarch edges use the function \"print_network()\".\n",
      "\n",
      "network:  347873\n",
      "\n",
      "Saving Monarch edges at: '/home/karolis/Structured review/bioknowledge-reviewer/bioknowledge_reviewer/monarch/monarch_connections_graph_v2020-11-20.csv'...\n",
      "\n",
      "\n",
      "The function \"build_edges()\" is running...\n",
      "df (347873, 9)\n",
      "\n",
      "* This is the size of the edges file data structure: (347873, 9)\n",
      "* These are the edges attributes: Index(['object_id', 'property_description', 'property_id', 'property_label',\n",
      "       'property_uri', 'reference_date', 'reference_supporting_text',\n",
      "       'reference_uri', 'subject_id'],\n",
      "      dtype='object')\n",
      "* This is the first record:\n",
      "   object_id property_description property_id  property_label  \\\n",
      "0  HGNC:4544                   NA  RO:0002434  interacts with   \n",
      "\n",
      "                                property_uri reference_date  \\\n",
      "0  http://purl.obolibrary.org/obo/RO_0002434             NA   \n",
      "\n",
      "                           reference_supporting_text reference_uri subject_id  \n",
      "0  This edge comes from the Monarch Knowledge Gra...            NA  HGNC:1455  \n",
      "\n",
      "The Monarch network edges are built and saved at: /home/karolis/Structured review/bioknowledge-reviewer/bioknowledge_reviewer/monarch/monarch_edges_v2020-11-20.csv\n",
      "\n",
      "\n",
      "Finished build_edges().\n",
      "\n",
      "\n",
      "The function \"build_nodes()\" is running...\n",
      "Number of concepts: 6080\n",
      "Number of nodes CURIEs: 20\n",
      "List of nodes CURIEs: dict_keys(['HGNC', 'EFO', 'HP', 'GO', 'UBERON', 'MONDO', 'ENSEMBL', 'dbSNP', 'MGI', 'ZFIN', 'REACT', 'Xenbase', 'FlyBase', 'RGD', 'WormBase', 'ClinVarVariant', 'dictyBase', 'Coriell', 'dbSNPIndividual', 'NCBIGene'])\n",
      "\n",
      "Adding BioThings annotation: gene name, synonyms, description...\n",
      "symbols: 5831\n",
      "querying 1-1000...done.\n",
      "querying 1001-2000...done.\n",
      "querying 2001-3000...done.\n",
      "querying 3001-4000...done.\n",
      "querying 4001-5000...done.\n",
      "querying 5001-5831...done.\n",
      "Finished.\n",
      "3 input query terms found dup hits:\n",
      "\t[('HTT', 2), ('Htt', 2), ('htt', 3)]\n",
      "163 input query terms found no hit:\n",
      "\t['SIRPA (human)', 'TNF (human)', 'ITGA2 (human)', 'NCAM1 (human)', 'RAG2 (human)', 'IL5RA (human)', \n",
      "Pass \"returnall=True\" to return complete lists of duplicate or missing query terms.\n",
      "\n",
      "* This is the size of the nodes file data structure: (6080, 6)\n",
      "* These are the nodes attributes: Index(['description', 'id', 'name', 'preflabel', 'semantic_groups',\n",
      "       'synonyms'],\n",
      "      dtype='object')\n",
      "* This is the first record:\n",
      "                                         description         id          name  \\\n",
      "0  Calreticulin is a highly conserved chaperone p...  HGNC:1455  calreticulin   \n",
      "\n",
      "  preflabel semantic_groups                    synonyms  \n",
      "0      CALR            GENE  CRT|HEL-S-99n|RO|SSA|cC1qR  \n",
      "\n",
      "The Monarch network nodes are built and saved at: /home/karolis/Structured review/bioknowledge-reviewer/bioknowledge_reviewer/monarch/monarch_nodes_v2020-11-20.csv\n",
      "\n",
      "\n",
      "Finished build_nodes().\n",
      "\n",
      "\n",
      "The function \"build_edges()\" is running...\n",
      "\n",
      "Preparing networks...\n",
      "Curated:\n",
      "(2, 9)\n",
      "Index(['subject_id', 'property_id', 'object_id', 'reference_uri',\n",
      "       'reference_supporting_text', 'reference_date', 'property_label',\n",
      "       'property_description', 'property_uri'],\n",
      "      dtype='object')\n",
      "Monarch:\n",
      "(347873, 9)\n",
      "Index(['object_id', 'property_description', 'property_id', 'property_label',\n",
      "       'property_uri', 'reference_date', 'reference_supporting_text',\n",
      "       'reference_uri', 'subject_id'],\n",
      "      dtype='object')\n",
      "Transcriptomics:\n",
      "(3209, 9)\n",
      "Index(['object_id', 'property_description', 'property_id', 'property_label',\n",
      "       'property_uri', 'reference_date', 'reference_supporting_text',\n",
      "       'reference_uri', 'subject_id'],\n",
      "      dtype='object')\n",
      "Regulatory:\n",
      "(13412, 9)\n",
      "Index(['subject_id', 'property_id', 'object_id', 'reference_uri',\n",
      "       'reference_supporting_text', 'reference_date', 'property_label',\n",
      "       'property_description', 'property_uri'],\n",
      "      dtype='object')\n",
      "\n",
      "Concatenating into a graph...\n",
      "(364496, 9)\n",
      "\n",
      "Drop duplicated rows...\n",
      "(364495, 9)\n",
      "\n",
      "Saving final graph...\n",
      "(364495, 9)\n",
      "Index(['subject_id', 'property_id', 'object_id', 'reference_uri',\n",
      "       'reference_supporting_text', 'reference_date', 'property_label',\n",
      "       'property_description', 'property_uri'],\n",
      "      dtype='object')\n",
      "\n",
      "* This is the size of the edges file data structure: (364495, 9)\n",
      "* These are the edges attributes: Index(['subject_id', 'property_id', 'object_id', 'reference_uri',\n",
      "       'reference_supporting_text', 'reference_date', 'property_label',\n",
      "       'property_description', 'property_uri'],\n",
      "      dtype='object')\n",
      "* This is the first record:\n",
      "  subject_id property_id object_id reference_uri reference_supporting_text  \\\n",
      "0        NaN         NaN       NaN           NaN                       NaN   \n",
      "\n",
      "  reference_date property_label property_description property_uri  \n",
      "0            NaN            NaN                  NaN         None  \n",
      "\n",
      "The NGLY1 Deficiency knowledge graph edges are built and saved at: /home/karolis/Structured review/bioknowledge-reviewer/bioknowledge_reviewer/graph/graph_edges_v2020-11-20.csv\n",
      "\n",
      "\n",
      "Finished build_edges().\n",
      "\n",
      "\n",
      "The function \"build_nodes()\" is running...\n",
      "\n",
      "Preparing networks...\n",
      "Curated:\n",
      "(2, 5)\n",
      "Index(['id', 'semantic_groups', 'preflabel', 'synonyms', 'description'], dtype='object')\n",
      "Monarch:\n",
      "(6080, 6)\n",
      "Index(['description', 'id', 'name', 'preflabel', 'semantic_groups',\n",
      "       'synonyms'],\n",
      "      dtype='object')\n",
      "Transcriptomics:\n",
      "(3210, 6)\n",
      "Index(['description', 'id', 'name', 'preflabel', 'semantic_groups',\n",
      "       'synonyms'],\n",
      "      dtype='object')\n",
      "Regulatory:\n",
      "(16968, 6)\n",
      "Index(['description', 'id', 'name', 'preflabel', 'semantic_groups',\n",
      "       'synonyms'],\n",
      "      dtype='object')\n",
      "\n",
      "Annotating nodes in the graph...\n",
      "graph from e (9540, 1)\n"
     ]
    },
    {
     "ename": "ValueError",
     "evalue": "You are trying to merge on float64 and object columns. If you wish to proceed you should use pd.concat",
     "output_type": "error",
     "traceback": [
      "\u001b[0;31m---------------------------------------------------------------------------\u001b[0m",
      "\u001b[0;31mValueError\u001b[0m                                Traceback (most recent call last)",
      "\u001b[0;32m<timed exec>\u001b[0m in \u001b[0;36m<module>\u001b[0;34m()\u001b[0m\n",
      "\u001b[0;32m~/Structured review/bioknowledge-reviewer/bioknowledge_reviewer/graph.py\u001b[0m in \u001b[0;36mbuild_nodes\u001b[0;34m(statements, curation, monarch, transcriptomics, regulation, input_from_file)\u001b[0m\n\u001b[1;32m    422\u001b[0m     \u001b[0;31m# annotating nodes\u001b[0m\u001b[0;34m\u001b[0m\u001b[0;34m\u001b[0m\u001b[0;34m\u001b[0m\u001b[0m\n\u001b[1;32m    423\u001b[0m     \u001b[0;31m#TODO: check format\u001b[0m\u001b[0;34m\u001b[0m\u001b[0;34m\u001b[0m\u001b[0;34m\u001b[0m\u001b[0m\n\u001b[0;32m--> 424\u001b[0;31m     \u001b[0mcurated_nodes\u001b[0m \u001b[0;34m=\u001b[0m \u001b[0mpd\u001b[0m\u001b[0;34m.\u001b[0m\u001b[0mmerge\u001b[0m\u001b[0;34m(\u001b[0m\u001b[0mcurated_df\u001b[0m\u001b[0;34m,\u001b[0m \u001b[0mst_nodes_df\u001b[0m\u001b[0;34m,\u001b[0m \u001b[0mhow\u001b[0m\u001b[0;34m=\u001b[0m\u001b[0;34m'inner'\u001b[0m\u001b[0;34m,\u001b[0m \u001b[0mon\u001b[0m\u001b[0;34m=\u001b[0m\u001b[0;34m'id'\u001b[0m\u001b[0;34m)\u001b[0m\u001b[0;34m\u001b[0m\u001b[0;34m\u001b[0m\u001b[0m\n\u001b[0m\u001b[1;32m    425\u001b[0m     \u001b[0mmonarch_nodes\u001b[0m \u001b[0;34m=\u001b[0m \u001b[0mpd\u001b[0m\u001b[0;34m.\u001b[0m\u001b[0mmerge\u001b[0m\u001b[0;34m(\u001b[0m\u001b[0mmonarch_df\u001b[0m\u001b[0;34m,\u001b[0m \u001b[0mst_nodes_df\u001b[0m\u001b[0;34m,\u001b[0m \u001b[0mhow\u001b[0m\u001b[0;34m=\u001b[0m\u001b[0;34m'inner'\u001b[0m\u001b[0;34m,\u001b[0m \u001b[0mon\u001b[0m\u001b[0;34m=\u001b[0m\u001b[0;34m'id'\u001b[0m\u001b[0;34m)\u001b[0m\u001b[0;34m\u001b[0m\u001b[0;34m\u001b[0m\u001b[0m\n\u001b[1;32m    426\u001b[0m     \u001b[0mrna_nodes\u001b[0m \u001b[0;34m=\u001b[0m \u001b[0mpd\u001b[0m\u001b[0;34m.\u001b[0m\u001b[0mmerge\u001b[0m\u001b[0;34m(\u001b[0m\u001b[0mrna_df\u001b[0m\u001b[0;34m,\u001b[0m \u001b[0mst_nodes_df\u001b[0m\u001b[0;34m,\u001b[0m \u001b[0mhow\u001b[0m\u001b[0;34m=\u001b[0m\u001b[0;34m'inner'\u001b[0m\u001b[0;34m,\u001b[0m \u001b[0mon\u001b[0m\u001b[0;34m=\u001b[0m\u001b[0;34m'id'\u001b[0m\u001b[0;34m)\u001b[0m\u001b[0;34m\u001b[0m\u001b[0;34m\u001b[0m\u001b[0m\n",
      "\u001b[0;32m~/anaconda3/envs/sr/lib/python3.6/site-packages/pandas/core/reshape/merge.py\u001b[0m in \u001b[0;36mmerge\u001b[0;34m(left, right, how, on, left_on, right_on, left_index, right_index, sort, suffixes, copy, indicator, validate)\u001b[0m\n\u001b[1;32m     59\u001b[0m                          \u001b[0mright_index\u001b[0m\u001b[0;34m=\u001b[0m\u001b[0mright_index\u001b[0m\u001b[0;34m,\u001b[0m \u001b[0msort\u001b[0m\u001b[0;34m=\u001b[0m\u001b[0msort\u001b[0m\u001b[0;34m,\u001b[0m \u001b[0msuffixes\u001b[0m\u001b[0;34m=\u001b[0m\u001b[0msuffixes\u001b[0m\u001b[0;34m,\u001b[0m\u001b[0;34m\u001b[0m\u001b[0;34m\u001b[0m\u001b[0m\n\u001b[1;32m     60\u001b[0m                          \u001b[0mcopy\u001b[0m\u001b[0;34m=\u001b[0m\u001b[0mcopy\u001b[0m\u001b[0;34m,\u001b[0m \u001b[0mindicator\u001b[0m\u001b[0;34m=\u001b[0m\u001b[0mindicator\u001b[0m\u001b[0;34m,\u001b[0m\u001b[0;34m\u001b[0m\u001b[0;34m\u001b[0m\u001b[0m\n\u001b[0;32m---> 61\u001b[0;31m                          validate=validate)\n\u001b[0m\u001b[1;32m     62\u001b[0m     \u001b[0;32mreturn\u001b[0m \u001b[0mop\u001b[0m\u001b[0;34m.\u001b[0m\u001b[0mget_result\u001b[0m\u001b[0;34m(\u001b[0m\u001b[0;34m)\u001b[0m\u001b[0;34m\u001b[0m\u001b[0;34m\u001b[0m\u001b[0m\n\u001b[1;32m     63\u001b[0m \u001b[0;34m\u001b[0m\u001b[0m\n",
      "\u001b[0;32m~/anaconda3/envs/sr/lib/python3.6/site-packages/pandas/core/reshape/merge.py\u001b[0m in \u001b[0;36m__init__\u001b[0;34m(self, left, right, how, on, left_on, right_on, axis, left_index, right_index, sort, suffixes, copy, indicator, validate)\u001b[0m\n\u001b[1;32m    553\u001b[0m         \u001b[0;31m# validate the merge keys dtypes. We may need to coerce\u001b[0m\u001b[0;34m\u001b[0m\u001b[0;34m\u001b[0m\u001b[0;34m\u001b[0m\u001b[0m\n\u001b[1;32m    554\u001b[0m         \u001b[0;31m# to avoid incompat dtypes\u001b[0m\u001b[0;34m\u001b[0m\u001b[0;34m\u001b[0m\u001b[0;34m\u001b[0m\u001b[0m\n\u001b[0;32m--> 555\u001b[0;31m         \u001b[0mself\u001b[0m\u001b[0;34m.\u001b[0m\u001b[0m_maybe_coerce_merge_keys\u001b[0m\u001b[0;34m(\u001b[0m\u001b[0;34m)\u001b[0m\u001b[0;34m\u001b[0m\u001b[0;34m\u001b[0m\u001b[0m\n\u001b[0m\u001b[1;32m    556\u001b[0m \u001b[0;34m\u001b[0m\u001b[0m\n\u001b[1;32m    557\u001b[0m         \u001b[0;31m# If argument passed to validate,\u001b[0m\u001b[0;34m\u001b[0m\u001b[0;34m\u001b[0m\u001b[0;34m\u001b[0m\u001b[0m\n",
      "\u001b[0;32m~/anaconda3/envs/sr/lib/python3.6/site-packages/pandas/core/reshape/merge.py\u001b[0m in \u001b[0;36m_maybe_coerce_merge_keys\u001b[0;34m(self)\u001b[0m\n\u001b[1;32m    981\u001b[0m             elif ((is_numeric_dtype(lk) and not is_bool_dtype(lk))\n\u001b[1;32m    982\u001b[0m                     and not is_numeric_dtype(rk)):\n\u001b[0;32m--> 983\u001b[0;31m                 \u001b[0;32mraise\u001b[0m \u001b[0mValueError\u001b[0m\u001b[0;34m(\u001b[0m\u001b[0mmsg\u001b[0m\u001b[0;34m)\u001b[0m\u001b[0;34m\u001b[0m\u001b[0;34m\u001b[0m\u001b[0m\n\u001b[0m\u001b[1;32m    984\u001b[0m             elif (not is_numeric_dtype(lk)\n\u001b[1;32m    985\u001b[0m                     and (is_numeric_dtype(rk) and not is_bool_dtype(rk))):\n",
      "\u001b[0;31mValueError\u001b[0m: You are trying to merge on float64 and object columns. If you wish to proceed you should use pd.concat"
     ]
    }
   ],
   "source": [
    "%%time\n",
    "# load networks and calculate graph nodes\n",
    "graph_nodes_list, reg_graph_edges = graph.graph_nodes(\n",
    "    curation=curation_edges,\n",
    "    monarch=monarch_edges,\n",
    "    transcriptomics=rna_edges,\n",
    "    regulation=reg_edges\n",
    ")\n",
    "\n",
    "# Monarch graph connectivity\n",
    "## get Monarch edges\n",
    "monarch_network_graph = monarch.extract_edges(graph_nodes_list)\n",
    "print('network: ',len(monarch_network_graph))\n",
    "\n",
    "## save Monarch network\n",
    "monarch.print_network(monarch_network_graph, 'monarch_connections_graph')\n",
    "\n",
    "## build Monarch network with graph schema\n",
    "monarch_graph_edges = monarch.build_edges(monarch_network_graph)\n",
    "monarch_graph_nodes = monarch.build_nodes(monarch_network_graph)\n",
    "\n",
    "# build review graph\n",
    "edges = graph.build_edges(\n",
    "    curation=curation_edges,\n",
    "    monarch=monarch_graph_edges,\n",
    "    transcriptomics=rna_edges,\n",
    "    regulation=reg_graph_edges\n",
    ")\n",
    "nodes = graph.build_nodes(\n",
    "    statements=edges,\n",
    "    curation=curation_nodes,\n",
    "    monarch=monarch_graph_nodes,\n",
    "    transcriptomics=rna_nodes,\n",
    "    regulation=reg_nodes\n",
    ")"
   ]
  },
  {
   "cell_type": "code",
   "execution_count": 5,
   "metadata": {
    "scrolled": true
   },
   "outputs": [
    {
     "name": "stdout",
     "output_type": "stream",
     "text": [
      "\n",
      "The function \"read_data()\" is running...\n",
      "\n",
      "* This is the size of the raw expression data structure: (28087, 10)\n",
      "* These are the expression attributes: Index(['Unnamed: 0', 'symbol', 'baseMean', 'HD.mean', 'Control.mean',\n",
      "       'log2FoldChange', 'lfcSE', 'stat', 'pvalue', 'padj'],\n",
      "      dtype='object')\n",
      "* This is the first record:\n",
      "           Unnamed: 0 symbol  baseMean    HD.mean  Control.mean  \\\n",
      "0  ENSG00000069011.10  PITX1  5.645675  18.684286      0.323793   \n",
      "\n",
      "   log2FoldChange     lfcSE      stat        pvalue          padj  \n",
      "0        4.769658  0.366367  13.01879  9.567529e-39  2.687232e-34  \n",
      "\n",
      "The raw data is saved at: /home/karolis/Structured review/bioknowledge-reviewer/bioknowledge_reviewer/transcriptomics/HD/data/GSE64810_mlhd_DESeq2_diffexp_DESeq2_outlier_trimmed_adjust.csv\n",
      "\n",
      "\n",
      "Finished read_data().\n",
      "\n",
      "\n",
      "The function \"clean_data()\" is running. Keeping only data with FC > 1.5 and FDR < 5% ...\n",
      "\n",
      "* This is the size of the clean expression data structure: (3209, 6)\n",
      "* These are the clean expression attributes: Index(['EnsembleID', 'symbol', 'log2FoldChange', 'pvalue', 'padj',\n",
      "       'Regulation'],\n",
      "      dtype='object')\n",
      "* This is the first record:\n",
      "           EnsembleID symbol  log2FoldChange        pvalue          padj  \\\n",
      "0  ENSG00000069011.10  PITX1        4.769658  9.567529e-39  2.687232e-34   \n",
      "\n",
      "    Regulation  \n",
      "0  Upregulated  \n",
      "\n",
      "The clean data is saved at: /home/karolis/Structured review/bioknowledge-reviewer/bioknowledge_reviewer/transcriptomics/HD/out/Transcriptome_human_BA9.csv\n",
      "\n",
      "\n",
      "Finished clean_data().\n",
      "\n",
      "\n",
      "The function \"prepare_data_edges()\" is running...\n",
      "\n",
      "* This is the size of the expression data structure: (3209, 13)\n",
      "* These are the expression attributes: Index(['ensemble_id', 'symbol', 'log2FoldChange', 'pvalue', 'padj',\n",
      "       'regulation', 'source', 'subject_id', 'subject_label', 'property_id',\n",
      "       'property_label', 'reference_id', 'object_id'],\n",
      "      dtype='object')\n",
      "* This is the first record:\n",
      "          ensemble_id symbol  log2FoldChange        pvalue          padj  \\\n",
      "0  ENSG00000069011.10  PITX1        4.769658  9.567529e-39  2.687232e-34   \n",
      "\n",
      "    regulation source               subject_id subject_label property_id  \\\n",
      "0  Upregulated   Chow  ensembl:ENSG00000197386           HTT  RO:0002434   \n",
      "\n",
      "   property_label   reference_id                object_id  \n",
      "0  interacts with  PMID:26636579  ensembl:ENSG00000069011  \n",
      "\n",
      "The HD BA9 transcriptomics expression edges are saved at: /home/karolis/Structured review/bioknowledge-reviewer/bioknowledge_reviewer/transcriptomics/HD/out/Transcriptome_human_BA9_edges.csv\n",
      "\n",
      "\n",
      "Finished prepare_data_edges().\n",
      "\n",
      "\n",
      "The function \"prepare_rna_edges()\" is running...\n",
      "\n",
      "* This is the size of the edges data structure: (3209, 12)\n",
      "* These are the edges attributes: Index(['subject_id', 'subject_label', 'property_id', 'property_label',\n",
      "       'object_id', 'object_label', 'log2FoldChange', 'pvalue', 'fdr',\n",
      "       'regulation', 'source', 'reference_id'],\n",
      "      dtype='object')\n",
      "* This is the first record:\n",
      "                subject_id subject_label property_id  property_label  \\\n",
      "0  ensembl:ENSG00000197386           HTT  RO:0002434  interacts with   \n",
      "\n",
      "                 object_id object_label  log2FoldChange        pvalue  \\\n",
      "0  ensembl:ENSG00000069011        PITX1        4.769658  9.567529e-39   \n",
      "\n",
      "            fdr   regulation source   reference_id  \n",
      "0  2.687232e-34  Upregulated   Chow  PMID:26636579  \n",
      "\n",
      "This data object is not saved.\n",
      "\n",
      "\n",
      "Finished prepare_rna_edges().\n",
      "\n",
      "\n",
      "The function \"build_edges()\" is running...\n",
      "\n",
      "* This is the size of the edges file data structure: (3209, 9)\n",
      "* These are the edges attributes: Index(['object_id', 'property_description', 'property_id', 'property_label',\n",
      "       'property_uri', 'reference_date', 'reference_supporting_text',\n",
      "       'reference_uri', 'subject_id'],\n",
      "      dtype='object')\n",
      "* This is the first record:\n",
      "                 object_id property_description property_id  property_label  \\\n",
      "0  ensembl:ENSG00000069011                   NA  RO:0002434  interacts with   \n",
      "\n",
      "                                property_uri reference_date  \\\n",
      "0  http://purl.obolibrary.org/obo/RO_0002434     2015-11-04   \n",
      "\n",
      "                           reference_supporting_text  \\\n",
      "0  Here we present a genome-wide analysis of mRNA...   \n",
      "\n",
      "                                  reference_uri               subject_id  \n",
      "0  https://www.ncbi.nlm.nih.gov/pubmed/26636579  ensembl:ENSG00000197386  \n",
      "\n",
      "The transcriptomics network edges are built and saved at: /home/karolis/Structured review/bioknowledge-reviewer/bioknowledge_reviewer/graph/rna_edges_v2020-11-20.csv\n",
      "\n",
      "\n",
      "Finished build_edges().\n",
      "\n",
      "\n",
      "The function \"build_nodes()\" is running...\n",
      "* Total number of nodes: 3210\n",
      "querying 1-1000...done.\n",
      "querying 1001-2000...done.\n",
      "querying 2001-3000...done.\n",
      "querying 3001-3210...done.\n",
      "Finished.\n",
      "178 input query terms found no hit:\n",
      "\t['ENSG00000200127', 'ENSG00000183748', 'ENSG00000140181', 'ENSG00000261589', 'ENSG00000034063', 'ENS\n",
      "Pass \"returnall=True\" to return complete lists of duplicate or missing query terms.\n",
      "\n",
      "* This is the size of the nodes file data structure: (3210, 6)\n",
      "* These are the nodes attributes: Index(['description', 'id', 'name', 'preflabel', 'semantic_groups',\n",
      "       'synonyms'],\n",
      "      dtype='object')\n",
      "* This is the first record:\n",
      "                                         description                       id  \\\n",
      "0  Huntingtin is a disease gene linked to Hunting...  ensembl:ENSG00000197386   \n",
      "\n",
      "         name preflabel semantic_groups        synonyms  \n",
      "0  huntingtin       HTT            GENE  HD|IT15|LOMARS  \n",
      "\n",
      "The transcriptomics network nodes are built and saved at: /home/karolis/Structured review/bioknowledge-reviewer/bioknowledge_reviewer/graph/rna_nodes_v2020-11-20.csv\n",
      "\n",
      "\n",
      "Finished build_nodes().\n",
      "\n",
      "\n",
      "The function \"prepare_msigdb_data()\" is running...\n",
      "\n",
      "* Number of Transcription Factor Targets (TFT) gene sets: 615\n",
      "\n",
      "The MSigDB raw network is saved at: /home/karolis/Structured review/bioknowledge-reviewer/bioknowledge_reviewer/regulation/msigdb/out/tf_genelist_entrez_msigdb.json. Other reporting files are also saved at the same directory.\n",
      "\n",
      "\n",
      "Finished prepare_msigdb_data().\n",
      "\n",
      "\n",
      "The function \"load_tf_gene_edges()\" is running...\n",
      "\n",
      "Finished load_tf_gene_edges().\n",
      "\n",
      "\n",
      "The function \"get_gene_id_normalization_dictionaries()\" is running...\n",
      "\n",
      "* Querying BioThings to map gene symbols to HGNC and Entrez IDs...\n",
      "querying 1-1000...done.\n",
      "querying 1001-2000...done.\n",
      "querying 2001-3000...done.\n",
      "querying 3001-3071...done.\n",
      "Finished.\n",
      "48 input query terms found no hit:\n",
      "\t['COREBINDINGFACTOR', 'GNCF', 'HMEF2', 'COMP1', 'CACBINDINGPROTEIN', 'AMEF2', 'E2F4DP1', 'INSAF', 'T\n",
      "Pass \"returnall=True\" to return complete lists of duplicate or missing query terms.\n",
      "\n",
      "Saving not found gene symbols at: /home/karolis/Structured review/bioknowledge-reviewer/bioknowledge_reviewer/regulation/not_found_symbols.list\n",
      "\n",
      "\n",
      "* Querying BioThings to map Entrez to HGNC IDs and gene symbols...\n",
      "querying 1-1000...done.\n",
      "querying 1001-2000...done.\n",
      "querying 2001-3000...done.\n",
      "querying 3001-4000...done.\n",
      "querying 4001-5000...done.\n",
      "querying 5001-6000...done.\n",
      "querying 6001-7000...done.\n",
      "querying 7001-8000...done.\n",
      "querying 8001-9000...done.\n",
      "querying 9001-10000...done.\n",
      "querying 10001-11000...done.\n",
      "querying 11001-12000...done.\n",
      "querying 12001-13000...done.\n",
      "querying 13001-14000...done.\n",
      "querying 14001-15000...done.\n",
      "querying 15001-16000...done.\n",
      "querying 16001-16632...done.\n",
      "Finished.\n",
      "144 input query terms found no hit:\n",
      "\t['244', '151720', '400863', '9142', '9714', '143914', '286099', '338584', '100507424', '285229', '34\n",
      "Pass \"returnall=True\" to return complete lists of duplicate or missing query terms.\n",
      "\n",
      "Saving not found Entrez gene IDs at: /home/karolis/Structured review/bioknowledge-reviewer/bioknowledge_reviewer/regulation/not_found_entrez.list\n",
      "\n",
      "\n",
      "Finished get_gene_id_normalization_dictionaries().\n",
      "\n",
      "\n",
      "The function \"prepare_data_edges()\" is running...\n",
      "\n",
      "The tftargets edges are saved at: /home/karolis/Structured review/bioknowledge-reviewer/bioknowledge_reviewer/regulation/tftargets/tftargets_edges.csv\n",
      "\n",
      "\n",
      "The MSigDB edges are saved at: /home/karolis/Structured review/bioknowledge-reviewer/bioknowledge_reviewer/regulation/msigdb/msigdb_edges.csv\n",
      "\n",
      "\n",
      "Finished prepare_data_edges().\n",
      "\n",
      "\n",
      "The function \"prepare_regulation_edges()\" is running...\n",
      "\n",
      "Finished prepare_regulation_edges().\n"
     ]
    },
    {
     "name": "stdout",
     "output_type": "stream",
     "text": [
      "\n",
      "\n",
      "The function \"build_edges()\" is running...\n",
      "\n",
      "* This is the size of the edges file data structure: (197267, 9)\n",
      "* These are the edges attributes: Index(['object_id', 'property_description', 'property_id', 'property_label',\n",
      "       'property_uri', 'reference_date', 'reference_supporting_text',\n",
      "       'reference_uri', 'subject_id'],\n",
      "      dtype='object')\n",
      "* This is the first record:\n",
      "   object_id property_description property_id  property_label  \\\n",
      "0  HGNC:8803                   NA  RO:0002434  interacts with   \n",
      "\n",
      "                                property_uri reference_date  \\\n",
      "0  http://purl.obolibrary.org/obo/RO_0002434     2007-01-01   \n",
      "\n",
      "                           reference_supporting_text  \\\n",
      "0  This edge comes from the TRED dataset in \"tfta...   \n",
      "\n",
      "                                  reference_uri subject_id  \n",
      "0  https://www.ncbi.nlm.nih.gov/pubmed/17202159  HGNC:8615  \n",
      "\n",
      "The regulation network edges are built and saved at: /home/karolis/Structured review/bioknowledge-reviewer/bioknowledge_reviewer/graph/regulation_edges_v2020-11-20.csv\n",
      "\n",
      "\n",
      "Finished build_edges().\n",
      "\n",
      "\n",
      "The function \"build_nodes()\" is running...\n",
      "\n",
      "* Total number of nodes: 16968\n",
      "\n",
      "* Trap genes without gene symbol, i.e. genes with discontinued entrez ID...\n",
      "* Number of concepts without gene symbol: 144\n",
      "* Check that all genes without gene symbol are identified by entrez ID...\n",
      "* Number of concepts without gene symbol by namespace:  NCBIGene    144\n",
      "Name: id, dtype: int64\n",
      "\n",
      "* Querying BioThings to map retired Entrez to gene symbols...\n",
      "querying 1-144...done.\n",
      "Finished.\n",
      "90 input query terms found no hit:\n",
      "\t['79907', '79911', '93333', '121301', '143902', '146856', '151720', '197379', '219392', '221943', '2\n",
      "Pass \"returnall=True\" to return complete lists of duplicate or missing query terms.\n",
      "\n",
      "* Querying BioThings to retrieve node attributes...\n",
      "querying 1-1000...done.\n",
      "querying 1001-2000...done.\n",
      "querying 2001-3000...done.\n",
      "querying 3001-4000...done.\n",
      "querying 4001-5000...done.\n",
      "querying 5001-6000...done.\n",
      "querying 6001-7000...done.\n",
      "querying 7001-8000...done.\n",
      "querying 8001-9000...done.\n",
      "querying 9001-10000...done.\n",
      "querying 10001-11000...done.\n",
      "querying 11001-12000...done.\n",
      "querying 12001-13000...done.\n",
      "querying 13001-14000...done.\n",
      "querying 14001-15000...done.\n",
      "querying 15001-16000...done.\n",
      "querying 16001-16843...done.\n",
      "Finished.\n",
      "48 input query terms found no hit:\n",
      "\t['GNCF', 'COMP1', 'AMEF2', 'ISRE', 'NKX22', 'TCF11MAFG', 'RORA1', 'NFMUE1', 'MEIS1AHOXA9', 'CEBPDELT\n",
      "Pass \"returnall=True\" to return complete lists of duplicate or missing query terms.\n",
      "\n",
      "* This is the size of the nodes file data structure: (16968, 6)\n",
      "* These are the nodes attributes: Index(['description', 'id', 'name', 'preflabel', 'semantic_groups',\n",
      "       'synonyms'],\n",
      "      dtype='object')\n",
      "* This is the first record:\n",
      "                                         description         id          name  \\\n",
      "0  This gene is a member of the paired box (PAX) ...  HGNC:8615  paired box 1   \n",
      "\n",
      "  preflabel semantic_groups    synonyms  \n",
      "0      PAX1            GENE  HUP48|OFC2  \n",
      "\n",
      "The regulation network nodes are built and saved at: /home/karolis/Structured review/bioknowledge-reviewer/bioknowledge_reviewer/graph/regulation_nodes_v2020-11-20.csv\n",
      "\n",
      "\n",
      "Finished build_nodes().\n",
      "\n"
     ]
    }
   ],
   "source": [
    "# obtain variables:\n",
    "curation_edges = pd.read_csv(\"curation/data/HD/Empty_edges.csv\")\n",
    "curation_nodes = pd.read_csv(\"curation/data/HD/Empty_nodes.csv\")\n",
    "\n",
    "#monarch_network = monarch.read_connections(\"monarch_connections_v2020-11-15.csv\")\n",
    "#monarch_edges = monarch.build_edges(monarch_network)\n",
    "#monarch_nodes = monarch.build_nodes(monarch_network)\n",
    "\n",
    "#monarch_network_graph = monarch.read_connections(\"monarch_connections_graph_v2020-11-16.csv\")\n",
    "#monarch_graph_edges = monarch.build_edges(monarch_network_graph)\n",
    "#monarch_graph_nodes = monarch.build_nodes(monarch_network_graph)\n",
    "\n",
    "csv_path = './transcriptomics/GSE64810_mlhd_DESeq2_diffexp_DESeq2_outlier_trimmed_adjust.txt'\n",
    "data = transcriptomics.read_data(csv_path)\n",
    "clean_data = transcriptomics.clean_data(data)\n",
    "data_edges = transcriptomics.prepare_data_edges(clean_data)\n",
    "rna_network = transcriptomics.prepare_rna_edges(data_edges)\n",
    "\n",
    "# build network with graph schema\n",
    "rna_edges = transcriptomics.build_edges(rna_network)\n",
    "rna_nodes = transcriptomics.build_nodes(rna_network)\n",
    "\n",
    "gmt_path = './regulation/msigdb/data/c3.tft.v6.1.entrez.gmt'\n",
    "regulation.prepare_msigdb_data(gmt_path)\n",
    "\n",
    "# prepare individual networks\n",
    "data = regulation.load_tf_gene_edges()\n",
    "dicts = regulation.get_gene_id_normalization_dictionaries(data)\n",
    "data_edges = regulation.prepare_data_edges(data, dicts)\n",
    "\n",
    "# prepare regulation network\n",
    "reg_network = regulation.prepare_regulation_edges(data_edges)\n",
    "\n",
    "# build network with graph schema\n",
    "reg_edges = regulation.build_edges(reg_network)\n",
    "reg_nodes = regulation.build_nodes(reg_network)\n",
    "\n",
    "#graph_nodes_list, reg_graph_edges = graph.graph_nodes(\n",
    "#    curation=curation_edges,\n",
    "#    monarch=monarch_edges,\n",
    "#    transcriptomics=rna_edges,\n",
    "#    regulation=reg_edges\n",
    "#)\n"
   ]
  },
  {
   "cell_type": "code",
   "execution_count": 7,
   "metadata": {},
   "outputs": [],
   "source": [
    "# fix curation data:\n",
    "curation_nodes = curation_nodes.astype('object')\n",
    "#curation_nodes.loc[0]"
   ]
  },
  {
   "cell_type": "code",
   "execution_count": 8,
   "metadata": {},
   "outputs": [],
   "source": [
    "curation_nodes['name'] = [\"NaN\", \"NaN\"]"
   ]
  },
  {
   "cell_type": "code",
   "execution_count": 9,
   "metadata": {},
   "outputs": [
    {
     "data": {
      "text/plain": [
       "id                 NaN\n",
       "semantic_groups    NaN\n",
       "preflabel          NaN\n",
       "synonyms           NaN\n",
       "description        NaN\n",
       "name               NaN\n",
       "Name: 0, dtype: object"
      ]
     },
     "execution_count": 9,
     "metadata": {},
     "output_type": "execute_result"
    }
   ],
   "source": [
    "curation_nodes.loc[0]"
   ]
  },
  {
   "cell_type": "code",
   "execution_count": 10,
   "metadata": {
    "scrolled": true
   },
   "outputs": [
    {
     "name": "stdout",
     "output_type": "stream",
     "text": [
      "\n",
      "The function \"build_edges()\" is running...\n",
      "\n",
      "Preparing networks...\n",
      "Curated:\n",
      "(2, 9)\n",
      "Index(['subject_id', 'property_id', 'object_id', 'reference_uri',\n",
      "       'reference_supporting_text', 'reference_date', 'property_label',\n",
      "       'property_description', 'property_uri'],\n",
      "      dtype='object')\n",
      "Monarch:\n",
      "(347873, 9)\n",
      "Index(['object_id', 'property_description', 'property_id', 'property_label',\n",
      "       'property_uri', 'reference_date', 'reference_supporting_text',\n",
      "       'reference_uri', 'subject_id'],\n",
      "      dtype='object')\n",
      "Transcriptomics:\n",
      "(3209, 9)\n",
      "Index(['object_id', 'property_description', 'property_id', 'property_label',\n",
      "       'property_uri', 'reference_date', 'reference_supporting_text',\n",
      "       'reference_uri', 'subject_id'],\n",
      "      dtype='object')\n",
      "Regulatory:\n",
      "(13412, 9)\n",
      "Index(['subject_id', 'property_id', 'object_id', 'reference_uri',\n",
      "       'reference_supporting_text', 'reference_date', 'property_label',\n",
      "       'property_description', 'property_uri'],\n",
      "      dtype='object')\n",
      "\n",
      "Concatenating into a graph...\n",
      "(364496, 9)\n",
      "\n",
      "Drop duplicated rows...\n",
      "(364495, 9)\n",
      "\n",
      "Saving final graph...\n",
      "(364495, 9)\n",
      "Index(['subject_id', 'property_id', 'object_id', 'reference_uri',\n",
      "       'reference_supporting_text', 'reference_date', 'property_label',\n",
      "       'property_description', 'property_uri'],\n",
      "      dtype='object')\n",
      "\n",
      "* This is the size of the edges file data structure: (364495, 9)\n",
      "* These are the edges attributes: Index(['subject_id', 'property_id', 'object_id', 'reference_uri',\n",
      "       'reference_supporting_text', 'reference_date', 'property_label',\n",
      "       'property_description', 'property_uri'],\n",
      "      dtype='object')\n",
      "* This is the first record:\n",
      "  subject_id property_id object_id reference_uri reference_supporting_text  \\\n",
      "0        NaN         NaN       NaN           NaN                       NaN   \n",
      "\n",
      "  reference_date property_label property_description property_uri  \n",
      "0            NaN            NaN                  NaN         None  \n",
      "\n",
      "The NGLY1 Deficiency knowledge graph edges are built and saved at: /home/karolis/Structured review/bioknowledge-reviewer/bioknowledge_reviewer/graph/graph_edges_v2020-11-20.csv\n",
      "\n",
      "\n",
      "Finished build_edges().\n",
      "\n",
      "\n",
      "The function \"build_nodes()\" is running...\n",
      "\n",
      "Preparing networks...\n",
      "Curated:\n",
      "(2, 6)\n",
      "Index(['id', 'semantic_groups', 'preflabel', 'synonyms', 'description',\n",
      "       'name'],\n",
      "      dtype='object')\n",
      "Monarch:\n",
      "(6080, 6)\n",
      "Index(['description', 'id', 'name', 'preflabel', 'semantic_groups',\n",
      "       'synonyms'],\n",
      "      dtype='object')\n",
      "Transcriptomics:\n",
      "(3210, 6)\n",
      "Index(['description', 'id', 'name', 'preflabel', 'semantic_groups',\n",
      "       'synonyms'],\n",
      "      dtype='object')\n",
      "Regulatory:\n",
      "(16968, 6)\n",
      "Index(['description', 'id', 'name', 'preflabel', 'semantic_groups',\n",
      "       'synonyms'],\n",
      "      dtype='object')\n",
      "\n",
      "Annotating nodes in the graph...\n",
      "graph from e (9540, 1)\n",
      "annotation check\n",
      "curated (2, 6)\n",
      "monarch (6080, 6)\n",
      "rna (3210, 6)\n",
      "regulation (5921, 6)\n",
      "\n",
      "Concatenating all nodes...\n",
      "graph ann (15213, 6)\n",
      "diff {nan}\n",
      "\n",
      "Drop duplicated rows...\n",
      "(11221, 6)\n",
      "\n",
      "Drop duplicated nodes...\n",
      "(9540, 6)\n",
      "\n",
      "All graph nodes are annotated.\n",
      "Regulation nodes not in the graph: 11047\n",
      "\n",
      "Saving final graph...\n",
      "(9540, 6)\n",
      "Index(['id', 'semantic_groups', 'preflabel', 'synonyms', 'name',\n",
      "       'description'],\n",
      "      dtype='object')\n",
      "\n",
      "* This is the size of the edges file data structure: (9540, 6)\n",
      "* These are the edges attributes: Index(['id', 'semantic_groups', 'preflabel', 'synonyms', 'name',\n",
      "       'description'],\n",
      "      dtype='object')\n",
      "* This is the first record:\n",
      "    id semantic_groups preflabel synonyms name description\n",
      "0  NaN             NaN       NaN      NaN  NaN         NaN\n",
      "\n",
      "The NGLY1 Deficiency knowledge graph nodes are built and saved at: /home/karolis/Structured review/bioknowledge-reviewer/bioknowledge_reviewer/graph/graph_nodes_v2020-11-20.csv\n",
      "\n",
      "\n",
      "Finished build_nodes().\n",
      "\n"
     ]
    }
   ],
   "source": [
    "# construct df's\n",
    "edges = graph.build_edges(\n",
    "    curation=curation_edges,\n",
    "    monarch=monarch_graph_edges,\n",
    "    transcriptomics=rna_edges,\n",
    "    regulation=reg_graph_edges\n",
    ")\n",
    "nodes = graph.build_nodes(\n",
    "    statements=edges,\n",
    "    curation=curation_nodes,\n",
    "    monarch=monarch_graph_nodes,\n",
    "    transcriptomics=rna_nodes,\n",
    "    regulation=reg_nodes\n",
    ")"
   ]
  },
  {
   "cell_type": "code",
   "execution_count": 2,
   "metadata": {},
   "outputs": [
    {
     "name": "stderr",
     "output_type": "stream",
     "text": [
      "/home/karolis/anaconda3/envs/sr/lib/python3.6/site-packages/IPython/core/interactiveshell.py:2728: DtypeWarning: Columns (3,5) have mixed types. Specify dtype option on import or set low_memory=False.\n",
      "  interactivity=interactivity, compiler=compiler, result=result)\n"
     ]
    }
   ],
   "source": [
    "nodes = pd.read_csv(\"/home/karolis/Structured review/bioknowledge-reviewer/bioknowledge_reviewer/graph/graph_nodes_v2020-11-20.csv\")\n",
    "edges = pd.read_csv(\"/home/karolis/Structured review/bioknowledge-reviewer/bioknowledge_reviewer/graph/graph_edges_v2020-11-20.csv\")"
   ]
  },
  {
   "cell_type": "markdown",
   "metadata": {},
   "source": [
    "- Regulation edges _merged_ with the graph is returned as both digital object (`reg_graph_edges`) and CSV file at _**graph/**_ (`regulation_graph_edges_version.csv`)\n",
    "- Monarch network is returned as both digital object (`monarch_graph_edges`, `monarch_graph_nodes`) and CSV files at _**monarch/**_ (`monarch_edges_version.csv`, `monarch_nodes_version.csv`) overwritten the previous one.\n",
    "- Review knowledge graph is returned as both digital object (`edges`, `nodes`) and CSV files at _**graph/**_ (`graph_edges_version.csv`, `graph_nodes_version.csv`)"
   ]
  },
  {
   "cell_type": "code",
   "execution_count": 3,
   "metadata": {},
   "outputs": [
    {
     "name": "stdout",
     "output_type": "stream",
     "text": [
      "type edges: <class 'pandas.core.frame.DataFrame'>\n",
      "type nodes: <class 'pandas.core.frame.DataFrame'>\n",
      "\n",
      "len edges: 364495\n",
      "len nodes: 9540\n",
      "\n",
      "attribute edges: Index(['subject_id', 'property_id', 'object_id', 'reference_uri',\n",
      "       'reference_supporting_text', 'reference_date', 'property_label',\n",
      "       'property_description', 'property_uri'],\n",
      "      dtype='object')\n",
      "attribute nodes: Index(['id', 'semantic_groups', 'preflabel', 'synonyms', 'name',\n",
      "       'description'],\n",
      "      dtype='object')\n"
     ]
    }
   ],
   "source": [
    "# print type of objects\n",
    "print('type edges:', type(edges))\n",
    "print('type nodes:', type(nodes))\n",
    "print()\n",
    "\n",
    "# print objects sizes\n",
    "print('len edges:', len(edges))\n",
    "print('len nodes:', len(nodes))\n",
    "print()\n",
    "\n",
    "# print object attribute\n",
    "print('attribute edges:', edges.columns)\n",
    "print('attribute nodes:', nodes.columns)"
   ]
  },
  {
   "cell_type": "markdown",
   "metadata": {},
   "source": [
    "## Neo4jlib library\n",
    "### Import the graph into Neo4j graph database\n",
    "#### import neo4jlib\n",
    "\n",
    "Tasks:\n",
    "\n",
    "- Create Neo4j server instance\n",
    "- Import review graph into the Neo4j graph database"
   ]
  },
  {
   "cell_type": "code",
   "execution_count": 56,
   "metadata": {},
   "outputs": [
    {
     "name": "stdout",
     "output_type": "stream",
     "text": [
      "Creating a Neo4j community v4.2.0 server instance...\n",
      "Downloading the server from neo4j.org...\n",
      "Preparing the server...\n",
      "Configuration adjusted!\n",
      "Starting the server...\n",
      "Neo4j v4.2.0 is NOT running. Some problem occurred and should be checked. Bye!\n",
      "The name of the neo4j directory is neo4j-community-4.2.0\n",
      "statements:  364495\n",
      "concepts:  9540\n",
      "\n",
      "File './neo4j-community-4.2.0/import/ngly1/ngly1_statements.csv' saved.\n",
      "\n",
      "File './neo4j-community-4.2.0/import/ngly1/ngly1_concepts.csv' saved.\n",
      "\n",
      "The function \"do_import()\" is running...\n",
      "\n",
      "The graph is imported into the server. Neo4j is NOT running. Some problem occurred and should be checked.You can start exploring and querying for hypothesis. If you change ports or authentication in the Neo4j configuration file, the hypothesis-generation modules performance, hypothesis.py and summary.py, will be affected.\n",
      "\n",
      "CPU times: user 5.1 s, sys: 342 ms, total: 5.45 s\n",
      "Wall time: 34.4 s\n"
     ]
    }
   ],
   "source": [
    "%%time\n",
    "# create a Neo4j server instance\n",
    "neo4j_dir = neo4jlib.create_neo4j_instance('4.2.0')\n",
    "print('The name of the neo4j directory is {}'.format(neo4j_dir))\n",
    "\n",
    "# import to graph database\n",
    "## prepare the graph to neo4j format\n",
    "edges_df = utils.get_dataframe(edges)\n",
    "nodes_df = utils.get_dataframe(nodes)\n",
    "statements = neo4jlib.get_statements(edges_df)\n",
    "concepts = neo4jlib.get_concepts(nodes_df)\n",
    "print('statements: ', len(statements))\n",
    "print('concepts: ',len(concepts))\n",
    "\n",
    "## save files into neo4j import dir\n",
    "neo4j_path = './{}'.format(neo4j_dir)\n",
    "neo4jlib.save_neo4j_files(statements, neo4j_path, file_type = 'statements')\n",
    "neo4jlib.save_neo4j_files(concepts, neo4j_path, file_type = 'concepts')\n",
    "\n",
    "## import graph into neo4j database\n",
    "neo4jlib.do_import(neo4j_path)"
   ]
  },
  {
   "cell_type": "code",
   "execution_count": 57,
   "metadata": {},
   "outputs": [
    {
     "name": "stdout",
     "output_type": "stream",
     "text": [
      "type edges: <class 'pandas.core.frame.DataFrame'>\n",
      "type nodes: <class 'pandas.core.frame.DataFrame'>\n",
      "\n",
      "len edges: 364495\n",
      "len nodes: 9540\n",
      "\n",
      "attribute edges: Index([':START_ID', ':TYPE', ':END_ID', 'reference_uri',\n",
      "       'reference_supporting_text', 'reference_date', 'property_label',\n",
      "       'property_description:IGNORE', 'property_uri'],\n",
      "      dtype='object')\n",
      "attribute nodes: Index(['id:ID', ':LABEL', 'preflabel', 'synonyms:IGNORE', 'name',\n",
      "       'description'],\n",
      "      dtype='object')\n"
     ]
    }
   ],
   "source": [
    "# print type of objects\n",
    "print('type edges:', type(statements))\n",
    "print('type nodes:', type(concepts))\n",
    "print()\n",
    "\n",
    "# print objects sizes\n",
    "print('len edges:', len(statements))\n",
    "print('len nodes:', len(concepts))\n",
    "print()\n",
    "\n",
    "# print object attribute\n",
    "print('attribute edges:', statements.columns)\n",
    "print('attribute nodes:', concepts.columns)"
   ]
  },
  {
   "cell_type": "markdown",
   "metadata": {},
   "source": [
    "## hypothesis-generation library\n",
    "### Query the graph for mechanistic explanation, then summarize the extracted paths\n",
    "#### import hypothesis, summary\n",
    "\n",
    "\n",
    "Tasks:\n",
    "\n",
    "* Retrieve orthopheno paths with the `query` method.\n",
    "* Retrieve orthopheno paths using relaxing node degree parameters with the `query` method.\n",
    "* Retrieve orthopheno paths from a more open query topology with the `open_query` method.\n",
    "* Get hypothesis summaries"
   ]
  },
  {
   "cell_type": "markdown",
   "metadata": {},
   "source": [
    "### Ortopheno query with general nodes/relations removed"
   ]
  },
  {
   "cell_type": "code",
   "execution_count": 58,
   "metadata": {},
   "outputs": [],
   "source": [
    "from neo4j import GraphDatabase\n",
    "import sys,os\n",
    "import json\n",
    "import yaml\n",
    "import datetime\n",
    "import neo4j.exceptions"
   ]
  },
  {
   "cell_type": "code",
   "execution_count": 59,
   "metadata": {},
   "outputs": [],
   "source": [
    "def parse_path( path ):\n",
    "    \"\"\"\n",
    "    This function parses neo4j results.\n",
    "    :param path: neo4j path object\n",
    "    :return: parsed path dictionary\n",
    "    \"\"\"\n",
    "\n",
    "    out = {}\n",
    "    out['Nodes'] = []\n",
    "    for node in path['path'].nodes:\n",
    "        n = {}\n",
    "        n['idx'] = node.id\n",
    "        n['label'] = list(node.labels)[0]\n",
    "        n['id'] = node.get('id')\n",
    "        n['preflabel'] = node.get('preflabel')\n",
    "        n['name'] = node.get('name')\n",
    "        n['description'] = node.get('description')\n",
    "        out['Nodes'].append(n)\n",
    "    out['Edges'] = []\n",
    "    for edge in path['path'].relationships:\n",
    "        e = {}\n",
    "        e['idx'] = edge.id\n",
    "        e['start_node'] = edge.start_node.id\n",
    "        e['end_node'] = edge.end_node.id\n",
    "        e['type'] = edge.type\n",
    "        e['preflabel'] = edge.get('property_label')\n",
    "        e['references'] = edge.get('reference_uri')\n",
    "        out['Edges'].append(e)\n",
    "    return out"
   ]
  },
  {
   "cell_type": "code",
   "execution_count": 63,
   "metadata": {},
   "outputs": [],
   "source": [
    "def get_node(source, target, port='7687'):\n",
    "    \"\"\"\n",
    "    This function checks if a node exists within the graph\n",
    "    \"\"\"\n",
    "    try:\n",
    "        driver = GraphDatabase.driver(\"bolt://localhost:{}\".format(port), auth=(\"neo4j\", \"ngly1\"))\n",
    "    except neo4j.exceptions.ServiceUnavailable:\n",
    "        raise\n",
    "    outputAll = list()\n",
    "    with driver.session() as session:\n",
    "        query = \"\"\"MATCH (source { id: '\"\"\" + source + \"\"\"' }), (target { id: '\"\"\" + target +  \"\"\"' }), p = allShortestPaths((source)-[*..15]-(target)) RETURN p\"\"\"\n",
    "        result = session.run(query)\n",
    "        print(result)\n",
    "        x = []\n",
    "        for record in result:\n",
    "            #path_dct = parse_path(record)\n",
    "            x.append(record)\n",
    "        print(x)\n",
    "        return x, result"
   ]
  },
  {
   "cell_type": "code",
   "execution_count": 64,
   "metadata": {
    "scrolled": false
   },
   "outputs": [
    {
     "name": "stdout",
     "output_type": "stream",
     "text": [
      "<neo4j.work.result.Result object at 0x7f48afd18748>\n",
      "[<Record p=<Path start=<Node id=477 labels=frozenset({'GENE'}) properties={'preflabel': 'HTT', 'name': 'huntingtin', 'description': \"Huntingtin is a disease gene linked to Huntington's disease, a neurodegenerative disorder characterized by loss of striatal neurons. This is thought to be caused by an expanded, unstable trinucleotide repeat in the huntingtin gene, which translates as a polyglutamine repeat in the protein product. A fairly broad range of trinucleotide repeats (9-35) has been identified in normal controls, and repeat numbers in excess of 40 have been described as pathological. The huntingtin locus is large, spanning 180 kb and consisting of 67 exons. The huntingtin gene is widely expressed and is required for normal development. It is expressed as 2 alternatively polyadenylated forms displaying different relative abundance in various fetal and adult tissues. The larger transcript is approximately 13.7 kb and is expressed predominantly in adult and fetal brain whereas the smaller transcript of approximately 10.3 kb is more widely expressed. The genetic defect leading to Huntington's disease may not necessarily eliminate transcription, but may confer a new property on the mRNA or alter the function of the protein. One candidate is the huntingtin-associated protein-1, highly expressed in brain, which has increased affinity for huntingtin protein with expanded polyglutamine repeats. This gene contains an upstream open reading frame in the 5' UTR that inhibits expression of the huntingtin gene product through translational repression. [provided by RefSeq, Jul 2016].\", 'id': 'HGNC:4851'}> end=<Node id=3340 labels=frozenset({'GENE'}) properties={'preflabel': 'RASD2', 'name': 'RASD family member 2', 'description': 'This gene belongs to the Ras superfamily of small GTPases and is enriched in the striatum. The encoded protein functions as an E3 ligase for attachment of small ubiquitin-like modifier (SUMO). This protein also binds to mutant huntingtin (mHtt), the protein mutated in Huntington disease (HD). Sumoylation of mHTT by this protein may cause degeneration of the striatum. The protein functions as an activator of mechanistic target of rapamycin 1 (mTOR1), which in turn plays a role in myelination, axon growth and regeneration. Reduced levels of mRNA expressed by this gene were found in HD patients. [provided by RefSeq, Jan 2016].', 'id': 'HGNC:18229'}> size=1>>, <Record p=<Path start=<Node id=477 labels=frozenset({'GENE'}) properties={'preflabel': 'HTT', 'name': 'huntingtin', 'description': \"Huntingtin is a disease gene linked to Huntington's disease, a neurodegenerative disorder characterized by loss of striatal neurons. This is thought to be caused by an expanded, unstable trinucleotide repeat in the huntingtin gene, which translates as a polyglutamine repeat in the protein product. A fairly broad range of trinucleotide repeats (9-35) has been identified in normal controls, and repeat numbers in excess of 40 have been described as pathological. The huntingtin locus is large, spanning 180 kb and consisting of 67 exons. The huntingtin gene is widely expressed and is required for normal development. It is expressed as 2 alternatively polyadenylated forms displaying different relative abundance in various fetal and adult tissues. The larger transcript is approximately 13.7 kb and is expressed predominantly in adult and fetal brain whereas the smaller transcript of approximately 10.3 kb is more widely expressed. The genetic defect leading to Huntington's disease may not necessarily eliminate transcription, but may confer a new property on the mRNA or alter the function of the protein. One candidate is the huntingtin-associated protein-1, highly expressed in brain, which has increased affinity for huntingtin protein with expanded polyglutamine repeats. This gene contains an upstream open reading frame in the 5' UTR that inhibits expression of the huntingtin gene product through translational repression. [provided by RefSeq, Jul 2016].\", 'id': 'HGNC:4851'}> end=<Node id=3340 labels=frozenset({'GENE'}) properties={'preflabel': 'RASD2', 'name': 'RASD family member 2', 'description': 'This gene belongs to the Ras superfamily of small GTPases and is enriched in the striatum. The encoded protein functions as an E3 ligase for attachment of small ubiquitin-like modifier (SUMO). This protein also binds to mutant huntingtin (mHtt), the protein mutated in Huntington disease (HD). Sumoylation of mHTT by this protein may cause degeneration of the striatum. The protein functions as an activator of mechanistic target of rapamycin 1 (mTOR1), which in turn plays a role in myelination, axon growth and regeneration. Reduced levels of mRNA expressed by this gene were found in HD patients. [provided by RefSeq, Jan 2016].', 'id': 'HGNC:18229'}> size=1>>]\n"
     ]
    }
   ],
   "source": [
    "x, result = get_node('HGNC:4851', 'HGNC:18229')"
   ]
  },
  {
   "cell_type": "code",
   "execution_count": 65,
   "metadata": {
    "scrolled": false
   },
   "outputs": [
    {
     "data": {
      "text/plain": [
       "<Record p=<Path start=<Node id=477 labels=frozenset({'GENE'}) properties={'preflabel': 'HTT', 'name': 'huntingtin', 'description': \"Huntingtin is a disease gene linked to Huntington's disease, a neurodegenerative disorder characterized by loss of striatal neurons. This is thought to be caused by an expanded, unstable trinucleotide repeat in the huntingtin gene, which translates as a polyglutamine repeat in the protein product. A fairly broad range of trinucleotide repeats (9-35) has been identified in normal controls, and repeat numbers in excess of 40 have been described as pathological. The huntingtin locus is large, spanning 180 kb and consisting of 67 exons. The huntingtin gene is widely expressed and is required for normal development. It is expressed as 2 alternatively polyadenylated forms displaying different relative abundance in various fetal and adult tissues. The larger transcript is approximately 13.7 kb and is expressed predominantly in adult and fetal brain whereas the smaller transcript of approximately 10.3 kb is more widely expressed. The genetic defect leading to Huntington's disease may not necessarily eliminate transcription, but may confer a new property on the mRNA or alter the function of the protein. One candidate is the huntingtin-associated protein-1, highly expressed in brain, which has increased affinity for huntingtin protein with expanded polyglutamine repeats. This gene contains an upstream open reading frame in the 5' UTR that inhibits expression of the huntingtin gene product through translational repression. [provided by RefSeq, Jul 2016].\", 'id': 'HGNC:4851'}> end=<Node id=3340 labels=frozenset({'GENE'}) properties={'preflabel': 'RASD2', 'name': 'RASD family member 2', 'description': 'This gene belongs to the Ras superfamily of small GTPases and is enriched in the striatum. The encoded protein functions as an E3 ligase for attachment of small ubiquitin-like modifier (SUMO). This protein also binds to mutant huntingtin (mHtt), the protein mutated in Huntington disease (HD). Sumoylation of mHTT by this protein may cause degeneration of the striatum. The protein functions as an activator of mechanistic target of rapamycin 1 (mTOR1), which in turn plays a role in myelination, axon growth and regeneration. Reduced levels of mRNA expressed by this gene were found in HD patients. [provided by RefSeq, Jan 2016].', 'id': 'HGNC:18229'}> size=1>>"
      ]
     },
     "execution_count": 65,
     "metadata": {},
     "output_type": "execute_result"
    }
   ],
   "source": [
    "x[1]"
   ]
  },
  {
   "cell_type": "code",
   "execution_count": 67,
   "metadata": {},
   "outputs": [
    {
     "data": {
      "text/plain": [
       "<neo4j.work.summary.ResultSummary at 0x7f48afd2d080>"
      ]
     },
     "execution_count": 67,
     "metadata": {},
     "output_type": "execute_result"
    }
   ],
   "source": [
    "result.consume()"
   ]
  },
  {
   "cell_type": "code",
   "execution_count": 63,
   "metadata": {},
   "outputs": [],
   "source": [
    "def query_shortest_paths(source, target, max_length=4, port='7687'):\n",
    "    \"\"\"\n",
    "    This function gets the shortest paths between source and\n",
    "    target. max_length determines the maximum path size allowed.\n",
    "    \"\"\"\n",
    "    try:\n",
    "        driver = GraphDatabase.driver(\"bolt://localhost:{}\".format(port), auth=(\"neo4j\", \"ngly1\"))\n",
    "    except neo4j.exceptions.ServiceUnavailable:\n",
    "        raise\n",
    "    outputAll = list()\n",
    "    with driver.session() as session:\n",
    "        print(\"kaas\")\n",
    "        query = \"\"\"MATCH (source { id: '\"\"\" + source + \"\"\"' }), (target { id: '\"\"\" + target +  \"\"\"' }), p = shortestPath((source)-[*..15]-(target)) RETURN p\"\"\"\n",
    "        result = session.run(query)\n",
    "        print(result)\n",
    "        return result"
   ]
  },
  {
   "cell_type": "code",
   "execution_count": 64,
   "metadata": {
    "scrolled": false
   },
   "outputs": [
    {
     "name": "stdout",
     "output_type": "stream",
     "text": [
      "kaas\n",
      "<neo4j.work.result.Result object at 0x7f7fd3c02eb8>\n"
     ]
    }
   ],
   "source": [
    "seed = list([\n",
    "        'HGNC:4851',  # Htt human gene\n",
    "        'HGNC:18229'  # Rhes human gene\n",
    "])\n",
    "result = query_shortest_paths(seed[0], seed[1], max_length=999)"
   ]
  },
  {
   "cell_type": "code",
   "execution_count": 65,
   "metadata": {},
   "outputs": [],
   "source": [
    "summary = result.consume()"
   ]
  },
  {
   "cell_type": "code",
   "execution_count": 66,
   "metadata": {},
   "outputs": [
    {
     "data": {
      "text/plain": [
       "\"MATCH (source { id: 'HGNC:4851' }), (target { id: 'HGNC:18229' }), p = shortestPath((source)-[*..15]-(target)) RETURN p\""
      ]
     },
     "execution_count": 66,
     "metadata": {},
     "output_type": "execute_result"
    }
   ],
   "source": [
    "summary.query"
   ]
  },
  {
   "cell_type": "code",
   "execution_count": 68,
   "metadata": {},
   "outputs": [
    {
     "data": {
      "text/plain": [
       "[]"
      ]
     },
     "execution_count": 68,
     "metadata": {},
     "output_type": "execute_result"
    }
   ],
   "source": [
    "result.data()"
   ]
  },
  {
   "cell_type": "code",
   "execution_count": 14,
   "metadata": {},
   "outputs": [
    {
     "name": "stdout",
     "output_type": "stream",
     "text": [
      "\n",
      "The function \"query()\" is running...\n",
      "\n",
      "The query results are saved at: /home/karolis/Structured review/bioknowledge-reviewer/bioknowledge_reviewer/hypothesis/query_Htt_Rhes_pwdl50_phdl20_paths_v2020-11-23.json\n",
      "\n",
      "\n",
      "The query results are saved at: /home/karolis/Structured review/bioknowledge-reviewer/bioknowledge_reviewer/hypothesis/query_Htt_Rhes_pwdl50_phdl20_paths_v2020-11-23.json\n",
      "\n"
     ]
    },
    {
     "name": "stderr",
     "output_type": "stream",
     "text": [
      "\n",
      "Hypothesis generator has finished. 2 QUERIES completed.\n"
     ]
    },
    {
     "name": "stdout",
     "output_type": "stream",
     "text": [
      "CPU times: user 19.3 ms, sys: 4.5 ms, total: 23.8 ms\n",
      "Wall time: 263 ms\n"
     ]
    }
   ],
   "source": [
    "%%time\n",
    "# get orthopheno paths\n",
    "seed = list([\n",
    "        'HGNC:4851',  # Htt human gene\n",
    "        'HGNC:18229'  # Rhes human gene\n",
    "])\n",
    "hypothesis.query(seed,queryname='Htt_Rhes',port='7687') "
   ]
  },
  {
   "cell_type": "code",
   "execution_count": 38,
   "metadata": {},
   "outputs": [
    {
     "name": "stdout",
     "output_type": "stream",
     "text": [
      "\n",
      "The function \"query()\" is running...\n",
      "\n",
      "The query results are saved at: /home/karolis/Structured review/bioknowledge-reviewer/bioknowledge_reviewer/hypothesis/query_Htt_Rhes_pwdl1000_phdl1000_paths_v2020-11-17.json\n",
      "\n",
      "\n",
      "The query results are saved at: /home/karolis/Structured review/bioknowledge-reviewer/bioknowledge_reviewer/hypothesis/query_Htt_Rhes_pwdl1000_phdl1000_paths_v2020-11-17.json\n",
      "\n"
     ]
    },
    {
     "name": "stderr",
     "output_type": "stream",
     "text": [
      "\n",
      "Hypothesis generator has finished. 2 QUERIES completed.\n"
     ]
    },
    {
     "name": "stdout",
     "output_type": "stream",
     "text": [
      "CPU times: user 28.4 ms, sys: 0 ns, total: 28.4 ms\n",
      "Wall time: 379 ms\n"
     ]
    }
   ],
   "source": [
    "%%time\n",
    "# get orthopheno paths relaxing pathway and phenotype node degrees\n",
    "seed = list([\n",
    "        'HGNC:4851',  # NGLY1 human gene\n",
    "        'HGNC:18229'  # AQP1 human gene\n",
    "])\n",
    "hypothesis.query(seed, queryname='Htt_Rhes', pwdegree='1000', phdegree='1000', port='7687')"
   ]
  },
  {
   "cell_type": "code",
   "execution_count": 39,
   "metadata": {},
   "outputs": [
    {
     "name": "stdout",
     "output_type": "stream",
     "text": [
      "\n",
      "The function \"open_query()\" is running...\n",
      "\n",
      "The query results are saved at: /home/karolis/Structured review/bioknowledge-reviewer/bioknowledge_reviewer/hypothesis/query_Htt_Rhes_paths_v2020-11-17.json\n",
      "\n",
      "\n",
      "The query results are saved at: /home/karolis/Structured review/bioknowledge-reviewer/bioknowledge_reviewer/hypothesis/query_Htt_Rhes_paths_v2020-11-17.json\n",
      "\n"
     ]
    },
    {
     "name": "stderr",
     "output_type": "stream",
     "text": [
      "\n",
      "Hypothesis generator has finished. 2 QUERIES completed.\n"
     ]
    },
    {
     "name": "stdout",
     "output_type": "stream",
     "text": [
      "CPU times: user 18.8 ms, sys: 7.78 ms, total: 26.6 ms\n",
      "Wall time: 850 ms\n"
     ]
    }
   ],
   "source": [
    "%%time\n",
    "# get orthopheno paths from a more open query topogology\n",
    "seed = list([\n",
    "        'HGNC:4851',  # NGLY1 human gene\n",
    "        'HGNC:18229'  # AQP1 human gene\n",
    "])\n",
    "hypothesis.open_query(seed,queryname='Htt_Rhes',port='7687')"
   ]
  },
  {
   "cell_type": "code",
   "execution_count": 32,
   "metadata": {},
   "outputs": [],
   "source": [
    "import hypothesis"
   ]
  },
  {
   "cell_type": "code",
   "execution_count": 33,
   "metadata": {},
   "outputs": [
    {
     "name": "stdout",
     "output_type": "stream",
     "text": [
      "CPU times: user 4.27 ms, sys: 2 µs, total: 4.27 ms\n",
      "Wall time: 23.3 ms\n"
     ]
    }
   ],
   "source": [
    "%%time\n",
    "seed = list([\n",
    "        'HGNC:4851',  # NGLY1 human gene\n",
    "        'HGNC:18229'  # AQP1 human gene\n",
    "])\n",
    "r = hypothesis.shortest_paths(seed[0], seed[1], max_length=50, port='7687')"
   ]
  },
  {
   "cell_type": "code",
   "execution_count": 34,
   "metadata": {},
   "outputs": [
    {
     "name": "stdout",
     "output_type": "stream",
     "text": [
      "[{'source': 'HGNC:4851', 'target': 'HGNC:18229', 'paths': []}]\n"
     ]
    }
   ],
   "source": [
    "print(r)"
   ]
  },
  {
   "cell_type": "code",
   "execution_count": 4,
   "metadata": {
    "scrolled": true
   },
   "outputs": [
    {
     "name": "stdout",
     "output_type": "stream",
     "text": [
      "\n",
      "The function \"query_parser()\" is running...\n",
      "\n",
      "Finished query_parser().\n",
      "\n",
      "\n",
      "The function \"query_parser()\" is running...\n",
      "\n",
      "Finished query_parser().\n",
      "\n",
      "\n",
      "The function \"metapaths()\" is running...\n",
      "\n",
      "Printing summaries...\n",
      "\n",
      "\n",
      "File '/home/karolis/Structured review/bioknowledge-reviewer/bioknowledge_reviewer/summaries/query_source:HGNC:17646_target:HGNC:633_summary_metapaths_v2020-09-21.csv' saved.\n",
      "\n",
      "File '/home/karolis/Structured review/bioknowledge-reviewer/bioknowledge_reviewer/summaries/query_source:HGNC:17646_target:HGNC:633_summary_entities_in_metapaths_v2020-09-21.csv' saved.\n",
      "\n",
      "Printing summaries...\n",
      "\n",
      "\n",
      "File '/home/karolis/Structured review/bioknowledge-reviewer/bioknowledge_reviewer/summaries/query_source:HGNC:633_target:HGNC:17646_summary_metapaths_v2020-09-21.csv' saved.\n",
      "\n",
      "File '/home/karolis/Structured review/bioknowledge-reviewer/bioknowledge_reviewer/summaries/query_source:HGNC:633_target:HGNC:17646_summary_entities_in_metapaths_v2020-09-21.csv' saved.\n",
      "\n",
      "Finished metapaths().\n",
      "\n",
      "\n",
      "The function \"nodes()\" is running...\n",
      "\n",
      "Printing summaries...\n",
      "\n",
      "\n",
      "File '/home/karolis/Structured review/bioknowledge-reviewer/bioknowledge_reviewer/summaries/query_source:HGNC:17646_target:HGNC:633_summary_nodes_v2020-09-21.csv' saved.\n",
      "\n",
      "File '/home/karolis/Structured review/bioknowledge-reviewer/bioknowledge_reviewer/summaries/query_source:HGNC:633_target:HGNC:17646_summary_nodes_v2020-09-21.csv' saved.\n",
      "\n",
      "Finished nodes().\n",
      "\n",
      "\n",
      "The function \"node_types()\" is running...\n",
      "\n",
      "Printing summaries...\n",
      "\n",
      "\n",
      "File '/home/karolis/Structured review/bioknowledge-reviewer/bioknowledge_reviewer/summaries/query_source:HGNC:17646_target:HGNC:633_summary_node_types_v2020-09-21.csv' saved.\n",
      "\n",
      "File '/home/karolis/Structured review/bioknowledge-reviewer/bioknowledge_reviewer/summaries/query_source:HGNC:633_target:HGNC:17646_summary_node_types_v2020-09-21.csv' saved.\n",
      "\n",
      "Finished node_types().\n",
      "\n",
      "\n",
      "The function \"edges()\" is running...\n",
      "\n",
      "Printing summaries...\n",
      "\n",
      "\n",
      "File '/home/karolis/Structured review/bioknowledge-reviewer/bioknowledge_reviewer/summaries/query_source:HGNC:17646_target:HGNC:633_summary_edges_v2020-09-21.csv' saved.\n",
      "\n",
      "File '/home/karolis/Structured review/bioknowledge-reviewer/bioknowledge_reviewer/summaries/query_source:HGNC:633_target:HGNC:17646_summary_edges_v2020-09-21.csv' saved.\n",
      "\n",
      "Finished edges().\n",
      "\n",
      "\n",
      "The function \"edge_types()\" is running...\n",
      "\n",
      "Printing summaries...\n",
      "\n",
      "\n",
      "File '/home/karolis/Structured review/bioknowledge-reviewer/bioknowledge_reviewer/summaries/query_source:HGNC:17646_target:HGNC:633_summary_edge_types_v2020-09-21.csv' saved.\n",
      "\n",
      "File '/home/karolis/Structured review/bioknowledge-reviewer/bioknowledge_reviewer/summaries/query_source:HGNC:633_target:HGNC:17646_summary_edge_types_v2020-09-21.csv' saved.\n",
      "\n",
      "Finished edge_types().\n",
      "\n",
      "CPU times: user 1min 16s, sys: 180 ms, total: 1min 16s\n",
      "Wall time: 1min 16s\n"
     ]
    }
   ],
   "source": [
    "%%time\n",
    "# get summary\n",
    "data = summary.path_load('./hypothesis/query_ngly1_aqp1_pwdl1000_phdl1000_paths_v2020-09-14.json')\n",
    "\n",
    "# parse data for summarization\n",
    "data_parsed = list()\n",
    "for query in data:\n",
    "    query_parsed = summary.query_parser(query)\n",
    "    data_parsed.append(query_parsed)\n",
    "summary.metapaths(data_parsed)\n",
    "summary.nodes(data_parsed)\n",
    "summary.node_types(data_parsed)\n",
    "summary.edges(data_parsed)\n",
    "summary.edge_types(data_parsed)"
   ]
  },
  {
   "cell_type": "code",
   "execution_count": null,
   "metadata": {},
   "outputs": [],
   "source": []
  },
  {
   "cell_type": "code",
   "execution_count": null,
   "metadata": {},
   "outputs": [],
   "source": []
  }
 ],
 "metadata": {
  "kernelspec": {
   "display_name": "Python 3",
   "language": "python",
   "name": "python3"
  },
  "language_info": {
   "codemirror_mode": {
    "name": "ipython",
    "version": 3
   },
   "file_extension": ".py",
   "mimetype": "text/x-python",
   "name": "python",
   "nbconvert_exporter": "python",
   "pygments_lexer": "ipython3",
   "version": "3.6.7"
  }
 },
 "nbformat": 4,
 "nbformat_minor": 2
}
